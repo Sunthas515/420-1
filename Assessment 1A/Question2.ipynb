{
 "metadata": {
  "language_info": {
   "codemirror_mode": {
    "name": "ipython",
    "version": 3
   },
   "file_extension": ".py",
   "mimetype": "text/x-python",
   "name": "python",
   "nbconvert_exporter": "python",
   "pygments_lexer": "ipython3",
   "version": "3.7.6"
  },
  "orig_nbformat": 2,
  "kernelspec": {
   "name": "python3",
   "display_name": "Python 3",
   "language": "python"
  }
 },
 "nbformat": 4,
 "nbformat_minor": 2,
 "cells": [
  {
   "cell_type": "code",
   "execution_count": 3,
   "metadata": {},
   "outputs": [],
   "source": [
    "import pandas\n",
    "import numpy\n",
    "import matplotlib.pyplot as plt\n",
    "from sklearn.model_selection import train_test_split\n",
    "from sklearn.neighbors import KNeighborsClassifier\n",
    "from sklearn.metrics import plot_confusion_matrix\n",
    "from sklearn.svm import SVC\n",
    "from sklearn.model_selection import GridSearchCV, RandomizedSearchCV\n",
    "from sklearn.ensemble import RandomForestClassifier\n",
    "from sklearn import tree"
   ]
  },
  {
   "cell_type": "code",
   "execution_count": 4,
   "metadata": {},
   "outputs": [
    {
     "output_type": "execute_result",
     "data": {
      "text/plain": [
       "  class  b1  b2  b3   b4  b5   b6   b7  b8  b9  ...  pred_minus_obs_H_b9  \\\n",
       "0    d   67  51  68  115  69  111  136  31  67  ...                -9.17   \n",
       "1    s   67  28  51   99  50   97   82  26  59  ...                -2.25   \n",
       "2    s   63  26  50   95  49   91   81  26  57  ...                -0.44   \n",
       "3    d   63  42  63   97  66  108  111  28  59  ...                -2.34   \n",
       "4    s   46  27  50   83  51   90   76  26  56  ...                 1.25   \n",
       "\n",
       "   pred_minus_obs_S_b1  pred_minus_obs_S_b2  pred_minus_obs_S_b3  \\\n",
       "0               -18.27                -1.80                -6.32   \n",
       "1               -20.13                -2.11                -6.35   \n",
       "2               -17.64                -1.81                -4.70   \n",
       "3               -20.20                -1.89                -5.47   \n",
       "4               -18.62                -2.17                -7.11   \n",
       "\n",
       "   pred_minus_obs_S_b4  pred_minus_obs_S_b5  pred_minus_obs_S_b6  \\\n",
       "0               -20.88                -1.63                -6.13   \n",
       "1               -21.94                -1.22                -6.13   \n",
       "2               -19.39                -0.65                -5.01   \n",
       "3               -21.65                -0.99                -5.71   \n",
       "4               -21.12                -1.56                -6.35   \n",
       "\n",
       "   pred_minus_obs_S_b7  pred_minus_obs_S_b8  pred_minus_obs_S_b9  \n",
       "0               -22.56                -5.53                -8.11  \n",
       "1               -22.20                -3.41                -6.57  \n",
       "2               -20.89                -3.96                -6.85  \n",
       "3               -22.19                -3.41                -6.52  \n",
       "4               -22.19                -4.45                -7.32  \n",
       "\n",
       "[5 rows x 28 columns]"
      ],
      "text/html": "<div>\n<style scoped>\n    .dataframe tbody tr th:only-of-type {\n        vertical-align: middle;\n    }\n\n    .dataframe tbody tr th {\n        vertical-align: top;\n    }\n\n    .dataframe thead th {\n        text-align: right;\n    }\n</style>\n<table border=\"1\" class=\"dataframe\">\n  <thead>\n    <tr style=\"text-align: right;\">\n      <th></th>\n      <th>class</th>\n      <th>b1</th>\n      <th>b2</th>\n      <th>b3</th>\n      <th>b4</th>\n      <th>b5</th>\n      <th>b6</th>\n      <th>b7</th>\n      <th>b8</th>\n      <th>b9</th>\n      <th>...</th>\n      <th>pred_minus_obs_H_b9</th>\n      <th>pred_minus_obs_S_b1</th>\n      <th>pred_minus_obs_S_b2</th>\n      <th>pred_minus_obs_S_b3</th>\n      <th>pred_minus_obs_S_b4</th>\n      <th>pred_minus_obs_S_b5</th>\n      <th>pred_minus_obs_S_b6</th>\n      <th>pred_minus_obs_S_b7</th>\n      <th>pred_minus_obs_S_b8</th>\n      <th>pred_minus_obs_S_b9</th>\n    </tr>\n  </thead>\n  <tbody>\n    <tr>\n      <th>0</th>\n      <td>d</td>\n      <td>67</td>\n      <td>51</td>\n      <td>68</td>\n      <td>115</td>\n      <td>69</td>\n      <td>111</td>\n      <td>136</td>\n      <td>31</td>\n      <td>67</td>\n      <td>...</td>\n      <td>-9.17</td>\n      <td>-18.27</td>\n      <td>-1.80</td>\n      <td>-6.32</td>\n      <td>-20.88</td>\n      <td>-1.63</td>\n      <td>-6.13</td>\n      <td>-22.56</td>\n      <td>-5.53</td>\n      <td>-8.11</td>\n    </tr>\n    <tr>\n      <th>1</th>\n      <td>s</td>\n      <td>67</td>\n      <td>28</td>\n      <td>51</td>\n      <td>99</td>\n      <td>50</td>\n      <td>97</td>\n      <td>82</td>\n      <td>26</td>\n      <td>59</td>\n      <td>...</td>\n      <td>-2.25</td>\n      <td>-20.13</td>\n      <td>-2.11</td>\n      <td>-6.35</td>\n      <td>-21.94</td>\n      <td>-1.22</td>\n      <td>-6.13</td>\n      <td>-22.20</td>\n      <td>-3.41</td>\n      <td>-6.57</td>\n    </tr>\n    <tr>\n      <th>2</th>\n      <td>s</td>\n      <td>63</td>\n      <td>26</td>\n      <td>50</td>\n      <td>95</td>\n      <td>49</td>\n      <td>91</td>\n      <td>81</td>\n      <td>26</td>\n      <td>57</td>\n      <td>...</td>\n      <td>-0.44</td>\n      <td>-17.64</td>\n      <td>-1.81</td>\n      <td>-4.70</td>\n      <td>-19.39</td>\n      <td>-0.65</td>\n      <td>-5.01</td>\n      <td>-20.89</td>\n      <td>-3.96</td>\n      <td>-6.85</td>\n    </tr>\n    <tr>\n      <th>3</th>\n      <td>d</td>\n      <td>63</td>\n      <td>42</td>\n      <td>63</td>\n      <td>97</td>\n      <td>66</td>\n      <td>108</td>\n      <td>111</td>\n      <td>28</td>\n      <td>59</td>\n      <td>...</td>\n      <td>-2.34</td>\n      <td>-20.20</td>\n      <td>-1.89</td>\n      <td>-5.47</td>\n      <td>-21.65</td>\n      <td>-0.99</td>\n      <td>-5.71</td>\n      <td>-22.19</td>\n      <td>-3.41</td>\n      <td>-6.52</td>\n    </tr>\n    <tr>\n      <th>4</th>\n      <td>s</td>\n      <td>46</td>\n      <td>27</td>\n      <td>50</td>\n      <td>83</td>\n      <td>51</td>\n      <td>90</td>\n      <td>76</td>\n      <td>26</td>\n      <td>56</td>\n      <td>...</td>\n      <td>1.25</td>\n      <td>-18.62</td>\n      <td>-2.17</td>\n      <td>-7.11</td>\n      <td>-21.12</td>\n      <td>-1.56</td>\n      <td>-6.35</td>\n      <td>-22.19</td>\n      <td>-4.45</td>\n      <td>-7.32</td>\n    </tr>\n  </tbody>\n</table>\n<p>5 rows × 28 columns</p>\n</div>"
     },
     "metadata": {},
     "execution_count": 4
    }
   ],
   "source": [
    "train = pandas.read_csv('CAB420_Assessment_1A_Data\\Data\\Q2\\\\testing.csv')\n",
    "test = pandas.read_csv('CAB420_Assessment_1A_Data\\Data\\Q2\\\\training.csv')\n",
    "train.head()"
   ]
  },
  {
   "cell_type": "code",
   "execution_count": 5,
   "metadata": {},
   "outputs": [
    {
     "output_type": "execute_result",
     "data": {
      "text/plain": [
       "  class  b1  b2  b3   b4  b5   b6   b7  b8  b9  ...  pred_minus_obs_H_b9  \\\n",
       "0    d   39  36  57   91  59  101   93  27  60  ...                -2.36   \n",
       "1    h   84  30  57  112  51   98   92  26  62  ...                -2.26   \n",
       "2    s   53  25  49   99  51   93   84  26  58  ...                -1.46   \n",
       "3    s   59  26  49  103  47   92   82  25  56  ...                 2.68   \n",
       "4    d   57  49  66  103  64  106  114  28  59  ...                -2.94   \n",
       "\n",
       "   pred_minus_obs_S_b1  pred_minus_obs_S_b2  pred_minus_obs_S_b3  \\\n",
       "0               -18.41                -1.88                -6.43   \n",
       "1               -16.27                -1.95                -6.25   \n",
       "2               -15.92                -1.79                -4.64   \n",
       "3               -13.77                -2.53                -6.34   \n",
       "4               -21.74                -1.64                -4.62   \n",
       "\n",
       "   pred_minus_obs_S_b4  pred_minus_obs_S_b5  pred_minus_obs_S_b6  \\\n",
       "0               -21.03                -1.60                -6.18   \n",
       "1               -18.79                -1.99                -6.18   \n",
       "2               -17.73                -0.48                -4.69   \n",
       "3               -22.03                -2.34                -6.60   \n",
       "4               -23.74                -0.85                -5.50   \n",
       "\n",
       "   pred_minus_obs_S_b7  pred_minus_obs_S_b8  pred_minus_obs_S_b9  \n",
       "0               -22.50                -5.20                -7.86  \n",
       "1               -23.41                -8.87               -10.83  \n",
       "2               -19.97                -4.10                -7.07  \n",
       "3               -27.10                -7.99               -10.81  \n",
       "4               -22.83                -2.74                -5.84  \n",
       "\n",
       "[5 rows x 28 columns]"
      ],
      "text/html": "<div>\n<style scoped>\n    .dataframe tbody tr th:only-of-type {\n        vertical-align: middle;\n    }\n\n    .dataframe tbody tr th {\n        vertical-align: top;\n    }\n\n    .dataframe thead th {\n        text-align: right;\n    }\n</style>\n<table border=\"1\" class=\"dataframe\">\n  <thead>\n    <tr style=\"text-align: right;\">\n      <th></th>\n      <th>class</th>\n      <th>b1</th>\n      <th>b2</th>\n      <th>b3</th>\n      <th>b4</th>\n      <th>b5</th>\n      <th>b6</th>\n      <th>b7</th>\n      <th>b8</th>\n      <th>b9</th>\n      <th>...</th>\n      <th>pred_minus_obs_H_b9</th>\n      <th>pred_minus_obs_S_b1</th>\n      <th>pred_minus_obs_S_b2</th>\n      <th>pred_minus_obs_S_b3</th>\n      <th>pred_minus_obs_S_b4</th>\n      <th>pred_minus_obs_S_b5</th>\n      <th>pred_minus_obs_S_b6</th>\n      <th>pred_minus_obs_S_b7</th>\n      <th>pred_minus_obs_S_b8</th>\n      <th>pred_minus_obs_S_b9</th>\n    </tr>\n  </thead>\n  <tbody>\n    <tr>\n      <th>0</th>\n      <td>d</td>\n      <td>39</td>\n      <td>36</td>\n      <td>57</td>\n      <td>91</td>\n      <td>59</td>\n      <td>101</td>\n      <td>93</td>\n      <td>27</td>\n      <td>60</td>\n      <td>...</td>\n      <td>-2.36</td>\n      <td>-18.41</td>\n      <td>-1.88</td>\n      <td>-6.43</td>\n      <td>-21.03</td>\n      <td>-1.60</td>\n      <td>-6.18</td>\n      <td>-22.50</td>\n      <td>-5.20</td>\n      <td>-7.86</td>\n    </tr>\n    <tr>\n      <th>1</th>\n      <td>h</td>\n      <td>84</td>\n      <td>30</td>\n      <td>57</td>\n      <td>112</td>\n      <td>51</td>\n      <td>98</td>\n      <td>92</td>\n      <td>26</td>\n      <td>62</td>\n      <td>...</td>\n      <td>-2.26</td>\n      <td>-16.27</td>\n      <td>-1.95</td>\n      <td>-6.25</td>\n      <td>-18.79</td>\n      <td>-1.99</td>\n      <td>-6.18</td>\n      <td>-23.41</td>\n      <td>-8.87</td>\n      <td>-10.83</td>\n    </tr>\n    <tr>\n      <th>2</th>\n      <td>s</td>\n      <td>53</td>\n      <td>25</td>\n      <td>49</td>\n      <td>99</td>\n      <td>51</td>\n      <td>93</td>\n      <td>84</td>\n      <td>26</td>\n      <td>58</td>\n      <td>...</td>\n      <td>-1.46</td>\n      <td>-15.92</td>\n      <td>-1.79</td>\n      <td>-4.64</td>\n      <td>-17.73</td>\n      <td>-0.48</td>\n      <td>-4.69</td>\n      <td>-19.97</td>\n      <td>-4.10</td>\n      <td>-7.07</td>\n    </tr>\n    <tr>\n      <th>3</th>\n      <td>s</td>\n      <td>59</td>\n      <td>26</td>\n      <td>49</td>\n      <td>103</td>\n      <td>47</td>\n      <td>92</td>\n      <td>82</td>\n      <td>25</td>\n      <td>56</td>\n      <td>...</td>\n      <td>2.68</td>\n      <td>-13.77</td>\n      <td>-2.53</td>\n      <td>-6.34</td>\n      <td>-22.03</td>\n      <td>-2.34</td>\n      <td>-6.60</td>\n      <td>-27.10</td>\n      <td>-7.99</td>\n      <td>-10.81</td>\n    </tr>\n    <tr>\n      <th>4</th>\n      <td>d</td>\n      <td>57</td>\n      <td>49</td>\n      <td>66</td>\n      <td>103</td>\n      <td>64</td>\n      <td>106</td>\n      <td>114</td>\n      <td>28</td>\n      <td>59</td>\n      <td>...</td>\n      <td>-2.94</td>\n      <td>-21.74</td>\n      <td>-1.64</td>\n      <td>-4.62</td>\n      <td>-23.74</td>\n      <td>-0.85</td>\n      <td>-5.50</td>\n      <td>-22.83</td>\n      <td>-2.74</td>\n      <td>-5.84</td>\n    </tr>\n  </tbody>\n</table>\n<p>5 rows × 28 columns</p>\n</div>"
     },
     "metadata": {},
     "execution_count": 5
    }
   ],
   "source": [
    "test.head()"
   ]
  },
  {
   "cell_type": "code",
   "execution_count": null,
   "metadata": {},
   "outputs": [],
   "source": []
  }
 ]
}
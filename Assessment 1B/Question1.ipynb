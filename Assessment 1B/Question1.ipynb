{
 "metadata": {
  "language_info": {
   "codemirror_mode": {
    "name": "ipython",
    "version": 3
   },
   "file_extension": ".py",
   "mimetype": "text/x-python",
   "name": "python",
   "nbconvert_exporter": "python",
   "pygments_lexer": "ipython3",
   "version": "3.9.4"
  },
  "orig_nbformat": 2,
  "kernelspec": {
   "name": "python394jvsc74a57bd063fd5069d213b44bf678585dea6b12cceca9941eaf7f819626cde1f2670de90d",
   "display_name": "Python 3.9.4 64-bit"
  },
  "metadata": {
   "interpreter": {
    "hash": "63fd5069d213b44bf678585dea6b12cceca9941eaf7f819626cde1f2670de90d"
   }
  }
 },
 "nbformat": 4,
 "nbformat_minor": 2,
 "cells": [
  {
   "source": [
    "# Assignment 1B - Question 1\n",
    "## Training and Adapting Deep Networks"
   ],
   "cell_type": "markdown",
   "metadata": {}
  },
  {
   "cell_type": "code",
   "execution_count": 1,
   "metadata": {},
   "outputs": [
    {
     "output_type": "stream",
     "name": "stdout",
     "text": [
      "INFO:tensorflow:Enabling eager execution\n",
      "INFO:tensorflow:Enabling v2 tensorshape\n",
      "INFO:tensorflow:Enabling resource variables\n",
      "INFO:tensorflow:Enabling tensor equality\n",
      "INFO:tensorflow:Enabling control flow v2\n"
     ]
    }
   ],
   "source": [
    "import pandas\n",
    "import numpy as np\n",
    "import matplotlib.pyplot as plt\n",
    "import statsmodels.api as sm\n",
    "import scipy.stats as stats\n",
    "from scipy.io import loadmat\n",
    "\n",
    "import tensorflow as tf\n",
    "\n",
    "from tensorflow import keras\n",
    "from tensorflow.keras import layers\n",
    "from tensorboard import notebook\n",
    "from tensorflow.keras.preprocessing.image import Iterator\n",
    "\n",
    "from sklearn.metrics import confusion_matrix, ConfusionMatrixDisplay\n",
    "import matplotlib.pyplot as plt"
   ]
  },
  {
   "source": [
    "### Load data from training and testing sets\n",
    "\n",
    "Use scipy.io loadmat function"
   ],
   "cell_type": "markdown",
   "metadata": {}
  },
  {
   "cell_type": "code",
   "execution_count": 2,
   "metadata": {},
   "outputs": [],
   "source": [
    "train = loadmat('Data/Q1/q1_train.mat')\n",
    "test = loadmat('Data/Q1/q1_test.mat')"
   ]
  },
  {
   "source": [
    "### Sanity check"
   ],
   "cell_type": "markdown",
   "metadata": {}
  },
  {
   "cell_type": "code",
   "execution_count": 3,
   "metadata": {},
   "outputs": [
    {
     "output_type": "execute_result",
     "data": {
      "text/plain": [
       "(32, 32, 3, 1000)"
      ]
     },
     "metadata": {},
     "execution_count": 3
    }
   ],
   "source": [
    "train['train_X'].shape"
   ]
  },
  {
   "cell_type": "code",
   "execution_count": 4,
   "metadata": {},
   "outputs": [
    {
     "output_type": "execute_result",
     "data": {
      "text/plain": [
       "(32, 32, 3, 10000)"
      ]
     },
     "metadata": {},
     "execution_count": 4
    }
   ],
   "source": [
    "test['test_X'].shape"
   ]
  },
  {
   "cell_type": "code",
   "execution_count": 10,
   "metadata": {},
   "outputs": [
    {
     "output_type": "execute_result",
     "data": {
      "text/plain": [
       "array([[[[ 74, 148, 118, ...,  47, 206, 126],\n",
       "         [ 65, 144, 123, ...,  44, 198,  76],\n",
       "         [ 55, 145, 127, ...,  53, 222,  49]],\n",
       "\n",
       "        [[ 75, 147, 118, ...,  51, 193, 118],\n",
       "         [ 67, 143, 123, ...,  44, 187,  68],\n",
       "         [ 57, 144, 127, ...,  52, 211,  43]],\n",
       "\n",
       "        [[ 77, 144, 118, ...,  54, 185, 110],\n",
       "         [ 70, 139, 123, ...,  42, 179,  61],\n",
       "         [ 60, 143, 127, ...,  52, 205,  37]],\n",
       "\n",
       "        ...,\n",
       "\n",
       "        [[ 25, 143, 116, ...,  99, 212, 114],\n",
       "         [ 24, 133, 121, ...,  63, 212,  63],\n",
       "         [ 22, 134, 124, ...,  49, 249,  34]],\n",
       "\n",
       "        [[ 28, 143, 119, ..., 104, 212, 111],\n",
       "         [ 27, 133, 124, ...,  72, 216,  60],\n",
       "         [ 25, 132, 127, ...,  57, 252,  31]],\n",
       "\n",
       "        [[ 29, 143, 121, ..., 102, 214, 109],\n",
       "         [ 28, 133, 125, ...,  73, 218,  58],\n",
       "         [ 26, 132, 128, ...,  59, 254,  27]]],\n",
       "\n",
       "\n",
       "       [[[ 64, 151, 115, ...,  47, 248, 128],\n",
       "         [ 55, 145, 120, ...,  44, 244,  82],\n",
       "         [ 47, 147, 124, ...,  55, 251,  55]],\n",
       "\n",
       "        [[ 65, 150, 115, ...,  50, 246, 120],\n",
       "         [ 56, 144, 120, ...,  44, 243,  74],\n",
       "         [ 48, 146, 124, ...,  54, 249,  49]],\n",
       "\n",
       "        [[ 65, 145, 115, ...,  53, 246, 111],\n",
       "         [ 59, 140, 120, ...,  43, 242,  65],\n",
       "         [ 49, 144, 124, ...,  54, 248,  42]],\n",
       "\n",
       "        ...,\n",
       "\n",
       "        [[ 25, 143, 117, ...,  96, 247, 114],\n",
       "         [ 24, 133, 122, ...,  61, 247,  63],\n",
       "         [ 23, 134, 125, ...,  44, 254,  34]],\n",
       "\n",
       "        [[ 27, 142, 120, ..., 106, 247, 111],\n",
       "         [ 26, 132, 125, ...,  73, 248,  60],\n",
       "         [ 25, 131, 128, ...,  57, 255,  31]],\n",
       "\n",
       "        [[ 28, 142, 122, ..., 107, 248, 110],\n",
       "         [ 27, 132, 126, ...,  75, 248,  59],\n",
       "         [ 26, 130, 129, ...,  60, 255,  30]]],\n",
       "\n",
       "\n",
       "       [[[ 47, 152, 108, ...,  47, 255, 136],\n",
       "         [ 40, 146, 113, ...,  44, 255,  95],\n",
       "         [ 33, 148, 119, ...,  55, 255,  69]],\n",
       "\n",
       "        [[ 46, 151, 108, ...,  50, 255, 127],\n",
       "         [ 40, 145, 113, ...,  44, 255,  86],\n",
       "         [ 33, 149, 119, ...,  56, 255,  60]],\n",
       "\n",
       "        [[ 45, 146, 108, ...,  51, 255, 113],\n",
       "         [ 41, 141, 113, ...,  43, 253,  73],\n",
       "         [ 32, 147, 119, ...,  54, 255,  47]],\n",
       "\n",
       "        ...,\n",
       "\n",
       "        [[ 27, 129, 120, ...,  98, 255, 114],\n",
       "         [ 25, 120, 125, ...,  63, 255,  63],\n",
       "         [ 26, 125, 128, ...,  45, 251,  35]],\n",
       "\n",
       "        [[ 27, 131, 122, ...,  98, 255, 112],\n",
       "         [ 25, 122, 126, ...,  65, 255,  60],\n",
       "         [ 26, 123, 129, ...,  46, 253,  31]],\n",
       "\n",
       "        [[ 27, 132, 123, ..., 102, 253, 111],\n",
       "         [ 25, 124, 127, ...,  71, 252,  58],\n",
       "         [ 26, 122, 130, ...,  53, 250,  29]]],\n",
       "\n",
       "\n",
       "       ...,\n",
       "\n",
       "\n",
       "       [[[ 26, 134, 127, ..., 111, 239, 124],\n",
       "         [ 19, 134, 140, ...,  48, 235,  80],\n",
       "         [ 12, 136, 146, ...,  52, 235,  46]],\n",
       "\n",
       "        [[ 26, 132, 127, ..., 111, 234, 119],\n",
       "         [ 20, 133, 140, ...,  48, 232,  75],\n",
       "         [ 13, 137, 146, ...,  51, 233,  42]],\n",
       "\n",
       "        [[ 27, 130, 128, ..., 111, 226, 110],\n",
       "         [ 21, 131, 141, ...,  48, 226,  66],\n",
       "         [ 17, 135, 147, ...,  51, 227,  36]],\n",
       "\n",
       "        ...,\n",
       "\n",
       "        [[ 48, 129, 157, ..., 103, 231, 118],\n",
       "         [ 44, 123, 167, ...,  62, 233,  61],\n",
       "         [ 35, 125, 166, ...,  46, 238,  42]],\n",
       "\n",
       "        [[ 50, 133, 155, ..., 103, 232, 116],\n",
       "         [ 46, 127, 165, ...,  60, 234,  59],\n",
       "         [ 39, 127, 164, ...,  46, 239,  38]],\n",
       "\n",
       "        [[ 51, 139, 154, ..., 104, 226, 115],\n",
       "         [ 47, 130, 164, ...,  61, 228,  59],\n",
       "         [ 41, 131, 163, ...,  48, 233,  36]]],\n",
       "\n",
       "\n",
       "       [[[ 33, 134, 143, ..., 113, 230, 127],\n",
       "         [ 24, 134, 155, ...,  48, 226,  82],\n",
       "         [ 16, 134, 162, ...,  52, 225,  49]],\n",
       "\n",
       "        [[ 33, 132, 143, ..., 113, 226, 120],\n",
       "         [ 25, 133, 155, ...,  48, 224,  75],\n",
       "         [ 17, 135, 162, ...,  52, 225,  44]],\n",
       "\n",
       "        [[ 33, 128, 144, ..., 113, 219, 111],\n",
       "         [ 27, 132, 156, ...,  48, 218,  65],\n",
       "         [ 20, 135, 163, ...,  52, 219,  35]],\n",
       "\n",
       "        ...,\n",
       "\n",
       "        [[ 38, 139, 158, ..., 101, 241, 118],\n",
       "         [ 32, 133, 168, ...,  55, 244,  61],\n",
       "         [ 24, 135, 167, ...,  40, 247,  42]],\n",
       "\n",
       "        [[ 39, 145, 158, ..., 107, 240, 116],\n",
       "         [ 34, 136, 167, ...,  59, 244,  59],\n",
       "         [ 26, 139, 166, ...,  47, 246,  38]],\n",
       "\n",
       "        [[ 39, 148, 158, ..., 109, 236, 115],\n",
       "         [ 34, 139, 167, ...,  61, 240,  59],\n",
       "         [ 27, 140, 166, ...,  49, 242,  36]]],\n",
       "\n",
       "\n",
       "       [[[ 37, 139, 151, ..., 111, 215, 131],\n",
       "         [ 28, 139, 164, ...,  46, 211,  85],\n",
       "         [ 18, 139, 170, ...,  50, 207,  52]],\n",
       "\n",
       "        [[ 37, 136, 152, ..., 111, 216, 124],\n",
       "         [ 29, 138, 164, ...,  46, 215,  77],\n",
       "         [ 19, 137, 170, ...,  50, 212,  46]],\n",
       "\n",
       "        [[ 37, 130, 153, ..., 112, 215, 114],\n",
       "         [ 30, 134, 165, ...,  46, 213,  67],\n",
       "         [ 21, 135, 171, ...,  50, 213,  38]],\n",
       "\n",
       "        ...,\n",
       "\n",
       "        [[ 33, 144, 159, ..., 110, 251, 118],\n",
       "         [ 26, 134, 169, ...,  58, 252,  61],\n",
       "         [ 18, 142, 168, ...,  45, 253,  41]],\n",
       "\n",
       "        [[ 33, 149, 159, ..., 109, 251, 116],\n",
       "         [ 26, 138, 169, ...,  57, 253,  59],\n",
       "         [ 19, 142, 168, ...,  46, 252,  38]],\n",
       "\n",
       "        [[ 33, 152, 159, ..., 109, 254, 115],\n",
       "         [ 26, 141, 169, ...,  57, 253,  59],\n",
       "         [ 20, 145, 168, ...,  46, 253,  36]]]], dtype=uint8)"
      ]
     },
     "metadata": {},
     "execution_count": 10
    }
   ],
   "source": [
    "train['train_X']"
   ]
  },
  {
   "cell_type": "code",
   "execution_count": 13,
   "metadata": {},
   "outputs": [
    {
     "output_type": "error",
     "ename": "TypeError",
     "evalue": "Invalid shape (32, 3, 10000) for image data",
     "traceback": [
      "\u001b[1;31m---------------------------------------------------------------------------\u001b[0m",
      "\u001b[1;31mTypeError\u001b[0m                                 Traceback (most recent call last)",
      "\u001b[1;32m<ipython-input-13-439803cec9c0>\u001b[0m in \u001b[0;36m<module>\u001b[1;34m\u001b[0m\n\u001b[0;32m      4\u001b[0m \u001b[1;32mfor\u001b[0m \u001b[0mi\u001b[0m \u001b[1;32min\u001b[0m \u001b[0mrange\u001b[0m\u001b[1;33m(\u001b[0m\u001b[1;36m100\u001b[0m\u001b[1;33m)\u001b[0m\u001b[1;33m:\u001b[0m\u001b[1;33m\u001b[0m\u001b[1;33m\u001b[0m\u001b[0m\n\u001b[0;32m      5\u001b[0m     \u001b[0max\u001b[0m \u001b[1;33m=\u001b[0m \u001b[0mfig\u001b[0m\u001b[1;33m.\u001b[0m\u001b[0madd_subplot\u001b[0m\u001b[1;33m(\u001b[0m\u001b[1;36m10\u001b[0m\u001b[1;33m,\u001b[0m \u001b[1;36m10\u001b[0m\u001b[1;33m,\u001b[0m \u001b[0mi\u001b[0m \u001b[1;33m+\u001b[0m \u001b[1;36m1\u001b[0m\u001b[1;33m)\u001b[0m\u001b[1;33m\u001b[0m\u001b[1;33m\u001b[0m\u001b[0m\n\u001b[1;32m----> 6\u001b[1;33m     \u001b[0max\u001b[0m\u001b[1;33m.\u001b[0m\u001b[0mimshow\u001b[0m\u001b[1;33m(\u001b[0m\u001b[0mx_test\u001b[0m\u001b[1;33m[\u001b[0m\u001b[0mi\u001b[0m\u001b[1;33m,\u001b[0m\u001b[1;33m:\u001b[0m\u001b[1;33m]\u001b[0m\u001b[1;33m)\u001b[0m\u001b[1;33m\u001b[0m\u001b[1;33m\u001b[0m\u001b[0m\n\u001b[0m",
      "\u001b[1;32mC:\\Python39\\lib\\site-packages\\matplotlib\\__init__.py\u001b[0m in \u001b[0;36minner\u001b[1;34m(ax, data, *args, **kwargs)\u001b[0m\n\u001b[0;32m   1445\u001b[0m     \u001b[1;32mdef\u001b[0m \u001b[0minner\u001b[0m\u001b[1;33m(\u001b[0m\u001b[0max\u001b[0m\u001b[1;33m,\u001b[0m \u001b[1;33m*\u001b[0m\u001b[0margs\u001b[0m\u001b[1;33m,\u001b[0m \u001b[0mdata\u001b[0m\u001b[1;33m=\u001b[0m\u001b[1;32mNone\u001b[0m\u001b[1;33m,\u001b[0m \u001b[1;33m**\u001b[0m\u001b[0mkwargs\u001b[0m\u001b[1;33m)\u001b[0m\u001b[1;33m:\u001b[0m\u001b[1;33m\u001b[0m\u001b[1;33m\u001b[0m\u001b[0m\n\u001b[0;32m   1446\u001b[0m         \u001b[1;32mif\u001b[0m \u001b[0mdata\u001b[0m \u001b[1;32mis\u001b[0m \u001b[1;32mNone\u001b[0m\u001b[1;33m:\u001b[0m\u001b[1;33m\u001b[0m\u001b[1;33m\u001b[0m\u001b[0m\n\u001b[1;32m-> 1447\u001b[1;33m             \u001b[1;32mreturn\u001b[0m \u001b[0mfunc\u001b[0m\u001b[1;33m(\u001b[0m\u001b[0max\u001b[0m\u001b[1;33m,\u001b[0m \u001b[1;33m*\u001b[0m\u001b[0mmap\u001b[0m\u001b[1;33m(\u001b[0m\u001b[0msanitize_sequence\u001b[0m\u001b[1;33m,\u001b[0m \u001b[0margs\u001b[0m\u001b[1;33m)\u001b[0m\u001b[1;33m,\u001b[0m \u001b[1;33m**\u001b[0m\u001b[0mkwargs\u001b[0m\u001b[1;33m)\u001b[0m\u001b[1;33m\u001b[0m\u001b[1;33m\u001b[0m\u001b[0m\n\u001b[0m\u001b[0;32m   1448\u001b[0m \u001b[1;33m\u001b[0m\u001b[0m\n\u001b[0;32m   1449\u001b[0m         \u001b[0mbound\u001b[0m \u001b[1;33m=\u001b[0m \u001b[0mnew_sig\u001b[0m\u001b[1;33m.\u001b[0m\u001b[0mbind\u001b[0m\u001b[1;33m(\u001b[0m\u001b[0max\u001b[0m\u001b[1;33m,\u001b[0m \u001b[1;33m*\u001b[0m\u001b[0margs\u001b[0m\u001b[1;33m,\u001b[0m \u001b[1;33m**\u001b[0m\u001b[0mkwargs\u001b[0m\u001b[1;33m)\u001b[0m\u001b[1;33m\u001b[0m\u001b[1;33m\u001b[0m\u001b[0m\n",
      "\u001b[1;32mC:\\Python39\\lib\\site-packages\\matplotlib\\axes\\_axes.py\u001b[0m in \u001b[0;36mimshow\u001b[1;34m(self, X, cmap, norm, aspect, interpolation, alpha, vmin, vmax, origin, extent, filternorm, filterrad, resample, url, **kwargs)\u001b[0m\n\u001b[0;32m   5521\u001b[0m                               resample=resample, **kwargs)\n\u001b[0;32m   5522\u001b[0m \u001b[1;33m\u001b[0m\u001b[0m\n\u001b[1;32m-> 5523\u001b[1;33m         \u001b[0mim\u001b[0m\u001b[1;33m.\u001b[0m\u001b[0mset_data\u001b[0m\u001b[1;33m(\u001b[0m\u001b[0mX\u001b[0m\u001b[1;33m)\u001b[0m\u001b[1;33m\u001b[0m\u001b[1;33m\u001b[0m\u001b[0m\n\u001b[0m\u001b[0;32m   5524\u001b[0m         \u001b[0mim\u001b[0m\u001b[1;33m.\u001b[0m\u001b[0mset_alpha\u001b[0m\u001b[1;33m(\u001b[0m\u001b[0malpha\u001b[0m\u001b[1;33m)\u001b[0m\u001b[1;33m\u001b[0m\u001b[1;33m\u001b[0m\u001b[0m\n\u001b[0;32m   5525\u001b[0m         \u001b[1;32mif\u001b[0m \u001b[0mim\u001b[0m\u001b[1;33m.\u001b[0m\u001b[0mget_clip_path\u001b[0m\u001b[1;33m(\u001b[0m\u001b[1;33m)\u001b[0m \u001b[1;32mis\u001b[0m \u001b[1;32mNone\u001b[0m\u001b[1;33m:\u001b[0m\u001b[1;33m\u001b[0m\u001b[1;33m\u001b[0m\u001b[0m\n",
      "\u001b[1;32mC:\\Python39\\lib\\site-packages\\matplotlib\\image.py\u001b[0m in \u001b[0;36mset_data\u001b[1;34m(self, A)\u001b[0m\n\u001b[0;32m    709\u001b[0m         if not (self._A.ndim == 2\n\u001b[0;32m    710\u001b[0m                 or self._A.ndim == 3 and self._A.shape[-1] in [3, 4]):\n\u001b[1;32m--> 711\u001b[1;33m             raise TypeError(\"Invalid shape {} for image data\"\n\u001b[0m\u001b[0;32m    712\u001b[0m                             .format(self._A.shape))\n\u001b[0;32m    713\u001b[0m \u001b[1;33m\u001b[0m\u001b[0m\n",
      "\u001b[1;31mTypeError\u001b[0m: Invalid shape (32, 3, 10000) for image data"
     ]
    }
   ],
   "source": [
    "(x_test, y_test) = (test['test_X'], test['test_Y'])\n",
    "x_test = x_test.astype('float32') / 255\n",
    "fig = plt.figure(figsize=[20, 20])\n",
    "for i in range(100):\n",
    "    ax = fig.add_subplot(10, 10, i + 1)\n",
    "    ax.imshow(x_test[i,:])"
   ]
  },
  {
   "source": [
    "### Keras Model\n",
    "\n",
    "Taken from Week 4 example 3"
   ],
   "cell_type": "markdown",
   "metadata": {}
  },
  {
   "cell_type": "code",
   "execution_count": 6,
   "metadata": {},
   "outputs": [
    {
     "output_type": "stream",
     "name": "stdout",
     "text": [
      "Model: \"mnist_angles_cnn_model\"\n_________________________________________________________________\nLayer (type)                 Output Shape              Param #   \n=================================================================\nimg (InputLayer)             [(None, 28, 28, 1)]       0         \n_________________________________________________________________\nconv2d (Conv2D)              (None, 26, 26, 8)         80        \n_________________________________________________________________\nmax_pooling2d (MaxPooling2D) (None, 13, 13, 8)         0         \n_________________________________________________________________\nconv2d_1 (Conv2D)            (None, 11, 11, 16)        1168      \n_________________________________________________________________\nmax_pooling2d_1 (MaxPooling2 (None, 5, 5, 16)          0         \n_________________________________________________________________\nconv2d_2 (Conv2D)            (None, 3, 3, 32)          4640      \n_________________________________________________________________\nflatten (Flatten)            (None, 288)               0         \n_________________________________________________________________\ndense (Dense)                (None, 64)                18496     \n_________________________________________________________________\ndense_1 (Dense)              (None, 1)                 65        \n=================================================================\nTotal params: 24,449\nTrainable params: 24,449\nNon-trainable params: 0\n_________________________________________________________________\n"
     ]
    }
   ],
   "source": [
    "# input layer, 28x28x1 images\n",
    "inputs = keras.Input(shape=(28, 28, 1, ), name='img')\n",
    "# 3 conv layers, with increasing numbers of filters, and a max-pool in the middle of each pair of Conv's\n",
    "x = layers.Conv2D(filters=8, kernel_size=(3,3), activation='swish')(inputs)\n",
    "x = layers.MaxPool2D(pool_size=(2, 2))(x)\n",
    "x = layers.Conv2D(filters=16, kernel_size=(3,3), activation='swish')(x)\n",
    "x = layers.MaxPool2D(pool_size=(2, 2))(x)\n",
    "x = layers.Conv2D(filters=32, kernel_size=(3,3), activation='swish')(x)\n",
    "# flatten into a vector form so we can pass it through a dense layer\n",
    "x = layers.Flatten()(x)\n",
    "# dense layer\n",
    "x = layers.Dense(64, activation='swish')(x)\n",
    "# output layer, single value, as we only have 1 output - the \n",
    "outputs = layers.Dense(1)(x)\n",
    "\n",
    "# build the model and print a summary\n",
    "model_cnn = keras.Model(inputs=inputs, outputs=outputs, name='mnist_angles_cnn_model')\n",
    "model_cnn.summary()"
   ]
  },
  {
   "cell_type": "code",
   "execution_count": 7,
   "metadata": {},
   "outputs": [
    {
     "output_type": "error",
     "ename": "ValueError",
     "evalue": "Failed to find data adapter that can handle input: (<class 'dict'> containing {\"<class 'str'>\"} keys and {\"<class 'numpy.ndarray'>\", \"(<class 'list'> containing values of types set())\", \"<class 'str'>\", \"<class 'bytes'>\"} values), <class 'NoneType'>",
     "traceback": [
      "\u001b[1;31m---------------------------------------------------------------------------\u001b[0m",
      "\u001b[1;31mValueError\u001b[0m                                Traceback (most recent call last)",
      "\u001b[1;32m<ipython-input-7-72d4117f7ca8>\u001b[0m in \u001b[0;36m<module>\u001b[1;34m\u001b[0m\n\u001b[0;32m      3\u001b[0m               optimizer=keras.optimizers.RMSprop())\n\u001b[0;32m      4\u001b[0m \u001b[1;33m\u001b[0m\u001b[0m\n\u001b[1;32m----> 5\u001b[1;33m history = model_cnn.fit(train,\n\u001b[0m\u001b[0;32m      6\u001b[0m                     \u001b[0mbatch_size\u001b[0m\u001b[1;33m=\u001b[0m\u001b[1;36m64\u001b[0m\u001b[1;33m,\u001b[0m\u001b[1;33m\u001b[0m\u001b[1;33m\u001b[0m\u001b[0m\n\u001b[0;32m      7\u001b[0m                     \u001b[0mepochs\u001b[0m\u001b[1;33m=\u001b[0m\u001b[1;36m20\u001b[0m\u001b[1;33m,\u001b[0m\u001b[1;33m\u001b[0m\u001b[1;33m\u001b[0m\u001b[0m\n",
      "\u001b[1;32m~\\AppData\\Roaming\\Python\\Python39\\site-packages\\tensorflow\\python\\keras\\engine\\training.py\u001b[0m in \u001b[0;36mfit\u001b[1;34m(self, x, y, batch_size, epochs, verbose, callbacks, validation_split, validation_data, shuffle, class_weight, sample_weight, initial_epoch, steps_per_epoch, validation_steps, validation_batch_size, validation_freq, max_queue_size, workers, use_multiprocessing)\u001b[0m\n\u001b[0;32m   1131\u001b[0m          \u001b[0mtraining_utils\u001b[0m\u001b[1;33m.\u001b[0m\u001b[0mRespectCompiledTrainableState\u001b[0m\u001b[1;33m(\u001b[0m\u001b[0mself\u001b[0m\u001b[1;33m)\u001b[0m\u001b[1;33m:\u001b[0m\u001b[1;33m\u001b[0m\u001b[1;33m\u001b[0m\u001b[0m\n\u001b[0;32m   1132\u001b[0m       \u001b[1;31m# Creates a `tf.data.Dataset` and handles batch and epoch iteration.\u001b[0m\u001b[1;33m\u001b[0m\u001b[1;33m\u001b[0m\u001b[1;33m\u001b[0m\u001b[0m\n\u001b[1;32m-> 1133\u001b[1;33m       data_handler = data_adapter.get_data_handler(\n\u001b[0m\u001b[0;32m   1134\u001b[0m           \u001b[0mx\u001b[0m\u001b[1;33m=\u001b[0m\u001b[0mx\u001b[0m\u001b[1;33m,\u001b[0m\u001b[1;33m\u001b[0m\u001b[1;33m\u001b[0m\u001b[0m\n\u001b[0;32m   1135\u001b[0m           \u001b[0my\u001b[0m\u001b[1;33m=\u001b[0m\u001b[0my\u001b[0m\u001b[1;33m,\u001b[0m\u001b[1;33m\u001b[0m\u001b[1;33m\u001b[0m\u001b[0m\n",
      "\u001b[1;32m~\\AppData\\Roaming\\Python\\Python39\\site-packages\\tensorflow\\python\\keras\\engine\\data_adapter.py\u001b[0m in \u001b[0;36mget_data_handler\u001b[1;34m(*args, **kwargs)\u001b[0m\n\u001b[0;32m   1362\u001b[0m   \u001b[1;32mif\u001b[0m \u001b[0mgetattr\u001b[0m\u001b[1;33m(\u001b[0m\u001b[0mkwargs\u001b[0m\u001b[1;33m[\u001b[0m\u001b[1;34m\"model\"\u001b[0m\u001b[1;33m]\u001b[0m\u001b[1;33m,\u001b[0m \u001b[1;34m\"_cluster_coordinator\"\u001b[0m\u001b[1;33m,\u001b[0m \u001b[1;32mNone\u001b[0m\u001b[1;33m)\u001b[0m\u001b[1;33m:\u001b[0m\u001b[1;33m\u001b[0m\u001b[1;33m\u001b[0m\u001b[0m\n\u001b[0;32m   1363\u001b[0m     \u001b[1;32mreturn\u001b[0m \u001b[0m_ClusterCoordinatorDataHandler\u001b[0m\u001b[1;33m(\u001b[0m\u001b[1;33m*\u001b[0m\u001b[0margs\u001b[0m\u001b[1;33m,\u001b[0m \u001b[1;33m**\u001b[0m\u001b[0mkwargs\u001b[0m\u001b[1;33m)\u001b[0m\u001b[1;33m\u001b[0m\u001b[1;33m\u001b[0m\u001b[0m\n\u001b[1;32m-> 1364\u001b[1;33m   \u001b[1;32mreturn\u001b[0m \u001b[0mDataHandler\u001b[0m\u001b[1;33m(\u001b[0m\u001b[1;33m*\u001b[0m\u001b[0margs\u001b[0m\u001b[1;33m,\u001b[0m \u001b[1;33m**\u001b[0m\u001b[0mkwargs\u001b[0m\u001b[1;33m)\u001b[0m\u001b[1;33m\u001b[0m\u001b[1;33m\u001b[0m\u001b[0m\n\u001b[0m\u001b[0;32m   1365\u001b[0m \u001b[1;33m\u001b[0m\u001b[0m\n\u001b[0;32m   1366\u001b[0m \u001b[1;33m\u001b[0m\u001b[0m\n",
      "\u001b[1;32m~\\AppData\\Roaming\\Python\\Python39\\site-packages\\tensorflow\\python\\keras\\engine\\data_adapter.py\u001b[0m in \u001b[0;36m__init__\u001b[1;34m(self, x, y, sample_weight, batch_size, steps_per_epoch, initial_epoch, epochs, shuffle, class_weight, max_queue_size, workers, use_multiprocessing, model, steps_per_execution, distribute)\u001b[0m\n\u001b[0;32m   1150\u001b[0m       \u001b[0mself\u001b[0m\u001b[1;33m.\u001b[0m\u001b[0m_steps_per_execution_value\u001b[0m \u001b[1;33m=\u001b[0m \u001b[0msteps_per_execution\u001b[0m\u001b[1;33m.\u001b[0m\u001b[0mnumpy\u001b[0m\u001b[1;33m(\u001b[0m\u001b[1;33m)\u001b[0m\u001b[1;33m.\u001b[0m\u001b[0mitem\u001b[0m\u001b[1;33m(\u001b[0m\u001b[1;33m)\u001b[0m\u001b[1;33m\u001b[0m\u001b[1;33m\u001b[0m\u001b[0m\n\u001b[0;32m   1151\u001b[0m \u001b[1;33m\u001b[0m\u001b[0m\n\u001b[1;32m-> 1152\u001b[1;33m     \u001b[0madapter_cls\u001b[0m \u001b[1;33m=\u001b[0m \u001b[0mselect_data_adapter\u001b[0m\u001b[1;33m(\u001b[0m\u001b[0mx\u001b[0m\u001b[1;33m,\u001b[0m \u001b[0my\u001b[0m\u001b[1;33m)\u001b[0m\u001b[1;33m\u001b[0m\u001b[1;33m\u001b[0m\u001b[0m\n\u001b[0m\u001b[0;32m   1153\u001b[0m     \u001b[0mself\u001b[0m\u001b[1;33m.\u001b[0m\u001b[0m_verify_data_adapter_compatibility\u001b[0m\u001b[1;33m(\u001b[0m\u001b[0madapter_cls\u001b[0m\u001b[1;33m)\u001b[0m\u001b[1;33m\u001b[0m\u001b[1;33m\u001b[0m\u001b[0m\n\u001b[0;32m   1154\u001b[0m     self._adapter = adapter_cls(\n",
      "\u001b[1;32m~\\AppData\\Roaming\\Python\\Python39\\site-packages\\tensorflow\\python\\keras\\engine\\data_adapter.py\u001b[0m in \u001b[0;36mselect_data_adapter\u001b[1;34m(x, y)\u001b[0m\n\u001b[0;32m    989\u001b[0m   \u001b[1;32mif\u001b[0m \u001b[1;32mnot\u001b[0m \u001b[0madapter_cls\u001b[0m\u001b[1;33m:\u001b[0m\u001b[1;33m\u001b[0m\u001b[1;33m\u001b[0m\u001b[0m\n\u001b[0;32m    990\u001b[0m     \u001b[1;31m# TODO(scottzhu): This should be a less implementation-specific error.\u001b[0m\u001b[1;33m\u001b[0m\u001b[1;33m\u001b[0m\u001b[1;33m\u001b[0m\u001b[0m\n\u001b[1;32m--> 991\u001b[1;33m     raise ValueError(\n\u001b[0m\u001b[0;32m    992\u001b[0m         \u001b[1;34m\"Failed to find data adapter that can handle \"\u001b[0m\u001b[1;33m\u001b[0m\u001b[1;33m\u001b[0m\u001b[0m\n\u001b[0;32m    993\u001b[0m         \"input: {}, {}\".format(\n",
      "\u001b[1;31mValueError\u001b[0m: Failed to find data adapter that can handle input: (<class 'dict'> containing {\"<class 'str'>\"} keys and {\"<class 'numpy.ndarray'>\", \"(<class 'list'> containing values of types set())\", \"<class 'str'>\", \"<class 'bytes'>\"} values), <class 'NoneType'>"
     ]
    }
   ],
   "source": [
    "# train the model\n",
    "model_cnn.compile(loss='mean_squared_error',\n",
    "              optimizer=keras.optimizers.RMSprop())\n",
    "\n",
    "history = model_cnn.fit(train,\n",
    "                    batch_size=64,\n",
    "                    epochs=20,\n",
    "                    validation_data=(test))"
   ]
  },
  {
   "cell_type": "code",
   "execution_count": null,
   "metadata": {},
   "outputs": [],
   "source": []
  }
 ]
}
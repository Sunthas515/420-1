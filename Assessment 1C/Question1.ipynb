{
 "metadata": {
  "language_info": {
   "codemirror_mode": {
    "name": "ipython",
    "version": 3
   },
   "file_extension": ".py",
   "mimetype": "text/x-python",
   "name": "python",
   "nbconvert_exporter": "python",
   "pygments_lexer": "ipython3",
   "version": "3.9.4"
  },
  "orig_nbformat": 2,
  "kernelspec": {
   "name": "python394jvsc74a57bd063fd5069d213b44bf678585dea6b12cceca9941eaf7f819626cde1f2670de90d",
   "display_name": "Python 3.9.4 64-bit"
  },
  "metadata": {
   "interpreter": {
    "hash": "63fd5069d213b44bf678585dea6b12cceca9941eaf7f819626cde1f2670de90d"
   }
  }
 },
 "nbformat": 4,
 "nbformat_minor": 2,
 "cells": [
  {
   "source": [
    "# Assignment 1C - Question 1\n",
    "## Clustering and Recommendations"
   ],
   "cell_type": "markdown",
   "metadata": {}
  },
  {
   "cell_type": "code",
   "execution_count": 3,
   "metadata": {},
   "outputs": [],
   "source": [
    "import pandas\n",
    "import numpy\n",
    "from sklearn.cluster import KMeans\n",
    "from sklearn.mixture import GaussianMixture\n",
    "from scipy.spatial import distance\n",
    "import matplotlib.pyplot as plt\n",
    "from scipy.cluster.hierarchy import dendrogram\n",
    "from sklearn.cluster import AgglomerativeClustering\n",
    "from matplotlib import cm\n",
    "from datetime import datetime"
   ]
  },
  {
   "cell_type": "code",
   "execution_count": 4,
   "metadata": {},
   "outputs": [],
   "source": [
    "links = pandas.read_csv('CAB420_Assessment_1C_Data/Data/Q1/links.csv')\n",
    "movies = pandas.read_csv('CAB420_Assessment_1C_Data/Data/Q1/movies.csv')\n",
    "ratings = pandas.read_csv('CAB420_Assessment_1C_Data/Data/Q1/ratings.csv')\n",
    "tags = pandas.read_csv('CAB420_Assessment_1C_Data/Data/Q1/tags.csv')"
   ]
  },
  {
   "cell_type": "code",
   "execution_count": 5,
   "metadata": {},
   "outputs": [
    {
     "output_type": "execute_result",
     "data": {
      "text/plain": [
       "Index(['movieId', 'title', 'genres'], dtype='object')"
      ]
     },
     "metadata": {},
     "execution_count": 5
    }
   ],
   "source": [
    "movies.columns"
   ]
  },
  {
   "cell_type": "code",
   "execution_count": 6,
   "metadata": {},
   "outputs": [
    {
     "output_type": "stream",
     "name": "stdout",
     "text": [
      "      movieId                                      title  \\\n0           1                           Toy Story (1995)   \n1           2                             Jumanji (1995)   \n2           3                    Grumpier Old Men (1995)   \n3           4                   Waiting to Exhale (1995)   \n4           5         Father of the Bride Part II (1995)   \n...       ...                                        ...   \n9737   193581  Black Butler: Book of the Atlantic (2017)   \n9738   193583               No Game No Life: Zero (2017)   \n9739   193585                               Flint (2017)   \n9740   193587        Bungo Stray Dogs: Dead Apple (2018)   \n9741   193609        Andrew Dice Clay: Dice Rules (1991)   \n\n                                           genres  \n0     Adventure|Animation|Children|Comedy|Fantasy  \n1                      Adventure|Children|Fantasy  \n2                                  Comedy|Romance  \n3                            Comedy|Drama|Romance  \n4                                          Comedy  \n...                                           ...  \n9737              Action|Animation|Comedy|Fantasy  \n9738                     Animation|Comedy|Fantasy  \n9739                                        Drama  \n9740                             Action|Animation  \n9741                                       Comedy  \n\n[9742 rows x 3 columns]\n"
     ]
    }
   ],
   "source": [
    "print(movies)"
   ]
  },
  {
   "source": [
    "### Filter ratings for 4+"
   ],
   "cell_type": "markdown",
   "metadata": {}
  },
  {
   "cell_type": "code",
   "execution_count": 7,
   "metadata": {},
   "outputs": [
    {
     "output_type": "stream",
     "name": "stdout",
     "text": [
      "        userId  movieId  rating   timestamp\n0            1        1     4.0   964982703\n1            1        3     4.0   964981247\n2            1        6     4.0   964982224\n3            1       47     5.0   964983815\n4            1       50     5.0   964982931\n...        ...      ...     ...         ...\n100831     610   166534     4.0  1493848402\n100832     610   168248     5.0  1493850091\n100833     610   168250     5.0  1494273047\n100834     610   168252     5.0  1493846352\n100835     610   170875     3.0  1493846415\n\n[100836 rows x 4 columns]\n"
     ]
    }
   ],
   "source": [
    "print(ratings)"
   ]
  },
  {
   "cell_type": "code",
   "execution_count": 8,
   "metadata": {},
   "outputs": [],
   "source": [
    "ratings_4 = ratings[ratings['rating'] >= 4.0]"
   ]
  },
  {
   "cell_type": "code",
   "execution_count": 9,
   "metadata": {},
   "outputs": [
    {
     "output_type": "stream",
     "name": "stdout",
     "text": [
      "        userId  movieId  rating   timestamp\n0            1        1     4.0   964982703\n1            1        3     4.0   964981247\n2            1        6     4.0   964982224\n3            1       47     5.0   964983815\n4            1       50     5.0   964982931\n...        ...      ...     ...         ...\n100830     610   166528     4.0  1493879365\n100831     610   166534     4.0  1493848402\n100832     610   168248     5.0  1493850091\n100833     610   168250     5.0  1494273047\n100834     610   168252     5.0  1493846352\n\n[48580 rows x 4 columns]\n"
     ]
    }
   ],
   "source": [
    "print(ratings_4)"
   ]
  },
  {
   "cell_type": "code",
   "execution_count": 15,
   "metadata": {},
   "outputs": [
    {
     "output_type": "stream",
     "name": "stdout",
     "text": [
      "        userId  movieId\n0            1        1\n1            1        3\n2            1        6\n3            1       47\n4            1       50\n...        ...      ...\n100830     610   166528\n100831     610   166534\n100832     610   168248\n100833     610   168250\n100834     610   168252\n\n[48580 rows x 2 columns]\n"
     ]
    }
   ],
   "source": [
    "user_movies = ratings_4.loc[:, ['userId', 'movieId']]\n",
    "print(user_movies)"
   ]
  },
  {
   "cell_type": "code",
   "execution_count": 17,
   "metadata": {},
   "outputs": [
    {
     "output_type": "execute_result",
     "data": {
      "text/plain": [
       "                 0            1            2            3            4      \\\n",
       "userId             1.0          1.0          1.0          1.0          1.0   \n",
       "movieId            1.0          3.0          6.0         47.0         50.0   \n",
       "rating             4.0          4.0          4.0          5.0          5.0   \n",
       "timestamp  964982703.0  964981247.0  964982224.0  964983815.0  964982931.0   \n",
       "\n",
       "                 5            6            7            8            9      \\\n",
       "userId             1.0          1.0          1.0          1.0          1.0   \n",
       "movieId          101.0        110.0        151.0        157.0        163.0   \n",
       "rating             5.0          4.0          5.0          5.0          5.0   \n",
       "timestamp  964980868.0  964982176.0  964984041.0  964984100.0  964983650.0   \n",
       "\n",
       "           ...         48570         48571         48572         48573  \\\n",
       "userId     ...  6.100000e+02  6.100000e+02  6.100000e+02  6.100000e+02   \n",
       "movieId    ...  1.582380e+05  1.605270e+05  1.615820e+05  1.616340e+05   \n",
       "rating     ...  5.000000e+00  4.500000e+00  4.000000e+00  4.000000e+00   \n",
       "timestamp  ...  1.479545e+09  1.479545e+09  1.493848e+09  1.493848e+09   \n",
       "\n",
       "                  48574         48575         48576         48577  \\\n",
       "userId     6.100000e+02  6.100000e+02  6.100000e+02  6.100000e+02   \n",
       "movieId    1.641790e+05  1.665280e+05  1.665340e+05  1.682480e+05   \n",
       "rating     5.000000e+00  4.000000e+00  4.000000e+00  5.000000e+00   \n",
       "timestamp  1.493846e+09  1.493879e+09  1.493848e+09  1.493850e+09   \n",
       "\n",
       "                  48578         48579  \n",
       "userId     6.100000e+02  6.100000e+02  \n",
       "movieId    1.682500e+05  1.682520e+05  \n",
       "rating     5.000000e+00  5.000000e+00  \n",
       "timestamp  1.494273e+09  1.493846e+09  \n",
       "\n",
       "[4 rows x 48580 columns]"
      ],
      "text/html": "<div>\n<style scoped>\n    .dataframe tbody tr th:only-of-type {\n        vertical-align: middle;\n    }\n\n    .dataframe tbody tr th {\n        vertical-align: top;\n    }\n\n    .dataframe thead th {\n        text-align: right;\n    }\n</style>\n<table border=\"1\" class=\"dataframe\">\n  <thead>\n    <tr style=\"text-align: right;\">\n      <th></th>\n      <th>0</th>\n      <th>1</th>\n      <th>2</th>\n      <th>3</th>\n      <th>4</th>\n      <th>5</th>\n      <th>6</th>\n      <th>7</th>\n      <th>8</th>\n      <th>9</th>\n      <th>...</th>\n      <th>48570</th>\n      <th>48571</th>\n      <th>48572</th>\n      <th>48573</th>\n      <th>48574</th>\n      <th>48575</th>\n      <th>48576</th>\n      <th>48577</th>\n      <th>48578</th>\n      <th>48579</th>\n    </tr>\n  </thead>\n  <tbody>\n    <tr>\n      <th>userId</th>\n      <td>1.0</td>\n      <td>1.0</td>\n      <td>1.0</td>\n      <td>1.0</td>\n      <td>1.0</td>\n      <td>1.0</td>\n      <td>1.0</td>\n      <td>1.0</td>\n      <td>1.0</td>\n      <td>1.0</td>\n      <td>...</td>\n      <td>6.100000e+02</td>\n      <td>6.100000e+02</td>\n      <td>6.100000e+02</td>\n      <td>6.100000e+02</td>\n      <td>6.100000e+02</td>\n      <td>6.100000e+02</td>\n      <td>6.100000e+02</td>\n      <td>6.100000e+02</td>\n      <td>6.100000e+02</td>\n      <td>6.100000e+02</td>\n    </tr>\n    <tr>\n      <th>movieId</th>\n      <td>1.0</td>\n      <td>3.0</td>\n      <td>6.0</td>\n      <td>47.0</td>\n      <td>50.0</td>\n      <td>101.0</td>\n      <td>110.0</td>\n      <td>151.0</td>\n      <td>157.0</td>\n      <td>163.0</td>\n      <td>...</td>\n      <td>1.582380e+05</td>\n      <td>1.605270e+05</td>\n      <td>1.615820e+05</td>\n      <td>1.616340e+05</td>\n      <td>1.641790e+05</td>\n      <td>1.665280e+05</td>\n      <td>1.665340e+05</td>\n      <td>1.682480e+05</td>\n      <td>1.682500e+05</td>\n      <td>1.682520e+05</td>\n    </tr>\n    <tr>\n      <th>rating</th>\n      <td>4.0</td>\n      <td>4.0</td>\n      <td>4.0</td>\n      <td>5.0</td>\n      <td>5.0</td>\n      <td>5.0</td>\n      <td>4.0</td>\n      <td>5.0</td>\n      <td>5.0</td>\n      <td>5.0</td>\n      <td>...</td>\n      <td>5.000000e+00</td>\n      <td>4.500000e+00</td>\n      <td>4.000000e+00</td>\n      <td>4.000000e+00</td>\n      <td>5.000000e+00</td>\n      <td>4.000000e+00</td>\n      <td>4.000000e+00</td>\n      <td>5.000000e+00</td>\n      <td>5.000000e+00</td>\n      <td>5.000000e+00</td>\n    </tr>\n    <tr>\n      <th>timestamp</th>\n      <td>964982703.0</td>\n      <td>964981247.0</td>\n      <td>964982224.0</td>\n      <td>964983815.0</td>\n      <td>964982931.0</td>\n      <td>964980868.0</td>\n      <td>964982176.0</td>\n      <td>964984041.0</td>\n      <td>964984100.0</td>\n      <td>964983650.0</td>\n      <td>...</td>\n      <td>1.479545e+09</td>\n      <td>1.479545e+09</td>\n      <td>1.493848e+09</td>\n      <td>1.493848e+09</td>\n      <td>1.493846e+09</td>\n      <td>1.493879e+09</td>\n      <td>1.493848e+09</td>\n      <td>1.493850e+09</td>\n      <td>1.494273e+09</td>\n      <td>1.493846e+09</td>\n    </tr>\n  </tbody>\n</table>\n<p>4 rows × 48580 columns</p>\n</div>"
     },
     "metadata": {},
     "execution_count": 17
    }
   ],
   "source": [
    "user_movies = ratings_4.reset_index(drop=True)\n",
    "user_movies.T"
   ]
  },
  {
   "cell_type": "code",
   "execution_count": null,
   "metadata": {},
   "outputs": [],
   "source": []
  }
 ]
}
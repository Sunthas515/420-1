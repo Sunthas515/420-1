{
 "metadata": {
  "language_info": {
   "codemirror_mode": {
    "name": "ipython",
    "version": 3
   },
   "file_extension": ".py",
   "mimetype": "text/x-python",
   "name": "python",
   "nbconvert_exporter": "python",
   "pygments_lexer": "ipython3",
   "version": "3.7.6"
  },
  "orig_nbformat": 2,
  "kernelspec": {
   "name": "python376jvsc74a57bd0de2b3220a45578f721e4f247a997b0c24ed405776dfa72923334a080c8fd616b",
   "display_name": "Python 3.7.6 64-bit ('base': conda)"
  },
  "metadata": {
   "interpreter": {
    "hash": "63fd5069d213b44bf678585dea6b12cceca9941eaf7f819626cde1f2670de90d"
   }
  }
 },
 "nbformat": 4,
 "nbformat_minor": 2,
 "cells": [
  {
   "source": [
    "# Assignment 1C - Question 1\n",
    "## Clustering and Recommendations"
   ],
   "cell_type": "markdown",
   "metadata": {}
  },
  {
   "cell_type": "code",
   "execution_count": 1,
   "metadata": {},
   "outputs": [],
   "source": [
    "import pandas as pd\n",
    "import numpy as np\n",
    "from sklearn.cluster import KMeans\n",
    "from sklearn.mixture import GaussianMixture\n",
    "from scipy.spatial import distance\n",
    "import matplotlib.pyplot as plt\n",
    "from scipy.cluster.hierarchy import dendrogram\n",
    "from sklearn.cluster import AgglomerativeClustering\n",
    "from matplotlib import cm\n",
    "from datetime import datetime\n",
    "from sklearn.feature_extraction.text import CountVectorizer\n",
    "import pickle"
   ]
  },
  {
   "cell_type": "code",
   "execution_count": 2,
   "metadata": {},
   "outputs": [],
   "source": [
    "links = pd.read_csv('CAB420_Assessment_1C_Data/Data/Q1/links.csv')\n",
    "movies_metadata = pd.read_csv('CAB420_Assessment_1C_Data/Data/Q1/movies.csv')\n",
    "ratings = pd.read_csv('CAB420_Assessment_1C_Data/Data/Q1/ratings.csv')\n",
    "tags = pd.read_csv('CAB420_Assessment_1C_Data/Data/Q1/tags.csv')"
   ]
  },
  {
   "cell_type": "code",
   "execution_count": 3,
   "metadata": {},
   "outputs": [
    {
     "output_type": "execute_result",
     "data": {
      "text/plain": [
       "Index(['movieId', 'title', 'genres'], dtype='object')"
      ]
     },
     "metadata": {},
     "execution_count": 3
    }
   ],
   "source": [
    "movies_metadata.columns"
   ]
  },
  {
   "cell_type": "code",
   "execution_count": 4,
   "metadata": {},
   "outputs": [
    {
     "output_type": "stream",
     "name": "stdout",
     "text": [
      "      movieId                                      title  \\\n0           1                           Toy Story (1995)   \n1           2                             Jumanji (1995)   \n2           3                    Grumpier Old Men (1995)   \n3           4                   Waiting to Exhale (1995)   \n4           5         Father of the Bride Part II (1995)   \n...       ...                                        ...   \n9737   193581  Black Butler: Book of the Atlantic (2017)   \n9738   193583               No Game No Life: Zero (2017)   \n9739   193585                               Flint (2017)   \n9740   193587        Bungo Stray Dogs: Dead Apple (2018)   \n9741   193609        Andrew Dice Clay: Dice Rules (1991)   \n\n                                           genres  \n0     Adventure|Animation|Children|Comedy|Fantasy  \n1                      Adventure|Children|Fantasy  \n2                                  Comedy|Romance  \n3                            Comedy|Drama|Romance  \n4                                          Comedy  \n...                                           ...  \n9737              Action|Animation|Comedy|Fantasy  \n9738                     Animation|Comedy|Fantasy  \n9739                                        Drama  \n9740                             Action|Animation  \n9741                                       Comedy  \n\n[9742 rows x 3 columns]\n"
     ]
    }
   ],
   "source": [
    "print(movies_metadata)"
   ]
  },
  {
   "source": [
    "### Filter ratings for 4+"
   ],
   "cell_type": "markdown",
   "metadata": {}
  },
  {
   "cell_type": "code",
   "execution_count": 5,
   "metadata": {},
   "outputs": [
    {
     "output_type": "stream",
     "name": "stdout",
     "text": [
      "        userId  movieId  rating   timestamp\n0            1        1     4.0   964982703\n1            1        3     4.0   964981247\n2            1        6     4.0   964982224\n3            1       47     5.0   964983815\n4            1       50     5.0   964982931\n...        ...      ...     ...         ...\n100831     610   166534     4.0  1493848402\n100832     610   168248     5.0  1493850091\n100833     610   168250     5.0  1494273047\n100834     610   168252     5.0  1493846352\n100835     610   170875     3.0  1493846415\n\n[100836 rows x 4 columns]\n"
     ]
    }
   ],
   "source": [
    "print(ratings)"
   ]
  },
  {
   "cell_type": "code",
   "execution_count": 6,
   "metadata": {},
   "outputs": [],
   "source": [
    "ratings_4 = ratings[ratings['rating'] >= 4.0]"
   ]
  },
  {
   "cell_type": "code",
   "execution_count": 7,
   "metadata": {},
   "outputs": [
    {
     "output_type": "stream",
     "name": "stdout",
     "text": [
      "Shape of ratings dataset is:  (6351, 4) \n",
      "\n",
      "Max values in dataset are \n",
      " userId       6.100000e+02\n",
      "movieId      2.330000e+02\n",
      "rating       5.000000e+00\n",
      "timestamp    1.537799e+09\n",
      "dtype: float64 \n",
      "\n",
      "Min values in dataset are \n",
      " userId               1.0\n",
      "movieId              1.0\n",
      "rating               0.5\n",
      "timestamp    828124615.0\n",
      "dtype: float64 \n",
      "\n"
     ]
    }
   ],
   "source": [
    "movies_list = np.unique(ratings['movieId'])[:200]\n",
    "ratings = ratings.loc[ratings['movieId'].isin(movies_list)]\n",
    "print('Shape of ratings dataset is: ',ratings.shape, '\\n')\n",
    "print('Max values in dataset are \\n',ratings.max(), '\\n')\n",
    "print('Min values in dataset are \\n',ratings.min(), '\\n') "
   ]
  },
  {
   "cell_type": "code",
   "execution_count": 8,
   "metadata": {},
   "outputs": [
    {
     "output_type": "stream",
     "name": "stdout",
     "text": [
      "Shape of ratings dataset is:  (1208, 4) \n\nMax values in dataset are \n userId       1.070000e+02\nmovieId      2.330000e+02\nrating       5.000000e+00\ntimestamp    1.535470e+09\ndtype: float64 \n\nMin values in dataset are \n userId               1.0\nmovieId              1.0\nrating               0.5\ntimestamp    829322340.0\ndtype: float64 \n\nTotal Users:  100\nTotal Movies which are rated by 100 users:  160\n"
     ]
    }
   ],
   "source": [
    "users_list = np.unique(ratings['userId'])[:100]\n",
    "ratings = ratings.loc[ratings['userId'].isin(users_list)]\n",
    "print('Shape of ratings dataset is: ',ratings.shape, '\\n')\n",
    "print('Max values in dataset are \\n',ratings.max(), '\\n')\n",
    "print('Min values in dataset are \\n',ratings.min(), '\\n')\n",
    "print('Total Users: ', np.unique(ratings['userId']).shape[0])\n",
    "print('Total Movies which are rated by 100 users: ', np.unique(ratings['movieId']).shape[0])"
   ]
  },
  {
   "cell_type": "code",
   "execution_count": 9,
   "metadata": {},
   "outputs": [],
   "source": [
    "users_fav_movies = ratings.loc[:, ['userId', 'movieId']]"
   ]
  },
  {
   "cell_type": "code",
   "execution_count": 10,
   "metadata": {},
   "outputs": [],
   "source": [
    "users_fav_movies = ratings.reset_index(drop = True)"
   ]
  },
  {
   "cell_type": "code",
   "execution_count": 11,
   "metadata": {},
   "outputs": [
    {
     "output_type": "execute_result",
     "data": {
      "text/plain": [
       "                  0            1            2            3            4     \\\n",
       "userId             1.0          1.0          1.0          1.0          1.0   \n",
       "movieId            1.0          3.0          6.0         47.0         50.0   \n",
       "rating             4.0          4.0          4.0          5.0          5.0   \n",
       "timestamp  964982703.0  964981247.0  964982224.0  964983815.0  964982931.0   \n",
       "\n",
       "                  5            6            7            8            9     \\\n",
       "userId             1.0          1.0          1.0          1.0          1.0   \n",
       "movieId           70.0        101.0        110.0        151.0        157.0   \n",
       "rating             3.0          5.0          4.0          5.0          5.0   \n",
       "timestamp  964982400.0  964980868.0  964982176.0  964984041.0  964984100.0   \n",
       "\n",
       "           ...         1198         1199         1200         1201  \\\n",
       "userId     ...        107.0        107.0        107.0        107.0   \n",
       "movieId    ...        140.0        141.0        150.0        153.0   \n",
       "rating     ...          4.0          5.0          5.0          3.0   \n",
       "timestamp  ...  829322340.0  829322340.0  832003609.0  832003644.0   \n",
       "\n",
       "                  1202         1203         1204         1205         1206  \\\n",
       "userId           107.0        107.0        107.0        107.0        107.0   \n",
       "movieId          160.0        161.0        165.0        185.0        208.0   \n",
       "rating             4.0          4.0          3.0          4.0          3.0   \n",
       "timestamp  832003891.0  832003700.0  832003678.0  832003754.0  832003755.0   \n",
       "\n",
       "                  1207  \n",
       "userId           107.0  \n",
       "movieId          231.0  \n",
       "rating             3.0  \n",
       "timestamp  832003701.0  \n",
       "\n",
       "[4 rows x 1208 columns]"
      ],
      "text/html": "<div>\n<style scoped>\n    .dataframe tbody tr th:only-of-type {\n        vertical-align: middle;\n    }\n\n    .dataframe tbody tr th {\n        vertical-align: top;\n    }\n\n    .dataframe thead th {\n        text-align: right;\n    }\n</style>\n<table border=\"1\" class=\"dataframe\">\n  <thead>\n    <tr style=\"text-align: right;\">\n      <th></th>\n      <th>0</th>\n      <th>1</th>\n      <th>2</th>\n      <th>3</th>\n      <th>4</th>\n      <th>5</th>\n      <th>6</th>\n      <th>7</th>\n      <th>8</th>\n      <th>9</th>\n      <th>...</th>\n      <th>1198</th>\n      <th>1199</th>\n      <th>1200</th>\n      <th>1201</th>\n      <th>1202</th>\n      <th>1203</th>\n      <th>1204</th>\n      <th>1205</th>\n      <th>1206</th>\n      <th>1207</th>\n    </tr>\n  </thead>\n  <tbody>\n    <tr>\n      <th>userId</th>\n      <td>1.0</td>\n      <td>1.0</td>\n      <td>1.0</td>\n      <td>1.0</td>\n      <td>1.0</td>\n      <td>1.0</td>\n      <td>1.0</td>\n      <td>1.0</td>\n      <td>1.0</td>\n      <td>1.0</td>\n      <td>...</td>\n      <td>107.0</td>\n      <td>107.0</td>\n      <td>107.0</td>\n      <td>107.0</td>\n      <td>107.0</td>\n      <td>107.0</td>\n      <td>107.0</td>\n      <td>107.0</td>\n      <td>107.0</td>\n      <td>107.0</td>\n    </tr>\n    <tr>\n      <th>movieId</th>\n      <td>1.0</td>\n      <td>3.0</td>\n      <td>6.0</td>\n      <td>47.0</td>\n      <td>50.0</td>\n      <td>70.0</td>\n      <td>101.0</td>\n      <td>110.0</td>\n      <td>151.0</td>\n      <td>157.0</td>\n      <td>...</td>\n      <td>140.0</td>\n      <td>141.0</td>\n      <td>150.0</td>\n      <td>153.0</td>\n      <td>160.0</td>\n      <td>161.0</td>\n      <td>165.0</td>\n      <td>185.0</td>\n      <td>208.0</td>\n      <td>231.0</td>\n    </tr>\n    <tr>\n      <th>rating</th>\n      <td>4.0</td>\n      <td>4.0</td>\n      <td>4.0</td>\n      <td>5.0</td>\n      <td>5.0</td>\n      <td>3.0</td>\n      <td>5.0</td>\n      <td>4.0</td>\n      <td>5.0</td>\n      <td>5.0</td>\n      <td>...</td>\n      <td>4.0</td>\n      <td>5.0</td>\n      <td>5.0</td>\n      <td>3.0</td>\n      <td>4.0</td>\n      <td>4.0</td>\n      <td>3.0</td>\n      <td>4.0</td>\n      <td>3.0</td>\n      <td>3.0</td>\n    </tr>\n    <tr>\n      <th>timestamp</th>\n      <td>964982703.0</td>\n      <td>964981247.0</td>\n      <td>964982224.0</td>\n      <td>964983815.0</td>\n      <td>964982931.0</td>\n      <td>964982400.0</td>\n      <td>964980868.0</td>\n      <td>964982176.0</td>\n      <td>964984041.0</td>\n      <td>964984100.0</td>\n      <td>...</td>\n      <td>829322340.0</td>\n      <td>829322340.0</td>\n      <td>832003609.0</td>\n      <td>832003644.0</td>\n      <td>832003891.0</td>\n      <td>832003700.0</td>\n      <td>832003678.0</td>\n      <td>832003754.0</td>\n      <td>832003755.0</td>\n      <td>832003701.0</td>\n    </tr>\n  </tbody>\n</table>\n<p>4 rows × 1208 columns</p>\n</div>"
     },
     "metadata": {},
     "execution_count": 11
    }
   ],
   "source": [
    "users_fav_movies.T"
   ]
  },
  {
   "cell_type": "code",
   "execution_count": 12,
   "metadata": {},
   "outputs": [],
   "source": [
    "def moviesListForUsers(users, users_data):\n",
    "    # users = a list of users IDs\n",
    "    # users_data = a dataframe of users favourite movies or users watched movies\n",
    "    users_movies_list = []\n",
    "    for user in users:\n",
    "        users_movies_list.append(str(list(users_data[users_data['userId'] == user]['movieId'])).split('[')[1].split(']')[0])\n",
    "    return users_movies_list"
   ]
  },
  {
   "cell_type": "code",
   "execution_count": 13,
   "metadata": {},
   "outputs": [
    {
     "output_type": "stream",
     "name": "stdout",
     "text": [
      "(100,)\n"
     ]
    }
   ],
   "source": [
    "users = np.unique(users_fav_movies['userId'])\n",
    "print(users.shape) "
   ]
  },
  {
   "cell_type": "code",
   "execution_count": 14,
   "metadata": {},
   "outputs": [
    {
     "output_type": "stream",
     "name": "stdout",
     "text": [
      "Movies list for 100  users\nA list of first 10 users favourite movies: \n ['1, 3, 6, 47, 50, 70, 101, 110, 151, 157, 163, 216, 223, 231', '31', '21, 32, 45, 47, 52, 58, 106, 125, 126, 162, 171, 176, 190, 215, 222, 232', '1, 21, 34, 36, 39, 50, 58, 110, 150, 153, 232', '2, 3, 4, 5, 6, 7, 8, 10, 11, 13, 15, 16, 17, 19, 21, 22, 24, 25, 26, 27, 31, 32, 34, 36, 41, 43, 45, 46, 47, 50, 54, 60, 61, 62, 65, 66, 76, 79, 86, 87, 88, 89, 92, 93, 95, 100, 102, 104, 105, 110, 112, 113, 126, 135, 140, 141, 145, 146, 150, 151, 153, 158, 159, 160, 161, 163, 165, 168, 170, 171, 174, 177, 179, 180, 181, 185, 186, 189, 191, 195, 196, 201, 204, 205, 207, 208, 209, 210, 212, 216, 217, 218, 219, 222, 224, 225, 230, 231', '1, 50, 58, 150, 165', '2, 10, 11, 21, 32, 34, 39, 47, 50, 110, 141, 150, 153, 185, 186, 208, 231', '41, 187, 223', '6, 10, 36, 44, 95, 110, 150, 153, 165, 170, 208', '39, 168, 222']\n"
     ]
    }
   ],
   "source": [
    "users_movies_list = moviesListForUsers(users, users_fav_movies)\n",
    "print('Movies list for', len(users_movies_list), ' users')\n",
    "print('A list of first 10 users favourite movies: \\n', users_movies_list[:10])"
   ]
  },
  {
   "cell_type": "code",
   "execution_count": 15,
   "metadata": {},
   "outputs": [],
   "source": [
    "def prepSparseMatrix(list_of_str):\n",
    "    # list_of_str = A list, which contain strings of users favourite movies separate by comma \",\".\n",
    "    # It will return us sparse matrix and feature names on which sparse matrix is defined \n",
    "    # i.e. name of movies in the same order as the column of sparse matrix\n",
    "    cv = CountVectorizer(token_pattern = r'[^\\,\\ ]+', lowercase = False)\n",
    "    sparseMatrix = cv.fit_transform(list_of_str)\n",
    "    return sparseMatrix.toarray(), cv.get_feature_names()"
   ]
  },
  {
   "cell_type": "code",
   "execution_count": 16,
   "metadata": {},
   "outputs": [],
   "source": [
    "sparseMatrix, feature_names = prepSparseMatrix(users_movies_list)"
   ]
  },
  {
   "cell_type": "code",
   "execution_count": 17,
   "metadata": {},
   "outputs": [
    {
     "output_type": "execute_result",
     "data": {
      "text/plain": [
       "     1  10  100  101  102  104  105  106  107  11  ...  82  85  86  87  88  \\\n",
       "1    1   0    0    1    0    0    0    0    0   0  ...   0   0   0   0   0   \n",
       "3    0   0    0    0    0    0    0    0    0   0  ...   0   0   0   0   0   \n",
       "4    0   0    0    0    0    0    0    1    0   0  ...   0   0   0   0   0   \n",
       "5    1   0    0    0    0    0    0    0    0   0  ...   0   0   0   0   0   \n",
       "6    0   1    1    0    1    1    1    0    0   1  ...   0   0   1   1   1   \n",
       "..  ..  ..  ...  ...  ...  ...  ...  ...  ...  ..  ...  ..  ..  ..  ..  ..   \n",
       "102  0   0    0    0    0    0    0    0    0   0  ...   0   0   0   0   0   \n",
       "103  1   0    0    1    0    1    0    0    1   0  ...   0   0   0   0   0   \n",
       "104  0   1    0    0    0    0    1    0    0   0  ...   0   0   0   1   0   \n",
       "105  0   0    0    0    0    0    0    0    0   0  ...   0   0   0   0   0   \n",
       "107  1   0    0    0    0    1    1    0    0   1  ...   0   0   0   0   0   \n",
       "\n",
       "     89  92  93  94  95  \n",
       "1     0   0   0   0   0  \n",
       "3     0   0   0   0   0  \n",
       "4     0   0   0   0   0  \n",
       "5     0   0   0   0   0  \n",
       "6     1   1   1   0   1  \n",
       "..   ..  ..  ..  ..  ..  \n",
       "102   0   0   0   0   0  \n",
       "103   0   0   0   0   0  \n",
       "104   0   0   0   0   0  \n",
       "105   0   0   0   0   0  \n",
       "107   0   0   0   0   0  \n",
       "\n",
       "[100 rows x 160 columns]"
      ],
      "text/html": "<div>\n<style scoped>\n    .dataframe tbody tr th:only-of-type {\n        vertical-align: middle;\n    }\n\n    .dataframe tbody tr th {\n        vertical-align: top;\n    }\n\n    .dataframe thead th {\n        text-align: right;\n    }\n</style>\n<table border=\"1\" class=\"dataframe\">\n  <thead>\n    <tr style=\"text-align: right;\">\n      <th></th>\n      <th>1</th>\n      <th>10</th>\n      <th>100</th>\n      <th>101</th>\n      <th>102</th>\n      <th>104</th>\n      <th>105</th>\n      <th>106</th>\n      <th>107</th>\n      <th>11</th>\n      <th>...</th>\n      <th>82</th>\n      <th>85</th>\n      <th>86</th>\n      <th>87</th>\n      <th>88</th>\n      <th>89</th>\n      <th>92</th>\n      <th>93</th>\n      <th>94</th>\n      <th>95</th>\n    </tr>\n  </thead>\n  <tbody>\n    <tr>\n      <th>1</th>\n      <td>1</td>\n      <td>0</td>\n      <td>0</td>\n      <td>1</td>\n      <td>0</td>\n      <td>0</td>\n      <td>0</td>\n      <td>0</td>\n      <td>0</td>\n      <td>0</td>\n      <td>...</td>\n      <td>0</td>\n      <td>0</td>\n      <td>0</td>\n      <td>0</td>\n      <td>0</td>\n      <td>0</td>\n      <td>0</td>\n      <td>0</td>\n      <td>0</td>\n      <td>0</td>\n    </tr>\n    <tr>\n      <th>3</th>\n      <td>0</td>\n      <td>0</td>\n      <td>0</td>\n      <td>0</td>\n      <td>0</td>\n      <td>0</td>\n      <td>0</td>\n      <td>0</td>\n      <td>0</td>\n      <td>0</td>\n      <td>...</td>\n      <td>0</td>\n      <td>0</td>\n      <td>0</td>\n      <td>0</td>\n      <td>0</td>\n      <td>0</td>\n      <td>0</td>\n      <td>0</td>\n      <td>0</td>\n      <td>0</td>\n    </tr>\n    <tr>\n      <th>4</th>\n      <td>0</td>\n      <td>0</td>\n      <td>0</td>\n      <td>0</td>\n      <td>0</td>\n      <td>0</td>\n      <td>0</td>\n      <td>1</td>\n      <td>0</td>\n      <td>0</td>\n      <td>...</td>\n      <td>0</td>\n      <td>0</td>\n      <td>0</td>\n      <td>0</td>\n      <td>0</td>\n      <td>0</td>\n      <td>0</td>\n      <td>0</td>\n      <td>0</td>\n      <td>0</td>\n    </tr>\n    <tr>\n      <th>5</th>\n      <td>1</td>\n      <td>0</td>\n      <td>0</td>\n      <td>0</td>\n      <td>0</td>\n      <td>0</td>\n      <td>0</td>\n      <td>0</td>\n      <td>0</td>\n      <td>0</td>\n      <td>...</td>\n      <td>0</td>\n      <td>0</td>\n      <td>0</td>\n      <td>0</td>\n      <td>0</td>\n      <td>0</td>\n      <td>0</td>\n      <td>0</td>\n      <td>0</td>\n      <td>0</td>\n    </tr>\n    <tr>\n      <th>6</th>\n      <td>0</td>\n      <td>1</td>\n      <td>1</td>\n      <td>0</td>\n      <td>1</td>\n      <td>1</td>\n      <td>1</td>\n      <td>0</td>\n      <td>0</td>\n      <td>1</td>\n      <td>...</td>\n      <td>0</td>\n      <td>0</td>\n      <td>1</td>\n      <td>1</td>\n      <td>1</td>\n      <td>1</td>\n      <td>1</td>\n      <td>1</td>\n      <td>0</td>\n      <td>1</td>\n    </tr>\n    <tr>\n      <th>...</th>\n      <td>...</td>\n      <td>...</td>\n      <td>...</td>\n      <td>...</td>\n      <td>...</td>\n      <td>...</td>\n      <td>...</td>\n      <td>...</td>\n      <td>...</td>\n      <td>...</td>\n      <td>...</td>\n      <td>...</td>\n      <td>...</td>\n      <td>...</td>\n      <td>...</td>\n      <td>...</td>\n      <td>...</td>\n      <td>...</td>\n      <td>...</td>\n      <td>...</td>\n      <td>...</td>\n    </tr>\n    <tr>\n      <th>102</th>\n      <td>0</td>\n      <td>0</td>\n      <td>0</td>\n      <td>0</td>\n      <td>0</td>\n      <td>0</td>\n      <td>0</td>\n      <td>0</td>\n      <td>0</td>\n      <td>0</td>\n      <td>...</td>\n      <td>0</td>\n      <td>0</td>\n      <td>0</td>\n      <td>0</td>\n      <td>0</td>\n      <td>0</td>\n      <td>0</td>\n      <td>0</td>\n      <td>0</td>\n      <td>0</td>\n    </tr>\n    <tr>\n      <th>103</th>\n      <td>1</td>\n      <td>0</td>\n      <td>0</td>\n      <td>1</td>\n      <td>0</td>\n      <td>1</td>\n      <td>0</td>\n      <td>0</td>\n      <td>1</td>\n      <td>0</td>\n      <td>...</td>\n      <td>0</td>\n      <td>0</td>\n      <td>0</td>\n      <td>0</td>\n      <td>0</td>\n      <td>0</td>\n      <td>0</td>\n      <td>0</td>\n      <td>0</td>\n      <td>0</td>\n    </tr>\n    <tr>\n      <th>104</th>\n      <td>0</td>\n      <td>1</td>\n      <td>0</td>\n      <td>0</td>\n      <td>0</td>\n      <td>0</td>\n      <td>1</td>\n      <td>0</td>\n      <td>0</td>\n      <td>0</td>\n      <td>...</td>\n      <td>0</td>\n      <td>0</td>\n      <td>0</td>\n      <td>1</td>\n      <td>0</td>\n      <td>0</td>\n      <td>0</td>\n      <td>0</td>\n      <td>0</td>\n      <td>0</td>\n    </tr>\n    <tr>\n      <th>105</th>\n      <td>0</td>\n      <td>0</td>\n      <td>0</td>\n      <td>0</td>\n      <td>0</td>\n      <td>0</td>\n      <td>0</td>\n      <td>0</td>\n      <td>0</td>\n      <td>0</td>\n      <td>...</td>\n      <td>0</td>\n      <td>0</td>\n      <td>0</td>\n      <td>0</td>\n      <td>0</td>\n      <td>0</td>\n      <td>0</td>\n      <td>0</td>\n      <td>0</td>\n      <td>0</td>\n    </tr>\n    <tr>\n      <th>107</th>\n      <td>1</td>\n      <td>0</td>\n      <td>0</td>\n      <td>0</td>\n      <td>0</td>\n      <td>1</td>\n      <td>1</td>\n      <td>0</td>\n      <td>0</td>\n      <td>1</td>\n      <td>...</td>\n      <td>0</td>\n      <td>0</td>\n      <td>0</td>\n      <td>0</td>\n      <td>0</td>\n      <td>0</td>\n      <td>0</td>\n      <td>0</td>\n      <td>0</td>\n      <td>0</td>\n    </tr>\n  </tbody>\n</table>\n<p>100 rows × 160 columns</p>\n</div>"
     },
     "metadata": {},
     "execution_count": 17
    }
   ],
   "source": [
    "df_sparseMatrix = pd.DataFrame(sparseMatrix, index = users, columns = feature_names)\n",
    "df_sparseMatrix"
   ]
  },
  {
   "cell_type": "code",
   "execution_count": 18,
   "metadata": {},
   "outputs": [
    {
     "output_type": "execute_result",
     "data": {
      "text/plain": [
       "                   0            13           12           10           9    \\\n",
       "userId             1.0          1.0          1.0          1.0          1.0   \n",
       "movieId            1.0        231.0        223.0        163.0        157.0   \n",
       "rating             4.0          5.0          3.0          5.0          5.0   \n",
       "timestamp  964982703.0  964981179.0  964980985.0  964983650.0  964984100.0   \n",
       "\n",
       "                   8            7            11           5            4    \\\n",
       "userId             1.0          1.0          1.0          1.0          1.0   \n",
       "movieId          151.0        110.0        216.0         70.0         50.0   \n",
       "rating             5.0          4.0          5.0          3.0          5.0   \n",
       "timestamp  964984041.0  964982176.0  964981208.0  964982400.0  964982931.0   \n",
       "\n",
       "           ...          70           69           68           67   \\\n",
       "userId     ...          6.0          6.0          6.0          6.0   \n",
       "movieId    ...         47.0         46.0         45.0         43.0   \n",
       "rating     ...          4.0          4.0          3.0          4.0   \n",
       "timestamp  ...  845553317.0  845554551.0  845553907.0  845555607.0   \n",
       "\n",
       "                   77            143           140           141  \\\n",
       "userId             6.0  7.000000e+00  7.000000e+00  7.000000e+00   \n",
       "movieId           66.0  1.500000e+02  1.000000e+00  5.000000e+01   \n",
       "rating             3.0  4.500000e+00  4.500000e+00  4.500000e+00   \n",
       "timestamp  845555151.0  1.106636e+09  1.106636e+09  1.106636e+09   \n",
       "\n",
       "                    142           144  \n",
       "userId     7.000000e+00  7.000000e+00  \n",
       "movieId    5.800000e+01  1.650000e+02  \n",
       "rating     3.000000e+00  4.000000e+00  \n",
       "timestamp  1.106636e+09  1.106636e+09  \n",
       "\n",
       "[4 rows x 145 columns]"
      ],
      "text/html": "<div>\n<style scoped>\n    .dataframe tbody tr th:only-of-type {\n        vertical-align: middle;\n    }\n\n    .dataframe tbody tr th {\n        vertical-align: top;\n    }\n\n    .dataframe thead th {\n        text-align: right;\n    }\n</style>\n<table border=\"1\" class=\"dataframe\">\n  <thead>\n    <tr style=\"text-align: right;\">\n      <th></th>\n      <th>0</th>\n      <th>13</th>\n      <th>12</th>\n      <th>10</th>\n      <th>9</th>\n      <th>8</th>\n      <th>7</th>\n      <th>11</th>\n      <th>5</th>\n      <th>4</th>\n      <th>...</th>\n      <th>70</th>\n      <th>69</th>\n      <th>68</th>\n      <th>67</th>\n      <th>77</th>\n      <th>143</th>\n      <th>140</th>\n      <th>141</th>\n      <th>142</th>\n      <th>144</th>\n    </tr>\n  </thead>\n  <tbody>\n    <tr>\n      <th>userId</th>\n      <td>1.0</td>\n      <td>1.0</td>\n      <td>1.0</td>\n      <td>1.0</td>\n      <td>1.0</td>\n      <td>1.0</td>\n      <td>1.0</td>\n      <td>1.0</td>\n      <td>1.0</td>\n      <td>1.0</td>\n      <td>...</td>\n      <td>6.0</td>\n      <td>6.0</td>\n      <td>6.0</td>\n      <td>6.0</td>\n      <td>6.0</td>\n      <td>7.000000e+00</td>\n      <td>7.000000e+00</td>\n      <td>7.000000e+00</td>\n      <td>7.000000e+00</td>\n      <td>7.000000e+00</td>\n    </tr>\n    <tr>\n      <th>movieId</th>\n      <td>1.0</td>\n      <td>231.0</td>\n      <td>223.0</td>\n      <td>163.0</td>\n      <td>157.0</td>\n      <td>151.0</td>\n      <td>110.0</td>\n      <td>216.0</td>\n      <td>70.0</td>\n      <td>50.0</td>\n      <td>...</td>\n      <td>47.0</td>\n      <td>46.0</td>\n      <td>45.0</td>\n      <td>43.0</td>\n      <td>66.0</td>\n      <td>1.500000e+02</td>\n      <td>1.000000e+00</td>\n      <td>5.000000e+01</td>\n      <td>5.800000e+01</td>\n      <td>1.650000e+02</td>\n    </tr>\n    <tr>\n      <th>rating</th>\n      <td>4.0</td>\n      <td>5.0</td>\n      <td>3.0</td>\n      <td>5.0</td>\n      <td>5.0</td>\n      <td>5.0</td>\n      <td>4.0</td>\n      <td>5.0</td>\n      <td>3.0</td>\n      <td>5.0</td>\n      <td>...</td>\n      <td>4.0</td>\n      <td>4.0</td>\n      <td>3.0</td>\n      <td>4.0</td>\n      <td>3.0</td>\n      <td>4.500000e+00</td>\n      <td>4.500000e+00</td>\n      <td>4.500000e+00</td>\n      <td>3.000000e+00</td>\n      <td>4.000000e+00</td>\n    </tr>\n    <tr>\n      <th>timestamp</th>\n      <td>964982703.0</td>\n      <td>964981179.0</td>\n      <td>964980985.0</td>\n      <td>964983650.0</td>\n      <td>964984100.0</td>\n      <td>964984041.0</td>\n      <td>964982176.0</td>\n      <td>964981208.0</td>\n      <td>964982400.0</td>\n      <td>964982931.0</td>\n      <td>...</td>\n      <td>845553317.0</td>\n      <td>845554551.0</td>\n      <td>845553907.0</td>\n      <td>845555607.0</td>\n      <td>845555151.0</td>\n      <td>1.106636e+09</td>\n      <td>1.106636e+09</td>\n      <td>1.106636e+09</td>\n      <td>1.106636e+09</td>\n      <td>1.106636e+09</td>\n    </tr>\n  </tbody>\n</table>\n<p>4 rows × 145 columns</p>\n</div>"
     },
     "metadata": {},
     "execution_count": 18
    }
   ],
   "source": [
    "first_6_users_SM = users_fav_movies[users_fav_movies['userId'].isin(users[:6])].sort_values('userId')\n",
    "first_6_users_SM.T"
   ]
  },
  {
   "cell_type": "code",
   "execution_count": 19,
   "metadata": {},
   "outputs": [
    {
     "output_type": "execute_result",
     "data": {
      "text/plain": [
       "   1  2  3  4  5  6  7  8  10  11  ...  217  218  219  222  223  224  225  \\\n",
       "1  1  0  1  0  0  1  0  0   0   0  ...    0    0    0    0    1    0    0   \n",
       "3  0  0  0  0  0  0  0  0   0   0  ...    0    0    0    0    0    0    0   \n",
       "4  0  0  0  0  0  0  0  0   0   0  ...    0    0    0    1    0    0    0   \n",
       "5  1  0  0  0  0  0  0  0   0   0  ...    0    0    0    0    0    0    0   \n",
       "6  0  1  1  1  1  1  1  1   1   1  ...    1    1    1    1    0    1    1   \n",
       "7  1  0  0  0  0  0  0  0   0   0  ...    0    0    0    0    0    0    0   \n",
       "\n",
       "   230  231  232  \n",
       "1    0    1    0  \n",
       "3    0    0    0  \n",
       "4    0    0    1  \n",
       "5    0    0    1  \n",
       "6    1    1    0  \n",
       "7    0    0    0  \n",
       "\n",
       "[6 rows x 113 columns]"
      ],
      "text/html": "<div>\n<style scoped>\n    .dataframe tbody tr th:only-of-type {\n        vertical-align: middle;\n    }\n\n    .dataframe tbody tr th {\n        vertical-align: top;\n    }\n\n    .dataframe thead th {\n        text-align: right;\n    }\n</style>\n<table border=\"1\" class=\"dataframe\">\n  <thead>\n    <tr style=\"text-align: right;\">\n      <th></th>\n      <th>1</th>\n      <th>2</th>\n      <th>3</th>\n      <th>4</th>\n      <th>5</th>\n      <th>6</th>\n      <th>7</th>\n      <th>8</th>\n      <th>10</th>\n      <th>11</th>\n      <th>...</th>\n      <th>217</th>\n      <th>218</th>\n      <th>219</th>\n      <th>222</th>\n      <th>223</th>\n      <th>224</th>\n      <th>225</th>\n      <th>230</th>\n      <th>231</th>\n      <th>232</th>\n    </tr>\n  </thead>\n  <tbody>\n    <tr>\n      <th>1</th>\n      <td>1</td>\n      <td>0</td>\n      <td>1</td>\n      <td>0</td>\n      <td>0</td>\n      <td>1</td>\n      <td>0</td>\n      <td>0</td>\n      <td>0</td>\n      <td>0</td>\n      <td>...</td>\n      <td>0</td>\n      <td>0</td>\n      <td>0</td>\n      <td>0</td>\n      <td>1</td>\n      <td>0</td>\n      <td>0</td>\n      <td>0</td>\n      <td>1</td>\n      <td>0</td>\n    </tr>\n    <tr>\n      <th>3</th>\n      <td>0</td>\n      <td>0</td>\n      <td>0</td>\n      <td>0</td>\n      <td>0</td>\n      <td>0</td>\n      <td>0</td>\n      <td>0</td>\n      <td>0</td>\n      <td>0</td>\n      <td>...</td>\n      <td>0</td>\n      <td>0</td>\n      <td>0</td>\n      <td>0</td>\n      <td>0</td>\n      <td>0</td>\n      <td>0</td>\n      <td>0</td>\n      <td>0</td>\n      <td>0</td>\n    </tr>\n    <tr>\n      <th>4</th>\n      <td>0</td>\n      <td>0</td>\n      <td>0</td>\n      <td>0</td>\n      <td>0</td>\n      <td>0</td>\n      <td>0</td>\n      <td>0</td>\n      <td>0</td>\n      <td>0</td>\n      <td>...</td>\n      <td>0</td>\n      <td>0</td>\n      <td>0</td>\n      <td>1</td>\n      <td>0</td>\n      <td>0</td>\n      <td>0</td>\n      <td>0</td>\n      <td>0</td>\n      <td>1</td>\n    </tr>\n    <tr>\n      <th>5</th>\n      <td>1</td>\n      <td>0</td>\n      <td>0</td>\n      <td>0</td>\n      <td>0</td>\n      <td>0</td>\n      <td>0</td>\n      <td>0</td>\n      <td>0</td>\n      <td>0</td>\n      <td>...</td>\n      <td>0</td>\n      <td>0</td>\n      <td>0</td>\n      <td>0</td>\n      <td>0</td>\n      <td>0</td>\n      <td>0</td>\n      <td>0</td>\n      <td>0</td>\n      <td>1</td>\n    </tr>\n    <tr>\n      <th>6</th>\n      <td>0</td>\n      <td>1</td>\n      <td>1</td>\n      <td>1</td>\n      <td>1</td>\n      <td>1</td>\n      <td>1</td>\n      <td>1</td>\n      <td>1</td>\n      <td>1</td>\n      <td>...</td>\n      <td>1</td>\n      <td>1</td>\n      <td>1</td>\n      <td>1</td>\n      <td>0</td>\n      <td>1</td>\n      <td>1</td>\n      <td>1</td>\n      <td>1</td>\n      <td>0</td>\n    </tr>\n    <tr>\n      <th>7</th>\n      <td>1</td>\n      <td>0</td>\n      <td>0</td>\n      <td>0</td>\n      <td>0</td>\n      <td>0</td>\n      <td>0</td>\n      <td>0</td>\n      <td>0</td>\n      <td>0</td>\n      <td>...</td>\n      <td>0</td>\n      <td>0</td>\n      <td>0</td>\n      <td>0</td>\n      <td>0</td>\n      <td>0</td>\n      <td>0</td>\n      <td>0</td>\n      <td>0</td>\n      <td>0</td>\n    </tr>\n  </tbody>\n</table>\n<p>6 rows × 113 columns</p>\n</div>"
     },
     "metadata": {},
     "execution_count": 19
    }
   ],
   "source": [
    "df_sparseMatrix.loc[np.unique(first_6_users_SM['userId']), list(map(str, np.unique(first_6_users_SM['movieId'])))]"
   ]
  },
  {
   "cell_type": "code",
   "execution_count": 20,
   "metadata": {},
   "outputs": [],
   "source": [
    "class elbowMethod():\n",
    "    def __init__(self, sparseMatrix):\n",
    "        self.sparseMatrix = sparseMatrix\n",
    "        self.wcss = list()\n",
    "        self.differences = list()\n",
    "    def run(self, init, upto, max_iterations = 300):\n",
    "        for i in range(init, upto + 1):\n",
    "            kmeans = KMeans(n_clusters=i, init = 'k-means++', max_iter = max_iterations, n_init = 10, random_state = 0)\n",
    "            kmeans.fit(sparseMatrix)\n",
    "            self.wcss.append(kmeans.inertia_)\n",
    "        self.differences = list()\n",
    "        for i in range(len(self.wcss)-1):\n",
    "            self.differences.append(self.wcss[i] - self.wcss[i+1])\n",
    "    def showPlot(self, boundary = 500, upto_cluster = None):\n",
    "        if upto_cluster is None:\n",
    "            WCSS = self.wcss\n",
    "            DIFF = self.differences\n",
    "        else:\n",
    "            WCSS = self.wcss[:upto_cluster]\n",
    "            DIFF = self.differences[:upto_cluster - 1]\n",
    "        plt.figure(figsize=(15, 6))\n",
    "        plt.subplot(121).set_title('Elbow Method Graph')\n",
    "        plt.plot(range(1, len(WCSS) + 1), WCSS)\n",
    "        plt.grid(b = True)\n",
    "        plt.subplot(122).set_title('Differences in Each Two Consective Clusters')\n",
    "        len_differences = len(DIFF)\n",
    "        X_differences = range(1, len_differences + 1)\n",
    "        plt.plot(X_differences, DIFF)\n",
    "        plt.plot(X_differences, np.ones(len_differences)*boundary, 'r')\n",
    "        plt.plot(X_differences, np.ones(len_differences)*(-boundary), 'r')\n",
    "        plt.grid()\n",
    "        plt.show()"
   ]
  },
  {
   "cell_type": "code",
   "execution_count": 21,
   "metadata": {},
   "outputs": [],
   "source": [
    "elbow_method = elbowMethod(sparseMatrix) "
   ]
  },
  {
   "cell_type": "code",
   "execution_count": 22,
   "metadata": {},
   "outputs": [
    {
     "output_type": "display_data",
     "data": {
      "text/plain": "<Figure size 1080x432 with 2 Axes>",
      "image/svg+xml": "<?xml version=\"1.0\" encoding=\"utf-8\" standalone=\"no\"?>\r\n<!DOCTYPE svg PUBLIC \"-//W3C//DTD SVG 1.1//EN\"\r\n  \"http://www.w3.org/Graphics/SVG/1.1/DTD/svg11.dtd\">\r\n<!-- Created with matplotlib (https://matplotlib.org/) -->\r\n<svg height=\"372.35625pt\" version=\"1.1\" viewBox=\"0 0 883.85 372.35625\" width=\"883.85pt\" xmlns=\"http://www.w3.org/2000/svg\" xmlns:xlink=\"http://www.w3.org/1999/xlink\">\r\n <defs>\r\n  <style type=\"text/css\">\r\n*{stroke-linecap:butt;stroke-linejoin:round;}\r\n  </style>\r\n </defs>\r\n <g id=\"figure_1\">\r\n  <g id=\"patch_1\">\r\n   <path d=\"M -0 372.35625 \r\nL 883.85 372.35625 \r\nL 883.85 0 \r\nL -0 0 \r\nz\r\n\" style=\"fill:none;\"/>\r\n  </g>\r\n  <g id=\"axes_1\">\r\n   <g id=\"patch_2\">\r\n    <path d=\"M 39.65 348.478125 \r\nL 420.104545 348.478125 \r\nL 420.104545 22.318125 \r\nL 39.65 22.318125 \r\nz\r\n\" style=\"fill:#ffffff;\"/>\r\n   </g>\r\n   <g id=\"matplotlib.axis_1\">\r\n    <g id=\"xtick_1\">\r\n     <g id=\"line2d_1\">\r\n      <path clip-path=\"url(#pfb71e10982)\" d=\"M 51.081223 348.478125 \r\nL 51.081223 22.318125 \r\n\" style=\"fill:none;stroke:#b0b0b0;stroke-linecap:square;stroke-width:0.8;\"/>\r\n     </g>\r\n     <g id=\"line2d_2\">\r\n      <defs>\r\n       <path d=\"M 0 0 \r\nL 0 3.5 \r\n\" id=\"me639382c5f\" style=\"stroke:#000000;stroke-width:0.8;\"/>\r\n      </defs>\r\n      <g>\r\n       <use style=\"stroke:#000000;stroke-width:0.8;\" x=\"51.081223\" xlink:href=\"#me639382c5f\" y=\"348.478125\"/>\r\n      </g>\r\n     </g>\r\n     <g id=\"text_1\">\r\n      <!-- 0 -->\r\n      <defs>\r\n       <path d=\"M 31.78125 66.40625 \r\nQ 24.171875 66.40625 20.328125 58.90625 \r\nQ 16.5 51.421875 16.5 36.375 \r\nQ 16.5 21.390625 20.328125 13.890625 \r\nQ 24.171875 6.390625 31.78125 6.390625 \r\nQ 39.453125 6.390625 43.28125 13.890625 \r\nQ 47.125 21.390625 47.125 36.375 \r\nQ 47.125 51.421875 43.28125 58.90625 \r\nQ 39.453125 66.40625 31.78125 66.40625 \r\nz\r\nM 31.78125 74.21875 \r\nQ 44.046875 74.21875 50.515625 64.515625 \r\nQ 56.984375 54.828125 56.984375 36.375 \r\nQ 56.984375 17.96875 50.515625 8.265625 \r\nQ 44.046875 -1.421875 31.78125 -1.421875 \r\nQ 19.53125 -1.421875 13.0625 8.265625 \r\nQ 6.59375 17.96875 6.59375 36.375 \r\nQ 6.59375 54.828125 13.0625 64.515625 \r\nQ 19.53125 74.21875 31.78125 74.21875 \r\nz\r\n\" id=\"DejaVuSans-48\"/>\r\n      </defs>\r\n      <g transform=\"translate(47.899973 363.076563)scale(0.1 -0.1)\">\r\n       <use xlink:href=\"#DejaVuSans-48\"/>\r\n      </g>\r\n     </g>\r\n    </g>\r\n    <g id=\"xtick_2\">\r\n     <g id=\"line2d_3\">\r\n      <path clip-path=\"url(#pfb71e10982)\" d=\"M 109.702879 348.478125 \r\nL 109.702879 22.318125 \r\n\" style=\"fill:none;stroke:#b0b0b0;stroke-linecap:square;stroke-width:0.8;\"/>\r\n     </g>\r\n     <g id=\"line2d_4\">\r\n      <g>\r\n       <use style=\"stroke:#000000;stroke-width:0.8;\" x=\"109.702879\" xlink:href=\"#me639382c5f\" y=\"348.478125\"/>\r\n      </g>\r\n     </g>\r\n     <g id=\"text_2\">\r\n      <!-- 10 -->\r\n      <defs>\r\n       <path d=\"M 12.40625 8.296875 \r\nL 28.515625 8.296875 \r\nL 28.515625 63.921875 \r\nL 10.984375 60.40625 \r\nL 10.984375 69.390625 \r\nL 28.421875 72.90625 \r\nL 38.28125 72.90625 \r\nL 38.28125 8.296875 \r\nL 54.390625 8.296875 \r\nL 54.390625 0 \r\nL 12.40625 0 \r\nz\r\n\" id=\"DejaVuSans-49\"/>\r\n      </defs>\r\n      <g transform=\"translate(103.340379 363.076563)scale(0.1 -0.1)\">\r\n       <use xlink:href=\"#DejaVuSans-49\"/>\r\n       <use x=\"63.623047\" xlink:href=\"#DejaVuSans-48\"/>\r\n      </g>\r\n     </g>\r\n    </g>\r\n    <g id=\"xtick_3\">\r\n     <g id=\"line2d_5\">\r\n      <path clip-path=\"url(#pfb71e10982)\" d=\"M 168.324534 348.478125 \r\nL 168.324534 22.318125 \r\n\" style=\"fill:none;stroke:#b0b0b0;stroke-linecap:square;stroke-width:0.8;\"/>\r\n     </g>\r\n     <g id=\"line2d_6\">\r\n      <g>\r\n       <use style=\"stroke:#000000;stroke-width:0.8;\" x=\"168.324534\" xlink:href=\"#me639382c5f\" y=\"348.478125\"/>\r\n      </g>\r\n     </g>\r\n     <g id=\"text_3\">\r\n      <!-- 20 -->\r\n      <defs>\r\n       <path d=\"M 19.1875 8.296875 \r\nL 53.609375 8.296875 \r\nL 53.609375 0 \r\nL 7.328125 0 \r\nL 7.328125 8.296875 \r\nQ 12.9375 14.109375 22.625 23.890625 \r\nQ 32.328125 33.6875 34.8125 36.53125 \r\nQ 39.546875 41.84375 41.421875 45.53125 \r\nQ 43.3125 49.21875 43.3125 52.78125 \r\nQ 43.3125 58.59375 39.234375 62.25 \r\nQ 35.15625 65.921875 28.609375 65.921875 \r\nQ 23.96875 65.921875 18.8125 64.3125 \r\nQ 13.671875 62.703125 7.8125 59.421875 \r\nL 7.8125 69.390625 \r\nQ 13.765625 71.78125 18.9375 73 \r\nQ 24.125 74.21875 28.421875 74.21875 \r\nQ 39.75 74.21875 46.484375 68.546875 \r\nQ 53.21875 62.890625 53.21875 53.421875 \r\nQ 53.21875 48.921875 51.53125 44.890625 \r\nQ 49.859375 40.875 45.40625 35.40625 \r\nQ 44.1875 33.984375 37.640625 27.21875 \r\nQ 31.109375 20.453125 19.1875 8.296875 \r\nz\r\n\" id=\"DejaVuSans-50\"/>\r\n      </defs>\r\n      <g transform=\"translate(161.962034 363.076563)scale(0.1 -0.1)\">\r\n       <use xlink:href=\"#DejaVuSans-50\"/>\r\n       <use x=\"63.623047\" xlink:href=\"#DejaVuSans-48\"/>\r\n      </g>\r\n     </g>\r\n    </g>\r\n    <g id=\"xtick_4\">\r\n     <g id=\"line2d_7\">\r\n      <path clip-path=\"url(#pfb71e10982)\" d=\"M 226.94619 348.478125 \r\nL 226.94619 22.318125 \r\n\" style=\"fill:none;stroke:#b0b0b0;stroke-linecap:square;stroke-width:0.8;\"/>\r\n     </g>\r\n     <g id=\"line2d_8\">\r\n      <g>\r\n       <use style=\"stroke:#000000;stroke-width:0.8;\" x=\"226.94619\" xlink:href=\"#me639382c5f\" y=\"348.478125\"/>\r\n      </g>\r\n     </g>\r\n     <g id=\"text_4\">\r\n      <!-- 30 -->\r\n      <defs>\r\n       <path d=\"M 40.578125 39.3125 \r\nQ 47.65625 37.796875 51.625 33 \r\nQ 55.609375 28.21875 55.609375 21.1875 \r\nQ 55.609375 10.40625 48.1875 4.484375 \r\nQ 40.765625 -1.421875 27.09375 -1.421875 \r\nQ 22.515625 -1.421875 17.65625 -0.515625 \r\nQ 12.796875 0.390625 7.625 2.203125 \r\nL 7.625 11.71875 \r\nQ 11.71875 9.328125 16.59375 8.109375 \r\nQ 21.484375 6.890625 26.8125 6.890625 \r\nQ 36.078125 6.890625 40.9375 10.546875 \r\nQ 45.796875 14.203125 45.796875 21.1875 \r\nQ 45.796875 27.640625 41.28125 31.265625 \r\nQ 36.765625 34.90625 28.71875 34.90625 \r\nL 20.21875 34.90625 \r\nL 20.21875 43.015625 \r\nL 29.109375 43.015625 \r\nQ 36.375 43.015625 40.234375 45.921875 \r\nQ 44.09375 48.828125 44.09375 54.296875 \r\nQ 44.09375 59.90625 40.109375 62.90625 \r\nQ 36.140625 65.921875 28.71875 65.921875 \r\nQ 24.65625 65.921875 20.015625 65.03125 \r\nQ 15.375 64.15625 9.8125 62.3125 \r\nL 9.8125 71.09375 \r\nQ 15.4375 72.65625 20.34375 73.4375 \r\nQ 25.25 74.21875 29.59375 74.21875 \r\nQ 40.828125 74.21875 47.359375 69.109375 \r\nQ 53.90625 64.015625 53.90625 55.328125 \r\nQ 53.90625 49.265625 50.4375 45.09375 \r\nQ 46.96875 40.921875 40.578125 39.3125 \r\nz\r\n\" id=\"DejaVuSans-51\"/>\r\n      </defs>\r\n      <g transform=\"translate(220.58369 363.076563)scale(0.1 -0.1)\">\r\n       <use xlink:href=\"#DejaVuSans-51\"/>\r\n       <use x=\"63.623047\" xlink:href=\"#DejaVuSans-48\"/>\r\n      </g>\r\n     </g>\r\n    </g>\r\n    <g id=\"xtick_5\">\r\n     <g id=\"line2d_9\">\r\n      <path clip-path=\"url(#pfb71e10982)\" d=\"M 285.567846 348.478125 \r\nL 285.567846 22.318125 \r\n\" style=\"fill:none;stroke:#b0b0b0;stroke-linecap:square;stroke-width:0.8;\"/>\r\n     </g>\r\n     <g id=\"line2d_10\">\r\n      <g>\r\n       <use style=\"stroke:#000000;stroke-width:0.8;\" x=\"285.567846\" xlink:href=\"#me639382c5f\" y=\"348.478125\"/>\r\n      </g>\r\n     </g>\r\n     <g id=\"text_5\">\r\n      <!-- 40 -->\r\n      <defs>\r\n       <path d=\"M 37.796875 64.3125 \r\nL 12.890625 25.390625 \r\nL 37.796875 25.390625 \r\nz\r\nM 35.203125 72.90625 \r\nL 47.609375 72.90625 \r\nL 47.609375 25.390625 \r\nL 58.015625 25.390625 \r\nL 58.015625 17.1875 \r\nL 47.609375 17.1875 \r\nL 47.609375 0 \r\nL 37.796875 0 \r\nL 37.796875 17.1875 \r\nL 4.890625 17.1875 \r\nL 4.890625 26.703125 \r\nz\r\n\" id=\"DejaVuSans-52\"/>\r\n      </defs>\r\n      <g transform=\"translate(279.205346 363.076563)scale(0.1 -0.1)\">\r\n       <use xlink:href=\"#DejaVuSans-52\"/>\r\n       <use x=\"63.623047\" xlink:href=\"#DejaVuSans-48\"/>\r\n      </g>\r\n     </g>\r\n    </g>\r\n    <g id=\"xtick_6\">\r\n     <g id=\"line2d_11\">\r\n      <path clip-path=\"url(#pfb71e10982)\" d=\"M 344.189501 348.478125 \r\nL 344.189501 22.318125 \r\n\" style=\"fill:none;stroke:#b0b0b0;stroke-linecap:square;stroke-width:0.8;\"/>\r\n     </g>\r\n     <g id=\"line2d_12\">\r\n      <g>\r\n       <use style=\"stroke:#000000;stroke-width:0.8;\" x=\"344.189501\" xlink:href=\"#me639382c5f\" y=\"348.478125\"/>\r\n      </g>\r\n     </g>\r\n     <g id=\"text_6\">\r\n      <!-- 50 -->\r\n      <defs>\r\n       <path d=\"M 10.796875 72.90625 \r\nL 49.515625 72.90625 \r\nL 49.515625 64.59375 \r\nL 19.828125 64.59375 \r\nL 19.828125 46.734375 \r\nQ 21.96875 47.46875 24.109375 47.828125 \r\nQ 26.265625 48.1875 28.421875 48.1875 \r\nQ 40.625 48.1875 47.75 41.5 \r\nQ 54.890625 34.8125 54.890625 23.390625 \r\nQ 54.890625 11.625 47.5625 5.09375 \r\nQ 40.234375 -1.421875 26.90625 -1.421875 \r\nQ 22.3125 -1.421875 17.546875 -0.640625 \r\nQ 12.796875 0.140625 7.71875 1.703125 \r\nL 7.71875 11.625 \r\nQ 12.109375 9.234375 16.796875 8.0625 \r\nQ 21.484375 6.890625 26.703125 6.890625 \r\nQ 35.15625 6.890625 40.078125 11.328125 \r\nQ 45.015625 15.765625 45.015625 23.390625 \r\nQ 45.015625 31 40.078125 35.4375 \r\nQ 35.15625 39.890625 26.703125 39.890625 \r\nQ 22.75 39.890625 18.8125 39.015625 \r\nQ 14.890625 38.140625 10.796875 36.28125 \r\nz\r\n\" id=\"DejaVuSans-53\"/>\r\n      </defs>\r\n      <g transform=\"translate(337.827001 363.076563)scale(0.1 -0.1)\">\r\n       <use xlink:href=\"#DejaVuSans-53\"/>\r\n       <use x=\"63.623047\" xlink:href=\"#DejaVuSans-48\"/>\r\n      </g>\r\n     </g>\r\n    </g>\r\n    <g id=\"xtick_7\">\r\n     <g id=\"line2d_13\">\r\n      <path clip-path=\"url(#pfb71e10982)\" d=\"M 402.811157 348.478125 \r\nL 402.811157 22.318125 \r\n\" style=\"fill:none;stroke:#b0b0b0;stroke-linecap:square;stroke-width:0.8;\"/>\r\n     </g>\r\n     <g id=\"line2d_14\">\r\n      <g>\r\n       <use style=\"stroke:#000000;stroke-width:0.8;\" x=\"402.811157\" xlink:href=\"#me639382c5f\" y=\"348.478125\"/>\r\n      </g>\r\n     </g>\r\n     <g id=\"text_7\">\r\n      <!-- 60 -->\r\n      <defs>\r\n       <path d=\"M 33.015625 40.375 \r\nQ 26.375 40.375 22.484375 35.828125 \r\nQ 18.609375 31.296875 18.609375 23.390625 \r\nQ 18.609375 15.53125 22.484375 10.953125 \r\nQ 26.375 6.390625 33.015625 6.390625 \r\nQ 39.65625 6.390625 43.53125 10.953125 \r\nQ 47.40625 15.53125 47.40625 23.390625 \r\nQ 47.40625 31.296875 43.53125 35.828125 \r\nQ 39.65625 40.375 33.015625 40.375 \r\nz\r\nM 52.59375 71.296875 \r\nL 52.59375 62.3125 \r\nQ 48.875 64.0625 45.09375 64.984375 \r\nQ 41.3125 65.921875 37.59375 65.921875 \r\nQ 27.828125 65.921875 22.671875 59.328125 \r\nQ 17.53125 52.734375 16.796875 39.40625 \r\nQ 19.671875 43.65625 24.015625 45.921875 \r\nQ 28.375 48.1875 33.59375 48.1875 \r\nQ 44.578125 48.1875 50.953125 41.515625 \r\nQ 57.328125 34.859375 57.328125 23.390625 \r\nQ 57.328125 12.15625 50.6875 5.359375 \r\nQ 44.046875 -1.421875 33.015625 -1.421875 \r\nQ 20.359375 -1.421875 13.671875 8.265625 \r\nQ 6.984375 17.96875 6.984375 36.375 \r\nQ 6.984375 53.65625 15.1875 63.9375 \r\nQ 23.390625 74.21875 37.203125 74.21875 \r\nQ 40.921875 74.21875 44.703125 73.484375 \r\nQ 48.484375 72.75 52.59375 71.296875 \r\nz\r\n\" id=\"DejaVuSans-54\"/>\r\n      </defs>\r\n      <g transform=\"translate(396.448657 363.076563)scale(0.1 -0.1)\">\r\n       <use xlink:href=\"#DejaVuSans-54\"/>\r\n       <use x=\"63.623047\" xlink:href=\"#DejaVuSans-48\"/>\r\n      </g>\r\n     </g>\r\n    </g>\r\n   </g>\r\n   <g id=\"matplotlib.axis_2\">\r\n    <g id=\"ytick_1\">\r\n     <g id=\"line2d_15\">\r\n      <path clip-path=\"url(#pfb71e10982)\" d=\"M 39.65 293.303077 \r\nL 420.104545 293.303077 \r\n\" style=\"fill:none;stroke:#b0b0b0;stroke-linecap:square;stroke-width:0.8;\"/>\r\n     </g>\r\n     <g id=\"line2d_16\">\r\n      <defs>\r\n       <path d=\"M 0 0 \r\nL -3.5 0 \r\n\" id=\"m9abc324ebc\" style=\"stroke:#000000;stroke-width:0.8;\"/>\r\n      </defs>\r\n      <g>\r\n       <use style=\"stroke:#000000;stroke-width:0.8;\" x=\"39.65\" xlink:href=\"#m9abc324ebc\" y=\"293.303077\"/>\r\n      </g>\r\n     </g>\r\n     <g id=\"text_8\">\r\n      <!-- 200 -->\r\n      <g transform=\"translate(13.5625 297.102296)scale(0.1 -0.1)\">\r\n       <use xlink:href=\"#DejaVuSans-50\"/>\r\n       <use x=\"63.623047\" xlink:href=\"#DejaVuSans-48\"/>\r\n       <use x=\"127.246094\" xlink:href=\"#DejaVuSans-48\"/>\r\n      </g>\r\n     </g>\r\n    </g>\r\n    <g id=\"ytick_2\">\r\n     <g id=\"line2d_17\">\r\n      <path clip-path=\"url(#pfb71e10982)\" d=\"M 39.65 228.823127 \r\nL 420.104545 228.823127 \r\n\" style=\"fill:none;stroke:#b0b0b0;stroke-linecap:square;stroke-width:0.8;\"/>\r\n     </g>\r\n     <g id=\"line2d_18\">\r\n      <g>\r\n       <use style=\"stroke:#000000;stroke-width:0.8;\" x=\"39.65\" xlink:href=\"#m9abc324ebc\" y=\"228.823127\"/>\r\n      </g>\r\n     </g>\r\n     <g id=\"text_9\">\r\n      <!-- 400 -->\r\n      <g transform=\"translate(13.5625 232.622346)scale(0.1 -0.1)\">\r\n       <use xlink:href=\"#DejaVuSans-52\"/>\r\n       <use x=\"63.623047\" xlink:href=\"#DejaVuSans-48\"/>\r\n       <use x=\"127.246094\" xlink:href=\"#DejaVuSans-48\"/>\r\n      </g>\r\n     </g>\r\n    </g>\r\n    <g id=\"ytick_3\">\r\n     <g id=\"line2d_19\">\r\n      <path clip-path=\"url(#pfb71e10982)\" d=\"M 39.65 164.343177 \r\nL 420.104545 164.343177 \r\n\" style=\"fill:none;stroke:#b0b0b0;stroke-linecap:square;stroke-width:0.8;\"/>\r\n     </g>\r\n     <g id=\"line2d_20\">\r\n      <g>\r\n       <use style=\"stroke:#000000;stroke-width:0.8;\" x=\"39.65\" xlink:href=\"#m9abc324ebc\" y=\"164.343177\"/>\r\n      </g>\r\n     </g>\r\n     <g id=\"text_10\">\r\n      <!-- 600 -->\r\n      <g transform=\"translate(13.5625 168.142396)scale(0.1 -0.1)\">\r\n       <use xlink:href=\"#DejaVuSans-54\"/>\r\n       <use x=\"63.623047\" xlink:href=\"#DejaVuSans-48\"/>\r\n       <use x=\"127.246094\" xlink:href=\"#DejaVuSans-48\"/>\r\n      </g>\r\n     </g>\r\n    </g>\r\n    <g id=\"ytick_4\">\r\n     <g id=\"line2d_21\">\r\n      <path clip-path=\"url(#pfb71e10982)\" d=\"M 39.65 99.863227 \r\nL 420.104545 99.863227 \r\n\" style=\"fill:none;stroke:#b0b0b0;stroke-linecap:square;stroke-width:0.8;\"/>\r\n     </g>\r\n     <g id=\"line2d_22\">\r\n      <g>\r\n       <use style=\"stroke:#000000;stroke-width:0.8;\" x=\"39.65\" xlink:href=\"#m9abc324ebc\" y=\"99.863227\"/>\r\n      </g>\r\n     </g>\r\n     <g id=\"text_11\">\r\n      <!-- 800 -->\r\n      <defs>\r\n       <path d=\"M 31.78125 34.625 \r\nQ 24.75 34.625 20.71875 30.859375 \r\nQ 16.703125 27.09375 16.703125 20.515625 \r\nQ 16.703125 13.921875 20.71875 10.15625 \r\nQ 24.75 6.390625 31.78125 6.390625 \r\nQ 38.8125 6.390625 42.859375 10.171875 \r\nQ 46.921875 13.96875 46.921875 20.515625 \r\nQ 46.921875 27.09375 42.890625 30.859375 \r\nQ 38.875 34.625 31.78125 34.625 \r\nz\r\nM 21.921875 38.8125 \r\nQ 15.578125 40.375 12.03125 44.71875 \r\nQ 8.5 49.078125 8.5 55.328125 \r\nQ 8.5 64.0625 14.71875 69.140625 \r\nQ 20.953125 74.21875 31.78125 74.21875 \r\nQ 42.671875 74.21875 48.875 69.140625 \r\nQ 55.078125 64.0625 55.078125 55.328125 \r\nQ 55.078125 49.078125 51.53125 44.71875 \r\nQ 48 40.375 41.703125 38.8125 \r\nQ 48.828125 37.15625 52.796875 32.3125 \r\nQ 56.78125 27.484375 56.78125 20.515625 \r\nQ 56.78125 9.90625 50.3125 4.234375 \r\nQ 43.84375 -1.421875 31.78125 -1.421875 \r\nQ 19.734375 -1.421875 13.25 4.234375 \r\nQ 6.78125 9.90625 6.78125 20.515625 \r\nQ 6.78125 27.484375 10.78125 32.3125 \r\nQ 14.796875 37.15625 21.921875 38.8125 \r\nz\r\nM 18.3125 54.390625 \r\nQ 18.3125 48.734375 21.84375 45.5625 \r\nQ 25.390625 42.390625 31.78125 42.390625 \r\nQ 38.140625 42.390625 41.71875 45.5625 \r\nQ 45.3125 48.734375 45.3125 54.390625 \r\nQ 45.3125 60.0625 41.71875 63.234375 \r\nQ 38.140625 66.40625 31.78125 66.40625 \r\nQ 25.390625 66.40625 21.84375 63.234375 \r\nQ 18.3125 60.0625 18.3125 54.390625 \r\nz\r\n\" id=\"DejaVuSans-56\"/>\r\n      </defs>\r\n      <g transform=\"translate(13.5625 103.662446)scale(0.1 -0.1)\">\r\n       <use xlink:href=\"#DejaVuSans-56\"/>\r\n       <use x=\"63.623047\" xlink:href=\"#DejaVuSans-48\"/>\r\n       <use x=\"127.246094\" xlink:href=\"#DejaVuSans-48\"/>\r\n      </g>\r\n     </g>\r\n    </g>\r\n    <g id=\"ytick_5\">\r\n     <g id=\"line2d_23\">\r\n      <path clip-path=\"url(#pfb71e10982)\" d=\"M 39.65 35.383277 \r\nL 420.104545 35.383277 \r\n\" style=\"fill:none;stroke:#b0b0b0;stroke-linecap:square;stroke-width:0.8;\"/>\r\n     </g>\r\n     <g id=\"line2d_24\">\r\n      <g>\r\n       <use style=\"stroke:#000000;stroke-width:0.8;\" x=\"39.65\" xlink:href=\"#m9abc324ebc\" y=\"35.383277\"/>\r\n      </g>\r\n     </g>\r\n     <g id=\"text_12\">\r\n      <!-- 1000 -->\r\n      <g transform=\"translate(7.2 39.182496)scale(0.1 -0.1)\">\r\n       <use xlink:href=\"#DejaVuSans-49\"/>\r\n       <use x=\"63.623047\" xlink:href=\"#DejaVuSans-48\"/>\r\n       <use x=\"127.246094\" xlink:href=\"#DejaVuSans-48\"/>\r\n       <use x=\"190.869141\" xlink:href=\"#DejaVuSans-48\"/>\r\n      </g>\r\n     </g>\r\n    </g>\r\n   </g>\r\n   <g id=\"line2d_25\">\r\n    <path clip-path=\"url(#pfb71e10982)\" d=\"M 56.943388 37.14358 \r\nL 62.805554 85.097469 \r\nL 68.66772 105.490177 \r\nL 74.529885 117.036784 \r\nL 80.392051 131.29635 \r\nL 86.254216 138.066745 \r\nL 92.116382 146.579633 \r\nL 97.978547 156.890949 \r\nL 103.840713 162.813136 \r\nL 109.702879 163.6005 \r\nL 115.565044 171.923968 \r\nL 121.42721 178.323107 \r\nL 127.289375 183.375046 \r\nL 133.151541 190.053 \r\nL 139.013706 196.346592 \r\nL 144.875872 203.116987 \r\nL 150.738038 206.384593 \r\nL 156.600203 211.731056 \r\nL 162.462369 216.246112 \r\nL 168.324534 222.425441 \r\nL 174.1867 223.876082 \r\nL 180.048865 229.652411 \r\nL 185.911031 233.236008 \r\nL 191.773197 238.648643 \r\nL 197.635362 242.814939 \r\nL 203.497528 247.02835 \r\nL 209.359693 252.317114 \r\nL 215.221859 256.465429 \r\nL 221.084024 260.565595 \r\nL 226.94619 264.078866 \r\nL 232.808356 267.389723 \r\nL 238.670521 271.601906 \r\nL 244.532687 274.797246 \r\nL 250.394852 278.025721 \r\nL 256.257018 280.684485 \r\nL 262.119183 283.183084 \r\nL 267.981349 286.411655 \r\nL 273.843514 290.092385 \r\nL 279.70568 292.357448 \r\nL 285.567846 295.320839 \r\nL 291.430011 298.392772 \r\nL 297.292177 301.607676 \r\nL 303.154342 304.160007 \r\nL 309.016508 305.718273 \r\nL 314.878673 309.762736 \r\nL 320.740839 311.535935 \r\nL 326.603005 313.86604 \r\nL 332.46517 315.612372 \r\nL 338.327336 318.170077 \r\nL 344.189501 319.599767 \r\nL 350.051667 320.943099 \r\nL 355.913832 322.501364 \r\nL 361.775998 324.082658 \r\nL 367.638164 325.211057 \r\nL 373.500329 326.97594 \r\nL 379.362495 328.242511 \r\nL 385.22466 329.45023 \r\nL 391.086826 330.569209 \r\nL 396.948991 332.115898 \r\nL 402.811157 333.65267 \r\n\" style=\"fill:none;stroke:#1f77b4;stroke-linecap:square;stroke-width:1.5;\"/>\r\n   </g>\r\n   <g id=\"patch_3\">\r\n    <path d=\"M 39.65 348.478125 \r\nL 39.65 22.318125 \r\n\" style=\"fill:none;stroke:#000000;stroke-linecap:square;stroke-linejoin:miter;stroke-width:0.8;\"/>\r\n   </g>\r\n   <g id=\"patch_4\">\r\n    <path d=\"M 420.104545 348.478125 \r\nL 420.104545 22.318125 \r\n\" style=\"fill:none;stroke:#000000;stroke-linecap:square;stroke-linejoin:miter;stroke-width:0.8;\"/>\r\n   </g>\r\n   <g id=\"patch_5\">\r\n    <path d=\"M 39.65 348.478125 \r\nL 420.104545 348.478125 \r\n\" style=\"fill:none;stroke:#000000;stroke-linecap:square;stroke-linejoin:miter;stroke-width:0.8;\"/>\r\n   </g>\r\n   <g id=\"patch_6\">\r\n    <path d=\"M 39.65 22.318125 \r\nL 420.104545 22.318125 \r\n\" style=\"fill:none;stroke:#000000;stroke-linecap:square;stroke-linejoin:miter;stroke-width:0.8;\"/>\r\n   </g>\r\n   <g id=\"text_13\">\r\n    <!-- Elbow Method Graph -->\r\n    <defs>\r\n     <path d=\"M 9.8125 72.90625 \r\nL 55.90625 72.90625 \r\nL 55.90625 64.59375 \r\nL 19.671875 64.59375 \r\nL 19.671875 43.015625 \r\nL 54.390625 43.015625 \r\nL 54.390625 34.71875 \r\nL 19.671875 34.71875 \r\nL 19.671875 8.296875 \r\nL 56.78125 8.296875 \r\nL 56.78125 0 \r\nL 9.8125 0 \r\nz\r\n\" id=\"DejaVuSans-69\"/>\r\n     <path d=\"M 9.421875 75.984375 \r\nL 18.40625 75.984375 \r\nL 18.40625 0 \r\nL 9.421875 0 \r\nz\r\n\" id=\"DejaVuSans-108\"/>\r\n     <path d=\"M 48.6875 27.296875 \r\nQ 48.6875 37.203125 44.609375 42.84375 \r\nQ 40.53125 48.484375 33.40625 48.484375 \r\nQ 26.265625 48.484375 22.1875 42.84375 \r\nQ 18.109375 37.203125 18.109375 27.296875 \r\nQ 18.109375 17.390625 22.1875 11.75 \r\nQ 26.265625 6.109375 33.40625 6.109375 \r\nQ 40.53125 6.109375 44.609375 11.75 \r\nQ 48.6875 17.390625 48.6875 27.296875 \r\nz\r\nM 18.109375 46.390625 \r\nQ 20.953125 51.265625 25.265625 53.625 \r\nQ 29.59375 56 35.59375 56 \r\nQ 45.5625 56 51.78125 48.09375 \r\nQ 58.015625 40.1875 58.015625 27.296875 \r\nQ 58.015625 14.40625 51.78125 6.484375 \r\nQ 45.5625 -1.421875 35.59375 -1.421875 \r\nQ 29.59375 -1.421875 25.265625 0.953125 \r\nQ 20.953125 3.328125 18.109375 8.203125 \r\nL 18.109375 0 \r\nL 9.078125 0 \r\nL 9.078125 75.984375 \r\nL 18.109375 75.984375 \r\nz\r\n\" id=\"DejaVuSans-98\"/>\r\n     <path d=\"M 30.609375 48.390625 \r\nQ 23.390625 48.390625 19.1875 42.75 \r\nQ 14.984375 37.109375 14.984375 27.296875 \r\nQ 14.984375 17.484375 19.15625 11.84375 \r\nQ 23.34375 6.203125 30.609375 6.203125 \r\nQ 37.796875 6.203125 41.984375 11.859375 \r\nQ 46.1875 17.53125 46.1875 27.296875 \r\nQ 46.1875 37.015625 41.984375 42.703125 \r\nQ 37.796875 48.390625 30.609375 48.390625 \r\nz\r\nM 30.609375 56 \r\nQ 42.328125 56 49.015625 48.375 \r\nQ 55.71875 40.765625 55.71875 27.296875 \r\nQ 55.71875 13.875 49.015625 6.21875 \r\nQ 42.328125 -1.421875 30.609375 -1.421875 \r\nQ 18.84375 -1.421875 12.171875 6.21875 \r\nQ 5.515625 13.875 5.515625 27.296875 \r\nQ 5.515625 40.765625 12.171875 48.375 \r\nQ 18.84375 56 30.609375 56 \r\nz\r\n\" id=\"DejaVuSans-111\"/>\r\n     <path d=\"M 4.203125 54.6875 \r\nL 13.1875 54.6875 \r\nL 24.421875 12.015625 \r\nL 35.59375 54.6875 \r\nL 46.1875 54.6875 \r\nL 57.421875 12.015625 \r\nL 68.609375 54.6875 \r\nL 77.59375 54.6875 \r\nL 63.28125 0 \r\nL 52.6875 0 \r\nL 40.921875 44.828125 \r\nL 29.109375 0 \r\nL 18.5 0 \r\nz\r\n\" id=\"DejaVuSans-119\"/>\r\n     <path id=\"DejaVuSans-32\"/>\r\n     <path d=\"M 9.8125 72.90625 \r\nL 24.515625 72.90625 \r\nL 43.109375 23.296875 \r\nL 61.8125 72.90625 \r\nL 76.515625 72.90625 \r\nL 76.515625 0 \r\nL 66.890625 0 \r\nL 66.890625 64.015625 \r\nL 48.09375 14.015625 \r\nL 38.1875 14.015625 \r\nL 19.390625 64.015625 \r\nL 19.390625 0 \r\nL 9.8125 0 \r\nz\r\n\" id=\"DejaVuSans-77\"/>\r\n     <path d=\"M 56.203125 29.59375 \r\nL 56.203125 25.203125 \r\nL 14.890625 25.203125 \r\nQ 15.484375 15.921875 20.484375 11.0625 \r\nQ 25.484375 6.203125 34.421875 6.203125 \r\nQ 39.59375 6.203125 44.453125 7.46875 \r\nQ 49.3125 8.734375 54.109375 11.28125 \r\nL 54.109375 2.78125 \r\nQ 49.265625 0.734375 44.1875 -0.34375 \r\nQ 39.109375 -1.421875 33.890625 -1.421875 \r\nQ 20.796875 -1.421875 13.15625 6.1875 \r\nQ 5.515625 13.8125 5.515625 26.8125 \r\nQ 5.515625 40.234375 12.765625 48.109375 \r\nQ 20.015625 56 32.328125 56 \r\nQ 43.359375 56 49.78125 48.890625 \r\nQ 56.203125 41.796875 56.203125 29.59375 \r\nz\r\nM 47.21875 32.234375 \r\nQ 47.125 39.59375 43.09375 43.984375 \r\nQ 39.0625 48.390625 32.421875 48.390625 \r\nQ 24.90625 48.390625 20.390625 44.140625 \r\nQ 15.875 39.890625 15.1875 32.171875 \r\nz\r\n\" id=\"DejaVuSans-101\"/>\r\n     <path d=\"M 18.3125 70.21875 \r\nL 18.3125 54.6875 \r\nL 36.8125 54.6875 \r\nL 36.8125 47.703125 \r\nL 18.3125 47.703125 \r\nL 18.3125 18.015625 \r\nQ 18.3125 11.328125 20.140625 9.421875 \r\nQ 21.96875 7.515625 27.59375 7.515625 \r\nL 36.8125 7.515625 \r\nL 36.8125 0 \r\nL 27.59375 0 \r\nQ 17.1875 0 13.234375 3.875 \r\nQ 9.28125 7.765625 9.28125 18.015625 \r\nL 9.28125 47.703125 \r\nL 2.6875 47.703125 \r\nL 2.6875 54.6875 \r\nL 9.28125 54.6875 \r\nL 9.28125 70.21875 \r\nz\r\n\" id=\"DejaVuSans-116\"/>\r\n     <path d=\"M 54.890625 33.015625 \r\nL 54.890625 0 \r\nL 45.90625 0 \r\nL 45.90625 32.71875 \r\nQ 45.90625 40.484375 42.875 44.328125 \r\nQ 39.84375 48.1875 33.796875 48.1875 \r\nQ 26.515625 48.1875 22.3125 43.546875 \r\nQ 18.109375 38.921875 18.109375 30.90625 \r\nL 18.109375 0 \r\nL 9.078125 0 \r\nL 9.078125 75.984375 \r\nL 18.109375 75.984375 \r\nL 18.109375 46.1875 \r\nQ 21.34375 51.125 25.703125 53.5625 \r\nQ 30.078125 56 35.796875 56 \r\nQ 45.21875 56 50.046875 50.171875 \r\nQ 54.890625 44.34375 54.890625 33.015625 \r\nz\r\n\" id=\"DejaVuSans-104\"/>\r\n     <path d=\"M 45.40625 46.390625 \r\nL 45.40625 75.984375 \r\nL 54.390625 75.984375 \r\nL 54.390625 0 \r\nL 45.40625 0 \r\nL 45.40625 8.203125 \r\nQ 42.578125 3.328125 38.25 0.953125 \r\nQ 33.9375 -1.421875 27.875 -1.421875 \r\nQ 17.96875 -1.421875 11.734375 6.484375 \r\nQ 5.515625 14.40625 5.515625 27.296875 \r\nQ 5.515625 40.1875 11.734375 48.09375 \r\nQ 17.96875 56 27.875 56 \r\nQ 33.9375 56 38.25 53.625 \r\nQ 42.578125 51.265625 45.40625 46.390625 \r\nz\r\nM 14.796875 27.296875 \r\nQ 14.796875 17.390625 18.875 11.75 \r\nQ 22.953125 6.109375 30.078125 6.109375 \r\nQ 37.203125 6.109375 41.296875 11.75 \r\nQ 45.40625 17.390625 45.40625 27.296875 \r\nQ 45.40625 37.203125 41.296875 42.84375 \r\nQ 37.203125 48.484375 30.078125 48.484375 \r\nQ 22.953125 48.484375 18.875 42.84375 \r\nQ 14.796875 37.203125 14.796875 27.296875 \r\nz\r\n\" id=\"DejaVuSans-100\"/>\r\n     <path d=\"M 59.515625 10.40625 \r\nL 59.515625 29.984375 \r\nL 43.40625 29.984375 \r\nL 43.40625 38.09375 \r\nL 69.28125 38.09375 \r\nL 69.28125 6.78125 \r\nQ 63.578125 2.734375 56.6875 0.65625 \r\nQ 49.8125 -1.421875 42 -1.421875 \r\nQ 24.90625 -1.421875 15.25 8.5625 \r\nQ 5.609375 18.5625 5.609375 36.375 \r\nQ 5.609375 54.25 15.25 64.234375 \r\nQ 24.90625 74.21875 42 74.21875 \r\nQ 49.125 74.21875 55.546875 72.453125 \r\nQ 61.96875 70.703125 67.390625 67.28125 \r\nL 67.390625 56.78125 \r\nQ 61.921875 61.421875 55.765625 63.765625 \r\nQ 49.609375 66.109375 42.828125 66.109375 \r\nQ 29.4375 66.109375 22.71875 58.640625 \r\nQ 16.015625 51.171875 16.015625 36.375 \r\nQ 16.015625 21.625 22.71875 14.15625 \r\nQ 29.4375 6.6875 42.828125 6.6875 \r\nQ 48.046875 6.6875 52.140625 7.59375 \r\nQ 56.25 8.5 59.515625 10.40625 \r\nz\r\n\" id=\"DejaVuSans-71\"/>\r\n     <path d=\"M 41.109375 46.296875 \r\nQ 39.59375 47.171875 37.8125 47.578125 \r\nQ 36.03125 48 33.890625 48 \r\nQ 26.265625 48 22.1875 43.046875 \r\nQ 18.109375 38.09375 18.109375 28.8125 \r\nL 18.109375 0 \r\nL 9.078125 0 \r\nL 9.078125 54.6875 \r\nL 18.109375 54.6875 \r\nL 18.109375 46.1875 \r\nQ 20.953125 51.171875 25.484375 53.578125 \r\nQ 30.03125 56 36.53125 56 \r\nQ 37.453125 56 38.578125 55.875 \r\nQ 39.703125 55.765625 41.0625 55.515625 \r\nz\r\n\" id=\"DejaVuSans-114\"/>\r\n     <path d=\"M 34.28125 27.484375 \r\nQ 23.390625 27.484375 19.1875 25 \r\nQ 14.984375 22.515625 14.984375 16.5 \r\nQ 14.984375 11.71875 18.140625 8.90625 \r\nQ 21.296875 6.109375 26.703125 6.109375 \r\nQ 34.1875 6.109375 38.703125 11.40625 \r\nQ 43.21875 16.703125 43.21875 25.484375 \r\nL 43.21875 27.484375 \r\nz\r\nM 52.203125 31.203125 \r\nL 52.203125 0 \r\nL 43.21875 0 \r\nL 43.21875 8.296875 \r\nQ 40.140625 3.328125 35.546875 0.953125 \r\nQ 30.953125 -1.421875 24.3125 -1.421875 \r\nQ 15.921875 -1.421875 10.953125 3.296875 \r\nQ 6 8.015625 6 15.921875 \r\nQ 6 25.140625 12.171875 29.828125 \r\nQ 18.359375 34.515625 30.609375 34.515625 \r\nL 43.21875 34.515625 \r\nL 43.21875 35.40625 \r\nQ 43.21875 41.609375 39.140625 45 \r\nQ 35.0625 48.390625 27.6875 48.390625 \r\nQ 23 48.390625 18.546875 47.265625 \r\nQ 14.109375 46.140625 10.015625 43.890625 \r\nL 10.015625 52.203125 \r\nQ 14.9375 54.109375 19.578125 55.046875 \r\nQ 24.21875 56 28.609375 56 \r\nQ 40.484375 56 46.34375 49.84375 \r\nQ 52.203125 43.703125 52.203125 31.203125 \r\nz\r\n\" id=\"DejaVuSans-97\"/>\r\n     <path d=\"M 18.109375 8.203125 \r\nL 18.109375 -20.796875 \r\nL 9.078125 -20.796875 \r\nL 9.078125 54.6875 \r\nL 18.109375 54.6875 \r\nL 18.109375 46.390625 \r\nQ 20.953125 51.265625 25.265625 53.625 \r\nQ 29.59375 56 35.59375 56 \r\nQ 45.5625 56 51.78125 48.09375 \r\nQ 58.015625 40.1875 58.015625 27.296875 \r\nQ 58.015625 14.40625 51.78125 6.484375 \r\nQ 45.5625 -1.421875 35.59375 -1.421875 \r\nQ 29.59375 -1.421875 25.265625 0.953125 \r\nQ 20.953125 3.328125 18.109375 8.203125 \r\nz\r\nM 48.6875 27.296875 \r\nQ 48.6875 37.203125 44.609375 42.84375 \r\nQ 40.53125 48.484375 33.40625 48.484375 \r\nQ 26.265625 48.484375 22.1875 42.84375 \r\nQ 18.109375 37.203125 18.109375 27.296875 \r\nQ 18.109375 17.390625 22.1875 11.75 \r\nQ 26.265625 6.109375 33.40625 6.109375 \r\nQ 40.53125 6.109375 44.609375 11.75 \r\nQ 48.6875 17.390625 48.6875 27.296875 \r\nz\r\n\" id=\"DejaVuSans-112\"/>\r\n    </defs>\r\n    <g transform=\"translate(167.310398 16.318125)scale(0.12 -0.12)\">\r\n     <use xlink:href=\"#DejaVuSans-69\"/>\r\n     <use x=\"63.183594\" xlink:href=\"#DejaVuSans-108\"/>\r\n     <use x=\"90.966797\" xlink:href=\"#DejaVuSans-98\"/>\r\n     <use x=\"154.443359\" xlink:href=\"#DejaVuSans-111\"/>\r\n     <use x=\"215.625\" xlink:href=\"#DejaVuSans-119\"/>\r\n     <use x=\"297.412109\" xlink:href=\"#DejaVuSans-32\"/>\r\n     <use x=\"329.199219\" xlink:href=\"#DejaVuSans-77\"/>\r\n     <use x=\"415.478516\" xlink:href=\"#DejaVuSans-101\"/>\r\n     <use x=\"477.001953\" xlink:href=\"#DejaVuSans-116\"/>\r\n     <use x=\"516.210938\" xlink:href=\"#DejaVuSans-104\"/>\r\n     <use x=\"579.589844\" xlink:href=\"#DejaVuSans-111\"/>\r\n     <use x=\"640.771484\" xlink:href=\"#DejaVuSans-100\"/>\r\n     <use x=\"704.248047\" xlink:href=\"#DejaVuSans-32\"/>\r\n     <use x=\"736.035156\" xlink:href=\"#DejaVuSans-71\"/>\r\n     <use x=\"813.525391\" xlink:href=\"#DejaVuSans-114\"/>\r\n     <use x=\"854.638672\" xlink:href=\"#DejaVuSans-97\"/>\r\n     <use x=\"915.917969\" xlink:href=\"#DejaVuSans-112\"/>\r\n     <use x=\"979.394531\" xlink:href=\"#DejaVuSans-104\"/>\r\n    </g>\r\n   </g>\r\n  </g>\r\n  <g id=\"axes_2\">\r\n   <g id=\"patch_7\">\r\n    <path d=\"M 496.195455 348.478125 \r\nL 876.65 348.478125 \r\nL 876.65 22.318125 \r\nL 496.195455 22.318125 \r\nz\r\n\" style=\"fill:#ffffff;\"/>\r\n   </g>\r\n   <g id=\"matplotlib.axis_3\">\r\n    <g id=\"xtick_8\">\r\n     <g id=\"line2d_26\">\r\n      <path clip-path=\"url(#p5f9790eaac)\" d=\"M 507.525606 348.478125 \r\nL 507.525606 22.318125 \r\n\" style=\"fill:none;stroke:#b0b0b0;stroke-linecap:square;stroke-width:0.8;\"/>\r\n     </g>\r\n     <g id=\"line2d_27\">\r\n      <g>\r\n       <use style=\"stroke:#000000;stroke-width:0.8;\" x=\"507.525606\" xlink:href=\"#me639382c5f\" y=\"348.478125\"/>\r\n      </g>\r\n     </g>\r\n     <g id=\"text_14\">\r\n      <!-- 0 -->\r\n      <g transform=\"translate(504.344356 363.076563)scale(0.1 -0.1)\">\r\n       <use xlink:href=\"#DejaVuSans-48\"/>\r\n      </g>\r\n     </g>\r\n    </g>\r\n    <g id=\"xtick_9\">\r\n     <g id=\"line2d_28\">\r\n      <path clip-path=\"url(#p5f9790eaac)\" d=\"M 567.157979 348.478125 \r\nL 567.157979 22.318125 \r\n\" style=\"fill:none;stroke:#b0b0b0;stroke-linecap:square;stroke-width:0.8;\"/>\r\n     </g>\r\n     <g id=\"line2d_29\">\r\n      <g>\r\n       <use style=\"stroke:#000000;stroke-width:0.8;\" x=\"567.157979\" xlink:href=\"#me639382c5f\" y=\"348.478125\"/>\r\n      </g>\r\n     </g>\r\n     <g id=\"text_15\">\r\n      <!-- 10 -->\r\n      <g transform=\"translate(560.795479 363.076563)scale(0.1 -0.1)\">\r\n       <use xlink:href=\"#DejaVuSans-49\"/>\r\n       <use x=\"63.623047\" xlink:href=\"#DejaVuSans-48\"/>\r\n      </g>\r\n     </g>\r\n    </g>\r\n    <g id=\"xtick_10\">\r\n     <g id=\"line2d_30\">\r\n      <path clip-path=\"url(#p5f9790eaac)\" d=\"M 626.790353 348.478125 \r\nL 626.790353 22.318125 \r\n\" style=\"fill:none;stroke:#b0b0b0;stroke-linecap:square;stroke-width:0.8;\"/>\r\n     </g>\r\n     <g id=\"line2d_31\">\r\n      <g>\r\n       <use style=\"stroke:#000000;stroke-width:0.8;\" x=\"626.790353\" xlink:href=\"#me639382c5f\" y=\"348.478125\"/>\r\n      </g>\r\n     </g>\r\n     <g id=\"text_16\">\r\n      <!-- 20 -->\r\n      <g transform=\"translate(620.427853 363.076563)scale(0.1 -0.1)\">\r\n       <use xlink:href=\"#DejaVuSans-50\"/>\r\n       <use x=\"63.623047\" xlink:href=\"#DejaVuSans-48\"/>\r\n      </g>\r\n     </g>\r\n    </g>\r\n    <g id=\"xtick_11\">\r\n     <g id=\"line2d_32\">\r\n      <path clip-path=\"url(#p5f9790eaac)\" d=\"M 686.422727 348.478125 \r\nL 686.422727 22.318125 \r\n\" style=\"fill:none;stroke:#b0b0b0;stroke-linecap:square;stroke-width:0.8;\"/>\r\n     </g>\r\n     <g id=\"line2d_33\">\r\n      <g>\r\n       <use style=\"stroke:#000000;stroke-width:0.8;\" x=\"686.422727\" xlink:href=\"#me639382c5f\" y=\"348.478125\"/>\r\n      </g>\r\n     </g>\r\n     <g id=\"text_17\">\r\n      <!-- 30 -->\r\n      <g transform=\"translate(680.060227 363.076563)scale(0.1 -0.1)\">\r\n       <use xlink:href=\"#DejaVuSans-51\"/>\r\n       <use x=\"63.623047\" xlink:href=\"#DejaVuSans-48\"/>\r\n      </g>\r\n     </g>\r\n    </g>\r\n    <g id=\"xtick_12\">\r\n     <g id=\"line2d_34\">\r\n      <path clip-path=\"url(#p5f9790eaac)\" d=\"M 746.055101 348.478125 \r\nL 746.055101 22.318125 \r\n\" style=\"fill:none;stroke:#b0b0b0;stroke-linecap:square;stroke-width:0.8;\"/>\r\n     </g>\r\n     <g id=\"line2d_35\">\r\n      <g>\r\n       <use style=\"stroke:#000000;stroke-width:0.8;\" x=\"746.055101\" xlink:href=\"#me639382c5f\" y=\"348.478125\"/>\r\n      </g>\r\n     </g>\r\n     <g id=\"text_18\">\r\n      <!-- 40 -->\r\n      <g transform=\"translate(739.692601 363.076563)scale(0.1 -0.1)\">\r\n       <use xlink:href=\"#DejaVuSans-52\"/>\r\n       <use x=\"63.623047\" xlink:href=\"#DejaVuSans-48\"/>\r\n      </g>\r\n     </g>\r\n    </g>\r\n    <g id=\"xtick_13\">\r\n     <g id=\"line2d_36\">\r\n      <path clip-path=\"url(#p5f9790eaac)\" d=\"M 805.687475 348.478125 \r\nL 805.687475 22.318125 \r\n\" style=\"fill:none;stroke:#b0b0b0;stroke-linecap:square;stroke-width:0.8;\"/>\r\n     </g>\r\n     <g id=\"line2d_37\">\r\n      <g>\r\n       <use style=\"stroke:#000000;stroke-width:0.8;\" x=\"805.687475\" xlink:href=\"#me639382c5f\" y=\"348.478125\"/>\r\n      </g>\r\n     </g>\r\n     <g id=\"text_19\">\r\n      <!-- 50 -->\r\n      <g transform=\"translate(799.324975 363.076563)scale(0.1 -0.1)\">\r\n       <use xlink:href=\"#DejaVuSans-53\"/>\r\n       <use x=\"63.623047\" xlink:href=\"#DejaVuSans-48\"/>\r\n      </g>\r\n     </g>\r\n    </g>\r\n    <g id=\"xtick_14\">\r\n     <g id=\"line2d_38\">\r\n      <path clip-path=\"url(#p5f9790eaac)\" d=\"M 865.319849 348.478125 \r\nL 865.319849 22.318125 \r\n\" style=\"fill:none;stroke:#b0b0b0;stroke-linecap:square;stroke-width:0.8;\"/>\r\n     </g>\r\n     <g id=\"line2d_39\">\r\n      <g>\r\n       <use style=\"stroke:#000000;stroke-width:0.8;\" x=\"865.319849\" xlink:href=\"#me639382c5f\" y=\"348.478125\"/>\r\n      </g>\r\n     </g>\r\n     <g id=\"text_20\">\r\n      <!-- 60 -->\r\n      <g transform=\"translate(858.957349 363.076563)scale(0.1 -0.1)\">\r\n       <use xlink:href=\"#DejaVuSans-54\"/>\r\n       <use x=\"63.623047\" xlink:href=\"#DejaVuSans-48\"/>\r\n      </g>\r\n     </g>\r\n    </g>\r\n   </g>\r\n   <g id=\"matplotlib.axis_4\">\r\n    <g id=\"ytick_6\">\r\n     <g id=\"line2d_40\">\r\n      <path clip-path=\"url(#p5f9790eaac)\" d=\"M 496.195455 314.973811 \r\nL 876.65 314.973811 \r\n\" style=\"fill:none;stroke:#b0b0b0;stroke-linecap:square;stroke-width:0.8;\"/>\r\n     </g>\r\n     <g id=\"line2d_41\">\r\n      <g>\r\n       <use style=\"stroke:#000000;stroke-width:0.8;\" x=\"496.195455\" xlink:href=\"#m9abc324ebc\" y=\"314.973811\"/>\r\n      </g>\r\n     </g>\r\n     <g id=\"text_21\">\r\n      <!-- 0 -->\r\n      <g transform=\"translate(482.832955 318.773029)scale(0.1 -0.1)\">\r\n       <use xlink:href=\"#DejaVuSans-48\"/>\r\n      </g>\r\n     </g>\r\n    </g>\r\n    <g id=\"ytick_7\">\r\n     <g id=\"line2d_42\">\r\n      <path clip-path=\"url(#p5f9790eaac)\" d=\"M 496.195455 277.616091 \r\nL 876.65 277.616091 \r\n\" style=\"fill:none;stroke:#b0b0b0;stroke-linecap:square;stroke-width:0.8;\"/>\r\n     </g>\r\n     <g id=\"line2d_43\">\r\n      <g>\r\n       <use style=\"stroke:#000000;stroke-width:0.8;\" x=\"496.195455\" xlink:href=\"#m9abc324ebc\" y=\"277.616091\"/>\r\n      </g>\r\n     </g>\r\n     <g id=\"text_22\">\r\n      <!-- 20 -->\r\n      <g transform=\"translate(476.470455 281.41531)scale(0.1 -0.1)\">\r\n       <use xlink:href=\"#DejaVuSans-50\"/>\r\n       <use x=\"63.623047\" xlink:href=\"#DejaVuSans-48\"/>\r\n      </g>\r\n     </g>\r\n    </g>\r\n    <g id=\"ytick_8\">\r\n     <g id=\"line2d_44\">\r\n      <path clip-path=\"url(#p5f9790eaac)\" d=\"M 496.195455 240.258372 \r\nL 876.65 240.258372 \r\n\" style=\"fill:none;stroke:#b0b0b0;stroke-linecap:square;stroke-width:0.8;\"/>\r\n     </g>\r\n     <g id=\"line2d_45\">\r\n      <g>\r\n       <use style=\"stroke:#000000;stroke-width:0.8;\" x=\"496.195455\" xlink:href=\"#m9abc324ebc\" y=\"240.258372\"/>\r\n      </g>\r\n     </g>\r\n     <g id=\"text_23\">\r\n      <!-- 40 -->\r\n      <g transform=\"translate(476.470455 244.05759)scale(0.1 -0.1)\">\r\n       <use xlink:href=\"#DejaVuSans-52\"/>\r\n       <use x=\"63.623047\" xlink:href=\"#DejaVuSans-48\"/>\r\n      </g>\r\n     </g>\r\n    </g>\r\n    <g id=\"ytick_9\">\r\n     <g id=\"line2d_46\">\r\n      <path clip-path=\"url(#p5f9790eaac)\" d=\"M 496.195455 202.900652 \r\nL 876.65 202.900652 \r\n\" style=\"fill:none;stroke:#b0b0b0;stroke-linecap:square;stroke-width:0.8;\"/>\r\n     </g>\r\n     <g id=\"line2d_47\">\r\n      <g>\r\n       <use style=\"stroke:#000000;stroke-width:0.8;\" x=\"496.195455\" xlink:href=\"#m9abc324ebc\" y=\"202.900652\"/>\r\n      </g>\r\n     </g>\r\n     <g id=\"text_24\">\r\n      <!-- 60 -->\r\n      <g transform=\"translate(476.470455 206.699871)scale(0.1 -0.1)\">\r\n       <use xlink:href=\"#DejaVuSans-54\"/>\r\n       <use x=\"63.623047\" xlink:href=\"#DejaVuSans-48\"/>\r\n      </g>\r\n     </g>\r\n    </g>\r\n    <g id=\"ytick_10\">\r\n     <g id=\"line2d_48\">\r\n      <path clip-path=\"url(#p5f9790eaac)\" d=\"M 496.195455 165.542932 \r\nL 876.65 165.542932 \r\n\" style=\"fill:none;stroke:#b0b0b0;stroke-linecap:square;stroke-width:0.8;\"/>\r\n     </g>\r\n     <g id=\"line2d_49\">\r\n      <g>\r\n       <use style=\"stroke:#000000;stroke-width:0.8;\" x=\"496.195455\" xlink:href=\"#m9abc324ebc\" y=\"165.542932\"/>\r\n      </g>\r\n     </g>\r\n     <g id=\"text_25\">\r\n      <!-- 80 -->\r\n      <g transform=\"translate(476.470455 169.342151)scale(0.1 -0.1)\">\r\n       <use xlink:href=\"#DejaVuSans-56\"/>\r\n       <use x=\"63.623047\" xlink:href=\"#DejaVuSans-48\"/>\r\n      </g>\r\n     </g>\r\n    </g>\r\n    <g id=\"ytick_11\">\r\n     <g id=\"line2d_50\">\r\n      <path clip-path=\"url(#p5f9790eaac)\" d=\"M 496.195455 128.185213 \r\nL 876.65 128.185213 \r\n\" style=\"fill:none;stroke:#b0b0b0;stroke-linecap:square;stroke-width:0.8;\"/>\r\n     </g>\r\n     <g id=\"line2d_51\">\r\n      <g>\r\n       <use style=\"stroke:#000000;stroke-width:0.8;\" x=\"496.195455\" xlink:href=\"#m9abc324ebc\" y=\"128.185213\"/>\r\n      </g>\r\n     </g>\r\n     <g id=\"text_26\">\r\n      <!-- 100 -->\r\n      <g transform=\"translate(470.107955 131.984432)scale(0.1 -0.1)\">\r\n       <use xlink:href=\"#DejaVuSans-49\"/>\r\n       <use x=\"63.623047\" xlink:href=\"#DejaVuSans-48\"/>\r\n       <use x=\"127.246094\" xlink:href=\"#DejaVuSans-48\"/>\r\n      </g>\r\n     </g>\r\n    </g>\r\n    <g id=\"ytick_12\">\r\n     <g id=\"line2d_52\">\r\n      <path clip-path=\"url(#p5f9790eaac)\" d=\"M 496.195455 90.827493 \r\nL 876.65 90.827493 \r\n\" style=\"fill:none;stroke:#b0b0b0;stroke-linecap:square;stroke-width:0.8;\"/>\r\n     </g>\r\n     <g id=\"line2d_53\">\r\n      <g>\r\n       <use style=\"stroke:#000000;stroke-width:0.8;\" x=\"496.195455\" xlink:href=\"#m9abc324ebc\" y=\"90.827493\"/>\r\n      </g>\r\n     </g>\r\n     <g id=\"text_27\">\r\n      <!-- 120 -->\r\n      <g transform=\"translate(470.107955 94.626712)scale(0.1 -0.1)\">\r\n       <use xlink:href=\"#DejaVuSans-49\"/>\r\n       <use x=\"63.623047\" xlink:href=\"#DejaVuSans-50\"/>\r\n       <use x=\"127.246094\" xlink:href=\"#DejaVuSans-48\"/>\r\n      </g>\r\n     </g>\r\n    </g>\r\n    <g id=\"ytick_13\">\r\n     <g id=\"line2d_54\">\r\n      <path clip-path=\"url(#p5f9790eaac)\" d=\"M 496.195455 53.469774 \r\nL 876.65 53.469774 \r\n\" style=\"fill:none;stroke:#b0b0b0;stroke-linecap:square;stroke-width:0.8;\"/>\r\n     </g>\r\n     <g id=\"line2d_55\">\r\n      <g>\r\n       <use style=\"stroke:#000000;stroke-width:0.8;\" x=\"496.195455\" xlink:href=\"#m9abc324ebc\" y=\"53.469774\"/>\r\n      </g>\r\n     </g>\r\n     <g id=\"text_28\">\r\n      <!-- 140 -->\r\n      <g transform=\"translate(470.107955 57.268993)scale(0.1 -0.1)\">\r\n       <use xlink:href=\"#DejaVuSans-49\"/>\r\n       <use x=\"63.623047\" xlink:href=\"#DejaVuSans-52\"/>\r\n       <use x=\"127.246094\" xlink:href=\"#DejaVuSans-48\"/>\r\n      </g>\r\n     </g>\r\n    </g>\r\n   </g>\r\n   <g id=\"line2d_56\">\r\n    <path clip-path=\"url(#p5f9790eaac)\" d=\"M 513.488843 37.14358 \r\nL 519.45208 196.824667 \r\nL 525.415318 248.076285 \r\nL 531.378555 232.358231 \r\nL 537.341793 275.748205 \r\nL 543.30503 265.652726 \r\nL 549.268267 255.233187 \r\nL 555.231505 280.66246 \r\nL 561.194742 310.412065 \r\nL 567.157979 266.750175 \r\nL 573.121217 277.899147 \r\nL 579.084454 285.704412 \r\nL 585.047692 276.283782 \r\nL 591.010929 278.510652 \r\nL 596.974166 275.748205 \r\nL 602.937404 296.042297 \r\nL 608.900641 283.998035 \r\nL 614.863879 288.814948 \r\nL 620.827116 279.172663 \r\nL 626.790353 306.569236 \r\nL 632.753591 281.50752 \r\nL 638.716828 294.21154 \r\nL 644.680066 283.614651 \r\nL 650.643303 290.835561 \r\nL 656.60654 290.562591 \r\nL 662.569778 284.332327 \r\nL 668.533015 290.939734 \r\nL 674.496252 291.218696 \r\nL 680.45949 294.618991 \r\nL 686.422727 295.791711 \r\nL 692.385965 290.569708 \r\nL 698.349202 296.460985 \r\nL 704.312439 296.269008 \r\nL 710.275677 299.569738 \r\nL 716.238914 300.497694 \r\nL 722.202152 296.268452 \r\nL 728.165389 293.648779 \r\nL 734.128626 301.850726 \r\nL 740.091864 297.804825 \r\nL 746.055101 297.17597 \r\nL 752.018339 296.347635 \r\nL 757.981576 300.18638 \r\nL 763.944813 305.945695 \r\nL 769.908051 291.541421 \r\nL 775.871288 304.700438 \r\nL 781.834526 301.473887 \r\nL 787.797763 304.856095 \r\nL 793.761 300.155249 \r\nL 799.724238 306.690626 \r\nL 805.687475 307.190952 \r\nL 811.650712 305.945695 \r\nL 817.61395 305.812275 \r\nL 823.577187 308.43621 \r\nL 829.540425 304.748617 \r\nL 835.503662 307.635687 \r\nL 841.466899 307.976651 \r\nL 847.430137 308.490791 \r\nL 853.393374 306.012762 \r\nL 859.356612 306.070221 \r\n\" style=\"fill:none;stroke:#1f77b4;stroke-linecap:square;stroke-width:1.5;\"/>\r\n   </g>\r\n   <g id=\"line2d_57\">\r\n    <path clip-path=\"url(#p5f9790eaac)\" d=\"M 513.488843 296.294951 \r\nL 519.45208 296.294951 \r\nL 525.415318 296.294951 \r\nL 531.378555 296.294951 \r\nL 537.341793 296.294951 \r\nL 543.30503 296.294951 \r\nL 549.268267 296.294951 \r\nL 555.231505 296.294951 \r\nL 561.194742 296.294951 \r\nL 567.157979 296.294951 \r\nL 573.121217 296.294951 \r\nL 579.084454 296.294951 \r\nL 585.047692 296.294951 \r\nL 591.010929 296.294951 \r\nL 596.974166 296.294951 \r\nL 602.937404 296.294951 \r\nL 608.900641 296.294951 \r\nL 614.863879 296.294951 \r\nL 620.827116 296.294951 \r\nL 626.790353 296.294951 \r\nL 632.753591 296.294951 \r\nL 638.716828 296.294951 \r\nL 644.680066 296.294951 \r\nL 650.643303 296.294951 \r\nL 656.60654 296.294951 \r\nL 662.569778 296.294951 \r\nL 668.533015 296.294951 \r\nL 674.496252 296.294951 \r\nL 680.45949 296.294951 \r\nL 686.422727 296.294951 \r\nL 692.385965 296.294951 \r\nL 698.349202 296.294951 \r\nL 704.312439 296.294951 \r\nL 710.275677 296.294951 \r\nL 716.238914 296.294951 \r\nL 722.202152 296.294951 \r\nL 728.165389 296.294951 \r\nL 734.128626 296.294951 \r\nL 740.091864 296.294951 \r\nL 746.055101 296.294951 \r\nL 752.018339 296.294951 \r\nL 757.981576 296.294951 \r\nL 763.944813 296.294951 \r\nL 769.908051 296.294951 \r\nL 775.871288 296.294951 \r\nL 781.834526 296.294951 \r\nL 787.797763 296.294951 \r\nL 793.761 296.294951 \r\nL 799.724238 296.294951 \r\nL 805.687475 296.294951 \r\nL 811.650712 296.294951 \r\nL 817.61395 296.294951 \r\nL 823.577187 296.294951 \r\nL 829.540425 296.294951 \r\nL 835.503662 296.294951 \r\nL 841.466899 296.294951 \r\nL 847.430137 296.294951 \r\nL 853.393374 296.294951 \r\nL 859.356612 296.294951 \r\n\" style=\"fill:none;stroke:#ff0000;stroke-linecap:square;stroke-width:1.5;\"/>\r\n   </g>\r\n   <g id=\"line2d_58\">\r\n    <path clip-path=\"url(#p5f9790eaac)\" d=\"M 513.488843 333.65267 \r\nL 519.45208 333.65267 \r\nL 525.415318 333.65267 \r\nL 531.378555 333.65267 \r\nL 537.341793 333.65267 \r\nL 543.30503 333.65267 \r\nL 549.268267 333.65267 \r\nL 555.231505 333.65267 \r\nL 561.194742 333.65267 \r\nL 567.157979 333.65267 \r\nL 573.121217 333.65267 \r\nL 579.084454 333.65267 \r\nL 585.047692 333.65267 \r\nL 591.010929 333.65267 \r\nL 596.974166 333.65267 \r\nL 602.937404 333.65267 \r\nL 608.900641 333.65267 \r\nL 614.863879 333.65267 \r\nL 620.827116 333.65267 \r\nL 626.790353 333.65267 \r\nL 632.753591 333.65267 \r\nL 638.716828 333.65267 \r\nL 644.680066 333.65267 \r\nL 650.643303 333.65267 \r\nL 656.60654 333.65267 \r\nL 662.569778 333.65267 \r\nL 668.533015 333.65267 \r\nL 674.496252 333.65267 \r\nL 680.45949 333.65267 \r\nL 686.422727 333.65267 \r\nL 692.385965 333.65267 \r\nL 698.349202 333.65267 \r\nL 704.312439 333.65267 \r\nL 710.275677 333.65267 \r\nL 716.238914 333.65267 \r\nL 722.202152 333.65267 \r\nL 728.165389 333.65267 \r\nL 734.128626 333.65267 \r\nL 740.091864 333.65267 \r\nL 746.055101 333.65267 \r\nL 752.018339 333.65267 \r\nL 757.981576 333.65267 \r\nL 763.944813 333.65267 \r\nL 769.908051 333.65267 \r\nL 775.871288 333.65267 \r\nL 781.834526 333.65267 \r\nL 787.797763 333.65267 \r\nL 793.761 333.65267 \r\nL 799.724238 333.65267 \r\nL 805.687475 333.65267 \r\nL 811.650712 333.65267 \r\nL 817.61395 333.65267 \r\nL 823.577187 333.65267 \r\nL 829.540425 333.65267 \r\nL 835.503662 333.65267 \r\nL 841.466899 333.65267 \r\nL 847.430137 333.65267 \r\nL 853.393374 333.65267 \r\nL 859.356612 333.65267 \r\n\" style=\"fill:none;stroke:#ff0000;stroke-linecap:square;stroke-width:1.5;\"/>\r\n   </g>\r\n   <g id=\"patch_8\">\r\n    <path d=\"M 496.195455 348.478125 \r\nL 496.195455 22.318125 \r\n\" style=\"fill:none;stroke:#000000;stroke-linecap:square;stroke-linejoin:miter;stroke-width:0.8;\"/>\r\n   </g>\r\n   <g id=\"patch_9\">\r\n    <path d=\"M 876.65 348.478125 \r\nL 876.65 22.318125 \r\n\" style=\"fill:none;stroke:#000000;stroke-linecap:square;stroke-linejoin:miter;stroke-width:0.8;\"/>\r\n   </g>\r\n   <g id=\"patch_10\">\r\n    <path d=\"M 496.195455 348.478125 \r\nL 876.65 348.478125 \r\n\" style=\"fill:none;stroke:#000000;stroke-linecap:square;stroke-linejoin:miter;stroke-width:0.8;\"/>\r\n   </g>\r\n   <g id=\"patch_11\">\r\n    <path d=\"M 496.195455 22.318125 \r\nL 876.65 22.318125 \r\n\" style=\"fill:none;stroke:#000000;stroke-linecap:square;stroke-linejoin:miter;stroke-width:0.8;\"/>\r\n   </g>\r\n   <g id=\"text_29\">\r\n    <!-- Differences in Each Two Consective Clusters -->\r\n    <defs>\r\n     <path d=\"M 19.671875 64.796875 \r\nL 19.671875 8.109375 \r\nL 31.59375 8.109375 \r\nQ 46.6875 8.109375 53.6875 14.9375 \r\nQ 60.6875 21.78125 60.6875 36.53125 \r\nQ 60.6875 51.171875 53.6875 57.984375 \r\nQ 46.6875 64.796875 31.59375 64.796875 \r\nz\r\nM 9.8125 72.90625 \r\nL 30.078125 72.90625 \r\nQ 51.265625 72.90625 61.171875 64.09375 \r\nQ 71.09375 55.28125 71.09375 36.53125 \r\nQ 71.09375 17.671875 61.125 8.828125 \r\nQ 51.171875 0 30.078125 0 \r\nL 9.8125 0 \r\nz\r\n\" id=\"DejaVuSans-68\"/>\r\n     <path d=\"M 9.421875 54.6875 \r\nL 18.40625 54.6875 \r\nL 18.40625 0 \r\nL 9.421875 0 \r\nz\r\nM 9.421875 75.984375 \r\nL 18.40625 75.984375 \r\nL 18.40625 64.59375 \r\nL 9.421875 64.59375 \r\nz\r\n\" id=\"DejaVuSans-105\"/>\r\n     <path d=\"M 37.109375 75.984375 \r\nL 37.109375 68.5 \r\nL 28.515625 68.5 \r\nQ 23.6875 68.5 21.796875 66.546875 \r\nQ 19.921875 64.59375 19.921875 59.515625 \r\nL 19.921875 54.6875 \r\nL 34.71875 54.6875 \r\nL 34.71875 47.703125 \r\nL 19.921875 47.703125 \r\nL 19.921875 0 \r\nL 10.890625 0 \r\nL 10.890625 47.703125 \r\nL 2.296875 47.703125 \r\nL 2.296875 54.6875 \r\nL 10.890625 54.6875 \r\nL 10.890625 58.5 \r\nQ 10.890625 67.625 15.140625 71.796875 \r\nQ 19.390625 75.984375 28.609375 75.984375 \r\nz\r\n\" id=\"DejaVuSans-102\"/>\r\n     <path d=\"M 54.890625 33.015625 \r\nL 54.890625 0 \r\nL 45.90625 0 \r\nL 45.90625 32.71875 \r\nQ 45.90625 40.484375 42.875 44.328125 \r\nQ 39.84375 48.1875 33.796875 48.1875 \r\nQ 26.515625 48.1875 22.3125 43.546875 \r\nQ 18.109375 38.921875 18.109375 30.90625 \r\nL 18.109375 0 \r\nL 9.078125 0 \r\nL 9.078125 54.6875 \r\nL 18.109375 54.6875 \r\nL 18.109375 46.1875 \r\nQ 21.34375 51.125 25.703125 53.5625 \r\nQ 30.078125 56 35.796875 56 \r\nQ 45.21875 56 50.046875 50.171875 \r\nQ 54.890625 44.34375 54.890625 33.015625 \r\nz\r\n\" id=\"DejaVuSans-110\"/>\r\n     <path d=\"M 48.78125 52.59375 \r\nL 48.78125 44.1875 \r\nQ 44.96875 46.296875 41.140625 47.34375 \r\nQ 37.3125 48.390625 33.40625 48.390625 \r\nQ 24.65625 48.390625 19.8125 42.84375 \r\nQ 14.984375 37.3125 14.984375 27.296875 \r\nQ 14.984375 17.28125 19.8125 11.734375 \r\nQ 24.65625 6.203125 33.40625 6.203125 \r\nQ 37.3125 6.203125 41.140625 7.25 \r\nQ 44.96875 8.296875 48.78125 10.40625 \r\nL 48.78125 2.09375 \r\nQ 45.015625 0.34375 40.984375 -0.53125 \r\nQ 36.96875 -1.421875 32.421875 -1.421875 \r\nQ 20.0625 -1.421875 12.78125 6.34375 \r\nQ 5.515625 14.109375 5.515625 27.296875 \r\nQ 5.515625 40.671875 12.859375 48.328125 \r\nQ 20.21875 56 33.015625 56 \r\nQ 37.15625 56 41.109375 55.140625 \r\nQ 45.0625 54.296875 48.78125 52.59375 \r\nz\r\n\" id=\"DejaVuSans-99\"/>\r\n     <path d=\"M 44.28125 53.078125 \r\nL 44.28125 44.578125 \r\nQ 40.484375 46.53125 36.375 47.5 \r\nQ 32.28125 48.484375 27.875 48.484375 \r\nQ 21.1875 48.484375 17.84375 46.4375 \r\nQ 14.5 44.390625 14.5 40.28125 \r\nQ 14.5 37.15625 16.890625 35.375 \r\nQ 19.28125 33.59375 26.515625 31.984375 \r\nL 29.59375 31.296875 \r\nQ 39.15625 29.25 43.1875 25.515625 \r\nQ 47.21875 21.78125 47.21875 15.09375 \r\nQ 47.21875 7.46875 41.1875 3.015625 \r\nQ 35.15625 -1.421875 24.609375 -1.421875 \r\nQ 20.21875 -1.421875 15.453125 -0.5625 \r\nQ 10.6875 0.296875 5.421875 2 \r\nL 5.421875 11.28125 \r\nQ 10.40625 8.6875 15.234375 7.390625 \r\nQ 20.0625 6.109375 24.8125 6.109375 \r\nQ 31.15625 6.109375 34.5625 8.28125 \r\nQ 37.984375 10.453125 37.984375 14.40625 \r\nQ 37.984375 18.0625 35.515625 20.015625 \r\nQ 33.0625 21.96875 24.703125 23.78125 \r\nL 21.578125 24.515625 \r\nQ 13.234375 26.265625 9.515625 29.90625 \r\nQ 5.8125 33.546875 5.8125 39.890625 \r\nQ 5.8125 47.609375 11.28125 51.796875 \r\nQ 16.75 56 26.8125 56 \r\nQ 31.78125 56 36.171875 55.265625 \r\nQ 40.578125 54.546875 44.28125 53.078125 \r\nz\r\n\" id=\"DejaVuSans-115\"/>\r\n     <path d=\"M -0.296875 72.90625 \r\nL 61.375 72.90625 \r\nL 61.375 64.59375 \r\nL 35.5 64.59375 \r\nL 35.5 0 \r\nL 25.59375 0 \r\nL 25.59375 64.59375 \r\nL -0.296875 64.59375 \r\nz\r\n\" id=\"DejaVuSans-84\"/>\r\n     <path d=\"M 64.40625 67.28125 \r\nL 64.40625 56.890625 \r\nQ 59.421875 61.53125 53.78125 63.8125 \r\nQ 48.140625 66.109375 41.796875 66.109375 \r\nQ 29.296875 66.109375 22.65625 58.46875 \r\nQ 16.015625 50.828125 16.015625 36.375 \r\nQ 16.015625 21.96875 22.65625 14.328125 \r\nQ 29.296875 6.6875 41.796875 6.6875 \r\nQ 48.140625 6.6875 53.78125 8.984375 \r\nQ 59.421875 11.28125 64.40625 15.921875 \r\nL 64.40625 5.609375 \r\nQ 59.234375 2.09375 53.4375 0.328125 \r\nQ 47.65625 -1.421875 41.21875 -1.421875 \r\nQ 24.65625 -1.421875 15.125 8.703125 \r\nQ 5.609375 18.84375 5.609375 36.375 \r\nQ 5.609375 53.953125 15.125 64.078125 \r\nQ 24.65625 74.21875 41.21875 74.21875 \r\nQ 47.75 74.21875 53.53125 72.484375 \r\nQ 59.328125 70.75 64.40625 67.28125 \r\nz\r\n\" id=\"DejaVuSans-67\"/>\r\n     <path d=\"M 2.984375 54.6875 \r\nL 12.5 54.6875 \r\nL 29.59375 8.796875 \r\nL 46.6875 54.6875 \r\nL 56.203125 54.6875 \r\nL 35.6875 0 \r\nL 23.484375 0 \r\nz\r\n\" id=\"DejaVuSans-118\"/>\r\n     <path d=\"M 8.5 21.578125 \r\nL 8.5 54.6875 \r\nL 17.484375 54.6875 \r\nL 17.484375 21.921875 \r\nQ 17.484375 14.15625 20.5 10.265625 \r\nQ 23.53125 6.390625 29.59375 6.390625 \r\nQ 36.859375 6.390625 41.078125 11.03125 \r\nQ 45.3125 15.671875 45.3125 23.6875 \r\nL 45.3125 54.6875 \r\nL 54.296875 54.6875 \r\nL 54.296875 0 \r\nL 45.3125 0 \r\nL 45.3125 8.40625 \r\nQ 42.046875 3.421875 37.71875 1 \r\nQ 33.40625 -1.421875 27.6875 -1.421875 \r\nQ 18.265625 -1.421875 13.375 4.4375 \r\nQ 8.5 10.296875 8.5 21.578125 \r\nz\r\nM 31.109375 56 \r\nz\r\n\" id=\"DejaVuSans-117\"/>\r\n    </defs>\r\n    <g transform=\"translate(552.879602 16.318125)scale(0.12 -0.12)\">\r\n     <use xlink:href=\"#DejaVuSans-68\"/>\r\n     <use x=\"77.001953\" xlink:href=\"#DejaVuSans-105\"/>\r\n     <use x=\"104.785156\" xlink:href=\"#DejaVuSans-102\"/>\r\n     <use x=\"139.990234\" xlink:href=\"#DejaVuSans-102\"/>\r\n     <use x=\"175.195312\" xlink:href=\"#DejaVuSans-101\"/>\r\n     <use x=\"236.71875\" xlink:href=\"#DejaVuSans-114\"/>\r\n     <use x=\"277.800781\" xlink:href=\"#DejaVuSans-101\"/>\r\n     <use x=\"339.324219\" xlink:href=\"#DejaVuSans-110\"/>\r\n     <use x=\"402.703125\" xlink:href=\"#DejaVuSans-99\"/>\r\n     <use x=\"457.683594\" xlink:href=\"#DejaVuSans-101\"/>\r\n     <use x=\"519.207031\" xlink:href=\"#DejaVuSans-115\"/>\r\n     <use x=\"571.306641\" xlink:href=\"#DejaVuSans-32\"/>\r\n     <use x=\"603.09375\" xlink:href=\"#DejaVuSans-105\"/>\r\n     <use x=\"630.876953\" xlink:href=\"#DejaVuSans-110\"/>\r\n     <use x=\"694.255859\" xlink:href=\"#DejaVuSans-32\"/>\r\n     <use x=\"726.042969\" xlink:href=\"#DejaVuSans-69\"/>\r\n     <use x=\"789.226562\" xlink:href=\"#DejaVuSans-97\"/>\r\n     <use x=\"850.505859\" xlink:href=\"#DejaVuSans-99\"/>\r\n     <use x=\"905.486328\" xlink:href=\"#DejaVuSans-104\"/>\r\n     <use x=\"968.865234\" xlink:href=\"#DejaVuSans-32\"/>\r\n     <use x=\"1000.652344\" xlink:href=\"#DejaVuSans-84\"/>\r\n     <use x=\"1061.486328\" xlink:href=\"#DejaVuSans-119\"/>\r\n     <use x=\"1143.273438\" xlink:href=\"#DejaVuSans-111\"/>\r\n     <use x=\"1204.455078\" xlink:href=\"#DejaVuSans-32\"/>\r\n     <use x=\"1236.242188\" xlink:href=\"#DejaVuSans-67\"/>\r\n     <use x=\"1306.066406\" xlink:href=\"#DejaVuSans-111\"/>\r\n     <use x=\"1367.248047\" xlink:href=\"#DejaVuSans-110\"/>\r\n     <use x=\"1430.626953\" xlink:href=\"#DejaVuSans-115\"/>\r\n     <use x=\"1482.726562\" xlink:href=\"#DejaVuSans-101\"/>\r\n     <use x=\"1544.25\" xlink:href=\"#DejaVuSans-99\"/>\r\n     <use x=\"1599.230469\" xlink:href=\"#DejaVuSans-116\"/>\r\n     <use x=\"1638.439453\" xlink:href=\"#DejaVuSans-105\"/>\r\n     <use x=\"1666.222656\" xlink:href=\"#DejaVuSans-118\"/>\r\n     <use x=\"1725.402344\" xlink:href=\"#DejaVuSans-101\"/>\r\n     <use x=\"1786.925781\" xlink:href=\"#DejaVuSans-32\"/>\r\n     <use x=\"1818.712891\" xlink:href=\"#DejaVuSans-67\"/>\r\n     <use x=\"1888.537109\" xlink:href=\"#DejaVuSans-108\"/>\r\n     <use x=\"1916.320312\" xlink:href=\"#DejaVuSans-117\"/>\r\n     <use x=\"1979.699219\" xlink:href=\"#DejaVuSans-115\"/>\r\n     <use x=\"2031.798828\" xlink:href=\"#DejaVuSans-116\"/>\r\n     <use x=\"2071.007812\" xlink:href=\"#DejaVuSans-101\"/>\r\n     <use x=\"2132.53125\" xlink:href=\"#DejaVuSans-114\"/>\r\n     <use x=\"2173.644531\" xlink:href=\"#DejaVuSans-115\"/>\r\n    </g>\r\n   </g>\r\n  </g>\r\n </g>\r\n <defs>\r\n  <clipPath id=\"pfb71e10982\">\r\n   <rect height=\"326.16\" width=\"380.454545\" x=\"39.65\" y=\"22.318125\"/>\r\n  </clipPath>\r\n  <clipPath id=\"p5f9790eaac\">\r\n   <rect height=\"326.16\" width=\"380.454545\" x=\"496.195455\" y=\"22.318125\"/>\r\n  </clipPath>\r\n </defs>\r\n</svg>\r\n",
      "image/png": "[encoded data removed]"
     },
     "metadata": {
      "needs_background": "light"
     }
    }
   ],
   "source": [
    "elbow_method.run(1, 60)\n",
    "elbow_method.showPlot(boundary = 10)"
   ]
  },
  {
   "cell_type": "code",
   "execution_count": 23,
   "metadata": {},
   "outputs": [],
   "source": [
    "kmeans = KMeans(n_clusters=42, init = 'k-means++', max_iter = 300, n_init = 10, random_state = 0)\n",
    "clusters = kmeans.fit_predict(sparseMatrix)"
   ]
  },
  {
   "cell_type": "code",
   "execution_count": 24,
   "metadata": {},
   "outputs": [
    {
     "output_type": "execute_result",
     "data": {
      "text/plain": [
       "         0   1   2   3   4   5   6   7   8   9   ...  90  91  92   93   94  \\\n",
       "userId    1   3   4   5   6   7   8   9  11  12  ...  96  98  99  100  101   \n",
       "Cluster  37   0  21   4   6  11  15   0   1   0  ...   4  11  27   33    0   \n",
       "\n",
       "          95   96   97   98   99  \n",
       "userId   102  103  104  105  107  \n",
       "Cluster   26   14   32   16   19  \n",
       "\n",
       "[2 rows x 100 columns]"
      ],
      "text/html": "<div>\n<style scoped>\n    .dataframe tbody tr th:only-of-type {\n        vertical-align: middle;\n    }\n\n    .dataframe tbody tr th {\n        vertical-align: top;\n    }\n\n    .dataframe thead th {\n        text-align: right;\n    }\n</style>\n<table border=\"1\" class=\"dataframe\">\n  <thead>\n    <tr style=\"text-align: right;\">\n      <th></th>\n      <th>0</th>\n      <th>1</th>\n      <th>2</th>\n      <th>3</th>\n      <th>4</th>\n      <th>5</th>\n      <th>6</th>\n      <th>7</th>\n      <th>8</th>\n      <th>9</th>\n      <th>...</th>\n      <th>90</th>\n      <th>91</th>\n      <th>92</th>\n      <th>93</th>\n      <th>94</th>\n      <th>95</th>\n      <th>96</th>\n      <th>97</th>\n      <th>98</th>\n      <th>99</th>\n    </tr>\n  </thead>\n  <tbody>\n    <tr>\n      <th>userId</th>\n      <td>1</td>\n      <td>3</td>\n      <td>4</td>\n      <td>5</td>\n      <td>6</td>\n      <td>7</td>\n      <td>8</td>\n      <td>9</td>\n      <td>11</td>\n      <td>12</td>\n      <td>...</td>\n      <td>96</td>\n      <td>98</td>\n      <td>99</td>\n      <td>100</td>\n      <td>101</td>\n      <td>102</td>\n      <td>103</td>\n      <td>104</td>\n      <td>105</td>\n      <td>107</td>\n    </tr>\n    <tr>\n      <th>Cluster</th>\n      <td>37</td>\n      <td>0</td>\n      <td>21</td>\n      <td>4</td>\n      <td>6</td>\n      <td>11</td>\n      <td>15</td>\n      <td>0</td>\n      <td>1</td>\n      <td>0</td>\n      <td>...</td>\n      <td>4</td>\n      <td>11</td>\n      <td>27</td>\n      <td>33</td>\n      <td>0</td>\n      <td>26</td>\n      <td>14</td>\n      <td>32</td>\n      <td>16</td>\n      <td>19</td>\n    </tr>\n  </tbody>\n</table>\n<p>2 rows × 100 columns</p>\n</div>"
     },
     "metadata": {},
     "execution_count": 24
    }
   ],
   "source": [
    "users_cluster = pd.DataFrame(np.concatenate((users.reshape(-1,1), clusters.reshape(-1,1)), axis = 1), columns = ['userId', 'Cluster'])\n",
    "users_cluster.T"
   ]
  },
  {
   "cell_type": "code",
   "execution_count": 25,
   "metadata": {},
   "outputs": [],
   "source": [
    "def clustersMovies(users_cluster, users_data):\n",
    "    clusters = list(users_cluster['Cluster'])\n",
    "    each_cluster_movies = list()\n",
    "    for i in range(len(np.unique(clusters))):\n",
    "        users_list = list(users_cluster[users_cluster['Cluster'] == i]['userId'])\n",
    "        users_movies_list = list()\n",
    "        for user in users_list:    \n",
    "            users_movies_list.extend(list(users_data[users_data['userId'] == user]['movieId']))\n",
    "        users_movies_counts = list()\n",
    "        users_movies_counts.extend([[movie, users_movies_list.count(movie)] for movie in np.unique(users_movies_list)])\n",
    "        each_cluster_movies.append(pd.DataFrame(users_movies_counts, columns=['movieId', 'Count']).sort_values(by = ['Count'], ascending = False).reset_index(drop=True))\n",
    "    return each_cluster_movies\n",
    "cluster_movies = clustersMovies(users_cluster, users_fav_movies)"
   ]
  },
  {
   "cell_type": "code",
   "execution_count": 26,
   "metadata": {},
   "outputs": [
    {
     "output_type": "execute_result",
     "data": {
      "text/plain": [
       "         0   1   2   3   4    5    6    7    8    9   10\n",
       "movieId  6  10  36  44  95  110  150  153  165  170  208\n",
       "Count    1   1   1   1   1    1    1    1    1    1    1"
      ],
      "text/html": "<div>\n<style scoped>\n    .dataframe tbody tr th:only-of-type {\n        vertical-align: middle;\n    }\n\n    .dataframe tbody tr th {\n        vertical-align: top;\n    }\n\n    .dataframe thead th {\n        text-align: right;\n    }\n</style>\n<table border=\"1\" class=\"dataframe\">\n  <thead>\n    <tr style=\"text-align: right;\">\n      <th></th>\n      <th>0</th>\n      <th>1</th>\n      <th>2</th>\n      <th>3</th>\n      <th>4</th>\n      <th>5</th>\n      <th>6</th>\n      <th>7</th>\n      <th>8</th>\n      <th>9</th>\n      <th>10</th>\n    </tr>\n  </thead>\n  <tbody>\n    <tr>\n      <th>movieId</th>\n      <td>6</td>\n      <td>10</td>\n      <td>36</td>\n      <td>44</td>\n      <td>95</td>\n      <td>110</td>\n      <td>150</td>\n      <td>153</td>\n      <td>165</td>\n      <td>170</td>\n      <td>208</td>\n    </tr>\n    <tr>\n      <th>Count</th>\n      <td>1</td>\n      <td>1</td>\n      <td>1</td>\n      <td>1</td>\n      <td>1</td>\n      <td>1</td>\n      <td>1</td>\n      <td>1</td>\n      <td>1</td>\n      <td>1</td>\n      <td>1</td>\n    </tr>\n  </tbody>\n</table>\n</div>"
     },
     "metadata": {},
     "execution_count": 26
    }
   ],
   "source": [
    "cluster_movies[1].T"
   ]
  },
  {
   "cell_type": "code",
   "execution_count": 27,
   "metadata": {},
   "outputs": [
    {
     "output_type": "stream",
     "name": "stdout",
     "text": [
      "Users in Cluster 0 ->  24\nUsers in Cluster 1 ->  1\nUsers in Cluster 2 ->  1\nUsers in Cluster 3 ->  1\nUsers in Cluster 4 ->  4\nUsers in Cluster 5 ->  1\nUsers in Cluster 6 ->  1\nUsers in Cluster 7 ->  2\nUsers in Cluster 8 ->  1\nUsers in Cluster 9 ->  1\nUsers in Cluster 10 ->  1\nUsers in Cluster 11 ->  13\nUsers in Cluster 12 ->  1\nUsers in Cluster 13 ->  1\nUsers in Cluster 14 ->  1\nUsers in Cluster 15 ->  2\nUsers in Cluster 16 ->  10\nUsers in Cluster 17 ->  1\nUsers in Cluster 18 ->  1\nUsers in Cluster 19 ->  1\nUsers in Cluster 20 ->  1\nUsers in Cluster 21 ->  1\nUsers in Cluster 22 ->  1\nUsers in Cluster 23 ->  1\nUsers in Cluster 24 ->  1\nUsers in Cluster 25 ->  1\nUsers in Cluster 26 ->  1\nUsers in Cluster 27 ->  1\nUsers in Cluster 28 ->  1\nUsers in Cluster 29 ->  1\nUsers in Cluster 30 ->  3\nUsers in Cluster 31 ->  1\nUsers in Cluster 32 ->  7\nUsers in Cluster 33 ->  1\nUsers in Cluster 34 ->  1\nUsers in Cluster 35 ->  1\nUsers in Cluster 36 ->  1\nUsers in Cluster 37 ->  1\nUsers in Cluster 38 ->  1\nUsers in Cluster 39 ->  1\nUsers in Cluster 40 ->  1\nUsers in Cluster 41 ->  2\n"
     ]
    }
   ],
   "source": [
    "for i in range(42):\n",
    "    len_users = users_cluster[users_cluster['Cluster'] == i].shape[0]\n",
    "    print('Users in Cluster ' + str(i) + ' -> ', len_users) "
   ]
  },
  {
   "cell_type": "code",
   "execution_count": 28,
   "metadata": {},
   "outputs": [],
   "source": [
    "def getMoviesOfUser(user_id, users_data):\n",
    "    return list(users_data[users_data['userId'] == user_id]['movieId'])"
   ]
  },
  {
   "cell_type": "code",
   "execution_count": 29,
   "metadata": {},
   "outputs": [],
   "source": [
    "def fixClusters(clusters_movies_dataframes, users_cluster_dataframe, users_data, smallest_cluster_size = 11):\n",
    "    # clusters_movies_dataframes: will be a list which will contain each dataframes of each cluster movies\n",
    "    # users_cluster_dataframe: will be a dataframe which contain users IDs and their cluster no.\n",
    "    # smallest_cluster_size: is a smallest cluster size which we want for a cluster to not remove\n",
    "    each_cluster_movies = clusters_movies_dataframes.copy()\n",
    "    users_cluster = users_cluster_dataframe.copy()\n",
    "    # Let convert dataframe in each_cluster_movies to list with containing only movies IDs\n",
    "    each_cluster_movies_list = [list(df['movieId']) for df in each_cluster_movies]\n",
    "    # First we will prepair a list which containt lists of users in each cluster -> [[Cluster 0 Users], [Cluster 1 Users], ... ,[Cluster N Users]] \n",
    "    usersInClusters = list()\n",
    "    total_clusters = len(each_cluster_movies)\n",
    "    for i in range(total_clusters):\n",
    "        usersInClusters.append(list(users_cluster[users_cluster['Cluster'] == i]['userId']))\n",
    "    uncategorizedUsers = list()\n",
    "    i = 0\n",
    "    # Now we will remove small clusters and put their users into another list named \"uncategorizedUsers\"\n",
    "    # Also when we will remove a cluster, then we have also bring back cluster numbers of users which comes after deleting cluster\n",
    "    # E.g. if we have deleted cluster 4 then their will be users whose clusters will be 5,6,7,..,N. So, we'll bring back those users cluster number to 4,5,6,...,N-1.\n",
    "    for j in range(total_clusters):\n",
    "        if len(usersInClusters[i]) < smallest_cluster_size:\n",
    "            uncategorizedUsers.extend(usersInClusters[i])\n",
    "            usersInClusters.pop(i)\n",
    "            each_cluster_movies.pop(i)\n",
    "            each_cluster_movies_list.pop(i)\n",
    "            users_cluster.loc[users_cluster['Cluster'] > i, 'Cluster'] -= 1\n",
    "            i -= 1\n",
    "        i += 1\n",
    "    for user in uncategorizedUsers:\n",
    "        elemProbability = list()\n",
    "        user_movies = getMoviesOfUser(user, users_data)\n",
    "        if len(user_movies) == 0:\n",
    "            print(user)\n",
    "        user_missed_movies = list()\n",
    "        for movies_list in each_cluster_movies_list:\n",
    "            count = 0\n",
    "            missed_movies = list()\n",
    "            for movie in user_movies:\n",
    "                if movie in movies_list:\n",
    "                    count += 1\n",
    "                else:\n",
    "                    missed_movies.append(movie)\n",
    "            elemProbability.append(count / len(user_movies))\n",
    "            user_missed_movies.append(missed_movies)\n",
    "        user_new_cluster = np.array(elemProbability).argmax()\n",
    "        users_cluster.loc[users_cluster['userId'] == user, 'Cluster'] = user_new_cluster\n",
    "        if len(user_missed_movies[user_new_cluster]) > 0:\n",
    "            each_cluster_movies[user_new_cluster] = each_cluster_movies[user_new_cluster].append([{'movieId': new_movie, 'Count': 1} for new_movie in user_missed_movies[user_new_cluster]], ignore_index = True)\n",
    "    return each_cluster_movies, users_cluster "
   ]
  },
  {
   "cell_type": "code",
   "execution_count": 30,
   "metadata": {},
   "outputs": [],
   "source": [
    "movies_df_fixed, clusters_fixed = fixClusters(cluster_movies, users_cluster, users_fav_movies, smallest_cluster_size = 6)"
   ]
  },
  {
   "cell_type": "code",
   "execution_count": 31,
   "metadata": {},
   "outputs": [
    {
     "output_type": "stream",
     "name": "stdout",
     "text": [
      "Users in Cluster 1 ->  1\nUsers in Cluster 2 ->  1\nUsers in Cluster 3 ->  1\nUsers in Cluster 4 ->  4\nUsers in Cluster 5 ->  1\nUsers in Cluster 6 ->  1\nUsers in Cluster 7 ->  2\nUsers in Cluster 8 ->  1\nUsers in Cluster 9 ->  1\nUsers in Cluster 10 ->  1\nUsers in Cluster 12 ->  1\nUsers in Cluster 13 ->  1\nUsers in Cluster 14 ->  1\nTotal Cluster which we want to remove ->  13\n"
     ]
    }
   ],
   "source": [
    "j = 0\n",
    "for i in range(15):\n",
    "    len_users = users_cluster[users_cluster['Cluster'] == i].shape[0]\n",
    "    if len_users < 6:\n",
    "        print('Users in Cluster ' + str(i) + ' -> ', len_users)\n",
    "        j += 1\n",
    "print('Total Cluster which we want to remove -> ', j) "
   ]
  },
  {
   "cell_type": "code",
   "execution_count": 32,
   "metadata": {},
   "outputs": [
    {
     "output_type": "stream",
     "name": "stdout",
     "text": [
      "Length of total clusters before fixing is ->  42\nMax value in users_cluster dataframe column Cluster is ->  41\nAnd dataframe is following\n"
     ]
    },
    {
     "output_type": "execute_result",
     "data": {
      "text/plain": [
       "         0   1   2   3   4   5   6   7   8   9   ...  90  91  92   93   94  \\\n",
       "userId    1   3   4   5   6   7   8   9  11  12  ...  96  98  99  100  101   \n",
       "Cluster  37   0  21   4   6  11  15   0   1   0  ...   4  11  27   33    0   \n",
       "\n",
       "          95   96   97   98   99  \n",
       "userId   102  103  104  105  107  \n",
       "Cluster   26   14   32   16   19  \n",
       "\n",
       "[2 rows x 100 columns]"
      ],
      "text/html": "<div>\n<style scoped>\n    .dataframe tbody tr th:only-of-type {\n        vertical-align: middle;\n    }\n\n    .dataframe tbody tr th {\n        vertical-align: top;\n    }\n\n    .dataframe thead th {\n        text-align: right;\n    }\n</style>\n<table border=\"1\" class=\"dataframe\">\n  <thead>\n    <tr style=\"text-align: right;\">\n      <th></th>\n      <th>0</th>\n      <th>1</th>\n      <th>2</th>\n      <th>3</th>\n      <th>4</th>\n      <th>5</th>\n      <th>6</th>\n      <th>7</th>\n      <th>8</th>\n      <th>9</th>\n      <th>...</th>\n      <th>90</th>\n      <th>91</th>\n      <th>92</th>\n      <th>93</th>\n      <th>94</th>\n      <th>95</th>\n      <th>96</th>\n      <th>97</th>\n      <th>98</th>\n      <th>99</th>\n    </tr>\n  </thead>\n  <tbody>\n    <tr>\n      <th>userId</th>\n      <td>1</td>\n      <td>3</td>\n      <td>4</td>\n      <td>5</td>\n      <td>6</td>\n      <td>7</td>\n      <td>8</td>\n      <td>9</td>\n      <td>11</td>\n      <td>12</td>\n      <td>...</td>\n      <td>96</td>\n      <td>98</td>\n      <td>99</td>\n      <td>100</td>\n      <td>101</td>\n      <td>102</td>\n      <td>103</td>\n      <td>104</td>\n      <td>105</td>\n      <td>107</td>\n    </tr>\n    <tr>\n      <th>Cluster</th>\n      <td>37</td>\n      <td>0</td>\n      <td>21</td>\n      <td>4</td>\n      <td>6</td>\n      <td>11</td>\n      <td>15</td>\n      <td>0</td>\n      <td>1</td>\n      <td>0</td>\n      <td>...</td>\n      <td>4</td>\n      <td>11</td>\n      <td>27</td>\n      <td>33</td>\n      <td>0</td>\n      <td>26</td>\n      <td>14</td>\n      <td>32</td>\n      <td>16</td>\n      <td>19</td>\n    </tr>\n  </tbody>\n</table>\n<p>2 rows × 100 columns</p>\n</div>"
     },
     "metadata": {},
     "execution_count": 32
    }
   ],
   "source": [
    "print('Length of total clusters before fixing is -> ', len(cluster_movies))\n",
    "print('Max value in users_cluster dataframe column Cluster is -> ', users_cluster['Cluster'].max())\n",
    "print('And dataframe is following')\n",
    "users_cluster.T "
   ]
  },
  {
   "cell_type": "code",
   "execution_count": 33,
   "metadata": {},
   "outputs": [
    {
     "output_type": "stream",
     "name": "stdout",
     "text": [
      "Length of total clusters after fixing is ->  4\nMax value in users_cluster dataframe column Cluster is ->  3\nAnd fixed dataframe is following\n"
     ]
    },
    {
     "output_type": "execute_result",
     "data": {
      "text/plain": [
       "         0   1   2   3   4   5   6   7   8   9   ...  90  91  92   93   94  \\\n",
       "userId    1   3   4   5   6   7   8   9  11  12  ...  96  98  99  100  101   \n",
       "Cluster   0   0   2   1   1   1   1   0   1   0  ...   1   1   1    0    0   \n",
       "\n",
       "          95   96   97   98   99  \n",
       "userId   102  103  104  105  107  \n",
       "Cluster    0    0    3    2    1  \n",
       "\n",
       "[2 rows x 100 columns]"
      ],
      "text/html": "<div>\n<style scoped>\n    .dataframe tbody tr th:only-of-type {\n        vertical-align: middle;\n    }\n\n    .dataframe tbody tr th {\n        vertical-align: top;\n    }\n\n    .dataframe thead th {\n        text-align: right;\n    }\n</style>\n<table border=\"1\" class=\"dataframe\">\n  <thead>\n    <tr style=\"text-align: right;\">\n      <th></th>\n      <th>0</th>\n      <th>1</th>\n      <th>2</th>\n      <th>3</th>\n      <th>4</th>\n      <th>5</th>\n      <th>6</th>\n      <th>7</th>\n      <th>8</th>\n      <th>9</th>\n      <th>...</th>\n      <th>90</th>\n      <th>91</th>\n      <th>92</th>\n      <th>93</th>\n      <th>94</th>\n      <th>95</th>\n      <th>96</th>\n      <th>97</th>\n      <th>98</th>\n      <th>99</th>\n    </tr>\n  </thead>\n  <tbody>\n    <tr>\n      <th>userId</th>\n      <td>1</td>\n      <td>3</td>\n      <td>4</td>\n      <td>5</td>\n      <td>6</td>\n      <td>7</td>\n      <td>8</td>\n      <td>9</td>\n      <td>11</td>\n      <td>12</td>\n      <td>...</td>\n      <td>96</td>\n      <td>98</td>\n      <td>99</td>\n      <td>100</td>\n      <td>101</td>\n      <td>102</td>\n      <td>103</td>\n      <td>104</td>\n      <td>105</td>\n      <td>107</td>\n    </tr>\n    <tr>\n      <th>Cluster</th>\n      <td>0</td>\n      <td>0</td>\n      <td>2</td>\n      <td>1</td>\n      <td>1</td>\n      <td>1</td>\n      <td>1</td>\n      <td>0</td>\n      <td>1</td>\n      <td>0</td>\n      <td>...</td>\n      <td>1</td>\n      <td>1</td>\n      <td>1</td>\n      <td>0</td>\n      <td>0</td>\n      <td>0</td>\n      <td>0</td>\n      <td>3</td>\n      <td>2</td>\n      <td>1</td>\n    </tr>\n  </tbody>\n</table>\n<p>2 rows × 100 columns</p>\n</div>"
     },
     "metadata": {},
     "execution_count": 33
    }
   ],
   "source": [
    "print('Length of total clusters after fixing is -> ', len(movies_df_fixed))\n",
    "print('Max value in users_cluster dataframe column Cluster is -> ', clusters_fixed['Cluster'].max())\n",
    "print('And fixed dataframe is following')\n",
    "clusters_fixed.T "
   ]
  },
  {
   "cell_type": "code",
   "execution_count": 34,
   "metadata": {},
   "outputs": [
    {
     "output_type": "stream",
     "name": "stdout",
     "text": [
      "Users cluster dataFrame for cluster 11 before fixing:\n"
     ]
    },
    {
     "output_type": "execute_result",
     "data": {
      "text/plain": [
       "         5   12  24  26  34  41  47  68  71  72  80  83  91\n",
       "userId    7  15  27  29  37  44  50  73  76  78  86  89  98\n",
       "Cluster  11  11  11  11  11  11  11  11  11  11  11  11  11"
      ],
      "text/html": "<div>\n<style scoped>\n    .dataframe tbody tr th:only-of-type {\n        vertical-align: middle;\n    }\n\n    .dataframe tbody tr th {\n        vertical-align: top;\n    }\n\n    .dataframe thead th {\n        text-align: right;\n    }\n</style>\n<table border=\"1\" class=\"dataframe\">\n  <thead>\n    <tr style=\"text-align: right;\">\n      <th></th>\n      <th>5</th>\n      <th>12</th>\n      <th>24</th>\n      <th>26</th>\n      <th>34</th>\n      <th>41</th>\n      <th>47</th>\n      <th>68</th>\n      <th>71</th>\n      <th>72</th>\n      <th>80</th>\n      <th>83</th>\n      <th>91</th>\n    </tr>\n  </thead>\n  <tbody>\n    <tr>\n      <th>userId</th>\n      <td>7</td>\n      <td>15</td>\n      <td>27</td>\n      <td>29</td>\n      <td>37</td>\n      <td>44</td>\n      <td>50</td>\n      <td>73</td>\n      <td>76</td>\n      <td>78</td>\n      <td>86</td>\n      <td>89</td>\n      <td>98</td>\n    </tr>\n    <tr>\n      <th>Cluster</th>\n      <td>11</td>\n      <td>11</td>\n      <td>11</td>\n      <td>11</td>\n      <td>11</td>\n      <td>11</td>\n      <td>11</td>\n      <td>11</td>\n      <td>11</td>\n      <td>11</td>\n      <td>11</td>\n      <td>11</td>\n      <td>11</td>\n    </tr>\n  </tbody>\n</table>\n</div>"
     },
     "metadata": {},
     "execution_count": 34
    }
   ],
   "source": [
    "print('Users cluster dataFrame for cluster 11 before fixing:')\n",
    "users_cluster[users_cluster['Cluster'] == 11].T "
   ]
  },
  {
   "cell_type": "code",
   "execution_count": 35,
   "metadata": {},
   "outputs": [
    {
     "output_type": "stream",
     "name": "stdout",
     "text": [
      "Users cluster dataFrame for cluster 4 after fixing which should be same as 11th cluster before fixing:\n"
     ]
    },
    {
     "output_type": "execute_result",
     "data": {
      "text/plain": [
       "Empty DataFrame\n",
       "Columns: []\n",
       "Index: [userId, Cluster]"
      ],
      "text/html": "<div>\n<style scoped>\n    .dataframe tbody tr th:only-of-type {\n        vertical-align: middle;\n    }\n\n    .dataframe tbody tr th {\n        vertical-align: top;\n    }\n\n    .dataframe thead th {\n        text-align: right;\n    }\n</style>\n<table border=\"1\" class=\"dataframe\">\n  <thead>\n    <tr style=\"text-align: right;\">\n      <th></th>\n    </tr>\n  </thead>\n  <tbody>\n    <tr>\n      <th>userId</th>\n    </tr>\n    <tr>\n      <th>Cluster</th>\n    </tr>\n  </tbody>\n</table>\n</div>"
     },
     "metadata": {},
     "execution_count": 35
    }
   ],
   "source": [
    "print('Users cluster dataFrame for cluster 4 after fixing which should be same as 11th cluster before fixing:')\n",
    "clusters_fixed[clusters_fixed['Cluster'] == 4].T "
   ]
  },
  {
   "cell_type": "code",
   "execution_count": 36,
   "metadata": {},
   "outputs": [
    {
     "output_type": "stream",
     "name": "stdout",
     "text": [
      "Users in Cluster 0 ->  39\nUsers in Cluster 1 ->  41\nUsers in Cluster 2 ->  13\nUsers in Cluster 3 ->  7\n"
     ]
    }
   ],
   "source": [
    "for i in range(len(movies_df_fixed)):\n",
    "    len_users = clusters_fixed[clusters_fixed['Cluster'] == i].shape[0]\n",
    "    print('Users in Cluster ' + str(i) + ' -> ', len_users) "
   ]
  },
  {
   "cell_type": "code",
   "execution_count": 37,
   "metadata": {},
   "outputs": [],
   "source": [
    "class saveLoadFiles:\n",
    "    def save(self, filename, data):\n",
    "        try:\n",
    "            file = open('CAB420_Assessment_1C_Data/Data/' + filename + '.pkl', 'wb')\n",
    "            pickle.dump(data, file)\n",
    "        except:\n",
    "            err = 'Error: {0}, {1}'.format(exc_info()[0], exc_info()[1])\n",
    "            print(err)\n",
    "            file.close()\n",
    "            return [False, err]\n",
    "        else:\n",
    "            file.close()\n",
    "            return [True]\n",
    "    def load(self, filename):\n",
    "        try:\n",
    "            file = open('CAB420_Assessment_1C_Data/Data/' + filename + '.pkl', 'rb')\n",
    "        except:\n",
    "            err = 'Error: {0}, {1}'.format(exc_info()[0], exc_info()[1])\n",
    "            print(err)\n",
    "            file.close()\n",
    "            return [False, err]\n",
    "        else:\n",
    "            data = pickle.load(file)\n",
    "            file.close()\n",
    "            return data\n",
    "    def loadClusterMoviesDataset(self):\n",
    "        return self.load('clusters_movies_dataset')\n",
    "    def saveClusterMoviesDataset(self, data):\n",
    "        return self.save('clusters_movies_dataset', data)\n",
    "    def loadUsersClusters(self):\n",
    "        return self.load('users_clusters')\n",
    "    def saveUsersClusters(self, data):\n",
    "        return self.save('users_clusters', data)"
   ]
  },
  {
   "cell_type": "code",
   "execution_count": 38,
   "metadata": {},
   "outputs": [
    {
     "output_type": "stream",
     "name": "stdout",
     "text": [
      "[True]\n[True]\n"
     ]
    }
   ],
   "source": [
    "saveLoadFile = saveLoadFiles()\n",
    "print(saveLoadFile.saveClusterMoviesDataset(movies_df_fixed))\n",
    "print(saveLoadFile.saveUsersClusters(clusters_fixed)) "
   ]
  },
  {
   "cell_type": "code",
   "execution_count": 43,
   "metadata": {},
   "outputs": [
    {
     "output_type": "stream",
     "name": "stdout",
     "text": [
      "Type of Loading list of Movies dataframes of 5 Clusters:  <class 'list'>  and Length is:  4\nType of Loading 100 Users clusters Data:  <class 'pandas.core.frame.DataFrame'>  and Shape is:  (100, 2)\n"
     ]
    }
   ],
   "source": [
    "load_movies_list, load_users_clusters = saveLoadFile.loadClusterMoviesDataset(), saveLoadFile.loadUsersClusters()\n",
    "print('Type of Loading list of Movies dataframes of 5 Clusters: ', type(load_movies_list), ' and Length is: ', len(load_movies_list))\n",
    "print('Type of Loading 100 Users clusters Data: ', type(load_users_clusters), ' and Shape is: ', load_users_clusters.shape) "
   ]
  },
  {
   "cell_type": "code",
   "execution_count": 39,
   "metadata": {},
   "outputs": [],
   "source": [
    "class userRequestedFor:\n",
    "    def __init__(self, user_id, users_data):\n",
    "        self.users_data = users_data.copy()\n",
    "        self.user_id = user_id\n",
    "        # Find User Cluster\n",
    "        users_cluster = saveLoadFiles().loadUsersClusters()\n",
    "        self.user_cluster = int(users_cluster[users_cluster['userId'] == self.user_id]['Cluster'])\n",
    "        # Load User Cluster Movies Dataframe\n",
    "        self.movies_list = saveLoadFiles().loadClusterMoviesDataset()\n",
    "        self.cluster_movies = self.movies_list[self.user_cluster] # dataframe\n",
    "        self.cluster_movies_list = list(self.cluster_movies['movieId']) # list\n",
    "    def updatedFavouriteMoviesList(self, new_movie_Id):\n",
    "        if new_movie_Id in self.cluster_movies_list:\n",
    "            self.cluster_movies.loc[self.cluster_movies['movieId'] == new_movie_Id, 'Count'] += 1\n",
    "        else:\n",
    "            self.cluster_movies = self.cluster_movies.append([{'movieId':new_movie_Id, 'Count': 1}], ignore_index=True)\n",
    "        self.cluster_movies.sort_values(by = ['Count'], ascending = False, inplace= True)\n",
    "        self.movies_list[self.user_cluster] = self.cluster_movies\n",
    "        saveLoadFiles().saveClusterMoviesDataset(self.movies_list)\n",
    "\n",
    "    def recommendMostFavouriteMovies(self):\n",
    "        try:\n",
    "            user_movies = getMoviesOfUser(self.user_id, self.users_data)\n",
    "            cluster_movies_list = self.cluster_movies_list.copy()\n",
    "            for user_movie in user_movies:\n",
    "                if user_movie in cluster_movies_list:\n",
    "                    cluster_movies_list.remove(user_movie)\n",
    "            return [True, cluster_movies_list]\n",
    "        except KeyError:\n",
    "            err = \"User history does not exist\"\n",
    "            print(err)\n",
    "            return [False, err]\n",
    "        except:\n",
    "            err = 'Error: {0}, {1}'.format(exc_info()[0], exc_info()[1])\n",
    "            print(err)\n",
    "            return [False, err]"
   ]
  },
  {
   "cell_type": "code",
   "execution_count": 44,
   "metadata": {},
   "outputs": [
    {
     "output_type": "stream",
     "name": "stdout",
     "text": [
      "Let take a look at movie metadata for all those movies which we were had in our dataset\n"
     ]
    },
    {
     "output_type": "execute_result",
     "data": {
      "text/plain": [
       "     movieId                                        title  \\\n",
       "0          1                             Toy Story (1995)   \n",
       "1          2                               Jumanji (1995)   \n",
       "2          3                      Grumpier Old Men (1995)   \n",
       "3          4                     Waiting to Exhale (1995)   \n",
       "4          5           Father of the Bride Part II (1995)   \n",
       "..       ...                                          ...   \n",
       "155      228            Destiny Turns on the Radio (1995)   \n",
       "156      230                     Dolores Claiborne (1995)   \n",
       "157      231       Dumb & Dumber (Dumb and Dumber) (1994)   \n",
       "158      232  Eat Drink Man Woman (Yin shi nan nu) (1994)   \n",
       "159      233                               Exotica (1994)   \n",
       "\n",
       "                                          genres  \n",
       "0    Adventure|Animation|Children|Comedy|Fantasy  \n",
       "1                     Adventure|Children|Fantasy  \n",
       "2                                 Comedy|Romance  \n",
       "3                           Comedy|Drama|Romance  \n",
       "4                                         Comedy  \n",
       "..                                           ...  \n",
       "155                                       Comedy  \n",
       "156                               Drama|Thriller  \n",
       "157                             Adventure|Comedy  \n",
       "158                         Comedy|Drama|Romance  \n",
       "159                                        Drama  \n",
       "\n",
       "[160 rows x 3 columns]"
      ],
      "text/html": "<div>\n<style scoped>\n    .dataframe tbody tr th:only-of-type {\n        vertical-align: middle;\n    }\n\n    .dataframe tbody tr th {\n        vertical-align: top;\n    }\n\n    .dataframe thead th {\n        text-align: right;\n    }\n</style>\n<table border=\"1\" class=\"dataframe\">\n  <thead>\n    <tr style=\"text-align: right;\">\n      <th></th>\n      <th>movieId</th>\n      <th>title</th>\n      <th>genres</th>\n    </tr>\n  </thead>\n  <tbody>\n    <tr>\n      <th>0</th>\n      <td>1</td>\n      <td>Toy Story (1995)</td>\n      <td>Adventure|Animation|Children|Comedy|Fantasy</td>\n    </tr>\n    <tr>\n      <th>1</th>\n      <td>2</td>\n      <td>Jumanji (1995)</td>\n      <td>Adventure|Children|Fantasy</td>\n    </tr>\n    <tr>\n      <th>2</th>\n      <td>3</td>\n      <td>Grumpier Old Men (1995)</td>\n      <td>Comedy|Romance</td>\n    </tr>\n    <tr>\n      <th>3</th>\n      <td>4</td>\n      <td>Waiting to Exhale (1995)</td>\n      <td>Comedy|Drama|Romance</td>\n    </tr>\n    <tr>\n      <th>4</th>\n      <td>5</td>\n      <td>Father of the Bride Part II (1995)</td>\n      <td>Comedy</td>\n    </tr>\n    <tr>\n      <th>...</th>\n      <td>...</td>\n      <td>...</td>\n      <td>...</td>\n    </tr>\n    <tr>\n      <th>155</th>\n      <td>228</td>\n      <td>Destiny Turns on the Radio (1995)</td>\n      <td>Comedy</td>\n    </tr>\n    <tr>\n      <th>156</th>\n      <td>230</td>\n      <td>Dolores Claiborne (1995)</td>\n      <td>Drama|Thriller</td>\n    </tr>\n    <tr>\n      <th>157</th>\n      <td>231</td>\n      <td>Dumb &amp; Dumber (Dumb and Dumber) (1994)</td>\n      <td>Adventure|Comedy</td>\n    </tr>\n    <tr>\n      <th>158</th>\n      <td>232</td>\n      <td>Eat Drink Man Woman (Yin shi nan nu) (1994)</td>\n      <td>Comedy|Drama|Romance</td>\n    </tr>\n    <tr>\n      <th>159</th>\n      <td>233</td>\n      <td>Exotica (1994)</td>\n      <td>Drama</td>\n    </tr>\n  </tbody>\n</table>\n<p>160 rows × 3 columns</p>\n</div>"
     },
     "metadata": {},
     "execution_count": 44
    }
   ],
   "source": [
    "\n",
    "\n",
    "movies_metadata = movies_metadata.loc[\n",
    "    movies_metadata['movieId'].isin(list(map(str, np.unique(users_fav_movies['movieId']))))].reset_index(drop=True)\n",
    "print('Let take a look at movie metadata for all those movies which we were had in our dataset')\n",
    "movies_metadata "
   ]
  },
  {
   "cell_type": "code",
   "execution_count": 47,
   "metadata": {},
   "outputs": [
    {
     "output_type": "stream",
     "name": "stderr",
     "text": [
      "C:\\Users\\callm\\anaconda3\\lib\\site-packages\\pandas\\core\\ops\\array_ops.py:253: FutureWarning: elementwise comparison failed; returning scalar instead, but in the future will perform elementwise comparison\n  res_values = method(rvalues)\n"
     ]
    }
   ],
   "source": [
    "user12Movies = getMoviesOfUser(12, users_fav_movies)\n",
    "for movie in user12Movies:\n",
    "    title = list(movies_metadata.loc[movies_metadata['movieId'] == str(movie)]['title'])\n",
    "    if title != []:\n",
    "        print('Movie title: ', title, ', Genres: [', end = '')\n",
    "        genres = ast.literal_eval(movies_metadata.loc[movies_metadata['movieId'] == str(movie)]['genres'].values[0].split('[')[1].split(']')[0])\n",
    "        for genre in genres:\n",
    "            print(genre['name'], ', ', end = '')\n",
    "        print(end = '\\b\\b]')\n",
    "        print('') "
   ]
  },
  {
   "cell_type": "code",
   "execution_count": 46,
   "metadata": {},
   "outputs": [],
   "source": [
    "user12Recommendations = userRequestedFor(12, users_fav_movies).recommendMostFavouriteMovies()[1]\n",
    "for movie in user12Recommendations[:15]:\n",
    "    title = list(movies_metadata.loc[movies_metadata['movieId'] == str(movie)]['title'])\n",
    "    if title != []:\n",
    "        print('Movie title: ', title, ', Genres: [', end = '')\n",
    "        genres = ast.literal_eval(movies_metadata.loc[movies_metadata['id'] == str(movie)]['genres'].values[0].split('[')[1].split(']')[0])\n",
    "        for genre in genres:\n",
    "            print(genre['name'], ', ', end = '')\n",
    "        print(']', end = '')\n",
    "        print() "
   ]
  },
  {
   "cell_type": "code",
   "execution_count": null,
   "metadata": {},
   "outputs": [],
   "source": []
  }
 ]
}
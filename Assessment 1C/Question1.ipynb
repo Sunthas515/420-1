{
 "metadata": {
  "language_info": {
   "codemirror_mode": {
    "name": "ipython",
    "version": 3
   },
   "file_extension": ".py",
   "mimetype": "text/x-python",
   "name": "python",
   "nbconvert_exporter": "python",
   "pygments_lexer": "ipython3",
   "version": "3.7.6"
  },
  "orig_nbformat": 2,
  "kernelspec": {
   "name": "python376jvsc74a57bd0de2b3220a45578f721e4f247a997b0c24ed405776dfa72923334a080c8fd616b",
   "display_name": "Python 3.7.6 64-bit ('base': conda)"
  },
  "metadata": {
   "interpreter": {
    "hash": "63fd5069d213b44bf678585dea6b12cceca9941eaf7f819626cde1f2670de90d"
   }
  }
 },
 "nbformat": 4,
 "nbformat_minor": 2,
 "cells": [
  {
   "source": [
    "# Assignment 1C - Question 1\n",
    "## Clustering and Recommendations"
   ],
   "cell_type": "markdown",
   "metadata": {}
  },
  {
   "cell_type": "code",
   "execution_count": 1,
   "metadata": {},
   "outputs": [],
   "source": [
    "import pandas as pd\n",
    "import numpy as np\n",
    "from sklearn.cluster import KMeans\n",
    "from sklearn.mixture import GaussianMixture\n",
    "from scipy.spatial import distance\n",
    "import matplotlib.pyplot as plt\n",
    "from scipy.cluster.hierarchy import dendrogram\n",
    "from sklearn.cluster import AgglomerativeClustering\n",
    "from matplotlib import cm\n",
    "from datetime import datetime\n",
    "from sklearn.feature_extraction.text import CountVectorizer\n",
    "import pickle\n",
    "import ast"
   ]
  },
  {
   "cell_type": "code",
   "execution_count": 2,
   "metadata": {},
   "outputs": [],
   "source": [
    "links = pd.read_csv('CAB420_Assessment_1C_Data/Data/Q1/links.csv')\n",
    "movies_metadata = pd.read_csv('CAB420_Assessment_1C_Data/Data/Q1/movies.csv')\n",
    "ratings = pd.read_csv('CAB420_Assessment_1C_Data/Data/Q1/ratings.csv')\n",
    "tags = pd.read_csv('CAB420_Assessment_1C_Data/Data/Q1/tags.csv')"
   ]
  },
  {
   "cell_type": "code",
   "execution_count": 3,
   "metadata": {},
   "outputs": [
    {
     "output_type": "execute_result",
     "data": {
      "text/plain": [
       "Index(['movieId', 'title', 'genres'], dtype='object')"
      ]
     },
     "metadata": {},
     "execution_count": 3
    }
   ],
   "source": [
    "movies_metadata.columns"
   ]
  },
  {
   "cell_type": "code",
   "execution_count": 4,
   "metadata": {},
   "outputs": [
    {
     "output_type": "stream",
     "name": "stdout",
     "text": [
      "      movieId                                      title  \\\n0           1                           Toy Story (1995)   \n1           2                             Jumanji (1995)   \n2           3                    Grumpier Old Men (1995)   \n3           4                   Waiting to Exhale (1995)   \n4           5         Father of the Bride Part II (1995)   \n...       ...                                        ...   \n9737   193581  Black Butler: Book of the Atlantic (2017)   \n9738   193583               No Game No Life: Zero (2017)   \n9739   193585                               Flint (2017)   \n9740   193587        Bungo Stray Dogs: Dead Apple (2018)   \n9741   193609        Andrew Dice Clay: Dice Rules (1991)   \n\n                                           genres  \n0     Adventure|Animation|Children|Comedy|Fantasy  \n1                      Adventure|Children|Fantasy  \n2                                  Comedy|Romance  \n3                            Comedy|Drama|Romance  \n4                                          Comedy  \n...                                           ...  \n9737              Action|Animation|Comedy|Fantasy  \n9738                     Animation|Comedy|Fantasy  \n9739                                        Drama  \n9740                             Action|Animation  \n9741                                       Comedy  \n\n[9742 rows x 3 columns]\n"
     ]
    }
   ],
   "source": [
    "print(movies_metadata)"
   ]
  },
  {
   "source": [
    "### Filter ratings for 4+"
   ],
   "cell_type": "markdown",
   "metadata": {}
  },
  {
   "cell_type": "code",
   "execution_count": 5,
   "metadata": {},
   "outputs": [
    {
     "output_type": "stream",
     "name": "stdout",
     "text": [
      "        userId  movieId  rating   timestamp\n0            1        1     4.0   964982703\n1            1        3     4.0   964981247\n2            1        6     4.0   964982224\n3            1       47     5.0   964983815\n4            1       50     5.0   964982931\n...        ...      ...     ...         ...\n100831     610   166534     4.0  1493848402\n100832     610   168248     5.0  1493850091\n100833     610   168250     5.0  1494273047\n100834     610   168252     5.0  1493846352\n100835     610   170875     3.0  1493846415\n\n[100836 rows x 4 columns]\n"
     ]
    }
   ],
   "source": [
    "print(ratings)"
   ]
  },
  {
   "cell_type": "code",
   "execution_count": 6,
   "metadata": {},
   "outputs": [],
   "source": [
    "ratings_4 = ratings[ratings['rating'] >= 4.0]"
   ]
  },
  {
   "cell_type": "code",
   "execution_count": 7,
   "metadata": {},
   "outputs": [
    {
     "output_type": "stream",
     "name": "stdout",
     "text": [
      "Shape of ratings dataset is:  (6351, 4) \n\nMax values in dataset are \n userId       6.100000e+02\nmovieId      2.330000e+02\nrating       5.000000e+00\ntimestamp    1.537799e+09\ndtype: float64 \n\nMin values in dataset are \n userId               1.0\nmovieId              1.0\nrating               0.5\ntimestamp    828124615.0\ndtype: float64 \n\n"
     ]
    }
   ],
   "source": [
    "movies_list = np.unique(ratings['movieId'])[:200]\n",
    "ratings = ratings.loc[ratings['movieId'].isin(movies_list)]\n",
    "print('Shape of ratings dataset is: ',ratings.shape, '\\n')\n",
    "print('Max values in dataset are \\n',ratings.max(), '\\n')\n",
    "print('Min values in dataset are \\n',ratings.min(), '\\n') "
   ]
  },
  {
   "cell_type": "code",
   "execution_count": 8,
   "metadata": {},
   "outputs": [
    {
     "output_type": "stream",
     "name": "stdout",
     "text": [
      "Shape of ratings dataset is:  (3505, 4) \n\nMax values in dataset are \n userId       3.480000e+02\nmovieId      2.330000e+02\nrating       5.000000e+00\ntimestamp    1.537158e+09\ndtype: float64 \n\nMin values in dataset are \n userId               1.0\nmovieId              1.0\nrating               0.5\ntimestamp    829322340.0\ndtype: float64 \n\nTotal Users:  315\nTotal Movies which are rated by 100 users:  187\n"
     ]
    }
   ],
   "source": [
    "users_list = np.unique(ratings['userId'])[:315]\n",
    "ratings = ratings.loc[ratings['userId'].isin(users_list)]\n",
    "print('Shape of ratings dataset is: ',ratings.shape, '\\n')\n",
    "print('Max values in dataset are \\n',ratings.max(), '\\n')\n",
    "print('Min values in dataset are \\n',ratings.min(), '\\n')\n",
    "print('Total Users: ', np.unique(ratings['userId']).shape[0])\n",
    "print('Total Movies which are rated by 100 users: ', np.unique(ratings['movieId']).shape[0])"
   ]
  },
  {
   "cell_type": "code",
   "execution_count": 9,
   "metadata": {},
   "outputs": [],
   "source": [
    "users_fav_movies = ratings.loc[:, ['userId', 'movieId']]"
   ]
  },
  {
   "cell_type": "code",
   "execution_count": 10,
   "metadata": {},
   "outputs": [],
   "source": [
    "users_fav_movies = ratings.reset_index(drop = True)"
   ]
  },
  {
   "cell_type": "code",
   "execution_count": 11,
   "metadata": {},
   "outputs": [
    {
     "output_type": "execute_result",
     "data": {
      "text/plain": [
       "                  0            1            2            3            4     \\\n",
       "userId             1.0          1.0          1.0          1.0          1.0   \n",
       "movieId            1.0          3.0          6.0         47.0         50.0   \n",
       "rating             4.0          4.0          4.0          5.0          5.0   \n",
       "timestamp  964982703.0  964981247.0  964982224.0  964983815.0  964982931.0   \n",
       "\n",
       "                  5            6            7            8            9     \\\n",
       "userId             1.0          1.0          1.0          1.0          1.0   \n",
       "movieId           70.0        101.0        110.0        151.0        157.0   \n",
       "rating             3.0          5.0          4.0          5.0          5.0   \n",
       "timestamp  964982400.0  964980868.0  964982176.0  964984041.0  964984100.0   \n",
       "\n",
       "           ...         3495         3496         3497         3498  \\\n",
       "userId     ...        347.0        347.0        347.0        347.0   \n",
       "movieId    ...        110.0        150.0        153.0        160.0   \n",
       "rating     ...          3.0          4.0          3.0          3.0   \n",
       "timestamp  ...  847645690.0  847645537.0  847645591.0  847645839.0   \n",
       "\n",
       "                  3499         3500         3501         3502          3503  \\\n",
       "userId           347.0        347.0        347.0        347.0  3.480000e+02   \n",
       "movieId          165.0        185.0        208.0        231.0  5.000000e+01   \n",
       "rating             3.0          3.0          3.0          4.0  5.000000e+00   \n",
       "timestamp  847645591.0  847645690.0  847645690.0  847645635.0  1.378850e+09   \n",
       "\n",
       "                   3504  \n",
       "userId     3.480000e+02  \n",
       "movieId    1.110000e+02  \n",
       "rating     5.000000e+00  \n",
       "timestamp  1.378851e+09  \n",
       "\n",
       "[4 rows x 3505 columns]"
      ],
      "text/html": "<div>\n<style scoped>\n    .dataframe tbody tr th:only-of-type {\n        vertical-align: middle;\n    }\n\n    .dataframe tbody tr th {\n        vertical-align: top;\n    }\n\n    .dataframe thead th {\n        text-align: right;\n    }\n</style>\n<table border=\"1\" class=\"dataframe\">\n  <thead>\n    <tr style=\"text-align: right;\">\n      <th></th>\n      <th>0</th>\n      <th>1</th>\n      <th>2</th>\n      <th>3</th>\n      <th>4</th>\n      <th>5</th>\n      <th>6</th>\n      <th>7</th>\n      <th>8</th>\n      <th>9</th>\n      <th>...</th>\n      <th>3495</th>\n      <th>3496</th>\n      <th>3497</th>\n      <th>3498</th>\n      <th>3499</th>\n      <th>3500</th>\n      <th>3501</th>\n      <th>3502</th>\n      <th>3503</th>\n      <th>3504</th>\n    </tr>\n  </thead>\n  <tbody>\n    <tr>\n      <th>userId</th>\n      <td>1.0</td>\n      <td>1.0</td>\n      <td>1.0</td>\n      <td>1.0</td>\n      <td>1.0</td>\n      <td>1.0</td>\n      <td>1.0</td>\n      <td>1.0</td>\n      <td>1.0</td>\n      <td>1.0</td>\n      <td>...</td>\n      <td>347.0</td>\n      <td>347.0</td>\n      <td>347.0</td>\n      <td>347.0</td>\n      <td>347.0</td>\n      <td>347.0</td>\n      <td>347.0</td>\n      <td>347.0</td>\n      <td>3.480000e+02</td>\n      <td>3.480000e+02</td>\n    </tr>\n    <tr>\n      <th>movieId</th>\n      <td>1.0</td>\n      <td>3.0</td>\n      <td>6.0</td>\n      <td>47.0</td>\n      <td>50.0</td>\n      <td>70.0</td>\n      <td>101.0</td>\n      <td>110.0</td>\n      <td>151.0</td>\n      <td>157.0</td>\n      <td>...</td>\n      <td>110.0</td>\n      <td>150.0</td>\n      <td>153.0</td>\n      <td>160.0</td>\n      <td>165.0</td>\n      <td>185.0</td>\n      <td>208.0</td>\n      <td>231.0</td>\n      <td>5.000000e+01</td>\n      <td>1.110000e+02</td>\n    </tr>\n    <tr>\n      <th>rating</th>\n      <td>4.0</td>\n      <td>4.0</td>\n      <td>4.0</td>\n      <td>5.0</td>\n      <td>5.0</td>\n      <td>3.0</td>\n      <td>5.0</td>\n      <td>4.0</td>\n      <td>5.0</td>\n      <td>5.0</td>\n      <td>...</td>\n      <td>3.0</td>\n      <td>4.0</td>\n      <td>3.0</td>\n      <td>3.0</td>\n      <td>3.0</td>\n      <td>3.0</td>\n      <td>3.0</td>\n      <td>4.0</td>\n      <td>5.000000e+00</td>\n      <td>5.000000e+00</td>\n    </tr>\n    <tr>\n      <th>timestamp</th>\n      <td>964982703.0</td>\n      <td>964981247.0</td>\n      <td>964982224.0</td>\n      <td>964983815.0</td>\n      <td>964982931.0</td>\n      <td>964982400.0</td>\n      <td>964980868.0</td>\n      <td>964982176.0</td>\n      <td>964984041.0</td>\n      <td>964984100.0</td>\n      <td>...</td>\n      <td>847645690.0</td>\n      <td>847645537.0</td>\n      <td>847645591.0</td>\n      <td>847645839.0</td>\n      <td>847645591.0</td>\n      <td>847645690.0</td>\n      <td>847645690.0</td>\n      <td>847645635.0</td>\n      <td>1.378850e+09</td>\n      <td>1.378851e+09</td>\n    </tr>\n  </tbody>\n</table>\n<p>4 rows × 3505 columns</p>\n</div>"
     },
     "metadata": {},
     "execution_count": 11
    }
   ],
   "source": [
    "users_fav_movies.T"
   ]
  },
  {
   "cell_type": "code",
   "execution_count": 12,
   "metadata": {},
   "outputs": [],
   "source": [
    "def moviesListForUsers(users, users_data):\n",
    "    # users = a list of users IDs\n",
    "    # users_data = a dataframe of users favourite movies or users watched movies\n",
    "    users_movies_list = []\n",
    "    for user in users:\n",
    "        users_movies_list.append(str(list(users_data[users_data['userId'] == user]['movieId'])).split('[')[1].split(']')[0])\n",
    "    return users_movies_list"
   ]
  },
  {
   "cell_type": "code",
   "execution_count": 13,
   "metadata": {},
   "outputs": [
    {
     "output_type": "stream",
     "name": "stdout",
     "text": [
      "(315,)\n"
     ]
    }
   ],
   "source": [
    "users = np.unique(users_fav_movies['userId'])\n",
    "print(users.shape) "
   ]
  },
  {
   "cell_type": "code",
   "execution_count": 14,
   "metadata": {},
   "outputs": [
    {
     "output_type": "stream",
     "name": "stdout",
     "text": [
      "Movies list for 315  users\nA list of first 10 users favourite movies: \n ['1, 3, 6, 47, 50, 70, 101, 110, 151, 157, 163, 216, 223, 231', '31', '21, 32, 45, 47, 52, 58, 106, 125, 126, 162, 171, 176, 190, 215, 222, 232', '1, 21, 34, 36, 39, 50, 58, 110, 150, 153, 232', '2, 3, 4, 5, 6, 7, 8, 10, 11, 13, 15, 16, 17, 19, 21, 22, 24, 25, 26, 27, 31, 32, 34, 36, 41, 43, 45, 46, 47, 50, 54, 60, 61, 62, 65, 66, 76, 79, 86, 87, 88, 89, 92, 93, 95, 100, 102, 104, 105, 110, 112, 113, 126, 135, 140, 141, 145, 146, 150, 151, 153, 158, 159, 160, 161, 163, 165, 168, 170, 171, 174, 177, 179, 180, 181, 185, 186, 189, 191, 195, 196, 201, 204, 205, 207, 208, 209, 210, 212, 216, 217, 218, 219, 222, 224, 225, 230, 231', '1, 50, 58, 150, 165', '2, 10, 11, 21, 32, 34, 39, 47, 50, 110, 141, 150, 153, 185, 186, 208, 231', '41, 187, 223', '6, 10, 36, 44, 95, 110, 150, 153, 165, 170, 208', '39, 168, 222']\n"
     ]
    }
   ],
   "source": [
    "users_movies_list = moviesListForUsers(users, users_fav_movies)\n",
    "print('Movies list for', len(users_movies_list), ' users')\n",
    "print('A list of first 10 users favourite movies: \\n', users_movies_list[:10])"
   ]
  },
  {
   "cell_type": "code",
   "execution_count": 15,
   "metadata": {},
   "outputs": [],
   "source": [
    "def prepSparseMatrix(list_of_str):\n",
    "    # list_of_str = A list, which contain strings of users favourite movies separate by comma \",\".\n",
    "    # It will return us sparse matrix and feature names on which sparse matrix is defined \n",
    "    # i.e. name of movies in the same order as the column of sparse matrix\n",
    "    cv = CountVectorizer(token_pattern = r'[^\\,\\ ]+', lowercase = False)\n",
    "    sparseMatrix = cv.fit_transform(list_of_str)\n",
    "    return sparseMatrix.toarray(), cv.get_feature_names()"
   ]
  },
  {
   "cell_type": "code",
   "execution_count": 16,
   "metadata": {},
   "outputs": [],
   "source": [
    "sparseMatrix, feature_names = prepSparseMatrix(users_movies_list)"
   ]
  },
  {
   "cell_type": "code",
   "execution_count": 17,
   "metadata": {},
   "outputs": [
    {
     "output_type": "execute_result",
     "data": {
      "text/plain": [
       "     1  10  100  101  102  104  105  106  107  11  ...  87  88  89  9  92  93  \\\n",
       "1    1   0    0    1    0    0    0    0    0   0  ...   0   0   0  0   0   0   \n",
       "3    0   0    0    0    0    0    0    0    0   0  ...   0   0   0  0   0   0   \n",
       "4    0   0    0    0    0    0    0    1    0   0  ...   0   0   0  0   0   0   \n",
       "5    1   0    0    0    0    0    0    0    0   0  ...   0   0   0  0   0   0   \n",
       "6    0   1    1    0    1    1    1    0    0   1  ...   1   1   1  0   1   1   \n",
       "..  ..  ..  ...  ...  ...  ...  ...  ...  ...  ..  ...  ..  ..  .. ..  ..  ..   \n",
       "344  0   0    0    0    0    0    0    0    0   0  ...   0   0   0  0   0   0   \n",
       "345  0   0    0    0    0    0    0    0    0   1  ...   0   0   0  0   0   0   \n",
       "346  0   0    0    0    0    0    0    0    0   0  ...   0   0   0  0   0   0   \n",
       "347  1   1    0    0    0    0    0    0    0   1  ...   0   0   0  0   0   0   \n",
       "348  0   0    0    0    0    0    0    0    0   0  ...   0   0   0  0   0   0   \n",
       "\n",
       "     94  95  97  99  \n",
       "1     0   0   0   0  \n",
       "3     0   0   0   0  \n",
       "4     0   0   0   0  \n",
       "5     0   0   0   0  \n",
       "6     0   1   0   0  \n",
       "..   ..  ..  ..  ..  \n",
       "344   0   0   0   0  \n",
       "345   0   0   0   0  \n",
       "346   0   0   0   0  \n",
       "347   0   0   0   0  \n",
       "348   0   0   0   0  \n",
       "\n",
       "[315 rows x 187 columns]"
      ],
      "text/html": "<div>\n<style scoped>\n    .dataframe tbody tr th:only-of-type {\n        vertical-align: middle;\n    }\n\n    .dataframe tbody tr th {\n        vertical-align: top;\n    }\n\n    .dataframe thead th {\n        text-align: right;\n    }\n</style>\n<table border=\"1\" class=\"dataframe\">\n  <thead>\n    <tr style=\"text-align: right;\">\n      <th></th>\n      <th>1</th>\n      <th>10</th>\n      <th>100</th>\n      <th>101</th>\n      <th>102</th>\n      <th>104</th>\n      <th>105</th>\n      <th>106</th>\n      <th>107</th>\n      <th>11</th>\n      <th>...</th>\n      <th>87</th>\n      <th>88</th>\n      <th>89</th>\n      <th>9</th>\n      <th>92</th>\n      <th>93</th>\n      <th>94</th>\n      <th>95</th>\n      <th>97</th>\n      <th>99</th>\n    </tr>\n  </thead>\n  <tbody>\n    <tr>\n      <th>1</th>\n      <td>1</td>\n      <td>0</td>\n      <td>0</td>\n      <td>1</td>\n      <td>0</td>\n      <td>0</td>\n      <td>0</td>\n      <td>0</td>\n      <td>0</td>\n      <td>0</td>\n      <td>...</td>\n      <td>0</td>\n      <td>0</td>\n      <td>0</td>\n      <td>0</td>\n      <td>0</td>\n      <td>0</td>\n      <td>0</td>\n      <td>0</td>\n      <td>0</td>\n      <td>0</td>\n    </tr>\n    <tr>\n      <th>3</th>\n      <td>0</td>\n      <td>0</td>\n      <td>0</td>\n      <td>0</td>\n      <td>0</td>\n      <td>0</td>\n      <td>0</td>\n      <td>0</td>\n      <td>0</td>\n      <td>0</td>\n      <td>...</td>\n      <td>0</td>\n      <td>0</td>\n      <td>0</td>\n      <td>0</td>\n      <td>0</td>\n      <td>0</td>\n      <td>0</td>\n      <td>0</td>\n      <td>0</td>\n      <td>0</td>\n    </tr>\n    <tr>\n      <th>4</th>\n      <td>0</td>\n      <td>0</td>\n      <td>0</td>\n      <td>0</td>\n      <td>0</td>\n      <td>0</td>\n      <td>0</td>\n      <td>1</td>\n      <td>0</td>\n      <td>0</td>\n      <td>...</td>\n      <td>0</td>\n      <td>0</td>\n      <td>0</td>\n      <td>0</td>\n      <td>0</td>\n      <td>0</td>\n      <td>0</td>\n      <td>0</td>\n      <td>0</td>\n      <td>0</td>\n    </tr>\n    <tr>\n      <th>5</th>\n      <td>1</td>\n      <td>0</td>\n      <td>0</td>\n      <td>0</td>\n      <td>0</td>\n      <td>0</td>\n      <td>0</td>\n      <td>0</td>\n      <td>0</td>\n      <td>0</td>\n      <td>...</td>\n      <td>0</td>\n      <td>0</td>\n      <td>0</td>\n      <td>0</td>\n      <td>0</td>\n      <td>0</td>\n      <td>0</td>\n      <td>0</td>\n      <td>0</td>\n      <td>0</td>\n    </tr>\n    <tr>\n      <th>6</th>\n      <td>0</td>\n      <td>1</td>\n      <td>1</td>\n      <td>0</td>\n      <td>1</td>\n      <td>1</td>\n      <td>1</td>\n      <td>0</td>\n      <td>0</td>\n      <td>1</td>\n      <td>...</td>\n      <td>1</td>\n      <td>1</td>\n      <td>1</td>\n      <td>0</td>\n      <td>1</td>\n      <td>1</td>\n      <td>0</td>\n      <td>1</td>\n      <td>0</td>\n      <td>0</td>\n    </tr>\n    <tr>\n      <th>...</th>\n      <td>...</td>\n      <td>...</td>\n      <td>...</td>\n      <td>...</td>\n      <td>...</td>\n      <td>...</td>\n      <td>...</td>\n      <td>...</td>\n      <td>...</td>\n      <td>...</td>\n      <td>...</td>\n      <td>...</td>\n      <td>...</td>\n      <td>...</td>\n      <td>...</td>\n      <td>...</td>\n      <td>...</td>\n      <td>...</td>\n      <td>...</td>\n      <td>...</td>\n      <td>...</td>\n    </tr>\n    <tr>\n      <th>344</th>\n      <td>0</td>\n      <td>0</td>\n      <td>0</td>\n      <td>0</td>\n      <td>0</td>\n      <td>0</td>\n      <td>0</td>\n      <td>0</td>\n      <td>0</td>\n      <td>0</td>\n      <td>...</td>\n      <td>0</td>\n      <td>0</td>\n      <td>0</td>\n      <td>0</td>\n      <td>0</td>\n      <td>0</td>\n      <td>0</td>\n      <td>0</td>\n      <td>0</td>\n      <td>0</td>\n    </tr>\n    <tr>\n      <th>345</th>\n      <td>0</td>\n      <td>0</td>\n      <td>0</td>\n      <td>0</td>\n      <td>0</td>\n      <td>0</td>\n      <td>0</td>\n      <td>0</td>\n      <td>0</td>\n      <td>1</td>\n      <td>...</td>\n      <td>0</td>\n      <td>0</td>\n      <td>0</td>\n      <td>0</td>\n      <td>0</td>\n      <td>0</td>\n      <td>0</td>\n      <td>0</td>\n      <td>0</td>\n      <td>0</td>\n    </tr>\n    <tr>\n      <th>346</th>\n      <td>0</td>\n      <td>0</td>\n      <td>0</td>\n      <td>0</td>\n      <td>0</td>\n      <td>0</td>\n      <td>0</td>\n      <td>0</td>\n      <td>0</td>\n      <td>0</td>\n      <td>...</td>\n      <td>0</td>\n      <td>0</td>\n      <td>0</td>\n      <td>0</td>\n      <td>0</td>\n      <td>0</td>\n      <td>0</td>\n      <td>0</td>\n      <td>0</td>\n      <td>0</td>\n    </tr>\n    <tr>\n      <th>347</th>\n      <td>1</td>\n      <td>1</td>\n      <td>0</td>\n      <td>0</td>\n      <td>0</td>\n      <td>0</td>\n      <td>0</td>\n      <td>0</td>\n      <td>0</td>\n      <td>1</td>\n      <td>...</td>\n      <td>0</td>\n      <td>0</td>\n      <td>0</td>\n      <td>0</td>\n      <td>0</td>\n      <td>0</td>\n      <td>0</td>\n      <td>0</td>\n      <td>0</td>\n      <td>0</td>\n    </tr>\n    <tr>\n      <th>348</th>\n      <td>0</td>\n      <td>0</td>\n      <td>0</td>\n      <td>0</td>\n      <td>0</td>\n      <td>0</td>\n      <td>0</td>\n      <td>0</td>\n      <td>0</td>\n      <td>0</td>\n      <td>...</td>\n      <td>0</td>\n      <td>0</td>\n      <td>0</td>\n      <td>0</td>\n      <td>0</td>\n      <td>0</td>\n      <td>0</td>\n      <td>0</td>\n      <td>0</td>\n      <td>0</td>\n    </tr>\n  </tbody>\n</table>\n<p>315 rows × 187 columns</p>\n</div>"
     },
     "metadata": {},
     "execution_count": 17
    }
   ],
   "source": [
    "df_sparseMatrix = pd.DataFrame(sparseMatrix, index = users, columns = feature_names)\n",
    "df_sparseMatrix"
   ]
  },
  {
   "cell_type": "code",
   "execution_count": 18,
   "metadata": {},
   "outputs": [
    {
     "output_type": "execute_result",
     "data": {
      "text/plain": [
       "                   0            13           12           10           9    \\\n",
       "userId             1.0          1.0          1.0          1.0          1.0   \n",
       "movieId            1.0        231.0        223.0        163.0        157.0   \n",
       "rating             4.0          5.0          3.0          5.0          5.0   \n",
       "timestamp  964982703.0  964981179.0  964980985.0  964983650.0  964984100.0   \n",
       "\n",
       "                   8            7            11           5            4    \\\n",
       "userId             1.0          1.0          1.0          1.0          1.0   \n",
       "movieId          151.0        110.0        216.0         70.0         50.0   \n",
       "rating             5.0          4.0          5.0          3.0          5.0   \n",
       "timestamp  964984041.0  964982176.0  964981208.0  964982400.0  964982931.0   \n",
       "\n",
       "           ...          70           69           68           67   \\\n",
       "userId     ...          6.0          6.0          6.0          6.0   \n",
       "movieId    ...         47.0         46.0         45.0         43.0   \n",
       "rating     ...          4.0          4.0          3.0          4.0   \n",
       "timestamp  ...  845553317.0  845554551.0  845553907.0  845555607.0   \n",
       "\n",
       "                   77            143           140           141  \\\n",
       "userId             6.0  7.000000e+00  7.000000e+00  7.000000e+00   \n",
       "movieId           66.0  1.500000e+02  1.000000e+00  5.000000e+01   \n",
       "rating             3.0  4.500000e+00  4.500000e+00  4.500000e+00   \n",
       "timestamp  845555151.0  1.106636e+09  1.106636e+09  1.106636e+09   \n",
       "\n",
       "                    142           144  \n",
       "userId     7.000000e+00  7.000000e+00  \n",
       "movieId    5.800000e+01  1.650000e+02  \n",
       "rating     3.000000e+00  4.000000e+00  \n",
       "timestamp  1.106636e+09  1.106636e+09  \n",
       "\n",
       "[4 rows x 145 columns]"
      ],
      "text/html": "<div>\n<style scoped>\n    .dataframe tbody tr th:only-of-type {\n        vertical-align: middle;\n    }\n\n    .dataframe tbody tr th {\n        vertical-align: top;\n    }\n\n    .dataframe thead th {\n        text-align: right;\n    }\n</style>\n<table border=\"1\" class=\"dataframe\">\n  <thead>\n    <tr style=\"text-align: right;\">\n      <th></th>\n      <th>0</th>\n      <th>13</th>\n      <th>12</th>\n      <th>10</th>\n      <th>9</th>\n      <th>8</th>\n      <th>7</th>\n      <th>11</th>\n      <th>5</th>\n      <th>4</th>\n      <th>...</th>\n      <th>70</th>\n      <th>69</th>\n      <th>68</th>\n      <th>67</th>\n      <th>77</th>\n      <th>143</th>\n      <th>140</th>\n      <th>141</th>\n      <th>142</th>\n      <th>144</th>\n    </tr>\n  </thead>\n  <tbody>\n    <tr>\n      <th>userId</th>\n      <td>1.0</td>\n      <td>1.0</td>\n      <td>1.0</td>\n      <td>1.0</td>\n      <td>1.0</td>\n      <td>1.0</td>\n      <td>1.0</td>\n      <td>1.0</td>\n      <td>1.0</td>\n      <td>1.0</td>\n      <td>...</td>\n      <td>6.0</td>\n      <td>6.0</td>\n      <td>6.0</td>\n      <td>6.0</td>\n      <td>6.0</td>\n      <td>7.000000e+00</td>\n      <td>7.000000e+00</td>\n      <td>7.000000e+00</td>\n      <td>7.000000e+00</td>\n      <td>7.000000e+00</td>\n    </tr>\n    <tr>\n      <th>movieId</th>\n      <td>1.0</td>\n      <td>231.0</td>\n      <td>223.0</td>\n      <td>163.0</td>\n      <td>157.0</td>\n      <td>151.0</td>\n      <td>110.0</td>\n      <td>216.0</td>\n      <td>70.0</td>\n      <td>50.0</td>\n      <td>...</td>\n      <td>47.0</td>\n      <td>46.0</td>\n      <td>45.0</td>\n      <td>43.0</td>\n      <td>66.0</td>\n      <td>1.500000e+02</td>\n      <td>1.000000e+00</td>\n      <td>5.000000e+01</td>\n      <td>5.800000e+01</td>\n      <td>1.650000e+02</td>\n    </tr>\n    <tr>\n      <th>rating</th>\n      <td>4.0</td>\n      <td>5.0</td>\n      <td>3.0</td>\n      <td>5.0</td>\n      <td>5.0</td>\n      <td>5.0</td>\n      <td>4.0</td>\n      <td>5.0</td>\n      <td>3.0</td>\n      <td>5.0</td>\n      <td>...</td>\n      <td>4.0</td>\n      <td>4.0</td>\n      <td>3.0</td>\n      <td>4.0</td>\n      <td>3.0</td>\n      <td>4.500000e+00</td>\n      <td>4.500000e+00</td>\n      <td>4.500000e+00</td>\n      <td>3.000000e+00</td>\n      <td>4.000000e+00</td>\n    </tr>\n    <tr>\n      <th>timestamp</th>\n      <td>964982703.0</td>\n      <td>964981179.0</td>\n      <td>964980985.0</td>\n      <td>964983650.0</td>\n      <td>964984100.0</td>\n      <td>964984041.0</td>\n      <td>964982176.0</td>\n      <td>964981208.0</td>\n      <td>964982400.0</td>\n      <td>964982931.0</td>\n      <td>...</td>\n      <td>845553317.0</td>\n      <td>845554551.0</td>\n      <td>845553907.0</td>\n      <td>845555607.0</td>\n      <td>845555151.0</td>\n      <td>1.106636e+09</td>\n      <td>1.106636e+09</td>\n      <td>1.106636e+09</td>\n      <td>1.106636e+09</td>\n      <td>1.106636e+09</td>\n    </tr>\n  </tbody>\n</table>\n<p>4 rows × 145 columns</p>\n</div>"
     },
     "metadata": {},
     "execution_count": 18
    }
   ],
   "source": [
    "first_6_users_SM = users_fav_movies[users_fav_movies['userId'].isin(users[:6])].sort_values('userId')\n",
    "first_6_users_SM.T"
   ]
  },
  {
   "cell_type": "code",
   "execution_count": 19,
   "metadata": {},
   "outputs": [
    {
     "output_type": "execute_result",
     "data": {
      "text/plain": [
       "   1  2  3  4  5  6  7  8  10  11  ...  217  218  219  222  223  224  225  \\\n",
       "1  1  0  1  0  0  1  0  0   0   0  ...    0    0    0    0    1    0    0   \n",
       "3  0  0  0  0  0  0  0  0   0   0  ...    0    0    0    0    0    0    0   \n",
       "4  0  0  0  0  0  0  0  0   0   0  ...    0    0    0    1    0    0    0   \n",
       "5  1  0  0  0  0  0  0  0   0   0  ...    0    0    0    0    0    0    0   \n",
       "6  0  1  1  1  1  1  1  1   1   1  ...    1    1    1    1    0    1    1   \n",
       "7  1  0  0  0  0  0  0  0   0   0  ...    0    0    0    0    0    0    0   \n",
       "\n",
       "   230  231  232  \n",
       "1    0    1    0  \n",
       "3    0    0    0  \n",
       "4    0    0    1  \n",
       "5    0    0    1  \n",
       "6    1    1    0  \n",
       "7    0    0    0  \n",
       "\n",
       "[6 rows x 113 columns]"
      ],
      "text/html": "<div>\n<style scoped>\n    .dataframe tbody tr th:only-of-type {\n        vertical-align: middle;\n    }\n\n    .dataframe tbody tr th {\n        vertical-align: top;\n    }\n\n    .dataframe thead th {\n        text-align: right;\n    }\n</style>\n<table border=\"1\" class=\"dataframe\">\n  <thead>\n    <tr style=\"text-align: right;\">\n      <th></th>\n      <th>1</th>\n      <th>2</th>\n      <th>3</th>\n      <th>4</th>\n      <th>5</th>\n      <th>6</th>\n      <th>7</th>\n      <th>8</th>\n      <th>10</th>\n      <th>11</th>\n      <th>...</th>\n      <th>217</th>\n      <th>218</th>\n      <th>219</th>\n      <th>222</th>\n      <th>223</th>\n      <th>224</th>\n      <th>225</th>\n      <th>230</th>\n      <th>231</th>\n      <th>232</th>\n    </tr>\n  </thead>\n  <tbody>\n    <tr>\n      <th>1</th>\n      <td>1</td>\n      <td>0</td>\n      <td>1</td>\n      <td>0</td>\n      <td>0</td>\n      <td>1</td>\n      <td>0</td>\n      <td>0</td>\n      <td>0</td>\n      <td>0</td>\n      <td>...</td>\n      <td>0</td>\n      <td>0</td>\n      <td>0</td>\n      <td>0</td>\n      <td>1</td>\n      <td>0</td>\n      <td>0</td>\n      <td>0</td>\n      <td>1</td>\n      <td>0</td>\n    </tr>\n    <tr>\n      <th>3</th>\n      <td>0</td>\n      <td>0</td>\n      <td>0</td>\n      <td>0</td>\n      <td>0</td>\n      <td>0</td>\n      <td>0</td>\n      <td>0</td>\n      <td>0</td>\n      <td>0</td>\n      <td>...</td>\n      <td>0</td>\n      <td>0</td>\n      <td>0</td>\n      <td>0</td>\n      <td>0</td>\n      <td>0</td>\n      <td>0</td>\n      <td>0</td>\n      <td>0</td>\n      <td>0</td>\n    </tr>\n    <tr>\n      <th>4</th>\n      <td>0</td>\n      <td>0</td>\n      <td>0</td>\n      <td>0</td>\n      <td>0</td>\n      <td>0</td>\n      <td>0</td>\n      <td>0</td>\n      <td>0</td>\n      <td>0</td>\n      <td>...</td>\n      <td>0</td>\n      <td>0</td>\n      <td>0</td>\n      <td>1</td>\n      <td>0</td>\n      <td>0</td>\n      <td>0</td>\n      <td>0</td>\n      <td>0</td>\n      <td>1</td>\n    </tr>\n    <tr>\n      <th>5</th>\n      <td>1</td>\n      <td>0</td>\n      <td>0</td>\n      <td>0</td>\n      <td>0</td>\n      <td>0</td>\n      <td>0</td>\n      <td>0</td>\n      <td>0</td>\n      <td>0</td>\n      <td>...</td>\n      <td>0</td>\n      <td>0</td>\n      <td>0</td>\n      <td>0</td>\n      <td>0</td>\n      <td>0</td>\n      <td>0</td>\n      <td>0</td>\n      <td>0</td>\n      <td>1</td>\n    </tr>\n    <tr>\n      <th>6</th>\n      <td>0</td>\n      <td>1</td>\n      <td>1</td>\n      <td>1</td>\n      <td>1</td>\n      <td>1</td>\n      <td>1</td>\n      <td>1</td>\n      <td>1</td>\n      <td>1</td>\n      <td>...</td>\n      <td>1</td>\n      <td>1</td>\n      <td>1</td>\n      <td>1</td>\n      <td>0</td>\n      <td>1</td>\n      <td>1</td>\n      <td>1</td>\n      <td>1</td>\n      <td>0</td>\n    </tr>\n    <tr>\n      <th>7</th>\n      <td>1</td>\n      <td>0</td>\n      <td>0</td>\n      <td>0</td>\n      <td>0</td>\n      <td>0</td>\n      <td>0</td>\n      <td>0</td>\n      <td>0</td>\n      <td>0</td>\n      <td>...</td>\n      <td>0</td>\n      <td>0</td>\n      <td>0</td>\n      <td>0</td>\n      <td>0</td>\n      <td>0</td>\n      <td>0</td>\n      <td>0</td>\n      <td>0</td>\n      <td>0</td>\n    </tr>\n  </tbody>\n</table>\n<p>6 rows × 113 columns</p>\n</div>"
     },
     "metadata": {},
     "execution_count": 19
    }
   ],
   "source": [
    "df_sparseMatrix.loc[np.unique(first_6_users_SM['userId']), list(map(str, np.unique(first_6_users_SM['movieId'])))]"
   ]
  },
  {
   "cell_type": "code",
   "execution_count": 20,
   "metadata": {},
   "outputs": [],
   "source": [
    "class elbowMethod():\n",
    "    def __init__(self, sparseMatrix):\n",
    "        self.sparseMatrix = sparseMatrix\n",
    "        self.wcss = list()\n",
    "        self.differences = list()\n",
    "    def run(self, init, upto, max_iterations = 300):\n",
    "        for i in range(init, upto + 1):\n",
    "            kmeans = KMeans(n_clusters=i, init = 'k-means++', max_iter = max_iterations, n_init = 10, random_state = 0)\n",
    "            kmeans.fit(sparseMatrix)\n",
    "            self.wcss.append(kmeans.inertia_)\n",
    "        self.differences = list()\n",
    "        for i in range(len(self.wcss)-1):\n",
    "            self.differences.append(self.wcss[i] - self.wcss[i+1])\n",
    "    def showPlot(self, boundary = 500, upto_cluster = None):\n",
    "        if upto_cluster is None:\n",
    "            WCSS = self.wcss\n",
    "            DIFF = self.differences\n",
    "        else:\n",
    "            WCSS = self.wcss[:upto_cluster]\n",
    "            DIFF = self.differences[:upto_cluster - 1]\n",
    "        plt.figure(figsize=(15, 6))\n",
    "        plt.subplot(121).set_title('Elbow Method Graph')\n",
    "        plt.plot(range(1, len(WCSS) + 1), WCSS)\n",
    "        plt.grid(b = True)\n",
    "        plt.subplot(122).set_title('Differences in Each Two Consective Clusters')\n",
    "        len_differences = len(DIFF)\n",
    "        X_differences = range(1, len_differences + 1)\n",
    "        plt.plot(X_differences, DIFF)\n",
    "        plt.plot(X_differences, np.ones(len_differences)*boundary, 'r')\n",
    "        plt.plot(X_differences, np.ones(len_differences)*(-boundary), 'r')\n",
    "        plt.grid()\n",
    "        plt.show()"
   ]
  },
  {
   "cell_type": "code",
   "execution_count": 21,
   "metadata": {},
   "outputs": [],
   "source": [
    "elbow_method = elbowMethod(sparseMatrix) "
   ]
  },
  {
   "cell_type": "code",
   "execution_count": 22,
   "metadata": {},
   "outputs": [
    {
     "output_type": "display_data",
     "data": {
      "text/plain": "<Figure size 1080x432 with 2 Axes>",
      "image/svg+xml": "<?xml version=\"1.0\" encoding=\"utf-8\" standalone=\"no\"?>\r\n<!DOCTYPE svg PUBLIC \"-//W3C//DTD SVG 1.1//EN\"\r\n  \"http://www.w3.org/Graphics/SVG/1.1/DTD/svg11.dtd\">\r\n<!-- Created with matplotlib (https://matplotlib.org/) -->\r\n<svg height=\"372.35625pt\" version=\"1.1\" viewBox=\"0 0 883.85 372.35625\" width=\"883.85pt\" xmlns=\"http://www.w3.org/2000/svg\" xmlns:xlink=\"http://www.w3.org/1999/xlink\">\r\n <defs>\r\n  <style type=\"text/css\">\r\n*{stroke-linecap:butt;stroke-linejoin:round;}\r\n  </style>\r\n </defs>\r\n <g id=\"figure_1\">\r\n  <g id=\"patch_1\">\r\n   <path d=\"M -0 372.35625 \r\nL 883.85 372.35625 \r\nL 883.85 0 \r\nL -0 0 \r\nz\r\n\" style=\"fill:none;\"/>\r\n  </g>\r\n  <g id=\"axes_1\">\r\n   <g id=\"patch_2\">\r\n    <path d=\"M 39.65 348.478125 \r\nL 420.104545 348.478125 \r\nL 420.104545 22.318125 \r\nL 39.65 22.318125 \r\nz\r\n\" style=\"fill:#ffffff;\"/>\r\n   </g>\r\n   <g id=\"matplotlib.axis_1\">\r\n    <g id=\"xtick_1\">\r\n     <g id=\"line2d_1\">\r\n      <path clip-path=\"url(#pc48e6db899)\" d=\"M 54.622128 348.478125 \r\nL 54.622128 22.318125 \r\n\" style=\"fill:none;stroke:#b0b0b0;stroke-linecap:square;stroke-width:0.8;\"/>\r\n     </g>\r\n     <g id=\"line2d_2\">\r\n      <defs>\r\n       <path d=\"M 0 0 \r\nL 0 3.5 \r\n\" id=\"mb5a34f681f\" style=\"stroke:#000000;stroke-width:0.8;\"/>\r\n      </defs>\r\n      <g>\r\n       <use style=\"stroke:#000000;stroke-width:0.8;\" x=\"54.622128\" xlink:href=\"#mb5a34f681f\" y=\"348.478125\"/>\r\n      </g>\r\n     </g>\r\n     <g id=\"text_1\">\r\n      <!-- 0 -->\r\n      <defs>\r\n       <path d=\"M 31.78125 66.40625 \r\nQ 24.171875 66.40625 20.328125 58.90625 \r\nQ 16.5 51.421875 16.5 36.375 \r\nQ 16.5 21.390625 20.328125 13.890625 \r\nQ 24.171875 6.390625 31.78125 6.390625 \r\nQ 39.453125 6.390625 43.28125 13.890625 \r\nQ 47.125 21.390625 47.125 36.375 \r\nQ 47.125 51.421875 43.28125 58.90625 \r\nQ 39.453125 66.40625 31.78125 66.40625 \r\nz\r\nM 31.78125 74.21875 \r\nQ 44.046875 74.21875 50.515625 64.515625 \r\nQ 56.984375 54.828125 56.984375 36.375 \r\nQ 56.984375 17.96875 50.515625 8.265625 \r\nQ 44.046875 -1.421875 31.78125 -1.421875 \r\nQ 19.53125 -1.421875 13.0625 8.265625 \r\nQ 6.59375 17.96875 6.59375 36.375 \r\nQ 6.59375 54.828125 13.0625 64.515625 \r\nQ 19.53125 74.21875 31.78125 74.21875 \r\nz\r\n\" id=\"DejaVuSans-48\"/>\r\n      </defs>\r\n      <g transform=\"translate(51.440878 363.076563)scale(0.1 -0.1)\">\r\n       <use xlink:href=\"#DejaVuSans-48\"/>\r\n      </g>\r\n     </g>\r\n    </g>\r\n    <g id=\"xtick_2\">\r\n     <g id=\"line2d_3\">\r\n      <path clip-path=\"url(#pc48e6db899)\" d=\"M 101.047332 348.478125 \r\nL 101.047332 22.318125 \r\n\" style=\"fill:none;stroke:#b0b0b0;stroke-linecap:square;stroke-width:0.8;\"/>\r\n     </g>\r\n     <g id=\"line2d_4\">\r\n      <g>\r\n       <use style=\"stroke:#000000;stroke-width:0.8;\" x=\"101.047332\" xlink:href=\"#mb5a34f681f\" y=\"348.478125\"/>\r\n      </g>\r\n     </g>\r\n     <g id=\"text_2\">\r\n      <!-- 20 -->\r\n      <defs>\r\n       <path d=\"M 19.1875 8.296875 \r\nL 53.609375 8.296875 \r\nL 53.609375 0 \r\nL 7.328125 0 \r\nL 7.328125 8.296875 \r\nQ 12.9375 14.109375 22.625 23.890625 \r\nQ 32.328125 33.6875 34.8125 36.53125 \r\nQ 39.546875 41.84375 41.421875 45.53125 \r\nQ 43.3125 49.21875 43.3125 52.78125 \r\nQ 43.3125 58.59375 39.234375 62.25 \r\nQ 35.15625 65.921875 28.609375 65.921875 \r\nQ 23.96875 65.921875 18.8125 64.3125 \r\nQ 13.671875 62.703125 7.8125 59.421875 \r\nL 7.8125 69.390625 \r\nQ 13.765625 71.78125 18.9375 73 \r\nQ 24.125 74.21875 28.421875 74.21875 \r\nQ 39.75 74.21875 46.484375 68.546875 \r\nQ 53.21875 62.890625 53.21875 53.421875 \r\nQ 53.21875 48.921875 51.53125 44.890625 \r\nQ 49.859375 40.875 45.40625 35.40625 \r\nQ 44.1875 33.984375 37.640625 27.21875 \r\nQ 31.109375 20.453125 19.1875 8.296875 \r\nz\r\n\" id=\"DejaVuSans-50\"/>\r\n      </defs>\r\n      <g transform=\"translate(94.684832 363.076563)scale(0.1 -0.1)\">\r\n       <use xlink:href=\"#DejaVuSans-50\"/>\r\n       <use x=\"63.623047\" xlink:href=\"#DejaVuSans-48\"/>\r\n      </g>\r\n     </g>\r\n    </g>\r\n    <g id=\"xtick_3\">\r\n     <g id=\"line2d_5\">\r\n      <path clip-path=\"url(#pc48e6db899)\" d=\"M 147.472536 348.478125 \r\nL 147.472536 22.318125 \r\n\" style=\"fill:none;stroke:#b0b0b0;stroke-linecap:square;stroke-width:0.8;\"/>\r\n     </g>\r\n     <g id=\"line2d_6\">\r\n      <g>\r\n       <use style=\"stroke:#000000;stroke-width:0.8;\" x=\"147.472536\" xlink:href=\"#mb5a34f681f\" y=\"348.478125\"/>\r\n      </g>\r\n     </g>\r\n     <g id=\"text_3\">\r\n      <!-- 40 -->\r\n      <defs>\r\n       <path d=\"M 37.796875 64.3125 \r\nL 12.890625 25.390625 \r\nL 37.796875 25.390625 \r\nz\r\nM 35.203125 72.90625 \r\nL 47.609375 72.90625 \r\nL 47.609375 25.390625 \r\nL 58.015625 25.390625 \r\nL 58.015625 17.1875 \r\nL 47.609375 17.1875 \r\nL 47.609375 0 \r\nL 37.796875 0 \r\nL 37.796875 17.1875 \r\nL 4.890625 17.1875 \r\nL 4.890625 26.703125 \r\nz\r\n\" id=\"DejaVuSans-52\"/>\r\n      </defs>\r\n      <g transform=\"translate(141.110036 363.076563)scale(0.1 -0.1)\">\r\n       <use xlink:href=\"#DejaVuSans-52\"/>\r\n       <use x=\"63.623047\" xlink:href=\"#DejaVuSans-48\"/>\r\n      </g>\r\n     </g>\r\n    </g>\r\n    <g id=\"xtick_4\">\r\n     <g id=\"line2d_7\">\r\n      <path clip-path=\"url(#pc48e6db899)\" d=\"M 193.89774 348.478125 \r\nL 193.89774 22.318125 \r\n\" style=\"fill:none;stroke:#b0b0b0;stroke-linecap:square;stroke-width:0.8;\"/>\r\n     </g>\r\n     <g id=\"line2d_8\">\r\n      <g>\r\n       <use style=\"stroke:#000000;stroke-width:0.8;\" x=\"193.89774\" xlink:href=\"#mb5a34f681f\" y=\"348.478125\"/>\r\n      </g>\r\n     </g>\r\n     <g id=\"text_4\">\r\n      <!-- 60 -->\r\n      <defs>\r\n       <path d=\"M 33.015625 40.375 \r\nQ 26.375 40.375 22.484375 35.828125 \r\nQ 18.609375 31.296875 18.609375 23.390625 \r\nQ 18.609375 15.53125 22.484375 10.953125 \r\nQ 26.375 6.390625 33.015625 6.390625 \r\nQ 39.65625 6.390625 43.53125 10.953125 \r\nQ 47.40625 15.53125 47.40625 23.390625 \r\nQ 47.40625 31.296875 43.53125 35.828125 \r\nQ 39.65625 40.375 33.015625 40.375 \r\nz\r\nM 52.59375 71.296875 \r\nL 52.59375 62.3125 \r\nQ 48.875 64.0625 45.09375 64.984375 \r\nQ 41.3125 65.921875 37.59375 65.921875 \r\nQ 27.828125 65.921875 22.671875 59.328125 \r\nQ 17.53125 52.734375 16.796875 39.40625 \r\nQ 19.671875 43.65625 24.015625 45.921875 \r\nQ 28.375 48.1875 33.59375 48.1875 \r\nQ 44.578125 48.1875 50.953125 41.515625 \r\nQ 57.328125 34.859375 57.328125 23.390625 \r\nQ 57.328125 12.15625 50.6875 5.359375 \r\nQ 44.046875 -1.421875 33.015625 -1.421875 \r\nQ 20.359375 -1.421875 13.671875 8.265625 \r\nQ 6.984375 17.96875 6.984375 36.375 \r\nQ 6.984375 53.65625 15.1875 63.9375 \r\nQ 23.390625 74.21875 37.203125 74.21875 \r\nQ 40.921875 74.21875 44.703125 73.484375 \r\nQ 48.484375 72.75 52.59375 71.296875 \r\nz\r\n\" id=\"DejaVuSans-54\"/>\r\n      </defs>\r\n      <g transform=\"translate(187.53524 363.076563)scale(0.1 -0.1)\">\r\n       <use xlink:href=\"#DejaVuSans-54\"/>\r\n       <use x=\"63.623047\" xlink:href=\"#DejaVuSans-48\"/>\r\n      </g>\r\n     </g>\r\n    </g>\r\n    <g id=\"xtick_5\">\r\n     <g id=\"line2d_9\">\r\n      <path clip-path=\"url(#pc48e6db899)\" d=\"M 240.322944 348.478125 \r\nL 240.322944 22.318125 \r\n\" style=\"fill:none;stroke:#b0b0b0;stroke-linecap:square;stroke-width:0.8;\"/>\r\n     </g>\r\n     <g id=\"line2d_10\">\r\n      <g>\r\n       <use style=\"stroke:#000000;stroke-width:0.8;\" x=\"240.322944\" xlink:href=\"#mb5a34f681f\" y=\"348.478125\"/>\r\n      </g>\r\n     </g>\r\n     <g id=\"text_5\">\r\n      <!-- 80 -->\r\n      <defs>\r\n       <path d=\"M 31.78125 34.625 \r\nQ 24.75 34.625 20.71875 30.859375 \r\nQ 16.703125 27.09375 16.703125 20.515625 \r\nQ 16.703125 13.921875 20.71875 10.15625 \r\nQ 24.75 6.390625 31.78125 6.390625 \r\nQ 38.8125 6.390625 42.859375 10.171875 \r\nQ 46.921875 13.96875 46.921875 20.515625 \r\nQ 46.921875 27.09375 42.890625 30.859375 \r\nQ 38.875 34.625 31.78125 34.625 \r\nz\r\nM 21.921875 38.8125 \r\nQ 15.578125 40.375 12.03125 44.71875 \r\nQ 8.5 49.078125 8.5 55.328125 \r\nQ 8.5 64.0625 14.71875 69.140625 \r\nQ 20.953125 74.21875 31.78125 74.21875 \r\nQ 42.671875 74.21875 48.875 69.140625 \r\nQ 55.078125 64.0625 55.078125 55.328125 \r\nQ 55.078125 49.078125 51.53125 44.71875 \r\nQ 48 40.375 41.703125 38.8125 \r\nQ 48.828125 37.15625 52.796875 32.3125 \r\nQ 56.78125 27.484375 56.78125 20.515625 \r\nQ 56.78125 9.90625 50.3125 4.234375 \r\nQ 43.84375 -1.421875 31.78125 -1.421875 \r\nQ 19.734375 -1.421875 13.25 4.234375 \r\nQ 6.78125 9.90625 6.78125 20.515625 \r\nQ 6.78125 27.484375 10.78125 32.3125 \r\nQ 14.796875 37.15625 21.921875 38.8125 \r\nz\r\nM 18.3125 54.390625 \r\nQ 18.3125 48.734375 21.84375 45.5625 \r\nQ 25.390625 42.390625 31.78125 42.390625 \r\nQ 38.140625 42.390625 41.71875 45.5625 \r\nQ 45.3125 48.734375 45.3125 54.390625 \r\nQ 45.3125 60.0625 41.71875 63.234375 \r\nQ 38.140625 66.40625 31.78125 66.40625 \r\nQ 25.390625 66.40625 21.84375 63.234375 \r\nQ 18.3125 60.0625 18.3125 54.390625 \r\nz\r\n\" id=\"DejaVuSans-56\"/>\r\n      </defs>\r\n      <g transform=\"translate(233.960444 363.076563)scale(0.1 -0.1)\">\r\n       <use xlink:href=\"#DejaVuSans-56\"/>\r\n       <use x=\"63.623047\" xlink:href=\"#DejaVuSans-48\"/>\r\n      </g>\r\n     </g>\r\n    </g>\r\n    <g id=\"xtick_6\">\r\n     <g id=\"line2d_11\">\r\n      <path clip-path=\"url(#pc48e6db899)\" d=\"M 286.748147 348.478125 \r\nL 286.748147 22.318125 \r\n\" style=\"fill:none;stroke:#b0b0b0;stroke-linecap:square;stroke-width:0.8;\"/>\r\n     </g>\r\n     <g id=\"line2d_12\">\r\n      <g>\r\n       <use style=\"stroke:#000000;stroke-width:0.8;\" x=\"286.748147\" xlink:href=\"#mb5a34f681f\" y=\"348.478125\"/>\r\n      </g>\r\n     </g>\r\n     <g id=\"text_6\">\r\n      <!-- 100 -->\r\n      <defs>\r\n       <path d=\"M 12.40625 8.296875 \r\nL 28.515625 8.296875 \r\nL 28.515625 63.921875 \r\nL 10.984375 60.40625 \r\nL 10.984375 69.390625 \r\nL 28.421875 72.90625 \r\nL 38.28125 72.90625 \r\nL 38.28125 8.296875 \r\nL 54.390625 8.296875 \r\nL 54.390625 0 \r\nL 12.40625 0 \r\nz\r\n\" id=\"DejaVuSans-49\"/>\r\n      </defs>\r\n      <g transform=\"translate(277.204397 363.076563)scale(0.1 -0.1)\">\r\n       <use xlink:href=\"#DejaVuSans-49\"/>\r\n       <use x=\"63.623047\" xlink:href=\"#DejaVuSans-48\"/>\r\n       <use x=\"127.246094\" xlink:href=\"#DejaVuSans-48\"/>\r\n      </g>\r\n     </g>\r\n    </g>\r\n    <g id=\"xtick_7\">\r\n     <g id=\"line2d_13\">\r\n      <path clip-path=\"url(#pc48e6db899)\" d=\"M 333.173351 348.478125 \r\nL 333.173351 22.318125 \r\n\" style=\"fill:none;stroke:#b0b0b0;stroke-linecap:square;stroke-width:0.8;\"/>\r\n     </g>\r\n     <g id=\"line2d_14\">\r\n      <g>\r\n       <use style=\"stroke:#000000;stroke-width:0.8;\" x=\"333.173351\" xlink:href=\"#mb5a34f681f\" y=\"348.478125\"/>\r\n      </g>\r\n     </g>\r\n     <g id=\"text_7\">\r\n      <!-- 120 -->\r\n      <g transform=\"translate(323.629601 363.076563)scale(0.1 -0.1)\">\r\n       <use xlink:href=\"#DejaVuSans-49\"/>\r\n       <use x=\"63.623047\" xlink:href=\"#DejaVuSans-50\"/>\r\n       <use x=\"127.246094\" xlink:href=\"#DejaVuSans-48\"/>\r\n      </g>\r\n     </g>\r\n    </g>\r\n    <g id=\"xtick_8\">\r\n     <g id=\"line2d_15\">\r\n      <path clip-path=\"url(#pc48e6db899)\" d=\"M 379.598555 348.478125 \r\nL 379.598555 22.318125 \r\n\" style=\"fill:none;stroke:#b0b0b0;stroke-linecap:square;stroke-width:0.8;\"/>\r\n     </g>\r\n     <g id=\"line2d_16\">\r\n      <g>\r\n       <use style=\"stroke:#000000;stroke-width:0.8;\" x=\"379.598555\" xlink:href=\"#mb5a34f681f\" y=\"348.478125\"/>\r\n      </g>\r\n     </g>\r\n     <g id=\"text_8\">\r\n      <!-- 140 -->\r\n      <g transform=\"translate(370.054805 363.076563)scale(0.1 -0.1)\">\r\n       <use xlink:href=\"#DejaVuSans-49\"/>\r\n       <use x=\"63.623047\" xlink:href=\"#DejaVuSans-52\"/>\r\n       <use x=\"127.246094\" xlink:href=\"#DejaVuSans-48\"/>\r\n      </g>\r\n     </g>\r\n    </g>\r\n   </g>\r\n   <g id=\"matplotlib.axis_2\">\r\n    <g id=\"ytick_1\">\r\n     <g id=\"line2d_17\">\r\n      <path clip-path=\"url(#pc48e6db899)\" d=\"M 39.65 317.297649 \r\nL 420.104545 317.297649 \r\n\" style=\"fill:none;stroke:#b0b0b0;stroke-linecap:square;stroke-width:0.8;\"/>\r\n     </g>\r\n     <g id=\"line2d_18\">\r\n      <defs>\r\n       <path d=\"M 0 0 \r\nL -3.5 0 \r\n\" id=\"m63b1a1bc05\" style=\"stroke:#000000;stroke-width:0.8;\"/>\r\n      </defs>\r\n      <g>\r\n       <use style=\"stroke:#000000;stroke-width:0.8;\" x=\"39.65\" xlink:href=\"#m63b1a1bc05\" y=\"317.297649\"/>\r\n      </g>\r\n     </g>\r\n     <g id=\"text_9\">\r\n      <!-- 500 -->\r\n      <defs>\r\n       <path d=\"M 10.796875 72.90625 \r\nL 49.515625 72.90625 \r\nL 49.515625 64.59375 \r\nL 19.828125 64.59375 \r\nL 19.828125 46.734375 \r\nQ 21.96875 47.46875 24.109375 47.828125 \r\nQ 26.265625 48.1875 28.421875 48.1875 \r\nQ 40.625 48.1875 47.75 41.5 \r\nQ 54.890625 34.8125 54.890625 23.390625 \r\nQ 54.890625 11.625 47.5625 5.09375 \r\nQ 40.234375 -1.421875 26.90625 -1.421875 \r\nQ 22.3125 -1.421875 17.546875 -0.640625 \r\nQ 12.796875 0.140625 7.71875 1.703125 \r\nL 7.71875 11.625 \r\nQ 12.109375 9.234375 16.796875 8.0625 \r\nQ 21.484375 6.890625 26.703125 6.890625 \r\nQ 35.15625 6.890625 40.078125 11.328125 \r\nQ 45.015625 15.765625 45.015625 23.390625 \r\nQ 45.015625 31 40.078125 35.4375 \r\nQ 35.15625 39.890625 26.703125 39.890625 \r\nQ 22.75 39.890625 18.8125 39.015625 \r\nQ 14.890625 38.140625 10.796875 36.28125 \r\nz\r\n\" id=\"DejaVuSans-53\"/>\r\n      </defs>\r\n      <g transform=\"translate(13.5625 321.096868)scale(0.1 -0.1)\">\r\n       <use xlink:href=\"#DejaVuSans-53\"/>\r\n       <use x=\"63.623047\" xlink:href=\"#DejaVuSans-48\"/>\r\n       <use x=\"127.246094\" xlink:href=\"#DejaVuSans-48\"/>\r\n      </g>\r\n     </g>\r\n    </g>\r\n    <g id=\"ytick_2\">\r\n     <g id=\"line2d_19\">\r\n      <path clip-path=\"url(#pc48e6db899)\" d=\"M 39.65 258.763118 \r\nL 420.104545 258.763118 \r\n\" style=\"fill:none;stroke:#b0b0b0;stroke-linecap:square;stroke-width:0.8;\"/>\r\n     </g>\r\n     <g id=\"line2d_20\">\r\n      <g>\r\n       <use style=\"stroke:#000000;stroke-width:0.8;\" x=\"39.65\" xlink:href=\"#m63b1a1bc05\" y=\"258.763118\"/>\r\n      </g>\r\n     </g>\r\n     <g id=\"text_10\">\r\n      <!-- 1000 -->\r\n      <g transform=\"translate(7.2 262.562337)scale(0.1 -0.1)\">\r\n       <use xlink:href=\"#DejaVuSans-49\"/>\r\n       <use x=\"63.623047\" xlink:href=\"#DejaVuSans-48\"/>\r\n       <use x=\"127.246094\" xlink:href=\"#DejaVuSans-48\"/>\r\n       <use x=\"190.869141\" xlink:href=\"#DejaVuSans-48\"/>\r\n      </g>\r\n     </g>\r\n    </g>\r\n    <g id=\"ytick_3\">\r\n     <g id=\"line2d_21\">\r\n      <path clip-path=\"url(#pc48e6db899)\" d=\"M 39.65 200.228587 \r\nL 420.104545 200.228587 \r\n\" style=\"fill:none;stroke:#b0b0b0;stroke-linecap:square;stroke-width:0.8;\"/>\r\n     </g>\r\n     <g id=\"line2d_22\">\r\n      <g>\r\n       <use style=\"stroke:#000000;stroke-width:0.8;\" x=\"39.65\" xlink:href=\"#m63b1a1bc05\" y=\"200.228587\"/>\r\n      </g>\r\n     </g>\r\n     <g id=\"text_11\">\r\n      <!-- 1500 -->\r\n      <g transform=\"translate(7.2 204.027806)scale(0.1 -0.1)\">\r\n       <use xlink:href=\"#DejaVuSans-49\"/>\r\n       <use x=\"63.623047\" xlink:href=\"#DejaVuSans-53\"/>\r\n       <use x=\"127.246094\" xlink:href=\"#DejaVuSans-48\"/>\r\n       <use x=\"190.869141\" xlink:href=\"#DejaVuSans-48\"/>\r\n      </g>\r\n     </g>\r\n    </g>\r\n    <g id=\"ytick_4\">\r\n     <g id=\"line2d_23\">\r\n      <path clip-path=\"url(#pc48e6db899)\" d=\"M 39.65 141.694056 \r\nL 420.104545 141.694056 \r\n\" style=\"fill:none;stroke:#b0b0b0;stroke-linecap:square;stroke-width:0.8;\"/>\r\n     </g>\r\n     <g id=\"line2d_24\">\r\n      <g>\r\n       <use style=\"stroke:#000000;stroke-width:0.8;\" x=\"39.65\" xlink:href=\"#m63b1a1bc05\" y=\"141.694056\"/>\r\n      </g>\r\n     </g>\r\n     <g id=\"text_12\">\r\n      <!-- 2000 -->\r\n      <g transform=\"translate(7.2 145.493275)scale(0.1 -0.1)\">\r\n       <use xlink:href=\"#DejaVuSans-50\"/>\r\n       <use x=\"63.623047\" xlink:href=\"#DejaVuSans-48\"/>\r\n       <use x=\"127.246094\" xlink:href=\"#DejaVuSans-48\"/>\r\n       <use x=\"190.869141\" xlink:href=\"#DejaVuSans-48\"/>\r\n      </g>\r\n     </g>\r\n    </g>\r\n    <g id=\"ytick_5\">\r\n     <g id=\"line2d_25\">\r\n      <path clip-path=\"url(#pc48e6db899)\" d=\"M 39.65 83.159525 \r\nL 420.104545 83.159525 \r\n\" style=\"fill:none;stroke:#b0b0b0;stroke-linecap:square;stroke-width:0.8;\"/>\r\n     </g>\r\n     <g id=\"line2d_26\">\r\n      <g>\r\n       <use style=\"stroke:#000000;stroke-width:0.8;\" x=\"39.65\" xlink:href=\"#m63b1a1bc05\" y=\"83.159525\"/>\r\n      </g>\r\n     </g>\r\n     <g id=\"text_13\">\r\n      <!-- 2500 -->\r\n      <g transform=\"translate(7.2 86.958744)scale(0.1 -0.1)\">\r\n       <use xlink:href=\"#DejaVuSans-50\"/>\r\n       <use x=\"63.623047\" xlink:href=\"#DejaVuSans-53\"/>\r\n       <use x=\"127.246094\" xlink:href=\"#DejaVuSans-48\"/>\r\n       <use x=\"190.869141\" xlink:href=\"#DejaVuSans-48\"/>\r\n      </g>\r\n     </g>\r\n    </g>\r\n    <g id=\"ytick_6\">\r\n     <g id=\"line2d_27\">\r\n      <path clip-path=\"url(#pc48e6db899)\" d=\"M 39.65 24.624995 \r\nL 420.104545 24.624995 \r\n\" style=\"fill:none;stroke:#b0b0b0;stroke-linecap:square;stroke-width:0.8;\"/>\r\n     </g>\r\n     <g id=\"line2d_28\">\r\n      <g>\r\n       <use style=\"stroke:#000000;stroke-width:0.8;\" x=\"39.65\" xlink:href=\"#m63b1a1bc05\" y=\"24.624995\"/>\r\n      </g>\r\n     </g>\r\n     <g id=\"text_14\">\r\n      <!-- 3000 -->\r\n      <defs>\r\n       <path d=\"M 40.578125 39.3125 \r\nQ 47.65625 37.796875 51.625 33 \r\nQ 55.609375 28.21875 55.609375 21.1875 \r\nQ 55.609375 10.40625 48.1875 4.484375 \r\nQ 40.765625 -1.421875 27.09375 -1.421875 \r\nQ 22.515625 -1.421875 17.65625 -0.515625 \r\nQ 12.796875 0.390625 7.625 2.203125 \r\nL 7.625 11.71875 \r\nQ 11.71875 9.328125 16.59375 8.109375 \r\nQ 21.484375 6.890625 26.8125 6.890625 \r\nQ 36.078125 6.890625 40.9375 10.546875 \r\nQ 45.796875 14.203125 45.796875 21.1875 \r\nQ 45.796875 27.640625 41.28125 31.265625 \r\nQ 36.765625 34.90625 28.71875 34.90625 \r\nL 20.21875 34.90625 \r\nL 20.21875 43.015625 \r\nL 29.109375 43.015625 \r\nQ 36.375 43.015625 40.234375 45.921875 \r\nQ 44.09375 48.828125 44.09375 54.296875 \r\nQ 44.09375 59.90625 40.109375 62.90625 \r\nQ 36.140625 65.921875 28.71875 65.921875 \r\nQ 24.65625 65.921875 20.015625 65.03125 \r\nQ 15.375 64.15625 9.8125 62.3125 \r\nL 9.8125 71.09375 \r\nQ 15.4375 72.65625 20.34375 73.4375 \r\nQ 25.25 74.21875 29.59375 74.21875 \r\nQ 40.828125 74.21875 47.359375 69.109375 \r\nQ 53.90625 64.015625 53.90625 55.328125 \r\nQ 53.90625 49.265625 50.4375 45.09375 \r\nQ 46.96875 40.921875 40.578125 39.3125 \r\nz\r\n\" id=\"DejaVuSans-51\"/>\r\n      </defs>\r\n      <g transform=\"translate(7.2 28.424213)scale(0.1 -0.1)\">\r\n       <use xlink:href=\"#DejaVuSans-51\"/>\r\n       <use x=\"63.623047\" xlink:href=\"#DejaVuSans-48\"/>\r\n       <use x=\"127.246094\" xlink:href=\"#DejaVuSans-48\"/>\r\n       <use x=\"190.869141\" xlink:href=\"#DejaVuSans-48\"/>\r\n      </g>\r\n     </g>\r\n    </g>\r\n   </g>\r\n   <g id=\"line2d_29\">\r\n    <path clip-path=\"url(#pc48e6db899)\" d=\"M 56.943388 37.14358 \r\nL 59.264649 77.45114 \r\nL 61.585909 91.688644 \r\nL 63.907169 98.832946 \r\nL 66.228429 108.135367 \r\nL 68.549689 113.555368 \r\nL 70.87095 116.811964 \r\nL 73.19221 123.85988 \r\nL 77.83473 131.133402 \r\nL 80.15599 134.572281 \r\nL 82.477251 136.363916 \r\nL 84.798511 139.96379 \r\nL 87.119771 140.839732 \r\nL 89.441031 144.702497 \r\nL 94.083552 149.792242 \r\nL 96.404812 152.36442 \r\nL 98.726072 155.19586 \r\nL 101.047332 158.768778 \r\nL 103.368592 161.674275 \r\nL 105.689852 165.539428 \r\nL 108.011113 168.319197 \r\nL 110.332373 170.523998 \r\nL 112.653633 172.948437 \r\nL 114.974893 174.762134 \r\nL 117.296153 176.791331 \r\nL 119.617414 179.204251 \r\nL 121.938674 180.804441 \r\nL 124.259934 183.026747 \r\nL 126.581194 186.051031 \r\nL 128.902454 187.895919 \r\nL 131.223715 189.282968 \r\nL 133.544975 191.621097 \r\nL 135.866235 193.420059 \r\nL 138.187495 194.368689 \r\nL 140.508755 196.007656 \r\nL 142.830016 197.390122 \r\nL 145.151276 200.437441 \r\nL 147.472536 203.805171 \r\nL 149.793796 205.652836 \r\nL 152.115056 208.204942 \r\nL 154.436316 210.417547 \r\nL 156.757577 212.396014 \r\nL 159.078837 214.206341 \r\nL 161.400097 215.845308 \r\nL 163.721357 217.787354 \r\nL 166.042617 219.553133 \r\nL 168.363878 221.665254 \r\nL 170.685138 222.980204 \r\nL 173.006398 223.972503 \r\nL 175.327658 224.449838 \r\nL 177.648918 225.718086 \r\nL 179.970179 227.587414 \r\nL 182.291439 232.356736 \r\nL 184.612699 234.171307 \r\nL 189.255219 236.968085 \r\nL 191.57648 239.027297 \r\nL 196.219 242.115554 \r\nL 198.54026 242.993572 \r\nL 200.86152 244.555539 \r\nL 205.504041 247.109951 \r\nL 207.825301 248.631849 \r\nL 212.467821 250.841527 \r\nL 214.789081 252.401503 \r\nL 217.110342 254.756558 \r\nL 219.431602 255.772658 \r\nL 221.752862 256.52959 \r\nL 224.074122 257.466142 \r\nL 226.395382 258.703396 \r\nL 228.716643 260.690597 \r\nL 231.037903 261.975477 \r\nL 233.359163 264.404105 \r\nL 235.680423 265.710597 \r\nL 238.001683 267.250638 \r\nL 240.322944 268.149172 \r\nL 242.644204 269.454269 \r\nL 247.286724 272.460011 \r\nL 249.607984 273.338029 \r\nL 251.929245 274.49116 \r\nL 254.250505 275.408434 \r\nL 256.571765 276.637659 \r\nL 258.893025 278.014638 \r\nL 261.214285 279.144804 \r\nL 263.535546 279.964288 \r\nL 268.178066 282.381533 \r\nL 270.499326 283.780347 \r\nL 272.820586 284.874617 \r\nL 275.141846 286.398757 \r\nL 277.463107 287.276775 \r\nL 279.784367 288.57058 \r\nL 282.105627 289.54392 \r\nL 284.426887 290.656076 \r\nL 289.069408 293.267888 \r\nL 296.033188 295.793347 \r\nL 298.354448 296.679727 \r\nL 300.675709 297.873832 \r\nL 305.318229 299.936373 \r\nL 307.639489 301.187905 \r\nL 309.960749 302.135642 \r\nL 312.28201 303.447879 \r\nL 314.60327 304.505891 \r\nL 319.24579 305.800844 \r\nL 321.56705 306.936553 \r\nL 323.88831 307.847775 \r\nL 326.209571 308.98432 \r\nL 335.494611 311.775358 \r\nL 337.815872 312.971636 \r\nL 340.137132 313.98066 \r\nL 342.458392 314.666685 \r\nL 344.779652 315.076426 \r\nL 349.422173 316.760092 \r\nL 354.064693 318.230822 \r\nL 358.707213 320.250318 \r\nL 361.028474 320.872561 \r\nL 363.349734 321.618578 \r\nL 365.670994 322.700817 \r\nL 367.992254 323.344696 \r\nL 370.313514 324.374579 \r\nL 372.634775 324.940413 \r\nL 374.956035 325.740385 \r\nL 377.277295 326.273049 \r\nL 379.598555 326.946818 \r\nL 381.919815 327.947931 \r\nL 384.241075 328.416207 \r\nL 386.562336 329.223984 \r\nL 391.204856 330.102002 \r\nL 393.526116 330.862951 \r\nL 395.847376 331.785455 \r\nL 398.168637 332.195197 \r\nL 400.489897 332.813676 \r\nL 402.811157 333.65267 \r\nL 402.811157 333.65267 \r\n\" style=\"fill:none;stroke:#1f77b4;stroke-linecap:square;stroke-width:1.5;\"/>\r\n   </g>\r\n   <g id=\"patch_3\">\r\n    <path d=\"M 39.65 348.478125 \r\nL 39.65 22.318125 \r\n\" style=\"fill:none;stroke:#000000;stroke-linecap:square;stroke-linejoin:miter;stroke-width:0.8;\"/>\r\n   </g>\r\n   <g id=\"patch_4\">\r\n    <path d=\"M 420.104545 348.478125 \r\nL 420.104545 22.318125 \r\n\" style=\"fill:none;stroke:#000000;stroke-linecap:square;stroke-linejoin:miter;stroke-width:0.8;\"/>\r\n   </g>\r\n   <g id=\"patch_5\">\r\n    <path d=\"M 39.65 348.478125 \r\nL 420.104545 348.478125 \r\n\" style=\"fill:none;stroke:#000000;stroke-linecap:square;stroke-linejoin:miter;stroke-width:0.8;\"/>\r\n   </g>\r\n   <g id=\"patch_6\">\r\n    <path d=\"M 39.65 22.318125 \r\nL 420.104545 22.318125 \r\n\" style=\"fill:none;stroke:#000000;stroke-linecap:square;stroke-linejoin:miter;stroke-width:0.8;\"/>\r\n   </g>\r\n   <g id=\"text_15\">\r\n    <!-- Elbow Method Graph -->\r\n    <defs>\r\n     <path d=\"M 9.8125 72.90625 \r\nL 55.90625 72.90625 \r\nL 55.90625 64.59375 \r\nL 19.671875 64.59375 \r\nL 19.671875 43.015625 \r\nL 54.390625 43.015625 \r\nL 54.390625 34.71875 \r\nL 19.671875 34.71875 \r\nL 19.671875 8.296875 \r\nL 56.78125 8.296875 \r\nL 56.78125 0 \r\nL 9.8125 0 \r\nz\r\n\" id=\"DejaVuSans-69\"/>\r\n     <path d=\"M 9.421875 75.984375 \r\nL 18.40625 75.984375 \r\nL 18.40625 0 \r\nL 9.421875 0 \r\nz\r\n\" id=\"DejaVuSans-108\"/>\r\n     <path d=\"M 48.6875 27.296875 \r\nQ 48.6875 37.203125 44.609375 42.84375 \r\nQ 40.53125 48.484375 33.40625 48.484375 \r\nQ 26.265625 48.484375 22.1875 42.84375 \r\nQ 18.109375 37.203125 18.109375 27.296875 \r\nQ 18.109375 17.390625 22.1875 11.75 \r\nQ 26.265625 6.109375 33.40625 6.109375 \r\nQ 40.53125 6.109375 44.609375 11.75 \r\nQ 48.6875 17.390625 48.6875 27.296875 \r\nz\r\nM 18.109375 46.390625 \r\nQ 20.953125 51.265625 25.265625 53.625 \r\nQ 29.59375 56 35.59375 56 \r\nQ 45.5625 56 51.78125 48.09375 \r\nQ 58.015625 40.1875 58.015625 27.296875 \r\nQ 58.015625 14.40625 51.78125 6.484375 \r\nQ 45.5625 -1.421875 35.59375 -1.421875 \r\nQ 29.59375 -1.421875 25.265625 0.953125 \r\nQ 20.953125 3.328125 18.109375 8.203125 \r\nL 18.109375 0 \r\nL 9.078125 0 \r\nL 9.078125 75.984375 \r\nL 18.109375 75.984375 \r\nz\r\n\" id=\"DejaVuSans-98\"/>\r\n     <path d=\"M 30.609375 48.390625 \r\nQ 23.390625 48.390625 19.1875 42.75 \r\nQ 14.984375 37.109375 14.984375 27.296875 \r\nQ 14.984375 17.484375 19.15625 11.84375 \r\nQ 23.34375 6.203125 30.609375 6.203125 \r\nQ 37.796875 6.203125 41.984375 11.859375 \r\nQ 46.1875 17.53125 46.1875 27.296875 \r\nQ 46.1875 37.015625 41.984375 42.703125 \r\nQ 37.796875 48.390625 30.609375 48.390625 \r\nz\r\nM 30.609375 56 \r\nQ 42.328125 56 49.015625 48.375 \r\nQ 55.71875 40.765625 55.71875 27.296875 \r\nQ 55.71875 13.875 49.015625 6.21875 \r\nQ 42.328125 -1.421875 30.609375 -1.421875 \r\nQ 18.84375 -1.421875 12.171875 6.21875 \r\nQ 5.515625 13.875 5.515625 27.296875 \r\nQ 5.515625 40.765625 12.171875 48.375 \r\nQ 18.84375 56 30.609375 56 \r\nz\r\n\" id=\"DejaVuSans-111\"/>\r\n     <path d=\"M 4.203125 54.6875 \r\nL 13.1875 54.6875 \r\nL 24.421875 12.015625 \r\nL 35.59375 54.6875 \r\nL 46.1875 54.6875 \r\nL 57.421875 12.015625 \r\nL 68.609375 54.6875 \r\nL 77.59375 54.6875 \r\nL 63.28125 0 \r\nL 52.6875 0 \r\nL 40.921875 44.828125 \r\nL 29.109375 0 \r\nL 18.5 0 \r\nz\r\n\" id=\"DejaVuSans-119\"/>\r\n     <path id=\"DejaVuSans-32\"/>\r\n     <path d=\"M 9.8125 72.90625 \r\nL 24.515625 72.90625 \r\nL 43.109375 23.296875 \r\nL 61.8125 72.90625 \r\nL 76.515625 72.90625 \r\nL 76.515625 0 \r\nL 66.890625 0 \r\nL 66.890625 64.015625 \r\nL 48.09375 14.015625 \r\nL 38.1875 14.015625 \r\nL 19.390625 64.015625 \r\nL 19.390625 0 \r\nL 9.8125 0 \r\nz\r\n\" id=\"DejaVuSans-77\"/>\r\n     <path d=\"M 56.203125 29.59375 \r\nL 56.203125 25.203125 \r\nL 14.890625 25.203125 \r\nQ 15.484375 15.921875 20.484375 11.0625 \r\nQ 25.484375 6.203125 34.421875 6.203125 \r\nQ 39.59375 6.203125 44.453125 7.46875 \r\nQ 49.3125 8.734375 54.109375 11.28125 \r\nL 54.109375 2.78125 \r\nQ 49.265625 0.734375 44.1875 -0.34375 \r\nQ 39.109375 -1.421875 33.890625 -1.421875 \r\nQ 20.796875 -1.421875 13.15625 6.1875 \r\nQ 5.515625 13.8125 5.515625 26.8125 \r\nQ 5.515625 40.234375 12.765625 48.109375 \r\nQ 20.015625 56 32.328125 56 \r\nQ 43.359375 56 49.78125 48.890625 \r\nQ 56.203125 41.796875 56.203125 29.59375 \r\nz\r\nM 47.21875 32.234375 \r\nQ 47.125 39.59375 43.09375 43.984375 \r\nQ 39.0625 48.390625 32.421875 48.390625 \r\nQ 24.90625 48.390625 20.390625 44.140625 \r\nQ 15.875 39.890625 15.1875 32.171875 \r\nz\r\n\" id=\"DejaVuSans-101\"/>\r\n     <path d=\"M 18.3125 70.21875 \r\nL 18.3125 54.6875 \r\nL 36.8125 54.6875 \r\nL 36.8125 47.703125 \r\nL 18.3125 47.703125 \r\nL 18.3125 18.015625 \r\nQ 18.3125 11.328125 20.140625 9.421875 \r\nQ 21.96875 7.515625 27.59375 7.515625 \r\nL 36.8125 7.515625 \r\nL 36.8125 0 \r\nL 27.59375 0 \r\nQ 17.1875 0 13.234375 3.875 \r\nQ 9.28125 7.765625 9.28125 18.015625 \r\nL 9.28125 47.703125 \r\nL 2.6875 47.703125 \r\nL 2.6875 54.6875 \r\nL 9.28125 54.6875 \r\nL 9.28125 70.21875 \r\nz\r\n\" id=\"DejaVuSans-116\"/>\r\n     <path d=\"M 54.890625 33.015625 \r\nL 54.890625 0 \r\nL 45.90625 0 \r\nL 45.90625 32.71875 \r\nQ 45.90625 40.484375 42.875 44.328125 \r\nQ 39.84375 48.1875 33.796875 48.1875 \r\nQ 26.515625 48.1875 22.3125 43.546875 \r\nQ 18.109375 38.921875 18.109375 30.90625 \r\nL 18.109375 0 \r\nL 9.078125 0 \r\nL 9.078125 75.984375 \r\nL 18.109375 75.984375 \r\nL 18.109375 46.1875 \r\nQ 21.34375 51.125 25.703125 53.5625 \r\nQ 30.078125 56 35.796875 56 \r\nQ 45.21875 56 50.046875 50.171875 \r\nQ 54.890625 44.34375 54.890625 33.015625 \r\nz\r\n\" id=\"DejaVuSans-104\"/>\r\n     <path d=\"M 45.40625 46.390625 \r\nL 45.40625 75.984375 \r\nL 54.390625 75.984375 \r\nL 54.390625 0 \r\nL 45.40625 0 \r\nL 45.40625 8.203125 \r\nQ 42.578125 3.328125 38.25 0.953125 \r\nQ 33.9375 -1.421875 27.875 -1.421875 \r\nQ 17.96875 -1.421875 11.734375 6.484375 \r\nQ 5.515625 14.40625 5.515625 27.296875 \r\nQ 5.515625 40.1875 11.734375 48.09375 \r\nQ 17.96875 56 27.875 56 \r\nQ 33.9375 56 38.25 53.625 \r\nQ 42.578125 51.265625 45.40625 46.390625 \r\nz\r\nM 14.796875 27.296875 \r\nQ 14.796875 17.390625 18.875 11.75 \r\nQ 22.953125 6.109375 30.078125 6.109375 \r\nQ 37.203125 6.109375 41.296875 11.75 \r\nQ 45.40625 17.390625 45.40625 27.296875 \r\nQ 45.40625 37.203125 41.296875 42.84375 \r\nQ 37.203125 48.484375 30.078125 48.484375 \r\nQ 22.953125 48.484375 18.875 42.84375 \r\nQ 14.796875 37.203125 14.796875 27.296875 \r\nz\r\n\" id=\"DejaVuSans-100\"/>\r\n     <path d=\"M 59.515625 10.40625 \r\nL 59.515625 29.984375 \r\nL 43.40625 29.984375 \r\nL 43.40625 38.09375 \r\nL 69.28125 38.09375 \r\nL 69.28125 6.78125 \r\nQ 63.578125 2.734375 56.6875 0.65625 \r\nQ 49.8125 -1.421875 42 -1.421875 \r\nQ 24.90625 -1.421875 15.25 8.5625 \r\nQ 5.609375 18.5625 5.609375 36.375 \r\nQ 5.609375 54.25 15.25 64.234375 \r\nQ 24.90625 74.21875 42 74.21875 \r\nQ 49.125 74.21875 55.546875 72.453125 \r\nQ 61.96875 70.703125 67.390625 67.28125 \r\nL 67.390625 56.78125 \r\nQ 61.921875 61.421875 55.765625 63.765625 \r\nQ 49.609375 66.109375 42.828125 66.109375 \r\nQ 29.4375 66.109375 22.71875 58.640625 \r\nQ 16.015625 51.171875 16.015625 36.375 \r\nQ 16.015625 21.625 22.71875 14.15625 \r\nQ 29.4375 6.6875 42.828125 6.6875 \r\nQ 48.046875 6.6875 52.140625 7.59375 \r\nQ 56.25 8.5 59.515625 10.40625 \r\nz\r\n\" id=\"DejaVuSans-71\"/>\r\n     <path d=\"M 41.109375 46.296875 \r\nQ 39.59375 47.171875 37.8125 47.578125 \r\nQ 36.03125 48 33.890625 48 \r\nQ 26.265625 48 22.1875 43.046875 \r\nQ 18.109375 38.09375 18.109375 28.8125 \r\nL 18.109375 0 \r\nL 9.078125 0 \r\nL 9.078125 54.6875 \r\nL 18.109375 54.6875 \r\nL 18.109375 46.1875 \r\nQ 20.953125 51.171875 25.484375 53.578125 \r\nQ 30.03125 56 36.53125 56 \r\nQ 37.453125 56 38.578125 55.875 \r\nQ 39.703125 55.765625 41.0625 55.515625 \r\nz\r\n\" id=\"DejaVuSans-114\"/>\r\n     <path d=\"M 34.28125 27.484375 \r\nQ 23.390625 27.484375 19.1875 25 \r\nQ 14.984375 22.515625 14.984375 16.5 \r\nQ 14.984375 11.71875 18.140625 8.90625 \r\nQ 21.296875 6.109375 26.703125 6.109375 \r\nQ 34.1875 6.109375 38.703125 11.40625 \r\nQ 43.21875 16.703125 43.21875 25.484375 \r\nL 43.21875 27.484375 \r\nz\r\nM 52.203125 31.203125 \r\nL 52.203125 0 \r\nL 43.21875 0 \r\nL 43.21875 8.296875 \r\nQ 40.140625 3.328125 35.546875 0.953125 \r\nQ 30.953125 -1.421875 24.3125 -1.421875 \r\nQ 15.921875 -1.421875 10.953125 3.296875 \r\nQ 6 8.015625 6 15.921875 \r\nQ 6 25.140625 12.171875 29.828125 \r\nQ 18.359375 34.515625 30.609375 34.515625 \r\nL 43.21875 34.515625 \r\nL 43.21875 35.40625 \r\nQ 43.21875 41.609375 39.140625 45 \r\nQ 35.0625 48.390625 27.6875 48.390625 \r\nQ 23 48.390625 18.546875 47.265625 \r\nQ 14.109375 46.140625 10.015625 43.890625 \r\nL 10.015625 52.203125 \r\nQ 14.9375 54.109375 19.578125 55.046875 \r\nQ 24.21875 56 28.609375 56 \r\nQ 40.484375 56 46.34375 49.84375 \r\nQ 52.203125 43.703125 52.203125 31.203125 \r\nz\r\n\" id=\"DejaVuSans-97\"/>\r\n     <path d=\"M 18.109375 8.203125 \r\nL 18.109375 -20.796875 \r\nL 9.078125 -20.796875 \r\nL 9.078125 54.6875 \r\nL 18.109375 54.6875 \r\nL 18.109375 46.390625 \r\nQ 20.953125 51.265625 25.265625 53.625 \r\nQ 29.59375 56 35.59375 56 \r\nQ 45.5625 56 51.78125 48.09375 \r\nQ 58.015625 40.1875 58.015625 27.296875 \r\nQ 58.015625 14.40625 51.78125 6.484375 \r\nQ 45.5625 -1.421875 35.59375 -1.421875 \r\nQ 29.59375 -1.421875 25.265625 0.953125 \r\nQ 20.953125 3.328125 18.109375 8.203125 \r\nz\r\nM 48.6875 27.296875 \r\nQ 48.6875 37.203125 44.609375 42.84375 \r\nQ 40.53125 48.484375 33.40625 48.484375 \r\nQ 26.265625 48.484375 22.1875 42.84375 \r\nQ 18.109375 37.203125 18.109375 27.296875 \r\nQ 18.109375 17.390625 22.1875 11.75 \r\nQ 26.265625 6.109375 33.40625 6.109375 \r\nQ 40.53125 6.109375 44.609375 11.75 \r\nQ 48.6875 17.390625 48.6875 27.296875 \r\nz\r\n\" id=\"DejaVuSans-112\"/>\r\n    </defs>\r\n    <g transform=\"translate(167.310398 16.318125)scale(0.12 -0.12)\">\r\n     <use xlink:href=\"#DejaVuSans-69\"/>\r\n     <use x=\"63.183594\" xlink:href=\"#DejaVuSans-108\"/>\r\n     <use x=\"90.966797\" xlink:href=\"#DejaVuSans-98\"/>\r\n     <use x=\"154.443359\" xlink:href=\"#DejaVuSans-111\"/>\r\n     <use x=\"215.625\" xlink:href=\"#DejaVuSans-119\"/>\r\n     <use x=\"297.412109\" xlink:href=\"#DejaVuSans-32\"/>\r\n     <use x=\"329.199219\" xlink:href=\"#DejaVuSans-77\"/>\r\n     <use x=\"415.478516\" xlink:href=\"#DejaVuSans-101\"/>\r\n     <use x=\"477.001953\" xlink:href=\"#DejaVuSans-116\"/>\r\n     <use x=\"516.210938\" xlink:href=\"#DejaVuSans-104\"/>\r\n     <use x=\"579.589844\" xlink:href=\"#DejaVuSans-111\"/>\r\n     <use x=\"640.771484\" xlink:href=\"#DejaVuSans-100\"/>\r\n     <use x=\"704.248047\" xlink:href=\"#DejaVuSans-32\"/>\r\n     <use x=\"736.035156\" xlink:href=\"#DejaVuSans-71\"/>\r\n     <use x=\"813.525391\" xlink:href=\"#DejaVuSans-114\"/>\r\n     <use x=\"854.638672\" xlink:href=\"#DejaVuSans-97\"/>\r\n     <use x=\"915.917969\" xlink:href=\"#DejaVuSans-112\"/>\r\n     <use x=\"979.394531\" xlink:href=\"#DejaVuSans-104\"/>\r\n    </g>\r\n   </g>\r\n  </g>\r\n  <g id=\"axes_2\">\r\n   <g id=\"patch_7\">\r\n    <path d=\"M 496.195455 348.478125 \r\nL 876.65 348.478125 \r\nL 876.65 22.318125 \r\nL 496.195455 22.318125 \r\nz\r\n\" style=\"fill:#ffffff;\"/>\r\n   </g>\r\n   <g id=\"matplotlib.axis_3\">\r\n    <g id=\"xtick_9\">\r\n     <g id=\"line2d_30\">\r\n      <path clip-path=\"url(#pf77e530749)\" d=\"M 511.151899 348.478125 \r\nL 511.151899 22.318125 \r\n\" style=\"fill:none;stroke:#b0b0b0;stroke-linecap:square;stroke-width:0.8;\"/>\r\n     </g>\r\n     <g id=\"line2d_31\">\r\n      <g>\r\n       <use style=\"stroke:#000000;stroke-width:0.8;\" x=\"511.151899\" xlink:href=\"#mb5a34f681f\" y=\"348.478125\"/>\r\n      </g>\r\n     </g>\r\n     <g id=\"text_16\">\r\n      <!-- 0 -->\r\n      <g transform=\"translate(507.970649 363.076563)scale(0.1 -0.1)\">\r\n       <use xlink:href=\"#DejaVuSans-48\"/>\r\n      </g>\r\n     </g>\r\n    </g>\r\n    <g id=\"xtick_10\">\r\n     <g id=\"line2d_32\">\r\n      <path clip-path=\"url(#pf77e530749)\" d=\"M 557.890786 348.478125 \r\nL 557.890786 22.318125 \r\n\" style=\"fill:none;stroke:#b0b0b0;stroke-linecap:square;stroke-width:0.8;\"/>\r\n     </g>\r\n     <g id=\"line2d_33\">\r\n      <g>\r\n       <use style=\"stroke:#000000;stroke-width:0.8;\" x=\"557.890786\" xlink:href=\"#mb5a34f681f\" y=\"348.478125\"/>\r\n      </g>\r\n     </g>\r\n     <g id=\"text_17\">\r\n      <!-- 20 -->\r\n      <g transform=\"translate(551.528286 363.076563)scale(0.1 -0.1)\">\r\n       <use xlink:href=\"#DejaVuSans-50\"/>\r\n       <use x=\"63.623047\" xlink:href=\"#DejaVuSans-48\"/>\r\n      </g>\r\n     </g>\r\n    </g>\r\n    <g id=\"xtick_11\">\r\n     <g id=\"line2d_34\">\r\n      <path clip-path=\"url(#pf77e530749)\" d=\"M 604.629674 348.478125 \r\nL 604.629674 22.318125 \r\n\" style=\"fill:none;stroke:#b0b0b0;stroke-linecap:square;stroke-width:0.8;\"/>\r\n     </g>\r\n     <g id=\"line2d_35\">\r\n      <g>\r\n       <use style=\"stroke:#000000;stroke-width:0.8;\" x=\"604.629674\" xlink:href=\"#mb5a34f681f\" y=\"348.478125\"/>\r\n      </g>\r\n     </g>\r\n     <g id=\"text_18\">\r\n      <!-- 40 -->\r\n      <g transform=\"translate(598.267174 363.076563)scale(0.1 -0.1)\">\r\n       <use xlink:href=\"#DejaVuSans-52\"/>\r\n       <use x=\"63.623047\" xlink:href=\"#DejaVuSans-48\"/>\r\n      </g>\r\n     </g>\r\n    </g>\r\n    <g id=\"xtick_12\">\r\n     <g id=\"line2d_36\">\r\n      <path clip-path=\"url(#pf77e530749)\" d=\"M 651.368562 348.478125 \r\nL 651.368562 22.318125 \r\n\" style=\"fill:none;stroke:#b0b0b0;stroke-linecap:square;stroke-width:0.8;\"/>\r\n     </g>\r\n     <g id=\"line2d_37\">\r\n      <g>\r\n       <use style=\"stroke:#000000;stroke-width:0.8;\" x=\"651.368562\" xlink:href=\"#mb5a34f681f\" y=\"348.478125\"/>\r\n      </g>\r\n     </g>\r\n     <g id=\"text_19\">\r\n      <!-- 60 -->\r\n      <g transform=\"translate(645.006062 363.076563)scale(0.1 -0.1)\">\r\n       <use xlink:href=\"#DejaVuSans-54\"/>\r\n       <use x=\"63.623047\" xlink:href=\"#DejaVuSans-48\"/>\r\n      </g>\r\n     </g>\r\n    </g>\r\n    <g id=\"xtick_13\">\r\n     <g id=\"line2d_38\">\r\n      <path clip-path=\"url(#pf77e530749)\" d=\"M 698.107449 348.478125 \r\nL 698.107449 22.318125 \r\n\" style=\"fill:none;stroke:#b0b0b0;stroke-linecap:square;stroke-width:0.8;\"/>\r\n     </g>\r\n     <g id=\"line2d_39\">\r\n      <g>\r\n       <use style=\"stroke:#000000;stroke-width:0.8;\" x=\"698.107449\" xlink:href=\"#mb5a34f681f\" y=\"348.478125\"/>\r\n      </g>\r\n     </g>\r\n     <g id=\"text_20\">\r\n      <!-- 80 -->\r\n      <g transform=\"translate(691.744949 363.076563)scale(0.1 -0.1)\">\r\n       <use xlink:href=\"#DejaVuSans-56\"/>\r\n       <use x=\"63.623047\" xlink:href=\"#DejaVuSans-48\"/>\r\n      </g>\r\n     </g>\r\n    </g>\r\n    <g id=\"xtick_14\">\r\n     <g id=\"line2d_40\">\r\n      <path clip-path=\"url(#pf77e530749)\" d=\"M 744.846337 348.478125 \r\nL 744.846337 22.318125 \r\n\" style=\"fill:none;stroke:#b0b0b0;stroke-linecap:square;stroke-width:0.8;\"/>\r\n     </g>\r\n     <g id=\"line2d_41\">\r\n      <g>\r\n       <use style=\"stroke:#000000;stroke-width:0.8;\" x=\"744.846337\" xlink:href=\"#mb5a34f681f\" y=\"348.478125\"/>\r\n      </g>\r\n     </g>\r\n     <g id=\"text_21\">\r\n      <!-- 100 -->\r\n      <g transform=\"translate(735.302587 363.076563)scale(0.1 -0.1)\">\r\n       <use xlink:href=\"#DejaVuSans-49\"/>\r\n       <use x=\"63.623047\" xlink:href=\"#DejaVuSans-48\"/>\r\n       <use x=\"127.246094\" xlink:href=\"#DejaVuSans-48\"/>\r\n      </g>\r\n     </g>\r\n    </g>\r\n    <g id=\"xtick_15\">\r\n     <g id=\"line2d_42\">\r\n      <path clip-path=\"url(#pf77e530749)\" d=\"M 791.585224 348.478125 \r\nL 791.585224 22.318125 \r\n\" style=\"fill:none;stroke:#b0b0b0;stroke-linecap:square;stroke-width:0.8;\"/>\r\n     </g>\r\n     <g id=\"line2d_43\">\r\n      <g>\r\n       <use style=\"stroke:#000000;stroke-width:0.8;\" x=\"791.585224\" xlink:href=\"#mb5a34f681f\" y=\"348.478125\"/>\r\n      </g>\r\n     </g>\r\n     <g id=\"text_22\">\r\n      <!-- 120 -->\r\n      <g transform=\"translate(782.041474 363.076563)scale(0.1 -0.1)\">\r\n       <use xlink:href=\"#DejaVuSans-49\"/>\r\n       <use x=\"63.623047\" xlink:href=\"#DejaVuSans-50\"/>\r\n       <use x=\"127.246094\" xlink:href=\"#DejaVuSans-48\"/>\r\n      </g>\r\n     </g>\r\n    </g>\r\n    <g id=\"xtick_16\">\r\n     <g id=\"line2d_44\">\r\n      <path clip-path=\"url(#pf77e530749)\" d=\"M 838.324112 348.478125 \r\nL 838.324112 22.318125 \r\n\" style=\"fill:none;stroke:#b0b0b0;stroke-linecap:square;stroke-width:0.8;\"/>\r\n     </g>\r\n     <g id=\"line2d_45\">\r\n      <g>\r\n       <use style=\"stroke:#000000;stroke-width:0.8;\" x=\"838.324112\" xlink:href=\"#mb5a34f681f\" y=\"348.478125\"/>\r\n      </g>\r\n     </g>\r\n     <g id=\"text_23\">\r\n      <!-- 140 -->\r\n      <g transform=\"translate(828.780362 363.076563)scale(0.1 -0.1)\">\r\n       <use xlink:href=\"#DejaVuSans-49\"/>\r\n       <use x=\"63.623047\" xlink:href=\"#DejaVuSans-52\"/>\r\n       <use x=\"127.246094\" xlink:href=\"#DejaVuSans-48\"/>\r\n      </g>\r\n     </g>\r\n    </g>\r\n   </g>\r\n   <g id=\"matplotlib.axis_4\">\r\n    <g id=\"ytick_7\">\r\n     <g id=\"line2d_46\">\r\n      <path clip-path=\"url(#pf77e530749)\" d=\"M 496.195455 325.283937 \r\nL 876.65 325.283937 \r\n\" style=\"fill:none;stroke:#b0b0b0;stroke-linecap:square;stroke-width:0.8;\"/>\r\n     </g>\r\n     <g id=\"line2d_47\">\r\n      <g>\r\n       <use style=\"stroke:#000000;stroke-width:0.8;\" x=\"496.195455\" xlink:href=\"#m63b1a1bc05\" y=\"325.283937\"/>\r\n      </g>\r\n     </g>\r\n     <g id=\"text_24\">\r\n      <!-- 0 -->\r\n      <g transform=\"translate(482.832955 329.083156)scale(0.1 -0.1)\">\r\n       <use xlink:href=\"#DejaVuSans-48\"/>\r\n      </g>\r\n     </g>\r\n    </g>\r\n    <g id=\"ytick_8\">\r\n     <g id=\"line2d_48\">\r\n      <path clip-path=\"url(#pf77e530749)\" d=\"M 496.195455 283.440272 \r\nL 876.65 283.440272 \r\n\" style=\"fill:none;stroke:#b0b0b0;stroke-linecap:square;stroke-width:0.8;\"/>\r\n     </g>\r\n     <g id=\"line2d_49\">\r\n      <g>\r\n       <use style=\"stroke:#000000;stroke-width:0.8;\" x=\"496.195455\" xlink:href=\"#m63b1a1bc05\" y=\"283.440272\"/>\r\n      </g>\r\n     </g>\r\n     <g id=\"text_25\">\r\n      <!-- 50 -->\r\n      <g transform=\"translate(476.470455 287.239491)scale(0.1 -0.1)\">\r\n       <use xlink:href=\"#DejaVuSans-53\"/>\r\n       <use x=\"63.623047\" xlink:href=\"#DejaVuSans-48\"/>\r\n      </g>\r\n     </g>\r\n    </g>\r\n    <g id=\"ytick_9\">\r\n     <g id=\"line2d_50\">\r\n      <path clip-path=\"url(#pf77e530749)\" d=\"M 496.195455 241.596607 \r\nL 876.65 241.596607 \r\n\" style=\"fill:none;stroke:#b0b0b0;stroke-linecap:square;stroke-width:0.8;\"/>\r\n     </g>\r\n     <g id=\"line2d_51\">\r\n      <g>\r\n       <use style=\"stroke:#000000;stroke-width:0.8;\" x=\"496.195455\" xlink:href=\"#m63b1a1bc05\" y=\"241.596607\"/>\r\n      </g>\r\n     </g>\r\n     <g id=\"text_26\">\r\n      <!-- 100 -->\r\n      <g transform=\"translate(470.107955 245.395826)scale(0.1 -0.1)\">\r\n       <use xlink:href=\"#DejaVuSans-49\"/>\r\n       <use x=\"63.623047\" xlink:href=\"#DejaVuSans-48\"/>\r\n       <use x=\"127.246094\" xlink:href=\"#DejaVuSans-48\"/>\r\n      </g>\r\n     </g>\r\n    </g>\r\n    <g id=\"ytick_10\">\r\n     <g id=\"line2d_52\">\r\n      <path clip-path=\"url(#pf77e530749)\" d=\"M 496.195455 199.752942 \r\nL 876.65 199.752942 \r\n\" style=\"fill:none;stroke:#b0b0b0;stroke-linecap:square;stroke-width:0.8;\"/>\r\n     </g>\r\n     <g id=\"line2d_53\">\r\n      <g>\r\n       <use style=\"stroke:#000000;stroke-width:0.8;\" x=\"496.195455\" xlink:href=\"#m63b1a1bc05\" y=\"199.752942\"/>\r\n      </g>\r\n     </g>\r\n     <g id=\"text_27\">\r\n      <!-- 150 -->\r\n      <g transform=\"translate(470.107955 203.552161)scale(0.1 -0.1)\">\r\n       <use xlink:href=\"#DejaVuSans-49\"/>\r\n       <use x=\"63.623047\" xlink:href=\"#DejaVuSans-53\"/>\r\n       <use x=\"127.246094\" xlink:href=\"#DejaVuSans-48\"/>\r\n      </g>\r\n     </g>\r\n    </g>\r\n    <g id=\"ytick_11\">\r\n     <g id=\"line2d_54\">\r\n      <path clip-path=\"url(#pf77e530749)\" d=\"M 496.195455 157.909277 \r\nL 876.65 157.909277 \r\n\" style=\"fill:none;stroke:#b0b0b0;stroke-linecap:square;stroke-width:0.8;\"/>\r\n     </g>\r\n     <g id=\"line2d_55\">\r\n      <g>\r\n       <use style=\"stroke:#000000;stroke-width:0.8;\" x=\"496.195455\" xlink:href=\"#m63b1a1bc05\" y=\"157.909277\"/>\r\n      </g>\r\n     </g>\r\n     <g id=\"text_28\">\r\n      <!-- 200 -->\r\n      <g transform=\"translate(470.107955 161.708496)scale(0.1 -0.1)\">\r\n       <use xlink:href=\"#DejaVuSans-50\"/>\r\n       <use x=\"63.623047\" xlink:href=\"#DejaVuSans-48\"/>\r\n       <use x=\"127.246094\" xlink:href=\"#DejaVuSans-48\"/>\r\n      </g>\r\n     </g>\r\n    </g>\r\n    <g id=\"ytick_12\">\r\n     <g id=\"line2d_56\">\r\n      <path clip-path=\"url(#pf77e530749)\" d=\"M 496.195455 116.065612 \r\nL 876.65 116.065612 \r\n\" style=\"fill:none;stroke:#b0b0b0;stroke-linecap:square;stroke-width:0.8;\"/>\r\n     </g>\r\n     <g id=\"line2d_57\">\r\n      <g>\r\n       <use style=\"stroke:#000000;stroke-width:0.8;\" x=\"496.195455\" xlink:href=\"#m63b1a1bc05\" y=\"116.065612\"/>\r\n      </g>\r\n     </g>\r\n     <g id=\"text_29\">\r\n      <!-- 250 -->\r\n      <g transform=\"translate(470.107955 119.864831)scale(0.1 -0.1)\">\r\n       <use xlink:href=\"#DejaVuSans-50\"/>\r\n       <use x=\"63.623047\" xlink:href=\"#DejaVuSans-53\"/>\r\n       <use x=\"127.246094\" xlink:href=\"#DejaVuSans-48\"/>\r\n      </g>\r\n     </g>\r\n    </g>\r\n    <g id=\"ytick_13\">\r\n     <g id=\"line2d_58\">\r\n      <path clip-path=\"url(#pf77e530749)\" d=\"M 496.195455 74.221947 \r\nL 876.65 74.221947 \r\n\" style=\"fill:none;stroke:#b0b0b0;stroke-linecap:square;stroke-width:0.8;\"/>\r\n     </g>\r\n     <g id=\"line2d_59\">\r\n      <g>\r\n       <use style=\"stroke:#000000;stroke-width:0.8;\" x=\"496.195455\" xlink:href=\"#m63b1a1bc05\" y=\"74.221947\"/>\r\n      </g>\r\n     </g>\r\n     <g id=\"text_30\">\r\n      <!-- 300 -->\r\n      <g transform=\"translate(470.107955 78.021166)scale(0.1 -0.1)\">\r\n       <use xlink:href=\"#DejaVuSans-51\"/>\r\n       <use x=\"63.623047\" xlink:href=\"#DejaVuSans-48\"/>\r\n       <use x=\"127.246094\" xlink:href=\"#DejaVuSans-48\"/>\r\n      </g>\r\n     </g>\r\n    </g>\r\n    <g id=\"ytick_14\">\r\n     <g id=\"line2d_60\">\r\n      <path clip-path=\"url(#pf77e530749)\" d=\"M 496.195455 32.378282 \r\nL 876.65 32.378282 \r\n\" style=\"fill:none;stroke:#b0b0b0;stroke-linecap:square;stroke-width:0.8;\"/>\r\n     </g>\r\n     <g id=\"line2d_61\">\r\n      <g>\r\n       <use style=\"stroke:#000000;stroke-width:0.8;\" x=\"496.195455\" xlink:href=\"#m63b1a1bc05\" y=\"32.378282\"/>\r\n      </g>\r\n     </g>\r\n     <g id=\"text_31\">\r\n      <!-- 350 -->\r\n      <g transform=\"translate(470.107955 36.177501)scale(0.1 -0.1)\">\r\n       <use xlink:href=\"#DejaVuSans-51\"/>\r\n       <use x=\"63.623047\" xlink:href=\"#DejaVuSans-53\"/>\r\n       <use x=\"127.246094\" xlink:href=\"#DejaVuSans-48\"/>\r\n      </g>\r\n     </g>\r\n    </g>\r\n   </g>\r\n   <g id=\"line2d_62\">\r\n    <path clip-path=\"url(#pf77e530749)\" d=\"M 513.488843 37.14358 \r\nL 515.825787 223.506519 \r\nL 518.162732 274.212582 \r\nL 520.499676 258.785174 \r\nL 522.836621 286.538829 \r\nL 525.173565 302.004013 \r\nL 527.510509 274.901608 \r\nL 529.847454 298.579992 \r\nL 532.184398 299.992791 \r\nL 534.521342 300.700958 \r\nL 536.858287 312.476358 \r\nL 539.195231 299.550083 \r\nL 541.532176 319.022229 \r\nL 543.86912 297.670787 \r\nL 546.206064 307.623902 \r\nL 548.543009 306.559711 \r\nL 550.879953 306.896609 \r\nL 553.216897 305.043267 \r\nL 555.553842 299.74278 \r\nL 557.890786 304.513866 \r\nL 560.227731 297.653718 \r\nL 562.564675 305.412638 \r\nL 564.901619 309.522824 \r\nL 567.238564 307.952732 \r\nL 569.575508 312.318643 \r\nL 571.912453 310.778134 \r\nL 574.249397 308.035073 \r\nL 576.586341 313.84491 \r\nL 578.923286 309.397688 \r\nL 581.26023 303.664711 \r\nL 583.597174 312.095674 \r\nL 585.934119 315.368556 \r\nL 588.271063 308.569718 \r\nL 590.608008 312.423984 \r\nL 592.944952 318.50261 \r\nL 595.281896 313.567711 \r\nL 597.618841 315.401322 \r\nL 599.955785 303.500042 \r\nL 602.29273 301.209574 \r\nL 604.629674 312.075822 \r\nL 606.966618 307.0401 \r\nL 609.303563 309.467032 \r\nL 611.640507 311.140779 \r\nL 616.314396 313.567711 \r\nL 618.65134 311.401139 \r\nL 620.988285 312.661188 \r\nL 623.325229 310.185348 \r\nL 625.662173 315.883961 \r\nL 627.999118 318.19044 \r\nL 630.336062 321.871693 \r\nL 632.673006 316.21781 \r\nL 635.009951 311.920961 \r\nL 637.346895 291.190233 \r\nL 639.68384 312.312401 \r\nL 642.020784 315.612482 \r\nL 644.357728 314.9625 \r\nL 646.694673 310.563572 \r\nL 649.031617 314.505185 \r\nL 651.368562 313.986148 \r\nL 653.705506 319.007388 \r\nL 656.04245 314.11815 \r\nL 658.379395 316.392216 \r\nL 660.716339 315.915331 \r\nL 663.053283 314.404585 \r\nL 665.390228 317.752078 \r\nL 667.727172 317.019814 \r\nL 670.064117 314.132387 \r\nL 672.401061 308.448717 \r\nL 674.738005 318.020306 \r\nL 677.07495 319.872977 \r\nL 679.411894 318.588951 \r\nL 681.748839 316.439379 \r\nL 684.085783 311.078341 \r\nL 686.422727 316.09892 \r\nL 688.759672 307.922779 \r\nL 691.096616 315.944421 \r\nL 693.43356 314.274894 \r\nL 695.770505 318.860722 \r\nL 698.107449 315.954401 \r\nL 700.444394 314.825384 \r\nL 702.781338 314.255807 \r\nL 705.118282 319.007388 \r\nL 707.455227 317.040735 \r\nL 709.792171 318.726765 \r\nL 712.129115 316.496768 \r\nL 714.46606 315.440543 \r\nL 716.803004 317.204891 \r\nL 719.139949 319.425824 \r\nL 721.476893 316.953244 \r\nL 723.813837 316.334845 \r\nL 726.150782 315.284459 \r\nL 728.487726 317.461497 \r\nL 730.824671 314.388556 \r\nL 733.161615 319.007388 \r\nL 735.498559 316.03512 \r\nL 737.835504 318.325971 \r\nL 740.172448 317.333641 \r\nL 742.509392 316.047178 \r\nL 744.846337 315.850046 \r\nL 747.183281 319.438576 \r\nL 749.520226 319.156923 \r\nL 751.85717 319.202956 \r\nL 754.194114 318.947611 \r\nL 756.531059 316.74783 \r\nL 758.868003 318.111483 \r\nL 761.204948 317.712227 \r\nL 763.541892 316.337306 \r\nL 765.878836 318.508999 \r\nL 768.215781 315.903349 \r\nL 770.552725 317.720695 \r\nL 772.889669 320.262698 \r\nL 775.226614 321.048151 \r\nL 777.563558 317.165269 \r\nL 779.900503 318.770029 \r\nL 782.237447 317.159293 \r\nL 784.574391 320.098312 \r\nL 786.911336 319.671687 \r\nL 789.24828 319.95838 \r\nL 791.585224 321.45552 \r\nL 793.922169 316.732288 \r\nL 796.259113 318.070887 \r\nL 798.596058 320.37986 \r\nL 800.933002 322.354881 \r\nL 803.269946 319.106291 \r\nL 807.943835 319.780499 \r\nL 810.28078 320.273803 \r\nL 812.617724 317.867913 \r\nL 814.954668 318.2635 \r\nL 817.291613 320.835809 \r\nL 819.628557 319.951002 \r\nL 821.965501 317.547509 \r\nL 824.302446 320.681134 \r\nL 826.63939 317.921777 \r\nL 828.976335 321.23905 \r\nL 831.313279 319.565303 \r\nL 833.650223 321.476164 \r\nL 835.987168 320.467466 \r\nL 838.324112 318.12744 \r\nL 840.661057 321.936444 \r\nL 842.998001 319.509512 \r\nL 845.334945 321.936444 \r\nL 847.67189 322.354881 \r\nL 850.008834 319.844261 \r\nL 852.345778 318.689376 \r\nL 854.682723 322.354881 \r\nL 859.356612 319.286345 \r\nL 859.356612 319.286345 \r\n\" style=\"fill:none;stroke:#1f77b4;stroke-linecap:square;stroke-width:1.5;\"/>\r\n   </g>\r\n   <g id=\"line2d_63\">\r\n    <path clip-path=\"url(#pf77e530749)\" d=\"M 513.488843 316.915204 \r\nL 859.356612 316.915204 \r\nL 859.356612 316.915204 \r\n\" style=\"fill:none;stroke:#ff0000;stroke-linecap:square;stroke-width:1.5;\"/>\r\n   </g>\r\n   <g id=\"line2d_64\">\r\n    <path clip-path=\"url(#pf77e530749)\" d=\"M 513.488843 333.65267 \r\nL 859.356612 333.65267 \r\nL 859.356612 333.65267 \r\n\" style=\"fill:none;stroke:#ff0000;stroke-linecap:square;stroke-width:1.5;\"/>\r\n   </g>\r\n   <g id=\"patch_8\">\r\n    <path d=\"M 496.195455 348.478125 \r\nL 496.195455 22.318125 \r\n\" style=\"fill:none;stroke:#000000;stroke-linecap:square;stroke-linejoin:miter;stroke-width:0.8;\"/>\r\n   </g>\r\n   <g id=\"patch_9\">\r\n    <path d=\"M 876.65 348.478125 \r\nL 876.65 22.318125 \r\n\" style=\"fill:none;stroke:#000000;stroke-linecap:square;stroke-linejoin:miter;stroke-width:0.8;\"/>\r\n   </g>\r\n   <g id=\"patch_10\">\r\n    <path d=\"M 496.195455 348.478125 \r\nL 876.65 348.478125 \r\n\" style=\"fill:none;stroke:#000000;stroke-linecap:square;stroke-linejoin:miter;stroke-width:0.8;\"/>\r\n   </g>\r\n   <g id=\"patch_11\">\r\n    <path d=\"M 496.195455 22.318125 \r\nL 876.65 22.318125 \r\n\" style=\"fill:none;stroke:#000000;stroke-linecap:square;stroke-linejoin:miter;stroke-width:0.8;\"/>\r\n   </g>\r\n   <g id=\"text_32\">\r\n    <!-- Differences in Each Two Consective Clusters -->\r\n    <defs>\r\n     <path d=\"M 19.671875 64.796875 \r\nL 19.671875 8.109375 \r\nL 31.59375 8.109375 \r\nQ 46.6875 8.109375 53.6875 14.9375 \r\nQ 60.6875 21.78125 60.6875 36.53125 \r\nQ 60.6875 51.171875 53.6875 57.984375 \r\nQ 46.6875 64.796875 31.59375 64.796875 \r\nz\r\nM 9.8125 72.90625 \r\nL 30.078125 72.90625 \r\nQ 51.265625 72.90625 61.171875 64.09375 \r\nQ 71.09375 55.28125 71.09375 36.53125 \r\nQ 71.09375 17.671875 61.125 8.828125 \r\nQ 51.171875 0 30.078125 0 \r\nL 9.8125 0 \r\nz\r\n\" id=\"DejaVuSans-68\"/>\r\n     <path d=\"M 9.421875 54.6875 \r\nL 18.40625 54.6875 \r\nL 18.40625 0 \r\nL 9.421875 0 \r\nz\r\nM 9.421875 75.984375 \r\nL 18.40625 75.984375 \r\nL 18.40625 64.59375 \r\nL 9.421875 64.59375 \r\nz\r\n\" id=\"DejaVuSans-105\"/>\r\n     <path d=\"M 37.109375 75.984375 \r\nL 37.109375 68.5 \r\nL 28.515625 68.5 \r\nQ 23.6875 68.5 21.796875 66.546875 \r\nQ 19.921875 64.59375 19.921875 59.515625 \r\nL 19.921875 54.6875 \r\nL 34.71875 54.6875 \r\nL 34.71875 47.703125 \r\nL 19.921875 47.703125 \r\nL 19.921875 0 \r\nL 10.890625 0 \r\nL 10.890625 47.703125 \r\nL 2.296875 47.703125 \r\nL 2.296875 54.6875 \r\nL 10.890625 54.6875 \r\nL 10.890625 58.5 \r\nQ 10.890625 67.625 15.140625 71.796875 \r\nQ 19.390625 75.984375 28.609375 75.984375 \r\nz\r\n\" id=\"DejaVuSans-102\"/>\r\n     <path d=\"M 54.890625 33.015625 \r\nL 54.890625 0 \r\nL 45.90625 0 \r\nL 45.90625 32.71875 \r\nQ 45.90625 40.484375 42.875 44.328125 \r\nQ 39.84375 48.1875 33.796875 48.1875 \r\nQ 26.515625 48.1875 22.3125 43.546875 \r\nQ 18.109375 38.921875 18.109375 30.90625 \r\nL 18.109375 0 \r\nL 9.078125 0 \r\nL 9.078125 54.6875 \r\nL 18.109375 54.6875 \r\nL 18.109375 46.1875 \r\nQ 21.34375 51.125 25.703125 53.5625 \r\nQ 30.078125 56 35.796875 56 \r\nQ 45.21875 56 50.046875 50.171875 \r\nQ 54.890625 44.34375 54.890625 33.015625 \r\nz\r\n\" id=\"DejaVuSans-110\"/>\r\n     <path d=\"M 48.78125 52.59375 \r\nL 48.78125 44.1875 \r\nQ 44.96875 46.296875 41.140625 47.34375 \r\nQ 37.3125 48.390625 33.40625 48.390625 \r\nQ 24.65625 48.390625 19.8125 42.84375 \r\nQ 14.984375 37.3125 14.984375 27.296875 \r\nQ 14.984375 17.28125 19.8125 11.734375 \r\nQ 24.65625 6.203125 33.40625 6.203125 \r\nQ 37.3125 6.203125 41.140625 7.25 \r\nQ 44.96875 8.296875 48.78125 10.40625 \r\nL 48.78125 2.09375 \r\nQ 45.015625 0.34375 40.984375 -0.53125 \r\nQ 36.96875 -1.421875 32.421875 -1.421875 \r\nQ 20.0625 -1.421875 12.78125 6.34375 \r\nQ 5.515625 14.109375 5.515625 27.296875 \r\nQ 5.515625 40.671875 12.859375 48.328125 \r\nQ 20.21875 56 33.015625 56 \r\nQ 37.15625 56 41.109375 55.140625 \r\nQ 45.0625 54.296875 48.78125 52.59375 \r\nz\r\n\" id=\"DejaVuSans-99\"/>\r\n     <path d=\"M 44.28125 53.078125 \r\nL 44.28125 44.578125 \r\nQ 40.484375 46.53125 36.375 47.5 \r\nQ 32.28125 48.484375 27.875 48.484375 \r\nQ 21.1875 48.484375 17.84375 46.4375 \r\nQ 14.5 44.390625 14.5 40.28125 \r\nQ 14.5 37.15625 16.890625 35.375 \r\nQ 19.28125 33.59375 26.515625 31.984375 \r\nL 29.59375 31.296875 \r\nQ 39.15625 29.25 43.1875 25.515625 \r\nQ 47.21875 21.78125 47.21875 15.09375 \r\nQ 47.21875 7.46875 41.1875 3.015625 \r\nQ 35.15625 -1.421875 24.609375 -1.421875 \r\nQ 20.21875 -1.421875 15.453125 -0.5625 \r\nQ 10.6875 0.296875 5.421875 2 \r\nL 5.421875 11.28125 \r\nQ 10.40625 8.6875 15.234375 7.390625 \r\nQ 20.0625 6.109375 24.8125 6.109375 \r\nQ 31.15625 6.109375 34.5625 8.28125 \r\nQ 37.984375 10.453125 37.984375 14.40625 \r\nQ 37.984375 18.0625 35.515625 20.015625 \r\nQ 33.0625 21.96875 24.703125 23.78125 \r\nL 21.578125 24.515625 \r\nQ 13.234375 26.265625 9.515625 29.90625 \r\nQ 5.8125 33.546875 5.8125 39.890625 \r\nQ 5.8125 47.609375 11.28125 51.796875 \r\nQ 16.75 56 26.8125 56 \r\nQ 31.78125 56 36.171875 55.265625 \r\nQ 40.578125 54.546875 44.28125 53.078125 \r\nz\r\n\" id=\"DejaVuSans-115\"/>\r\n     <path d=\"M -0.296875 72.90625 \r\nL 61.375 72.90625 \r\nL 61.375 64.59375 \r\nL 35.5 64.59375 \r\nL 35.5 0 \r\nL 25.59375 0 \r\nL 25.59375 64.59375 \r\nL -0.296875 64.59375 \r\nz\r\n\" id=\"DejaVuSans-84\"/>\r\n     <path d=\"M 64.40625 67.28125 \r\nL 64.40625 56.890625 \r\nQ 59.421875 61.53125 53.78125 63.8125 \r\nQ 48.140625 66.109375 41.796875 66.109375 \r\nQ 29.296875 66.109375 22.65625 58.46875 \r\nQ 16.015625 50.828125 16.015625 36.375 \r\nQ 16.015625 21.96875 22.65625 14.328125 \r\nQ 29.296875 6.6875 41.796875 6.6875 \r\nQ 48.140625 6.6875 53.78125 8.984375 \r\nQ 59.421875 11.28125 64.40625 15.921875 \r\nL 64.40625 5.609375 \r\nQ 59.234375 2.09375 53.4375 0.328125 \r\nQ 47.65625 -1.421875 41.21875 -1.421875 \r\nQ 24.65625 -1.421875 15.125 8.703125 \r\nQ 5.609375 18.84375 5.609375 36.375 \r\nQ 5.609375 53.953125 15.125 64.078125 \r\nQ 24.65625 74.21875 41.21875 74.21875 \r\nQ 47.75 74.21875 53.53125 72.484375 \r\nQ 59.328125 70.75 64.40625 67.28125 \r\nz\r\n\" id=\"DejaVuSans-67\"/>\r\n     <path d=\"M 2.984375 54.6875 \r\nL 12.5 54.6875 \r\nL 29.59375 8.796875 \r\nL 46.6875 54.6875 \r\nL 56.203125 54.6875 \r\nL 35.6875 0 \r\nL 23.484375 0 \r\nz\r\n\" id=\"DejaVuSans-118\"/>\r\n     <path d=\"M 8.5 21.578125 \r\nL 8.5 54.6875 \r\nL 17.484375 54.6875 \r\nL 17.484375 21.921875 \r\nQ 17.484375 14.15625 20.5 10.265625 \r\nQ 23.53125 6.390625 29.59375 6.390625 \r\nQ 36.859375 6.390625 41.078125 11.03125 \r\nQ 45.3125 15.671875 45.3125 23.6875 \r\nL 45.3125 54.6875 \r\nL 54.296875 54.6875 \r\nL 54.296875 0 \r\nL 45.3125 0 \r\nL 45.3125 8.40625 \r\nQ 42.046875 3.421875 37.71875 1 \r\nQ 33.40625 -1.421875 27.6875 -1.421875 \r\nQ 18.265625 -1.421875 13.375 4.4375 \r\nQ 8.5 10.296875 8.5 21.578125 \r\nz\r\nM 31.109375 56 \r\nz\r\n\" id=\"DejaVuSans-117\"/>\r\n    </defs>\r\n    <g transform=\"translate(552.879602 16.318125)scale(0.12 -0.12)\">\r\n     <use xlink:href=\"#DejaVuSans-68\"/>\r\n     <use x=\"77.001953\" xlink:href=\"#DejaVuSans-105\"/>\r\n     <use x=\"104.785156\" xlink:href=\"#DejaVuSans-102\"/>\r\n     <use x=\"139.990234\" xlink:href=\"#DejaVuSans-102\"/>\r\n     <use x=\"175.195312\" xlink:href=\"#DejaVuSans-101\"/>\r\n     <use x=\"236.71875\" xlink:href=\"#DejaVuSans-114\"/>\r\n     <use x=\"277.800781\" xlink:href=\"#DejaVuSans-101\"/>\r\n     <use x=\"339.324219\" xlink:href=\"#DejaVuSans-110\"/>\r\n     <use x=\"402.703125\" xlink:href=\"#DejaVuSans-99\"/>\r\n     <use x=\"457.683594\" xlink:href=\"#DejaVuSans-101\"/>\r\n     <use x=\"519.207031\" xlink:href=\"#DejaVuSans-115\"/>\r\n     <use x=\"571.306641\" xlink:href=\"#DejaVuSans-32\"/>\r\n     <use x=\"603.09375\" xlink:href=\"#DejaVuSans-105\"/>\r\n     <use x=\"630.876953\" xlink:href=\"#DejaVuSans-110\"/>\r\n     <use x=\"694.255859\" xlink:href=\"#DejaVuSans-32\"/>\r\n     <use x=\"726.042969\" xlink:href=\"#DejaVuSans-69\"/>\r\n     <use x=\"789.226562\" xlink:href=\"#DejaVuSans-97\"/>\r\n     <use x=\"850.505859\" xlink:href=\"#DejaVuSans-99\"/>\r\n     <use x=\"905.486328\" xlink:href=\"#DejaVuSans-104\"/>\r\n     <use x=\"968.865234\" xlink:href=\"#DejaVuSans-32\"/>\r\n     <use x=\"1000.652344\" xlink:href=\"#DejaVuSans-84\"/>\r\n     <use x=\"1061.486328\" xlink:href=\"#DejaVuSans-119\"/>\r\n     <use x=\"1143.273438\" xlink:href=\"#DejaVuSans-111\"/>\r\n     <use x=\"1204.455078\" xlink:href=\"#DejaVuSans-32\"/>\r\n     <use x=\"1236.242188\" xlink:href=\"#DejaVuSans-67\"/>\r\n     <use x=\"1306.066406\" xlink:href=\"#DejaVuSans-111\"/>\r\n     <use x=\"1367.248047\" xlink:href=\"#DejaVuSans-110\"/>\r\n     <use x=\"1430.626953\" xlink:href=\"#DejaVuSans-115\"/>\r\n     <use x=\"1482.726562\" xlink:href=\"#DejaVuSans-101\"/>\r\n     <use x=\"1544.25\" xlink:href=\"#DejaVuSans-99\"/>\r\n     <use x=\"1599.230469\" xlink:href=\"#DejaVuSans-116\"/>\r\n     <use x=\"1638.439453\" xlink:href=\"#DejaVuSans-105\"/>\r\n     <use x=\"1666.222656\" xlink:href=\"#DejaVuSans-118\"/>\r\n     <use x=\"1725.402344\" xlink:href=\"#DejaVuSans-101\"/>\r\n     <use x=\"1786.925781\" xlink:href=\"#DejaVuSans-32\"/>\r\n     <use x=\"1818.712891\" xlink:href=\"#DejaVuSans-67\"/>\r\n     <use x=\"1888.537109\" xlink:href=\"#DejaVuSans-108\"/>\r\n     <use x=\"1916.320312\" xlink:href=\"#DejaVuSans-117\"/>\r\n     <use x=\"1979.699219\" xlink:href=\"#DejaVuSans-115\"/>\r\n     <use x=\"2031.798828\" xlink:href=\"#DejaVuSans-116\"/>\r\n     <use x=\"2071.007812\" xlink:href=\"#DejaVuSans-101\"/>\r\n     <use x=\"2132.53125\" xlink:href=\"#DejaVuSans-114\"/>\r\n     <use x=\"2173.644531\" xlink:href=\"#DejaVuSans-115\"/>\r\n    </g>\r\n   </g>\r\n  </g>\r\n </g>\r\n <defs>\r\n  <clipPath id=\"pc48e6db899\">\r\n   <rect height=\"326.16\" width=\"380.454545\" x=\"39.65\" y=\"22.318125\"/>\r\n  </clipPath>\r\n  <clipPath id=\"pf77e530749\">\r\n   <rect height=\"326.16\" width=\"380.454545\" x=\"496.195455\" y=\"22.318125\"/>\r\n  </clipPath>\r\n </defs>\r\n</svg>\r\n",
      "image/png": "[encoded data removed]"
     },
     "metadata": {
      "needs_background": "light"
     }
    }
   ],
   "source": [
    "elbow_method.run(1, 150)\n",
    "elbow_method.showPlot(boundary = 10)"
   ]
  },
  {
   "cell_type": "code",
   "execution_count": 23,
   "metadata": {},
   "outputs": [],
   "source": [
    "kmeans = KMeans(n_clusters=82, init = 'k-means++', max_iter = 300, n_init = 10, random_state = 0)\n",
    "clusters = kmeans.fit_predict(sparseMatrix)"
   ]
  },
  {
   "cell_type": "code",
   "execution_count": 24,
   "metadata": {},
   "outputs": [
    {
     "output_type": "execute_result",
     "data": {
      "text/plain": [
       "         0    1    2    3    4    5    6    7    8    9    ...  305  306  307  \\\n",
       "userId     1    3    4    5    6    7    8    9   11   12  ...  339  340  341   \n",
       "Cluster   13    0   74   77    7    5   68    0   24    0  ...    3    9   15   \n",
       "\n",
       "         308  309  310  311  312  313  314  \n",
       "userId   342  343  344  345  346  347  348  \n",
       "Cluster    0    5   38   25   32   68    5  \n",
       "\n",
       "[2 rows x 315 columns]"
      ],
      "text/html": "<div>\n<style scoped>\n    .dataframe tbody tr th:only-of-type {\n        vertical-align: middle;\n    }\n\n    .dataframe tbody tr th {\n        vertical-align: top;\n    }\n\n    .dataframe thead th {\n        text-align: right;\n    }\n</style>\n<table border=\"1\" class=\"dataframe\">\n  <thead>\n    <tr style=\"text-align: right;\">\n      <th></th>\n      <th>0</th>\n      <th>1</th>\n      <th>2</th>\n      <th>3</th>\n      <th>4</th>\n      <th>5</th>\n      <th>6</th>\n      <th>7</th>\n      <th>8</th>\n      <th>9</th>\n      <th>...</th>\n      <th>305</th>\n      <th>306</th>\n      <th>307</th>\n      <th>308</th>\n      <th>309</th>\n      <th>310</th>\n      <th>311</th>\n      <th>312</th>\n      <th>313</th>\n      <th>314</th>\n    </tr>\n  </thead>\n  <tbody>\n    <tr>\n      <th>userId</th>\n      <td>1</td>\n      <td>3</td>\n      <td>4</td>\n      <td>5</td>\n      <td>6</td>\n      <td>7</td>\n      <td>8</td>\n      <td>9</td>\n      <td>11</td>\n      <td>12</td>\n      <td>...</td>\n      <td>339</td>\n      <td>340</td>\n      <td>341</td>\n      <td>342</td>\n      <td>343</td>\n      <td>344</td>\n      <td>345</td>\n      <td>346</td>\n      <td>347</td>\n      <td>348</td>\n    </tr>\n    <tr>\n      <th>Cluster</th>\n      <td>13</td>\n      <td>0</td>\n      <td>74</td>\n      <td>77</td>\n      <td>7</td>\n      <td>5</td>\n      <td>68</td>\n      <td>0</td>\n      <td>24</td>\n      <td>0</td>\n      <td>...</td>\n      <td>3</td>\n      <td>9</td>\n      <td>15</td>\n      <td>0</td>\n      <td>5</td>\n      <td>38</td>\n      <td>25</td>\n      <td>32</td>\n      <td>68</td>\n      <td>5</td>\n    </tr>\n  </tbody>\n</table>\n<p>2 rows × 315 columns</p>\n</div>"
     },
     "metadata": {},
     "execution_count": 24
    }
   ],
   "source": [
    "users_cluster = pd.DataFrame(np.concatenate((users.reshape(-1,1), clusters.reshape(-1,1)), axis = 1), columns = ['userId', 'Cluster'])\n",
    "users_cluster.T"
   ]
  },
  {
   "cell_type": "code",
   "execution_count": 25,
   "metadata": {},
   "outputs": [],
   "source": [
    "def clustersMovies(users_cluster, users_data):\n",
    "    clusters = list(users_cluster['Cluster'])\n",
    "    each_cluster_movies = list()\n",
    "    for i in range(len(np.unique(clusters))):\n",
    "        users_list = list(users_cluster[users_cluster['Cluster'] == i]['userId'])\n",
    "        users_movies_list = list()\n",
    "        for user in users_list:    \n",
    "            users_movies_list.extend(list(users_data[users_data['userId'] == user]['movieId']))\n",
    "        users_movies_counts = list()\n",
    "        users_movies_counts.extend([[movie, users_movies_list.count(movie)] for movie in np.unique(users_movies_list)])\n",
    "        each_cluster_movies.append(pd.DataFrame(users_movies_counts, columns=['movieId', 'Count']).sort_values(by = ['Count'], ascending = False).reset_index(drop=True))\n",
    "    return each_cluster_movies\n",
    "cluster_movies = clustersMovies(users_cluster, users_fav_movies)"
   ]
  },
  {
   "cell_type": "code",
   "execution_count": 26,
   "metadata": {},
   "outputs": [
    {
     "output_type": "execute_result",
     "data": {
      "text/plain": [
       "         0   1    2    3    4    5   6   7   8    9   ...   23   24   25   26  \\\n",
       "movieId   1  34  231  110  165  153  32  47  10  208  ...  173  170  163  161   \n",
       "Count     5   5    5    4    4    4   4   4   4    3  ...    1    1    1    1   \n",
       "\n",
       "          27  28  29   30  31   32  \n",
       "movieId  158  29   3  145  58  141  \n",
       "Count      1   1   1    1   1    1  \n",
       "\n",
       "[2 rows x 33 columns]"
      ],
      "text/html": "<div>\n<style scoped>\n    .dataframe tbody tr th:only-of-type {\n        vertical-align: middle;\n    }\n\n    .dataframe tbody tr th {\n        vertical-align: top;\n    }\n\n    .dataframe thead th {\n        text-align: right;\n    }\n</style>\n<table border=\"1\" class=\"dataframe\">\n  <thead>\n    <tr style=\"text-align: right;\">\n      <th></th>\n      <th>0</th>\n      <th>1</th>\n      <th>2</th>\n      <th>3</th>\n      <th>4</th>\n      <th>5</th>\n      <th>6</th>\n      <th>7</th>\n      <th>8</th>\n      <th>9</th>\n      <th>...</th>\n      <th>23</th>\n      <th>24</th>\n      <th>25</th>\n      <th>26</th>\n      <th>27</th>\n      <th>28</th>\n      <th>29</th>\n      <th>30</th>\n      <th>31</th>\n      <th>32</th>\n    </tr>\n  </thead>\n  <tbody>\n    <tr>\n      <th>movieId</th>\n      <td>1</td>\n      <td>34</td>\n      <td>231</td>\n      <td>110</td>\n      <td>165</td>\n      <td>153</td>\n      <td>32</td>\n      <td>47</td>\n      <td>10</td>\n      <td>208</td>\n      <td>...</td>\n      <td>173</td>\n      <td>170</td>\n      <td>163</td>\n      <td>161</td>\n      <td>158</td>\n      <td>29</td>\n      <td>3</td>\n      <td>145</td>\n      <td>58</td>\n      <td>141</td>\n    </tr>\n    <tr>\n      <th>Count</th>\n      <td>5</td>\n      <td>5</td>\n      <td>5</td>\n      <td>4</td>\n      <td>4</td>\n      <td>4</td>\n      <td>4</td>\n      <td>4</td>\n      <td>4</td>\n      <td>3</td>\n      <td>...</td>\n      <td>1</td>\n      <td>1</td>\n      <td>1</td>\n      <td>1</td>\n      <td>1</td>\n      <td>1</td>\n      <td>1</td>\n      <td>1</td>\n      <td>1</td>\n      <td>1</td>\n    </tr>\n  </tbody>\n</table>\n<p>2 rows × 33 columns</p>\n</div>"
     },
     "metadata": {},
     "execution_count": 26
    }
   ],
   "source": [
    "cluster_movies[1].T"
   ]
  },
  {
   "cell_type": "code",
   "execution_count": 27,
   "metadata": {},
   "outputs": [
    {
     "output_type": "stream",
     "name": "stdout",
     "text": [
      "Users in Cluster 0 ->  52\nUsers in Cluster 1 ->  5\nUsers in Cluster 2 ->  1\nUsers in Cluster 3 ->  7\nUsers in Cluster 4 ->  8\nUsers in Cluster 5 ->  34\nUsers in Cluster 6 ->  1\nUsers in Cluster 7 ->  1\nUsers in Cluster 8 ->  1\nUsers in Cluster 9 ->  10\nUsers in Cluster 10 ->  1\nUsers in Cluster 11 ->  1\nUsers in Cluster 12 ->  1\nUsers in Cluster 13 ->  23\nUsers in Cluster 14 ->  5\nUsers in Cluster 15 ->  27\nUsers in Cluster 16 ->  1\nUsers in Cluster 17 ->  1\nUsers in Cluster 18 ->  1\nUsers in Cluster 19 ->  1\nUsers in Cluster 20 ->  1\nUsers in Cluster 21 ->  1\nUsers in Cluster 22 ->  1\nUsers in Cluster 23 ->  1\nUsers in Cluster 24 ->  4\nUsers in Cluster 25 ->  10\nUsers in Cluster 26 ->  1\nUsers in Cluster 27 ->  1\nUsers in Cluster 28 ->  1\nUsers in Cluster 29 ->  3\nUsers in Cluster 30 ->  1\nUsers in Cluster 31 ->  1\nUsers in Cluster 32 ->  16\nUsers in Cluster 33 ->  1\nUsers in Cluster 34 ->  1\nUsers in Cluster 35 ->  1\nUsers in Cluster 36 ->  1\nUsers in Cluster 37 ->  4\nUsers in Cluster 38 ->  21\nUsers in Cluster 39 ->  1\nUsers in Cluster 40 ->  1\nUsers in Cluster 41 ->  1\n"
     ]
    }
   ],
   "source": [
    "for i in range(42):\n",
    "    len_users = users_cluster[users_cluster['Cluster'] == i].shape[0]\n",
    "    print('Users in Cluster ' + str(i) + ' -> ', len_users) "
   ]
  },
  {
   "cell_type": "code",
   "execution_count": 28,
   "metadata": {},
   "outputs": [],
   "source": [
    "def getMoviesOfUser(user_id, users_data):\n",
    "    return list(users_data[users_data['userId'] == user_id]['movieId'])"
   ]
  },
  {
   "cell_type": "code",
   "execution_count": 29,
   "metadata": {},
   "outputs": [],
   "source": [
    "def fixClusters(clusters_movies_dataframes, users_cluster_dataframe, users_data, smallest_cluster_size = 11):\n",
    "    # clusters_movies_dataframes: will be a list which will contain each dataframes of each cluster movies\n",
    "    # users_cluster_dataframe: will be a dataframe which contain users IDs and their cluster no.\n",
    "    # smallest_cluster_size: is a smallest cluster size which we want for a cluster to not remove\n",
    "    each_cluster_movies = clusters_movies_dataframes.copy()\n",
    "    users_cluster = users_cluster_dataframe.copy()\n",
    "    # Let convert dataframe in each_cluster_movies to list with containing only movies IDs\n",
    "    each_cluster_movies_list = [list(df['movieId']) for df in each_cluster_movies]\n",
    "    # First we will prepair a list which containt lists of users in each cluster -> [[Cluster 0 Users], [Cluster 1 Users], ... ,[Cluster N Users]] \n",
    "    usersInClusters = list()\n",
    "    total_clusters = len(each_cluster_movies)\n",
    "    for i in range(total_clusters):\n",
    "        usersInClusters.append(list(users_cluster[users_cluster['Cluster'] == i]['userId']))\n",
    "    uncategorizedUsers = list()\n",
    "    i = 0\n",
    "    # Now we will remove small clusters and put their users into another list named \"uncategorizedUsers\"\n",
    "    # Also when we will remove a cluster, then we have also bring back cluster numbers of users which comes after deleting cluster\n",
    "    # E.g. if we have deleted cluster 4 then their will be users whose clusters will be 5,6,7,..,N. So, we'll bring back those users cluster number to 4,5,6,...,N-1.\n",
    "    for j in range(total_clusters):\n",
    "        if len(usersInClusters[i]) < smallest_cluster_size:\n",
    "            uncategorizedUsers.extend(usersInClusters[i])\n",
    "            usersInClusters.pop(i)\n",
    "            each_cluster_movies.pop(i)\n",
    "            each_cluster_movies_list.pop(i)\n",
    "            users_cluster.loc[users_cluster['Cluster'] > i, 'Cluster'] -= 1\n",
    "            i -= 1\n",
    "        i += 1\n",
    "    for user in uncategorizedUsers:\n",
    "        elemProbability = list()\n",
    "        user_movies = getMoviesOfUser(user, users_data)\n",
    "        if len(user_movies) == 0:\n",
    "            print(user)\n",
    "        user_missed_movies = list()\n",
    "        for movies_list in each_cluster_movies_list:\n",
    "            count = 0\n",
    "            missed_movies = list()\n",
    "            for movie in user_movies:\n",
    "                if movie in movies_list:\n",
    "                    count += 1\n",
    "                else:\n",
    "                    missed_movies.append(movie)\n",
    "            elemProbability.append(count / len(user_movies))\n",
    "            user_missed_movies.append(missed_movies)\n",
    "        user_new_cluster = np.array(elemProbability).argmax()\n",
    "        users_cluster.loc[users_cluster['userId'] == user, 'Cluster'] = user_new_cluster\n",
    "        if len(user_missed_movies[user_new_cluster]) > 0:\n",
    "            each_cluster_movies[user_new_cluster] = each_cluster_movies[user_new_cluster].append([{'movieId': new_movie, 'Count': 1} for new_movie in user_missed_movies[user_new_cluster]], ignore_index = True)\n",
    "    return each_cluster_movies, users_cluster "
   ]
  },
  {
   "cell_type": "code",
   "execution_count": 30,
   "metadata": {},
   "outputs": [],
   "source": [
    "movies_df_fixed, clusters_fixed = fixClusters(cluster_movies, users_cluster, users_fav_movies, smallest_cluster_size = 6)"
   ]
  },
  {
   "cell_type": "code",
   "execution_count": 31,
   "metadata": {},
   "outputs": [
    {
     "output_type": "stream",
     "name": "stdout",
     "text": [
      "Users in Cluster 1 ->  5\nUsers in Cluster 2 ->  1\nUsers in Cluster 6 ->  1\nUsers in Cluster 7 ->  1\nUsers in Cluster 8 ->  1\nUsers in Cluster 10 ->  1\nUsers in Cluster 11 ->  1\nUsers in Cluster 12 ->  1\nUsers in Cluster 14 ->  5\nTotal Cluster which we want to remove ->  9\n"
     ]
    }
   ],
   "source": [
    "j = 0\n",
    "for i in range(15):\n",
    "    len_users = users_cluster[users_cluster['Cluster'] == i].shape[0]\n",
    "    if len_users < 6:\n",
    "        print('Users in Cluster ' + str(i) + ' -> ', len_users)\n",
    "        j += 1\n",
    "print('Total Cluster which we want to remove -> ', j) "
   ]
  },
  {
   "cell_type": "code",
   "execution_count": 32,
   "metadata": {},
   "outputs": [
    {
     "output_type": "stream",
     "name": "stdout",
     "text": [
      "Length of total clusters before fixing is ->  82\nMax value in users_cluster dataframe column Cluster is ->  81\nAnd dataframe is following\n"
     ]
    },
    {
     "output_type": "execute_result",
     "data": {
      "text/plain": [
       "         0    1    2    3    4    5    6    7    8    9    ...  305  306  307  \\\n",
       "userId     1    3    4    5    6    7    8    9   11   12  ...  339  340  341   \n",
       "Cluster   13    0   74   77    7    5   68    0   24    0  ...    3    9   15   \n",
       "\n",
       "         308  309  310  311  312  313  314  \n",
       "userId   342  343  344  345  346  347  348  \n",
       "Cluster    0    5   38   25   32   68    5  \n",
       "\n",
       "[2 rows x 315 columns]"
      ],
      "text/html": "<div>\n<style scoped>\n    .dataframe tbody tr th:only-of-type {\n        vertical-align: middle;\n    }\n\n    .dataframe tbody tr th {\n        vertical-align: top;\n    }\n\n    .dataframe thead th {\n        text-align: right;\n    }\n</style>\n<table border=\"1\" class=\"dataframe\">\n  <thead>\n    <tr style=\"text-align: right;\">\n      <th></th>\n      <th>0</th>\n      <th>1</th>\n      <th>2</th>\n      <th>3</th>\n      <th>4</th>\n      <th>5</th>\n      <th>6</th>\n      <th>7</th>\n      <th>8</th>\n      <th>9</th>\n      <th>...</th>\n      <th>305</th>\n      <th>306</th>\n      <th>307</th>\n      <th>308</th>\n      <th>309</th>\n      <th>310</th>\n      <th>311</th>\n      <th>312</th>\n      <th>313</th>\n      <th>314</th>\n    </tr>\n  </thead>\n  <tbody>\n    <tr>\n      <th>userId</th>\n      <td>1</td>\n      <td>3</td>\n      <td>4</td>\n      <td>5</td>\n      <td>6</td>\n      <td>7</td>\n      <td>8</td>\n      <td>9</td>\n      <td>11</td>\n      <td>12</td>\n      <td>...</td>\n      <td>339</td>\n      <td>340</td>\n      <td>341</td>\n      <td>342</td>\n      <td>343</td>\n      <td>344</td>\n      <td>345</td>\n      <td>346</td>\n      <td>347</td>\n      <td>348</td>\n    </tr>\n    <tr>\n      <th>Cluster</th>\n      <td>13</td>\n      <td>0</td>\n      <td>74</td>\n      <td>77</td>\n      <td>7</td>\n      <td>5</td>\n      <td>68</td>\n      <td>0</td>\n      <td>24</td>\n      <td>0</td>\n      <td>...</td>\n      <td>3</td>\n      <td>9</td>\n      <td>15</td>\n      <td>0</td>\n      <td>5</td>\n      <td>38</td>\n      <td>25</td>\n      <td>32</td>\n      <td>68</td>\n      <td>5</td>\n    </tr>\n  </tbody>\n</table>\n<p>2 rows × 315 columns</p>\n</div>"
     },
     "metadata": {},
     "execution_count": 32
    }
   ],
   "source": [
    "print('Length of total clusters before fixing is -> ', len(cluster_movies))\n",
    "print('Max value in users_cluster dataframe column Cluster is -> ', users_cluster['Cluster'].max())\n",
    "print('And dataframe is following')\n",
    "users_cluster.T "
   ]
  },
  {
   "cell_type": "code",
   "execution_count": 33,
   "metadata": {},
   "outputs": [
    {
     "output_type": "stream",
     "name": "stdout",
     "text": [
      "Length of total clusters after fixing is ->  11\nMax value in users_cluster dataframe column Cluster is ->  10\nAnd fixed dataframe is following\n"
     ]
    },
    {
     "output_type": "execute_result",
     "data": {
      "text/plain": [
       "         0    1    2    3    4    5    6    7    8    9    ...  305  306  307  \\\n",
       "userId     1    3    4    5    6    7    8    9   11   12  ...  339  340  341   \n",
       "Cluster    5    0    8   10    5    3    4    0    5    0  ...    1    4    6   \n",
       "\n",
       "         308  309  310  311  312  313  314  \n",
       "userId   342  343  344  345  346  347  348  \n",
       "Cluster    0    3    9    7    8    4    3  \n",
       "\n",
       "[2 rows x 315 columns]"
      ],
      "text/html": "<div>\n<style scoped>\n    .dataframe tbody tr th:only-of-type {\n        vertical-align: middle;\n    }\n\n    .dataframe tbody tr th {\n        vertical-align: top;\n    }\n\n    .dataframe thead th {\n        text-align: right;\n    }\n</style>\n<table border=\"1\" class=\"dataframe\">\n  <thead>\n    <tr style=\"text-align: right;\">\n      <th></th>\n      <th>0</th>\n      <th>1</th>\n      <th>2</th>\n      <th>3</th>\n      <th>4</th>\n      <th>5</th>\n      <th>6</th>\n      <th>7</th>\n      <th>8</th>\n      <th>9</th>\n      <th>...</th>\n      <th>305</th>\n      <th>306</th>\n      <th>307</th>\n      <th>308</th>\n      <th>309</th>\n      <th>310</th>\n      <th>311</th>\n      <th>312</th>\n      <th>313</th>\n      <th>314</th>\n    </tr>\n  </thead>\n  <tbody>\n    <tr>\n      <th>userId</th>\n      <td>1</td>\n      <td>3</td>\n      <td>4</td>\n      <td>5</td>\n      <td>6</td>\n      <td>7</td>\n      <td>8</td>\n      <td>9</td>\n      <td>11</td>\n      <td>12</td>\n      <td>...</td>\n      <td>339</td>\n      <td>340</td>\n      <td>341</td>\n      <td>342</td>\n      <td>343</td>\n      <td>344</td>\n      <td>345</td>\n      <td>346</td>\n      <td>347</td>\n      <td>348</td>\n    </tr>\n    <tr>\n      <th>Cluster</th>\n      <td>5</td>\n      <td>0</td>\n      <td>8</td>\n      <td>10</td>\n      <td>5</td>\n      <td>3</td>\n      <td>4</td>\n      <td>0</td>\n      <td>5</td>\n      <td>0</td>\n      <td>...</td>\n      <td>1</td>\n      <td>4</td>\n      <td>6</td>\n      <td>0</td>\n      <td>3</td>\n      <td>9</td>\n      <td>7</td>\n      <td>8</td>\n      <td>4</td>\n      <td>3</td>\n    </tr>\n  </tbody>\n</table>\n<p>2 rows × 315 columns</p>\n</div>"
     },
     "metadata": {},
     "execution_count": 33
    }
   ],
   "source": [
    "print('Length of total clusters after fixing is -> ', len(movies_df_fixed))\n",
    "print('Max value in users_cluster dataframe column Cluster is -> ', clusters_fixed['Cluster'].max())\n",
    "print('And fixed dataframe is following')\n",
    "clusters_fixed.T "
   ]
  },
  {
   "cell_type": "code",
   "execution_count": 34,
   "metadata": {},
   "outputs": [
    {
     "output_type": "stream",
     "name": "stdout",
     "text": [
      "Users cluster dataFrame for cluster 11 before fixing:\n"
     ]
    },
    {
     "output_type": "execute_result",
     "data": {
      "text/plain": [
       "         195\n",
       "userId   219\n",
       "Cluster   11"
      ],
      "text/html": "<div>\n<style scoped>\n    .dataframe tbody tr th:only-of-type {\n        vertical-align: middle;\n    }\n\n    .dataframe tbody tr th {\n        vertical-align: top;\n    }\n\n    .dataframe thead th {\n        text-align: right;\n    }\n</style>\n<table border=\"1\" class=\"dataframe\">\n  <thead>\n    <tr style=\"text-align: right;\">\n      <th></th>\n      <th>195</th>\n    </tr>\n  </thead>\n  <tbody>\n    <tr>\n      <th>userId</th>\n      <td>219</td>\n    </tr>\n    <tr>\n      <th>Cluster</th>\n      <td>11</td>\n    </tr>\n  </tbody>\n</table>\n</div>"
     },
     "metadata": {},
     "execution_count": 34
    }
   ],
   "source": [
    "print('Users cluster dataFrame for cluster 11 before fixing:')\n",
    "users_cluster[users_cluster['Cluster'] == 11].T "
   ]
  },
  {
   "cell_type": "code",
   "execution_count": 35,
   "metadata": {},
   "outputs": [
    {
     "output_type": "stream",
     "name": "stdout",
     "text": [
      "Users cluster dataFrame for cluster 4 after fixing which should be same as 11th cluster before fixing:\n"
     ]
    },
    {
     "output_type": "execute_result",
     "data": {
      "text/plain": [
       "         6    11   23   43   53   54   60   75   99   107  ...  124  125  132  \\\n",
       "userId     8   14   26   46   56   57   63   81  107  116  ...  134  135  142   \n",
       "Cluster    4    4    4    4    4    4    4    4    4    4  ...    4    4    4   \n",
       "\n",
       "         134  139  162  216  263  306  313  \n",
       "userId   145  151  179  242  292  340  347  \n",
       "Cluster    4    4    4    4    4    4    4  \n",
       "\n",
       "[2 rows x 22 columns]"
      ],
      "text/html": "<div>\n<style scoped>\n    .dataframe tbody tr th:only-of-type {\n        vertical-align: middle;\n    }\n\n    .dataframe tbody tr th {\n        vertical-align: top;\n    }\n\n    .dataframe thead th {\n        text-align: right;\n    }\n</style>\n<table border=\"1\" class=\"dataframe\">\n  <thead>\n    <tr style=\"text-align: right;\">\n      <th></th>\n      <th>6</th>\n      <th>11</th>\n      <th>23</th>\n      <th>43</th>\n      <th>53</th>\n      <th>54</th>\n      <th>60</th>\n      <th>75</th>\n      <th>99</th>\n      <th>107</th>\n      <th>...</th>\n      <th>124</th>\n      <th>125</th>\n      <th>132</th>\n      <th>134</th>\n      <th>139</th>\n      <th>162</th>\n      <th>216</th>\n      <th>263</th>\n      <th>306</th>\n      <th>313</th>\n    </tr>\n  </thead>\n  <tbody>\n    <tr>\n      <th>userId</th>\n      <td>8</td>\n      <td>14</td>\n      <td>26</td>\n      <td>46</td>\n      <td>56</td>\n      <td>57</td>\n      <td>63</td>\n      <td>81</td>\n      <td>107</td>\n      <td>116</td>\n      <td>...</td>\n      <td>134</td>\n      <td>135</td>\n      <td>142</td>\n      <td>145</td>\n      <td>151</td>\n      <td>179</td>\n      <td>242</td>\n      <td>292</td>\n      <td>340</td>\n      <td>347</td>\n    </tr>\n    <tr>\n      <th>Cluster</th>\n      <td>4</td>\n      <td>4</td>\n      <td>4</td>\n      <td>4</td>\n      <td>4</td>\n      <td>4</td>\n      <td>4</td>\n      <td>4</td>\n      <td>4</td>\n      <td>4</td>\n      <td>...</td>\n      <td>4</td>\n      <td>4</td>\n      <td>4</td>\n      <td>4</td>\n      <td>4</td>\n      <td>4</td>\n      <td>4</td>\n      <td>4</td>\n      <td>4</td>\n      <td>4</td>\n    </tr>\n  </tbody>\n</table>\n<p>2 rows × 22 columns</p>\n</div>"
     },
     "metadata": {},
     "execution_count": 35
    }
   ],
   "source": [
    "print('Users cluster dataFrame for cluster 4 after fixing which should be same as 11th cluster before fixing:')\n",
    "clusters_fixed[clusters_fixed['Cluster'] == 4].T "
   ]
  },
  {
   "cell_type": "code",
   "execution_count": 36,
   "metadata": {},
   "outputs": [
    {
     "output_type": "stream",
     "name": "stdout",
     "text": [
      "Users in Cluster 0 ->  55\nUsers in Cluster 1 ->  8\nUsers in Cluster 2 ->  8\nUsers in Cluster 3 ->  35\nUsers in Cluster 4 ->  22\nUsers in Cluster 5 ->  82\nUsers in Cluster 6 ->  37\nUsers in Cluster 7 ->  10\nUsers in Cluster 8 ->  26\nUsers in Cluster 9 ->  21\nUsers in Cluster 10 ->  11\n"
     ]
    }
   ],
   "source": [
    "for i in range(len(movies_df_fixed)):\n",
    "    len_users = clusters_fixed[clusters_fixed['Cluster'] == i].shape[0]\n",
    "    print('Users in Cluster ' + str(i) + ' -> ', len_users) "
   ]
  },
  {
   "cell_type": "code",
   "execution_count": 37,
   "metadata": {},
   "outputs": [],
   "source": [
    "class saveLoadFiles:\n",
    "    def save(self, filename, data):\n",
    "        try:\n",
    "            file = open('CAB420_Assessment_1C_Data/Data/' + filename + '.pkl', 'wb')\n",
    "            pickle.dump(data, file)\n",
    "        except:\n",
    "            err = 'Error: {0}, {1}'.format(exc_info()[0], exc_info()[1])\n",
    "            print(err)\n",
    "            file.close()\n",
    "            return [False, err]\n",
    "        else:\n",
    "            file.close()\n",
    "            return [True]\n",
    "    def load(self, filename):\n",
    "        try:\n",
    "            file = open('CAB420_Assessment_1C_Data/Data/' + filename + '.pkl', 'rb')\n",
    "        except:\n",
    "            err = 'Error: {0}, {1}'.format(exc_info()[0], exc_info()[1])\n",
    "            print(err)\n",
    "            file.close()\n",
    "            return [False, err]\n",
    "        else:\n",
    "            data = pickle.load(file)\n",
    "            file.close()\n",
    "            return data\n",
    "    def loadClusterMoviesDataset(self):\n",
    "        return self.load('clusters_movies_dataset')\n",
    "    def saveClusterMoviesDataset(self, data):\n",
    "        return self.save('clusters_movies_dataset', data)\n",
    "    def loadUsersClusters(self):\n",
    "        return self.load('users_clusters')\n",
    "    def saveUsersClusters(self, data):\n",
    "        return self.save('users_clusters', data)"
   ]
  },
  {
   "cell_type": "code",
   "execution_count": 38,
   "metadata": {},
   "outputs": [
    {
     "output_type": "stream",
     "name": "stdout",
     "text": [
      "[True]\n",
      "[True]\n"
     ]
    }
   ],
   "source": [
    "saveLoadFile = saveLoadFiles()\n",
    "print(saveLoadFile.saveClusterMoviesDataset(movies_df_fixed))\n",
    "print(saveLoadFile.saveUsersClusters(clusters_fixed)) "
   ]
  },
  {
   "cell_type": "code",
   "execution_count": 39,
   "metadata": {},
   "outputs": [
    {
     "output_type": "stream",
     "name": "stdout",
     "text": [
      "Type of Loading list of Movies dataframes of 5 Clusters:  <class 'list'>  and Length is:  11\nType of Loading 100 Users clusters Data:  <class 'pandas.core.frame.DataFrame'>  and Shape is:  (315, 2)\n"
     ]
    }
   ],
   "source": [
    "load_movies_list, load_users_clusters = saveLoadFile.loadClusterMoviesDataset(), saveLoadFile.loadUsersClusters()\n",
    "print('Type of Loading list of Movies dataframes of 5 Clusters: ', type(load_movies_list), ' and Length is: ', len(load_movies_list))\n",
    "print('Type of Loading 100 Users clusters Data: ', type(load_users_clusters), ' and Shape is: ', load_users_clusters.shape) "
   ]
  },
  {
   "cell_type": "code",
   "execution_count": 40,
   "metadata": {},
   "outputs": [],
   "source": [
    "class userRequestedFor:\n",
    "    def __init__(self, user_id, users_data):\n",
    "        self.users_data = users_data.copy()\n",
    "        self.user_id = user_id\n",
    "        # Find User Cluster\n",
    "        users_cluster = saveLoadFiles().loadUsersClusters()\n",
    "        self.user_cluster = int(users_cluster[users_cluster['userId'] == self.user_id]['Cluster'])\n",
    "        # Load User Cluster Movies Dataframe\n",
    "        self.movies_list = saveLoadFiles().loadClusterMoviesDataset()\n",
    "        self.cluster_movies = self.movies_list[self.user_cluster] # dataframe\n",
    "        self.cluster_movies_list = list(self.cluster_movies['movieId']) # list\n",
    "    def updatedFavouriteMoviesList(self, new_movie_Id):\n",
    "        if new_movie_Id in self.cluster_movies_list:\n",
    "            self.cluster_movies.loc[self.cluster_movies['movieId'] == new_movie_Id, 'Count'] += 1\n",
    "        else:\n",
    "            self.cluster_movies = self.cluster_movies.append([{'movieId':new_movie_Id, 'Count': 1}], ignore_index=True)\n",
    "        self.cluster_movies.sort_values(by = ['Count'], ascending = False, inplace= True)\n",
    "        self.movies_list[self.user_cluster] = self.cluster_movies\n",
    "        saveLoadFiles().saveClusterMoviesDataset(self.movies_list)\n",
    "\n",
    "    def recommendMostFavouriteMovies(self):\n",
    "        try:\n",
    "            user_movies = getMoviesOfUser(self.user_id, self.users_data)\n",
    "            cluster_movies_list = self.cluster_movies_list.copy()\n",
    "            for user_movie in user_movies:\n",
    "                if user_movie in cluster_movies_list:\n",
    "                    cluster_movies_list.remove(user_movie)\n",
    "            return [True, cluster_movies_list]\n",
    "        except KeyError:\n",
    "            err = \"User history does not exist\"\n",
    "            print(err)\n",
    "            return [False, err]\n",
    "        except:\n",
    "            err = 'Error: {0}, {1}'.format(exc_info()[0], exc_info()[1])\n",
    "            print(err)\n",
    "            return [False, err]"
   ]
  },
  {
   "cell_type": "code",
   "execution_count": 41,
   "metadata": {},
   "outputs": [
    {
     "output_type": "stream",
     "name": "stdout",
     "text": [
      "Let take a look at movie metadata for all those movies which we were had in our dataset\n"
     ]
    },
    {
     "output_type": "execute_result",
     "data": {
      "text/plain": [
       "     movieId                                        title  \\\n",
       "0          1                             Toy Story (1995)   \n",
       "1          2                               Jumanji (1995)   \n",
       "2          3                      Grumpier Old Men (1995)   \n",
       "3          4                     Waiting to Exhale (1995)   \n",
       "4          5           Father of the Bride Part II (1995)   \n",
       "..       ...                                          ...   \n",
       "182      229                  Death and the Maiden (1994)   \n",
       "183      230                     Dolores Claiborne (1995)   \n",
       "184      231       Dumb & Dumber (Dumb and Dumber) (1994)   \n",
       "185      232  Eat Drink Man Woman (Yin shi nan nu) (1994)   \n",
       "186      233                               Exotica (1994)   \n",
       "\n",
       "                                          genres  \n",
       "0    Adventure|Animation|Children|Comedy|Fantasy  \n",
       "1                     Adventure|Children|Fantasy  \n",
       "2                                 Comedy|Romance  \n",
       "3                           Comedy|Drama|Romance  \n",
       "4                                         Comedy  \n",
       "..                                           ...  \n",
       "182                               Drama|Thriller  \n",
       "183                               Drama|Thriller  \n",
       "184                             Adventure|Comedy  \n",
       "185                         Comedy|Drama|Romance  \n",
       "186                                        Drama  \n",
       "\n",
       "[187 rows x 3 columns]"
      ],
      "text/html": "<div>\n<style scoped>\n    .dataframe tbody tr th:only-of-type {\n        vertical-align: middle;\n    }\n\n    .dataframe tbody tr th {\n        vertical-align: top;\n    }\n\n    .dataframe thead th {\n        text-align: right;\n    }\n</style>\n<table border=\"1\" class=\"dataframe\">\n  <thead>\n    <tr style=\"text-align: right;\">\n      <th></th>\n      <th>movieId</th>\n      <th>title</th>\n      <th>genres</th>\n    </tr>\n  </thead>\n  <tbody>\n    <tr>\n      <th>0</th>\n      <td>1</td>\n      <td>Toy Story (1995)</td>\n      <td>Adventure|Animation|Children|Comedy|Fantasy</td>\n    </tr>\n    <tr>\n      <th>1</th>\n      <td>2</td>\n      <td>Jumanji (1995)</td>\n      <td>Adventure|Children|Fantasy</td>\n    </tr>\n    <tr>\n      <th>2</th>\n      <td>3</td>\n      <td>Grumpier Old Men (1995)</td>\n      <td>Comedy|Romance</td>\n    </tr>\n    <tr>\n      <th>3</th>\n      <td>4</td>\n      <td>Waiting to Exhale (1995)</td>\n      <td>Comedy|Drama|Romance</td>\n    </tr>\n    <tr>\n      <th>4</th>\n      <td>5</td>\n      <td>Father of the Bride Part II (1995)</td>\n      <td>Comedy</td>\n    </tr>\n    <tr>\n      <th>...</th>\n      <td>...</td>\n      <td>...</td>\n      <td>...</td>\n    </tr>\n    <tr>\n      <th>182</th>\n      <td>229</td>\n      <td>Death and the Maiden (1994)</td>\n      <td>Drama|Thriller</td>\n    </tr>\n    <tr>\n      <th>183</th>\n      <td>230</td>\n      <td>Dolores Claiborne (1995)</td>\n      <td>Drama|Thriller</td>\n    </tr>\n    <tr>\n      <th>184</th>\n      <td>231</td>\n      <td>Dumb &amp; Dumber (Dumb and Dumber) (1994)</td>\n      <td>Adventure|Comedy</td>\n    </tr>\n    <tr>\n      <th>185</th>\n      <td>232</td>\n      <td>Eat Drink Man Woman (Yin shi nan nu) (1994)</td>\n      <td>Comedy|Drama|Romance</td>\n    </tr>\n    <tr>\n      <th>186</th>\n      <td>233</td>\n      <td>Exotica (1994)</td>\n      <td>Drama</td>\n    </tr>\n  </tbody>\n</table>\n<p>187 rows × 3 columns</p>\n</div>"
     },
     "metadata": {},
     "execution_count": 41
    }
   ],
   "source": [
    "\n",
    "\n",
    "movies_metadata = movies_metadata.loc[\n",
    "    movies_metadata['movieId'].isin(list(map(str, np.unique(users_fav_movies['movieId']))))].reset_index(drop=True)\n",
    "print('Let take a look at movie metadata for all those movies which we were had in our dataset')\n",
    "movies_metadata "
   ]
  },
  {
   "cell_type": "code",
   "execution_count": 42,
   "metadata": {},
   "outputs": [
    {
     "output_type": "stream",
     "name": "stdout",
     "text": [
      "['Clueless (1995)']\n"
     ]
    }
   ],
   "source": [
    "print(list(movies_metadata.loc[movies_metadata['movieId'] == 39]['title']))"
   ]
  },
  {
   "cell_type": "code",
   "execution_count": 43,
   "metadata": {},
   "outputs": [
    {
     "output_type": "stream",
     "name": "stdout",
     "text": [
      "Movie title:  ['Toy Story (1995)'] , Genres: [['Adventure|Animation|Children|Comedy|Fantasy'] ]\n",
      "Movie title:  ['Heat (1995)'] , Genres: [['Action|Crime|Thriller'] ]\n",
      "Movie title:  ['Sabrina (1995)'] , Genres: [['Comedy|Romance'] ]\n",
      "Movie title:  ['GoldenEye (1995)'] , Genres: [['Action|Adventure|Thriller'] ]\n",
      "Movie title:  ['American President, The (1995)'] , Genres: [['Comedy|Drama|Romance'] ]\n",
      "Movie title:  ['Cutthroat Island (1995)'] , Genres: [['Action|Adventure|Romance'] ]\n",
      "Movie title:  ['Sense and Sensibility (1995)'] , Genres: [['Drama|Romance'] ]\n",
      "Movie title:  ['Get Shorty (1995)'] , Genres: [['Comedy|Crime|Thriller'] ]\n",
      "Movie title:  ['Copycat (1995)'] , Genres: [['Crime|Drama|Horror|Mystery|Thriller'] ]\n",
      "Movie title:  ['Assassins (1995)'] , Genres: [['Action|Crime|Thriller'] ]\n",
      "Movie title:  ['Othello (1995)'] , Genres: [['Drama'] ]\n",
      "Movie title:  ['Dangerous Minds (1995)'] , Genres: [['Drama'] ]\n",
      "Movie title:  ['Twelve Monkeys (a.k.a. 12 Monkeys) (1995)'] , Genres: [['Mystery|Sci-Fi|Thriller'] ]\n",
      "Movie title:  ['Clueless (1995)'] , Genres: [['Comedy|Romance'] ]\n",
      "Movie title:  ['Richard III (1995)'] , Genres: [['Drama|War'] ]\n",
      "Movie title:  ['Mortal Kombat (1995)'] , Genres: [['Action|Adventure|Fantasy'] ]\n",
      "Movie title:  ['Seven (a.k.a. Se7en) (1995)'] , Genres: [['Mystery|Thriller'] ]\n",
      "Movie title:  ['Usual Suspects, The (1995)'] , Genres: [['Crime|Mystery|Thriller'] ]\n",
      "Movie title:  ['Mighty Aphrodite (1995)'] , Genres: [['Comedy|Drama|Romance'] ]\n",
      "Movie title:  ['Indian in the Cupboard, The (1995)'] , Genres: [['Adventure|Children|Fantasy'] ]\n",
      "Movie title:  [\"Mr. Holland's Opus (1995)\"] , Genres: [['Drama'] ]\n",
      "Movie title:  ['Broken Arrow (1996)'] , Genres: [['Action|Adventure|Thriller'] ]\n",
      "Movie title:  ['City Hall (1996)'] , Genres: [['Drama|Thriller'] ]\n",
      "Movie title:  ['Muppet Treasure Island (1996)'] , Genres: [['Adventure|Children|Comedy|Musical'] ]\n",
      "Movie title:  ['Braveheart (1995)'] , Genres: [['Action|Drama|War'] ]\n",
      "Movie title:  ['Flirting With Disaster (1996)'] , Genres: [['Comedy'] ]\n",
      "Movie title:  ['Birdcage, The (1996)'] , Genres: [['Comedy'] ]\n",
      "Movie title:  ['Apollo 13 (1995)'] , Genres: [['Adventure|Drama|IMAX'] ]\n",
      "Movie title:  ['Rob Roy (1995)'] , Genres: [['Action|Drama|Romance|War'] ]\n",
      "Movie title:  ['Batman Forever (1995)'] , Genres: [['Action|Adventure|Comedy|Crime'] ]\n",
      "Movie title:  ['Crimson Tide (1995)'] , Genres: [['Drama|Thriller|War'] ]\n",
      "Movie title:  ['Desperado (1995)'] , Genres: [['Action|Romance|Western'] ]\n",
      "Movie title:  ['Die Hard: With a Vengeance (1995)'] , Genres: [['Action|Crime|Thriller'] ]\n",
      "Movie title:  ['Johnny Mnemonic (1995)'] , Genres: [['Action|Sci-Fi|Thriller'] ]\n",
      "Movie title:  ['Judge Dredd (1995)'] , Genres: [['Action|Crime|Sci-Fi'] ]\n",
      "Movie title:  ['Lord of Illusions (1995)'] , Genres: [['Horror'] ]\n",
      "Movie title:  ['Net, The (1995)'] , Genres: [['Action|Crime|Thriller'] ]\n",
      "Movie title:  ['Species (1995)'] , Genres: [['Horror|Sci-Fi'] ]\n",
      "Movie title:  ['To Wong Foo, Thanks for Everything! Julie Newmar (1995)'] , Genres: [['Comedy'] ]\n",
      "Movie title:  ['Waterworld (1995)'] , Genres: [['Action|Adventure|Sci-Fi'] ]\n",
      "Movie title:  ['Boys on the Side (1995)'] , Genres: [['Comedy|Drama'] ]\n",
      "Movie title:  ['Don Juan DeMarco (1995)'] , Genres: [['Comedy|Drama|Romance'] ]\n",
      "Movie title:  ['Drop Zone (1994)'] , Genres: [['Action|Thriller'] ]\n"
     ]
    }
   ],
   "source": [
    "user314Movies = getMoviesOfUser(314, users_fav_movies)\n",
    "for movie in user314Movies:\n",
    "    title = list(movies_metadata.loc[movies_metadata['movieId'] == movie]['title'])\n",
    "    if title != []:\n",
    "        print('Movie title: ', title, ', Genres: [', end = '')\n",
    "        genre = list(movies_metadata.loc[movies_metadata['movieId'] == movie]['genres'])\n",
    "        if genre != []:\n",
    "            print(genre, ', ', end = '')\n",
    "        #genres = ast.literal_eval(movies_metadata.loc[movies_metadata['movieId'] == movie]['genres'].values[0].split('[')[1].split(']')[0])\n",
    "        #for genre in genres:\n",
    "            #print(genre['name'], ', ', end = '')\n",
    "        print(end = '\\b\\b]')\n",
    "        print('') "
   ]
  },
  {
   "cell_type": "code",
   "execution_count": 44,
   "metadata": {},
   "outputs": [
    {
     "output_type": "stream",
     "name": "stdout",
     "text": [
      "Movie title:  ['Dumb & Dumber (Dumb and Dumber) (1994)'] , Genres: [['Adventure|Comedy'] , ]\n",
      "Movie title:  ['Jumanji (1995)'] , Genres: [['Adventure|Children|Fantasy'] , ]\n",
      "Movie title:  ['Ace Ventura: When Nature Calls (1995)'] , Genres: [['Comedy'] , ]\n",
      "Movie title:  ['Happy Gilmore (1996)'] , Genres: [['Comedy'] , ]\n",
      "Movie title:  ['From Dusk Till Dawn (1996)'] , Genres: [['Action|Comedy|Horror|Thriller'] , ]\n",
      "Movie title:  ['Babe (1995)'] , Genres: [['Children|Drama'] , ]\n",
      "Movie title:  ['Clerks (1994)'] , Genres: [['Comedy'] , ]\n",
      "Movie title:  ['Before Sunrise (1995)'] , Genres: [['Drama|Romance'] , ]\n",
      "Movie title:  ['Smoke (1995)'] , Genres: [['Comedy|Drama'] , ]\n",
      "Movie title:  ['Taxi Driver (1976)'] , Genres: [['Crime|Drama|Thriller'] , ]\n",
      "Movie title:  ['Disclosure (1994)'] , Genres: [['Drama|Thriller'] , ]\n",
      "Movie title:  ['Father of the Bride Part II (1995)'] , Genres: [['Comedy'] , ]\n",
      "Movie title:  ['First Knight (1995)'] , Genres: [['Action|Drama|Romance'] , ]\n",
      "Movie title:  ['Billy Madison (1995)'] , Genres: [['Comedy'] , ]\n",
      "Movie title:  ['Grumpier Old Men (1995)'] , Genres: [['Comedy|Romance'] , ]\n"
     ]
    }
   ],
   "source": [
    "user314Recommendations = userRequestedFor(314, users_fav_movies).recommendMostFavouriteMovies()[1]\n",
    "for movie in user314Recommendations[:15]:\n",
    "    title = list(movies_metadata.loc[movies_metadata['movieId'] == movie]['title'])\n",
    "    if title != []:\n",
    "        print('Movie title: ', title, ', Genres: [', end = '')\n",
    "        genre = list(movies_metadata.loc[movies_metadata['movieId'] == movie]['genres'])\n",
    "        if genre != []:\n",
    "            print(genre, ', ', end = '')\n",
    "        #genres = ast.literal_eval(movies_metadata.loc[movies_metadata['id'] == str(movie)]['genres'].values[0].split('[')[1].split(']')[0])\n",
    "        #for genre in genres:\n",
    "            #print(genre['name'], ', ', end = '')\n",
    "        print(']', end = '')\n",
    "        print() "
   ]
  },
  {
   "cell_type": "code",
   "execution_count": 45,
   "metadata": {},
   "outputs": [
    {
     "output_type": "stream",
     "name": "stdout",
     "text": [
      "Movie title:  ['Get Shorty (1995)'] , Genres: [['Comedy|Crime|Thriller'] ]\n",
      "Movie title:  ['Twelve Monkeys (a.k.a. 12 Monkeys) (1995)'] , Genres: [['Mystery|Sci-Fi|Thriller'] ]\n",
      "Movie title:  ['To Die For (1995)'] , Genres: [['Comedy|Drama|Thriller'] ]\n",
      "Movie title:  ['Seven (a.k.a. Se7en) (1995)'] , Genres: [['Mystery|Thriller'] ]\n",
      "Movie title:  ['Mighty Aphrodite (1995)'] , Genres: [['Comedy|Drama|Romance'] ]\n",
      "Movie title:  ['Postman, The (Postino, Il) (1994)'] , Genres: [['Comedy|Drama|Romance'] ]\n",
      "Movie title:  ['Nobody Loves Me (Keiner liebt mich) (1994)'] , Genres: [['Comedy|Drama'] ]\n",
      "Movie title:  ['Flirting With Disaster (1996)'] , Genres: [['Comedy'] ]\n",
      "Movie title:  ['NeverEnding Story III, The (1994)'] , Genres: [['Adventure|Children|Fantasy'] ]\n",
      "Movie title:  ['Crumb (1994)'] , Genres: [['Documentary'] ]\n",
      "Movie title:  ['Jeffrey (1995)'] , Genres: [['Comedy|Drama'] ]\n",
      "Movie title:  ['Living in Oblivion (1995)'] , Genres: [['Comedy'] ]\n",
      "Movie title:  ['Safe (1995)'] , Genres: [['Thriller'] ]\n",
      "Movie title:  ['Before Sunrise (1995)'] , Genres: [['Drama|Romance'] ]\n",
      "Movie title:  ['Circle of Friends (1995)'] , Genres: [['Drama|Romance'] ]\n",
      "Movie title:  ['Eat Drink Man Woman (Yin shi nan nu) (1994)'] , Genres: [['Comedy|Drama|Romance'] ]\n"
     ]
    }
   ],
   "source": [
    "user4Movies = getMoviesOfUser(4, users_fav_movies)\n",
    "for movie in user4Movies:\n",
    "    title = list(movies_metadata.loc[movies_metadata['movieId'] == movie]['title'])\n",
    "    if title != []:\n",
    "        print('Movie title: ', title, ', Genres: [', end = '')\n",
    "        genre = list(movies_metadata.loc[movies_metadata['movieId'] == movie]['genres'])\n",
    "        if genre != []:\n",
    "            print(genre, ', ', end = '')\n",
    "        #genres = ast.literal_eval(movies_metadata.loc[movies_metadata['movieId'] == movie]['genres'].values[0].split('[')[1].split(']')[0])\n",
    "        #for genre in genres:\n",
    "            #print(genre['name'], ', ', end = '')\n",
    "        print(end = '\\b\\b]')\n",
    "        print('') "
   ]
  },
  {
   "cell_type": "code",
   "execution_count": 46,
   "metadata": {},
   "outputs": [
    {
     "output_type": "stream",
     "name": "stdout",
     "text": [
      "Movie title:  ['Taxi Driver (1976)'] , Genres: [['Crime|Drama|Thriller'] , ]\n",
      "Movie title:  ['Usual Suspects, The (1995)'] , Genres: [['Crime|Mystery|Thriller'] , ]\n",
      "Movie title:  ['Leaving Las Vegas (1995)'] , Genres: [['Drama|Romance'] , ]\n",
      "Movie title:  ['City of Lost Children, The (Cité des enfants perdus, La) (1995)'] , Genres: [['Adventure|Drama|Fantasy|Mystery|Sci-Fi'] , ]\n",
      "Movie title:  ['Dead Man Walking (1995)'] , Genres: [['Crime|Drama'] , ]\n",
      "Movie title:  ['Bottle Rocket (1996)'] , Genres: [['Adventure|Comedy|Crime|Romance'] , ]\n",
      "Movie title:  ['Toy Story (1995)'] , Genres: [['Adventure|Animation|Children|Comedy|Fantasy'] , ]\n",
      "Movie title:  ['Birdcage, The (1996)'] , Genres: [['Comedy'] , ]\n",
      "Movie title:  ['Braveheart (1995)'] , Genres: [['Action|Drama|War'] , ]\n",
      "Movie title:  ['Beauty of the Day (Belle de jour) (1967)'] , Genres: [['Drama'] , ]\n",
      "Movie title:  ['Jumanji (1995)'] , Genres: [['Adventure|Children|Fantasy'] , ]\n",
      "Movie title:  ['Clerks (1994)'] , Genres: [['Comedy'] , ]\n",
      "Movie title:  [\"Things to Do in Denver When You're Dead (1995)\"] , Genres: [['Crime|Drama|Romance'] , ]\n",
      "Movie title:  ['From Dusk Till Dawn (1996)'] , Genres: [['Action|Comedy|Horror|Thriller'] , ]\n",
      "Movie title:  ['American President, The (1995)'] , Genres: [['Comedy|Drama|Romance'] , ]\n"
     ]
    }
   ],
   "source": [
    "user4Recommendations = userRequestedFor(4, users_fav_movies).recommendMostFavouriteMovies()[1]\n",
    "for movie in user4Recommendations[:15]:\n",
    "    title = list(movies_metadata.loc[movies_metadata['movieId'] == movie]['title'])\n",
    "    if title != []:\n",
    "        print('Movie title: ', title, ', Genres: [', end = '')\n",
    "        genre = list(movies_metadata.loc[movies_metadata['movieId'] == movie]['genres'])\n",
    "        if genre != []:\n",
    "            print(genre, ', ', end = '')\n",
    "        #genres = ast.literal_eval(movies_metadata.loc[movies_metadata['id'] == str(movie)]['genres'].values[0].split('[')[1].split(']')[0])\n",
    "        #for genre in genres:\n",
    "            #print(genre['name'], ', ', end = '')\n",
    "        print(']', end = '')\n",
    "        print() "
   ]
  },
  {
   "cell_type": "code",
   "execution_count": 47,
   "metadata": {},
   "outputs": [
    {
     "output_type": "stream",
     "name": "stdout",
     "text": [
      "Movie title:  ['Grumpier Old Men (1995)'] , Genres: [['Comedy|Romance'] ]\n",
      "Movie title:  ['Sabrina (1995)'] , Genres: [['Comedy|Romance'] ]\n",
      "Movie title:  ['GoldenEye (1995)'] , Genres: [['Action|Adventure|Thriller'] ]\n",
      "Movie title:  ['American President, The (1995)'] , Genres: [['Comedy|Drama|Romance'] ]\n",
      "Movie title:  ['Casino (1995)'] , Genres: [['Crime|Drama'] ]\n",
      "Movie title:  ['Ace Ventura: When Nature Calls (1995)'] , Genres: [['Comedy'] ]\n",
      "Movie title:  ['Get Shorty (1995)'] , Genres: [['Comedy|Crime|Thriller'] ]\n",
      "Movie title:  ['Copycat (1995)'] , Genres: [['Crime|Drama|Horror|Mystery|Thriller'] ]\n",
      "Movie title:  ['Seven (a.k.a. Se7en) (1995)'] , Genres: [['Mystery|Thriller'] ]\n",
      "Movie title:  ['Usual Suspects, The (1995)'] , Genres: [['Crime|Mystery|Thriller'] ]\n",
      "Movie title:  ['White Squall (1996)'] , Genres: [['Action|Adventure|Drama'] ]\n",
      "Movie title:  ['Broken Arrow (1996)'] , Genres: [['Action|Adventure|Thriller'] ]\n",
      "Movie title:  ['Happy Gilmore (1996)'] , Genres: [['Comedy'] ]\n",
      "Movie title:  ['Braveheart (1995)'] , Genres: [['Action|Drama|War'] ]\n",
      "Movie title:  ['Boomerang (1992)'] , Genres: [['Comedy|Romance'] ]\n",
      "Movie title:  ['Down Periscope (1996)'] , Genres: [['Comedy'] ]\n",
      "Movie title:  ['Birdcage, The (1996)'] , Genres: [['Comedy'] ]\n",
      "Movie title:  ['Brothers McMullen, The (1995)'] , Genres: [['Comedy'] ]\n",
      "Movie title:  ['Apollo 13 (1995)'] , Genres: [['Adventure|Drama|IMAX'] ]\n",
      "Movie title:  ['Batman Forever (1995)'] , Genres: [['Action|Adventure|Comedy|Crime'] ]\n",
      "Movie title:  ['Crimson Tide (1995)'] , Genres: [['Drama|Thriller|War'] ]\n",
      "Movie title:  ['Desperado (1995)'] , Genres: [['Action|Romance|Western'] ]\n",
      "Movie title:  ['Die Hard: With a Vengeance (1995)'] , Genres: [['Action|Crime|Thriller'] ]\n",
      "Movie title:  ['First Knight (1995)'] , Genres: [['Action|Drama|Romance'] ]\n",
      "Movie title:  ['Judge Dredd (1995)'] , Genres: [['Action|Crime|Sci-Fi'] ]\n",
      "Movie title:  ['Net, The (1995)'] , Genres: [['Action|Crime|Thriller'] ]\n",
      "Movie title:  ['Nine Months (1995)'] , Genres: [['Comedy|Romance'] ]\n",
      "Movie title:  ['Showgirls (1995)'] , Genres: [['Drama'] ]\n",
      "Movie title:  ['Something to Talk About (1995)'] , Genres: [['Comedy|Drama|Romance'] ]\n",
      "Movie title:  ['Clerks (1994)'] , Genres: [['Comedy'] ]\n",
      "Movie title:  ['Disclosure (1994)'] , Genres: [['Drama|Thriller'] ]\n",
      "Movie title:  ['Drop Zone (1994)'] , Genres: [['Action|Thriller'] ]\n",
      "Movie title:  ['Dumb & Dumber (Dumb and Dumber) (1994)'] , Genres: [['Adventure|Comedy'] ]\n"
     ]
    }
   ],
   "source": [
    "user42Movies = getMoviesOfUser(42, users_fav_movies)\n",
    "for movie in user42Movies:\n",
    "    title = list(movies_metadata.loc[movies_metadata['movieId'] == movie]['title'])\n",
    "    if title != []:\n",
    "        print('Movie title: ', title, ', Genres: [', end = '')\n",
    "        genre = list(movies_metadata.loc[movies_metadata['movieId'] == movie]['genres'])\n",
    "        if genre != []:\n",
    "            print(genre, ', ', end = '')\n",
    "        #genres = ast.literal_eval(movies_metadata.loc[movies_metadata['movieId'] == movie]['genres'].values[0].split('[')[1].split(']')[0])\n",
    "        #for genre in genres:\n",
    "            #print(genre['name'], ', ', end = '')\n",
    "        print(end = '\\b\\b]')\n",
    "        print('') "
   ]
  },
  {
   "cell_type": "code",
   "execution_count": 48,
   "metadata": {},
   "outputs": [
    {
     "output_type": "stream",
     "name": "stdout",
     "text": [
      "Movie title:  ['Toy Story (1995)'] , Genres: [['Adventure|Animation|Children|Comedy|Fantasy'] , ]\n",
      "Movie title:  ['Twelve Monkeys (a.k.a. 12 Monkeys) (1995)'] , Genres: [['Mystery|Sci-Fi|Thriller'] , ]\n",
      "Movie title:  ['Heat (1995)'] , Genres: [['Action|Crime|Thriller'] , ]\n",
      "Movie title:  ['Clueless (1995)'] , Genres: [['Comedy|Romance'] , ]\n",
      "Movie title:  ['Jumanji (1995)'] , Genres: [['Adventure|Children|Fantasy'] , ]\n",
      "Movie title:  ['Sense and Sensibility (1995)'] , Genres: [['Drama|Romance'] , ]\n",
      "Movie title:  ['From Dusk Till Dawn (1996)'] , Genres: [['Action|Comedy|Horror|Thriller'] , ]\n",
      "Movie title:  ['Babe (1995)'] , Genres: [['Children|Drama'] , ]\n",
      "Movie title:  ['Before Sunrise (1995)'] , Genres: [['Drama|Romance'] , ]\n",
      "Movie title:  [\"Mr. Holland's Opus (1995)\"] , Genres: [['Drama'] , ]\n",
      "Movie title:  ['Smoke (1995)'] , Genres: [['Comedy|Drama'] , ]\n",
      "Movie title:  ['Mortal Kombat (1995)'] , Genres: [['Action|Adventure|Fantasy'] , ]\n",
      "Movie title:  ['Taxi Driver (1976)'] , Genres: [['Crime|Drama|Thriller'] , ]\n",
      "Movie title:  ['Father of the Bride Part II (1995)'] , Genres: [['Comedy'] , ]\n",
      "Movie title:  ['Billy Madison (1995)'] , Genres: [['Comedy'] , ]\n"
     ]
    }
   ],
   "source": [
    "user42Recommendations = userRequestedFor(42, users_fav_movies).recommendMostFavouriteMovies()[1]\n",
    "for movie in user42Recommendations[:15]:\n",
    "    title = list(movies_metadata.loc[movies_metadata['movieId'] == movie]['title'])\n",
    "    if title != []:\n",
    "        print('Movie title: ', title, ', Genres: [', end = '')\n",
    "        genre = list(movies_metadata.loc[movies_metadata['movieId'] == movie]['genres'])\n",
    "        if genre != []:\n",
    "            print(genre, ', ', end = '')\n",
    "        #genres = ast.literal_eval(movies_metadata.loc[movies_metadata['id'] == str(movie)]['genres'].values[0].split('[')[1].split(']')[0])\n",
    "        #for genre in genres:\n",
    "            #print(genre['name'], ', ', end = '')\n",
    "        print(']', end = '')\n",
    "        print() "
   ]
  },
  {
   "cell_type": "code",
   "execution_count": null,
   "metadata": {},
   "outputs": [],
   "source": []
  }
 ]
}
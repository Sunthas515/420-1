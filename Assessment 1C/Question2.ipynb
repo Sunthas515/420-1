{
 "metadata": {
  "language_info": {
   "codemirror_mode": {
    "name": "ipython",
    "version": 3
   },
   "file_extension": ".py",
   "mimetype": "text/x-python",
   "name": "python",
   "nbconvert_exporter": "python",
   "pygments_lexer": "ipython3",
   "version": "3.9.4"
  },
  "orig_nbformat": 2,
  "kernelspec": {
   "name": "python394jvsc74a57bd063fd5069d213b44bf678585dea6b12cceca9941eaf7f819626cde1f2670de90d",
   "display_name": "Python 3.9.4 64-bit"
  },
  "metadata": {
   "interpreter": {
    "hash": "63fd5069d213b44bf678585dea6b12cceca9941eaf7f819626cde1f2670de90d"
   }
  }
 },
 "nbformat": 4,
 "nbformat_minor": 2,
 "cells": [
  {
   "source": [
    "# Assignment 1C - Question 2\n",
    "## Semantic Person Search"
   ],
   "cell_type": "markdown",
   "metadata": {}
  },
  {
   "cell_type": "code",
   "execution_count": 1,
   "metadata": {},
   "outputs": [
    {
     "output_type": "stream",
     "name": "stdout",
     "text": [
      "INFO:tensorflow:Enabling eager execution\n",
      "INFO:tensorflow:Enabling v2 tensorshape\n",
      "INFO:tensorflow:Enabling resource variables\n",
      "INFO:tensorflow:Enabling tensor equality\n",
      "INFO:tensorflow:Enabling control flow v2\n"
     ]
    }
   ],
   "source": [
    "from keras.models import Sequential\n",
    "from keras_preprocessing.image import ImageDataGenerator\n",
    "from keras.layers import Dense, Activation, Flatten, Dropout, BatchNormalization\n",
    "from keras.layers import Conv2D, MaxPooling2D\n",
    "from keras import regularizers, optimizers\n",
    "import pandas as pd\n",
    "import numpy as np"
   ]
  },
  {
   "cell_type": "code",
   "execution_count": 2,
   "metadata": {},
   "outputs": [],
   "source": [
    "train = pd.read_csv('CAB420_Assessment_1C_Data/Data/Q2/Q2/Train_Data/Train.csv')\n",
    "test = pd.read_csv('CAB420_Assessment_1C_Data/Data/Q2/Q2/Test_Data/Test.csv')"
   ]
  },
  {
   "cell_type": "code",
   "execution_count": 4,
   "metadata": {},
   "outputs": [
    {
     "output_type": "stream",
     "name": "stdout",
     "text": [
      "Training shape:  (4160,)\n",
      "Training gnd:  ['_0001_01_001_legs' '_0001_01_001_lugg' '_0001_01_001_shoe'\n",
      " '_0001_01_001_skin' '_0001_01_001_skin' '_0001_01_001_skin'\n",
      " '_0001_01_001_tors' '_0001_01_083_hair' '_0001_01_083_legs']\n",
      "<ipython-input-4-3e4ed1d6875e>:9: VisibleDeprecationWarning: Creating an ndarray from ragged nested sequences (which is a list-or-tuple of lists-or-tuples-or ndarrays with different lengths or shapes) is deprecated. If you meant to do this, you must specify 'dtype=object' when creating the ndarray\n",
      "  train_Binaries = np.array(train_Binaries)\n"
     ]
    }
   ],
   "source": [
    "train_Binaries = []\n",
    "gnd_Binaries = []\n",
    "files = glob.glob('CAB420_Assessment_1C_Data/Data/Q2/Q2/Train_Data/Binary_Maps/*.png')\n",
    "for myfile in files:\n",
    "    image = cv2.imread(myfile, 0)\n",
    "    gnd_Binaries.append(myfile[61:78])\n",
    "    train_Binaries.append(image)\n",
    "\n",
    "train_Binaries = np.array(train_Binaries)\n",
    "gnd_Binaries = np.array(gnd_Binaries)\n",
    "\n",
    "print('Training shape: ', train_Binaries.shape)\n",
    "print('Training gnd: ', gnd_Binaries[1:10])"
   ]
  },
  {
   "cell_type": "code",
   "execution_count": 5,
   "metadata": {},
   "outputs": [
    {
     "output_type": "stream",
     "name": "stderr",
     "text": [
      "<ipython-input-5-67346a484a0a>:9: VisibleDeprecationWarning: Creating an ndarray from ragged nested sequences (which is a list-or-tuple of lists-or-tuples-or ndarrays with different lengths or shapes) is deprecated. If you meant to do this, you must specify 'dtype=object' when creating the ndarray\n  train_originals = np.array(train_originals)\n"
     ]
    }
   ],
   "source": [
    "train_originals = []\n",
    "gnd_originals = []\n",
    "files = glob.glob('CAB420_Assessment_1C_Data/Data/Q2/Q2/Train_Data/Originals/*.png')\n",
    "for myfile in files:\n",
    "    image = cv2.imread(myfile, 0)\n",
    "    gnd_originals.append(myfile[59:77])\n",
    "    train_originals.append(image)\n",
    "\n",
    "train_originals = np.array(train_originals)\n",
    "gnd_originals = np.array(gnd_originals)"
   ]
  },
  {
   "cell_type": "code",
   "execution_count": 6,
   "metadata": {},
   "outputs": [
    {
     "output_type": "stream",
     "name": "stderr",
     "text": [
      "<ipython-input-6-2b1e509e3bef>:9: VisibleDeprecationWarning: Creating an ndarray from ragged nested sequences (which is a list-or-tuple of lists-or-tuples-or ndarrays with different lengths or shapes) is deprecated. If you meant to do this, you must specify 'dtype=object' when creating the ndarray\n  train_parsed = np.array(train_parsed)\n"
     ]
    }
   ],
   "source": [
    "train_parsed = []\n",
    "gnd_parsed = []\n",
    "files = glob.glob('CAB420_Assessment_1C_Data/Data/Q2/Q2/Train_Data/Parsed/*.png')\n",
    "for myfile in files:\n",
    "    image = cv2.imread(myfile, 0)\n",
    "    gnd_parsed.append(myfile[56:74])\n",
    "    train_parsed.append(image)\n",
    "\n",
    "train_parsed = np.array(train_parsed)\n",
    "gnd_parsed = np.array(gnd_parsed)"
   ]
  },
  {
   "cell_type": "code",
   "execution_count": 9,
   "metadata": {},
   "outputs": [
    {
     "output_type": "stream",
     "name": "stdout",
     "text": [
      "Testing shape:  (520,)\nTesting gnd:  ['_0001_01_083.png' '_0001_03_126.png' '_0001_05_051.png'\n '_0002_01_021.png' '_0002_04_011.png' '_0002_08_051.png'\n '_0003_03_131.png' '_0003_04_026.png' '_0003_08_091.png']\n"
     ]
    }
   ],
   "source": [
    "test_originals = []\n",
    "gnd_test = []\n",
    "files = glob.glob('CAB420_Assessment_1C_Data/Data/Q2/Q2/Test_Data/Originals/*.png')\n",
    "for myfile in files:\n",
    "    image = cv2.imread(myfile, 0)\n",
    "    gnd_test.append(myfile[58:76])\n",
    "    test_originals.append(image)\n",
    "\n",
    "test_originals = np.array(train_parsed)\n",
    "gnd_test = np.array(gnd_parsed)\n",
    "print('Testing shape: ', test_originals.shape)\n",
    "print('Testing gnd: ', gnd_test[1:10])"
   ]
  },
  {
   "cell_type": "code",
   "execution_count": null,
   "metadata": {},
   "outputs": [],
   "source": []
  }
 ]
}
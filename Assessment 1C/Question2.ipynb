{
 "metadata": {
  "language_info": {
   "codemirror_mode": {
    "name": "ipython",
    "version": 3
   },
   "file_extension": ".py",
   "mimetype": "text/x-python",
   "name": "python",
   "nbconvert_exporter": "python",
   "pygments_lexer": "ipython3",
   "version": "3.7.4"
  },
  "orig_nbformat": 2,
  "kernelspec": {
   "name": "python374jvsc74a57bd01675981deb1326e85774ea4ae964c1467df181f4efab81e2d792908f02f42d48",
   "display_name": "Python 3.7.4 64-bit ('base': conda)"
  },
  "metadata": {
   "interpreter": {
    "hash": "63fd5069d213b44bf678585dea6b12cceca9941eaf7f819626cde1f2670de90d"
   }
  }
 },
 "nbformat": 4,
 "nbformat_minor": 2,
 "cells": [
  {
   "source": [
    "# Assignment 1C - Question 2\n",
    "## Semantic Person Search"
   ],
   "cell_type": "markdown",
   "metadata": {}
  },
  {
   "cell_type": "code",
   "execution_count": 1,
   "metadata": {},
   "outputs": [],
   "source": [
    "from keras.models import Sequential\n",
    "from keras_preprocessing.image import ImageDataGenerator\n",
    "from keras.layers import Dense, Activation, Flatten, Dropout, BatchNormalization\n",
    "from keras.layers import Conv2D, MaxPooling2D\n",
    "from keras import regularizers, optimizers\n",
    "import pandas as pd\n",
    "import numpy as np\n",
    "import glob\n",
    "import cv2\n",
    "import matplotlib.pyplot as plt\n",
    "import keras\n",
    "from keras import layers\n",
    "\n",
    "\n",
    "import os\n",
    "import datetime\n",
    "import numpy\n",
    "\n",
    "import tensorflow as tf\n",
    "\n",
    "from tensorflow import keras\n",
    "from tensorflow.keras import layers\n",
    "from tensorboard import notebook\n",
    "from tensorflow.keras.preprocessing.image import Iterator\n",
    "\n",
    "from sklearn.metrics import confusion_matrix, ConfusionMatrixDisplay\n",
    "import matplotlib.pyplot as plt\n",
    "\n",
    "#import pydot\n",
    "import IPython\n",
    "from IPython.display import SVG\n",
    "from tensorflow.keras.utils import model_to_dot, plot_model\n",
    "import imageio\n",
    "import cv2"
   ]
  },
  {
   "cell_type": "code",
   "execution_count": 2,
   "metadata": {},
   "outputs": [],
   "source": [
    "train = pd.read_csv('CAB420_Assessment_1C_Data/Data/Q2/Q2/Train_Data/Train.csv')\n",
    "test = pd.read_csv('CAB420_Assessment_1C_Data/Data/Q2/Q2/Test_Data/Test.csv')"
   ]
  },
  {
   "cell_type": "code",
   "execution_count": 3,
   "metadata": {
    "tags": []
   },
   "outputs": [],
   "source": [
    "train_img = []\n",
    "gnd = []\n",
    "files = glob.glob('CAB420_Assessment_1C_Data/Data/Q2/Q2/Train_Data/Originals/*.png')\n",
    "for myfile in files:\n",
    "    im = keras.preprocessing.image.load_img(myfile)\n",
    "    image = keras.preprocessing.image.img_to_array(im)\n",
    "    gnd.append(myfile[58:])\n",
    "    image = image[0:50,0:50]\n",
    "    train_img.append(image)\n",
    "\n",
    "    \n",
    "train_img = np.array(train_img)\n",
    "train_img = train_img.astype('float32') / 255.\n",
    "\n"
   ]
  },
  {
   "cell_type": "code",
   "execution_count": 4,
   "metadata": {},
   "outputs": [
    {
     "output_type": "stream",
     "name": "stdout",
     "text": [
      "[[[0.28627452 0.2627451  0.21568628]\n  [0.2784314  0.25490198 0.20784314]\n  [0.27450982 0.2509804  0.20392157]\n  ...\n  [0.20392157 0.1882353  0.1764706 ]\n  [0.20392157 0.18431373 0.17254902]\n  [0.2        0.18039216 0.16862746]]\n\n [[0.29411766 0.2627451  0.21960784]\n  [0.28627452 0.25490198 0.21176471]\n  [0.2784314  0.24705882 0.20392157]\n  ...\n  [0.21176471 0.19215687 0.1764706 ]\n  [0.20784314 0.1882353  0.1764706 ]\n  [0.20392157 0.18431373 0.16862746]]\n\n [[0.29803923 0.25882354 0.21176471]\n  [0.29411766 0.25490198 0.20784314]\n  [0.2901961  0.2509804  0.20392157]\n  ...\n  [0.23529412 0.20784314 0.18431373]\n  [0.22745098 0.19607843 0.18431373]\n  [0.21960784 0.19215687 0.16862746]]\n\n ...\n\n [[0.3019608  0.25882354 0.24313726]\n  [0.29803923 0.25490198 0.23921569]\n  [0.29803923 0.25490198 0.23137255]\n  ...\n  [0.27058825 0.21960784 0.19607843]\n  [0.26666668 0.21568628 0.19215687]\n  [0.25882354 0.20784314 0.18431373]]\n\n [[0.3019608  0.25882354 0.24313726]\n  [0.3019608  0.25882354 0.24313726]\n  [0.3019608  0.25882354 0.23529412]\n  ...\n  [0.26666668 0.21568628 0.19215687]\n  [0.2627451  0.21176471 0.1882353 ]\n  [0.25882354 0.20784314 0.18431373]]\n\n [[0.30588236 0.2627451  0.23921569]\n  [0.3019608  0.25882354 0.23529412]\n  [0.3019608  0.25882354 0.23529412]\n  ...\n  [0.26666668 0.21568628 0.19215687]\n  [0.26666668 0.20784314 0.1882353 ]\n  [0.2627451  0.20392157 0.18431373]]]\n"
     ]
    }
   ],
   "source": [
    "print(train_img[0])"
   ]
  },
  {
   "cell_type": "code",
   "execution_count": 5,
   "metadata": {},
   "outputs": [],
   "source": [
    "test_img = []\n",
    "test_gnd = []\n",
    "files = glob.glob('CAB420_Assessment_1C_Data/Data/Q2/Q2/Test_Data/Originals/*.png')\n",
    "for myfile in files:\n",
    "    im = keras.preprocessing.image.load_img(myfile)\n",
    "    image = keras.preprocessing.image.img_to_array(im)\n",
    "    test_gnd.append(myfile[58:])\n",
    "    image = image[0:50,0:50]\n",
    "    test_img.append(image)\n",
    "\n",
    "    \n",
    "test_img = np.array(test_img)\n",
    "test_img = test_img.astype('float32') / 255.\n"
   ]
  },
  {
   "cell_type": "code",
   "execution_count": 6,
   "metadata": {},
   "outputs": [],
   "source": [
    "train = train.drop(columns=['torcol2','torcol3','tortex','torcol3','legcol2','legcol3','legtex','pose'])\n",
    "\n",
    "\n",
    "train_gender = train.iloc[:,1]\n",
    "train_gender = np.asarray(train_gender)\n",
    "train_tortyp = train.iloc[:,2]\n",
    "train_tortyp = np.asarray(train_tortyp)\n",
    "train_torcol = train.iloc[:,3]\n",
    "train_torcol = np.asarray(train_torcol)\n",
    "train_legtyp = train.iloc[:,4]\n",
    "train_legtyp = np.asarray(train_legtyp)\n",
    "train_legcol = train.iloc[:,5]\n",
    "train_legcol = np.asarray(train_legcol)\n",
    "train_luggage = train.iloc[:,6] \n",
    "train_luggage = np.asarray(train_luggage)\n"
   ]
  },
  {
   "cell_type": "code",
   "execution_count": 7,
   "metadata": {},
   "outputs": [],
   "source": [
    "test = test.drop(columns=['torcol2','torcol3','tortex','torcol3','legcol2','legcol3','legtex','pose'])\n",
    "\n",
    "test_gender = test.iloc[:,1]\n",
    "test_gender = np.asarray(test_gender)\n",
    "test_tortyp = test.iloc[:,2]\n",
    "test_tortyp = np.asarray(test_tortyp)\n",
    "test_torcol = test.iloc[:,3]\n",
    "test_torcol = np.asarray(test_torcol)\n",
    "test_legtyp = test.iloc[:,4]\n",
    "test_legtyp = np.asarray(test_legtyp)\n",
    "test_legcol = test.iloc[:,5]\n",
    "test_legcol = np.asarray(test_legcol)\n",
    "test_luggage = test.iloc[:,6] \n",
    "test_luggage = np.asarray(test_luggage)"
   ]
  },
  {
   "cell_type": "code",
   "execution_count": 8,
   "metadata": {},
   "outputs": [],
   "source": [
    "#fig = plt.figure(figsize=[20, 20])\n",
    "#for i in range(100):\n",
    "#    ax = fig.add_subplot(10, 10, i + 1)\n",
    "#    ax.imshow(test_originals[i])"
   ]
  },
  {
   "cell_type": "code",
   "execution_count": 9,
   "metadata": {},
   "outputs": [],
   "source": [
    "#,tortyp,torcol,legtyp,legcol,luggage]\n",
    "#, train_tortyp,train_torcol,train_legtyp,train_legcol,train_luggage]\n",
    "#, test_tortyp, test_torcol, test_legtyp, test_legcol, test_luggage]"
   ]
  },
  {
   "cell_type": "code",
   "execution_count": 10,
   "metadata": {},
   "outputs": [
    {
     "output_type": "stream",
     "name": "stdout",
     "text": [
      "Model: \"SVHN_CNN_Model\"\n_________________________________________________________________\nLayer (type)                 Output Shape              Param #   \n=================================================================\nimg (InputLayer)             [(None, 50, 50, 3)]       0         \n_________________________________________________________________\nconv2d (Conv2D)              (None, 50, 50, 8)         224       \n_________________________________________________________________\nmax_pooling2d (MaxPooling2D) (None, 25, 25, 8)         0         \n_________________________________________________________________\nconv2d_1 (Conv2D)            (None, 25, 25, 16)        1168      \n_________________________________________________________________\nmax_pooling2d_1 (MaxPooling2 (None, 12, 12, 16)        0         \n_________________________________________________________________\nconv2d_2 (Conv2D)            (None, 12, 12, 32)        4640      \n_________________________________________________________________\nflatten (Flatten)            (None, 4608)              0         \n_________________________________________________________________\ndense (Dense)                (None, 64)                294976    \n_________________________________________________________________\ndense_1 (Dense)              (None, 11)                715       \n=================================================================\nTotal params: 301,723\nTrainable params: 301,723\nNon-trainable params: 0\n_________________________________________________________________\n"
     ]
    }
   ],
   "source": [
    "# inputs = keras.Input(shape=(144, 226, 3, ), name='img')\n",
    "# x = layers.Conv2D(filters=8, kernel_size=(3,3), activation='relu')(inputs)\n",
    "# x = layers.MaxPool2D(pool_size=(2, 2))(x)\n",
    "# x = layers.Conv2D(filters=16, kernel_size=(3,3), activation='relu')(x)\n",
    "# x = layers.MaxPool2D(pool_size=(2, 2))(x)\n",
    "# x = layers.Conv2D(filters=32, kernel_size=(3,3), activation='relu')(x)\n",
    "# x = layers.Flatten()(x)\n",
    "# x1 = layers.Dense(64, activation='relu')(x)\n",
    "# gender = layers.Dense(3, name='gender_out')(x1)\n",
    "\n",
    "# # x2 = layers.Dense(64, activation='relu')(x)\n",
    "# # tortyp = layers.Dense(3, name='tortyp_out')(x2)\n",
    "\n",
    "# # x3 = layers.Dense(64, activation='relu')(x)\n",
    "# # torcol = layers.Dense(11, name='torcol_out')(x3)\n",
    "\n",
    "# # x4 = layers.Dense(64, activation='relu')(x)\n",
    "# # legtyp = layers.Dense(3, name='legtyp_out')(x4)\n",
    "\n",
    "# # x5 = layers.Dense(64, activation='relu')(x)\n",
    "# # legcol = layers.Dense(11, name='legocol_out')(x5)\n",
    "\n",
    "# # x6 = layers.Dense(64, activation='relu')(x)\n",
    "# # luggage = layers.Dense(3, name='luggage_out')(x6)\n",
    "\n",
    "# model_cnn = keras.Model(inputs=inputs, outputs=gender, name='A1CQ2')\n",
    "\n",
    "\n",
    "inputs = keras.Input(shape=(50, 50, 3, ), name='img')\n",
    "x = layers.Conv2D(filters=8, kernel_size=(3,3), activation='relu', padding='same')(inputs)\n",
    "x = layers.MaxPool2D(pool_size=(2, 2))(x)\n",
    "x = layers.Conv2D(filters=16, kernel_size=(3,3), activation='relu', padding='same')(x)\n",
    "x = layers.MaxPool2D(pool_size=(2, 2))(x)\n",
    "x = layers.Conv2D(filters=32, kernel_size=(3,3), activation='relu', padding='same')(x)\n",
    "x = layers.Flatten()(x)\n",
    "x = layers.Dense(64, activation='relu')(x)\n",
    "outputs = layers.Dense(11, activation='softmax')(x)\n",
    "\n",
    "model_cnn = keras.Model(inputs=inputs, outputs=outputs, name='SVHN_CNN_Model')\n",
    "\n",
    "\n",
    "model_cnn.summary()"
   ]
  },
  {
   "cell_type": "code",
   "execution_count": 11,
   "metadata": {},
   "outputs": [],
   "source": [
    "model_cnn.compile(loss=['mean_squared_error', keras.losses.SparseCategoricalCrossentropy(from_logits=True)],\n",
    "              optimizer=keras.optimizers.RMSprop())"
   ]
  },
  {
   "cell_type": "code",
   "execution_count": 12,
   "metadata": {},
   "outputs": [
    {
     "output_type": "stream",
     "name": "stdout",
     "text": [
      "Epoch 1/20\n",
      "9/9 [==============================] - 2s 125ms/step - loss: 0.3554 - val_loss: 0.4322\n",
      "Epoch 2/20\n",
      "9/9 [==============================] - 0s 53ms/step - loss: 0.3637 - val_loss: 0.4322\n",
      "Epoch 3/20\n",
      "9/9 [==============================] - 0s 55ms/step - loss: 0.3687 - val_loss: 0.4322\n",
      "Epoch 4/20\n",
      "9/9 [==============================] - 0s 54ms/step - loss: 0.3632 - val_loss: 0.4322\n",
      "Epoch 5/20\n",
      "9/9 [==============================] - 1s 57ms/step - loss: 0.3645 - val_loss: 0.4322\n",
      "Epoch 6/20\n",
      "9/9 [==============================] - 1s 56ms/step - loss: 0.3545 - val_loss: 0.4322\n",
      "Epoch 7/20\n",
      "9/9 [==============================] - 1s 55ms/step - loss: 0.3759 - val_loss: 0.4322\n",
      "Epoch 8/20\n",
      "9/9 [==============================] - 1s 55ms/step - loss: 0.3670 - val_loss: 0.4322\n",
      "Epoch 9/20\n",
      "9/9 [==============================] - 1s 57ms/step - loss: 0.3747 - val_loss: 0.4322\n",
      "Epoch 10/20\n",
      "9/9 [==============================] - 1s 62ms/step - loss: 0.3803 - val_loss: 0.4322\n",
      "Epoch 11/20\n",
      "9/9 [==============================] - 1s 73ms/step - loss: 0.3756 - val_loss: 0.4322\n",
      "Epoch 12/20\n",
      "2/9 [=====>........................] - ETA: 0s - loss: 0.3577"
     ]
    },
    {
     "output_type": "error",
     "ename": "KeyboardInterrupt",
     "evalue": "",
     "traceback": [
      "\u001b[0;31m---------------------------------------------------------------------------\u001b[0m",
      "\u001b[0;31mKeyboardInterrupt\u001b[0m                         Traceback (most recent call last)",
      "\u001b[0;32m<ipython-input-12-96f109ac0064>\u001b[0m in \u001b[0;36m<module>\u001b[0;34m\u001b[0m\n\u001b[1;32m      2\u001b[0m                     \u001b[0mbatch_size\u001b[0m\u001b[0;34m=\u001b[0m\u001b[0;36m64\u001b[0m\u001b[0;34m,\u001b[0m\u001b[0;34m\u001b[0m\u001b[0;34m\u001b[0m\u001b[0m\n\u001b[1;32m      3\u001b[0m                     \u001b[0mepochs\u001b[0m\u001b[0;34m=\u001b[0m\u001b[0;36m20\u001b[0m\u001b[0;34m,\u001b[0m\u001b[0;34m\u001b[0m\u001b[0;34m\u001b[0m\u001b[0m\n\u001b[0;32m----> 4\u001b[0;31m                     validation_data=(test_img, test_gender))\n\u001b[0m",
      "\u001b[0;32m~/opt/anaconda3/lib/python3.7/site-packages/tensorflow/python/keras/engine/training.py\u001b[0m in \u001b[0;36mfit\u001b[0;34m(self, x, y, batch_size, epochs, verbose, callbacks, validation_split, validation_data, shuffle, class_weight, sample_weight, initial_epoch, steps_per_epoch, validation_steps, validation_batch_size, validation_freq, max_queue_size, workers, use_multiprocessing)\u001b[0m\n\u001b[1;32m   1098\u001b[0m                 _r=1):\n\u001b[1;32m   1099\u001b[0m               \u001b[0mcallbacks\u001b[0m\u001b[0;34m.\u001b[0m\u001b[0mon_train_batch_begin\u001b[0m\u001b[0;34m(\u001b[0m\u001b[0mstep\u001b[0m\u001b[0;34m)\u001b[0m\u001b[0;34m\u001b[0m\u001b[0;34m\u001b[0m\u001b[0m\n\u001b[0;32m-> 1100\u001b[0;31m               \u001b[0mtmp_logs\u001b[0m \u001b[0;34m=\u001b[0m \u001b[0mself\u001b[0m\u001b[0;34m.\u001b[0m\u001b[0mtrain_function\u001b[0m\u001b[0;34m(\u001b[0m\u001b[0miterator\u001b[0m\u001b[0;34m)\u001b[0m\u001b[0;34m\u001b[0m\u001b[0;34m\u001b[0m\u001b[0m\n\u001b[0m\u001b[1;32m   1101\u001b[0m               \u001b[0;32mif\u001b[0m \u001b[0mdata_handler\u001b[0m\u001b[0;34m.\u001b[0m\u001b[0mshould_sync\u001b[0m\u001b[0;34m:\u001b[0m\u001b[0;34m\u001b[0m\u001b[0;34m\u001b[0m\u001b[0m\n\u001b[1;32m   1102\u001b[0m                 \u001b[0mcontext\u001b[0m\u001b[0;34m.\u001b[0m\u001b[0masync_wait\u001b[0m\u001b[0;34m(\u001b[0m\u001b[0;34m)\u001b[0m\u001b[0;34m\u001b[0m\u001b[0;34m\u001b[0m\u001b[0m\n",
      "\u001b[0;32m~/opt/anaconda3/lib/python3.7/site-packages/tensorflow/python/eager/def_function.py\u001b[0m in \u001b[0;36m__call__\u001b[0;34m(self, *args, **kwds)\u001b[0m\n\u001b[1;32m    826\u001b[0m     \u001b[0mtracing_count\u001b[0m \u001b[0;34m=\u001b[0m \u001b[0mself\u001b[0m\u001b[0;34m.\u001b[0m\u001b[0mexperimental_get_tracing_count\u001b[0m\u001b[0;34m(\u001b[0m\u001b[0;34m)\u001b[0m\u001b[0;34m\u001b[0m\u001b[0;34m\u001b[0m\u001b[0m\n\u001b[1;32m    827\u001b[0m     \u001b[0;32mwith\u001b[0m \u001b[0mtrace\u001b[0m\u001b[0;34m.\u001b[0m\u001b[0mTrace\u001b[0m\u001b[0;34m(\u001b[0m\u001b[0mself\u001b[0m\u001b[0;34m.\u001b[0m\u001b[0m_name\u001b[0m\u001b[0;34m)\u001b[0m \u001b[0;32mas\u001b[0m \u001b[0mtm\u001b[0m\u001b[0;34m:\u001b[0m\u001b[0;34m\u001b[0m\u001b[0;34m\u001b[0m\u001b[0m\n\u001b[0;32m--> 828\u001b[0;31m       \u001b[0mresult\u001b[0m \u001b[0;34m=\u001b[0m \u001b[0mself\u001b[0m\u001b[0;34m.\u001b[0m\u001b[0m_call\u001b[0m\u001b[0;34m(\u001b[0m\u001b[0;34m*\u001b[0m\u001b[0margs\u001b[0m\u001b[0;34m,\u001b[0m \u001b[0;34m**\u001b[0m\u001b[0mkwds\u001b[0m\u001b[0;34m)\u001b[0m\u001b[0;34m\u001b[0m\u001b[0;34m\u001b[0m\u001b[0m\n\u001b[0m\u001b[1;32m    829\u001b[0m       \u001b[0mcompiler\u001b[0m \u001b[0;34m=\u001b[0m \u001b[0;34m\"xla\"\u001b[0m \u001b[0;32mif\u001b[0m \u001b[0mself\u001b[0m\u001b[0;34m.\u001b[0m\u001b[0m_experimental_compile\u001b[0m \u001b[0;32melse\u001b[0m \u001b[0;34m\"nonXla\"\u001b[0m\u001b[0;34m\u001b[0m\u001b[0;34m\u001b[0m\u001b[0m\n\u001b[1;32m    830\u001b[0m       \u001b[0mnew_tracing_count\u001b[0m \u001b[0;34m=\u001b[0m \u001b[0mself\u001b[0m\u001b[0;34m.\u001b[0m\u001b[0mexperimental_get_tracing_count\u001b[0m\u001b[0;34m(\u001b[0m\u001b[0;34m)\u001b[0m\u001b[0;34m\u001b[0m\u001b[0;34m\u001b[0m\u001b[0m\n",
      "\u001b[0;32m~/opt/anaconda3/lib/python3.7/site-packages/tensorflow/python/eager/def_function.py\u001b[0m in \u001b[0;36m_call\u001b[0;34m(self, *args, **kwds)\u001b[0m\n\u001b[1;32m    853\u001b[0m       \u001b[0;31m# In this case we have created variables on the first call, so we run the\u001b[0m\u001b[0;34m\u001b[0m\u001b[0;34m\u001b[0m\u001b[0;34m\u001b[0m\u001b[0m\n\u001b[1;32m    854\u001b[0m       \u001b[0;31m# defunned version which is guaranteed to never create variables.\u001b[0m\u001b[0;34m\u001b[0m\u001b[0;34m\u001b[0m\u001b[0;34m\u001b[0m\u001b[0m\n\u001b[0;32m--> 855\u001b[0;31m       \u001b[0;32mreturn\u001b[0m \u001b[0mself\u001b[0m\u001b[0;34m.\u001b[0m\u001b[0m_stateless_fn\u001b[0m\u001b[0;34m(\u001b[0m\u001b[0;34m*\u001b[0m\u001b[0margs\u001b[0m\u001b[0;34m,\u001b[0m \u001b[0;34m**\u001b[0m\u001b[0mkwds\u001b[0m\u001b[0;34m)\u001b[0m  \u001b[0;31m# pylint: disable=not-callable\u001b[0m\u001b[0;34m\u001b[0m\u001b[0;34m\u001b[0m\u001b[0m\n\u001b[0m\u001b[1;32m    856\u001b[0m     \u001b[0;32melif\u001b[0m \u001b[0mself\u001b[0m\u001b[0;34m.\u001b[0m\u001b[0m_stateful_fn\u001b[0m \u001b[0;32mis\u001b[0m \u001b[0;32mnot\u001b[0m \u001b[0;32mNone\u001b[0m\u001b[0;34m:\u001b[0m\u001b[0;34m\u001b[0m\u001b[0;34m\u001b[0m\u001b[0m\n\u001b[1;32m    857\u001b[0m       \u001b[0;31m# Release the lock early so that multiple threads can perform the call\u001b[0m\u001b[0;34m\u001b[0m\u001b[0;34m\u001b[0m\u001b[0;34m\u001b[0m\u001b[0m\n",
      "\u001b[0;32m~/opt/anaconda3/lib/python3.7/site-packages/tensorflow/python/eager/function.py\u001b[0m in \u001b[0;36m__call__\u001b[0;34m(self, *args, **kwargs)\u001b[0m\n\u001b[1;32m   2941\u001b[0m        filtered_flat_args) = self._maybe_define_function(args, kwargs)\n\u001b[1;32m   2942\u001b[0m     return graph_function._call_flat(\n\u001b[0;32m-> 2943\u001b[0;31m         filtered_flat_args, captured_inputs=graph_function.captured_inputs)  # pylint: disable=protected-access\n\u001b[0m\u001b[1;32m   2944\u001b[0m \u001b[0;34m\u001b[0m\u001b[0m\n\u001b[1;32m   2945\u001b[0m   \u001b[0;34m@\u001b[0m\u001b[0mproperty\u001b[0m\u001b[0;34m\u001b[0m\u001b[0;34m\u001b[0m\u001b[0m\n",
      "\u001b[0;32m~/opt/anaconda3/lib/python3.7/site-packages/tensorflow/python/eager/function.py\u001b[0m in \u001b[0;36m_call_flat\u001b[0;34m(self, args, captured_inputs, cancellation_manager)\u001b[0m\n\u001b[1;32m   1917\u001b[0m       \u001b[0;31m# No tape is watching; skip to running the function.\u001b[0m\u001b[0;34m\u001b[0m\u001b[0;34m\u001b[0m\u001b[0;34m\u001b[0m\u001b[0m\n\u001b[1;32m   1918\u001b[0m       return self._build_call_outputs(self._inference_function.call(\n\u001b[0;32m-> 1919\u001b[0;31m           ctx, args, cancellation_manager=cancellation_manager))\n\u001b[0m\u001b[1;32m   1920\u001b[0m     forward_backward = self._select_forward_and_backward_functions(\n\u001b[1;32m   1921\u001b[0m         \u001b[0margs\u001b[0m\u001b[0;34m,\u001b[0m\u001b[0;34m\u001b[0m\u001b[0;34m\u001b[0m\u001b[0m\n",
      "\u001b[0;32m~/opt/anaconda3/lib/python3.7/site-packages/tensorflow/python/eager/function.py\u001b[0m in \u001b[0;36mcall\u001b[0;34m(self, ctx, args, cancellation_manager)\u001b[0m\n\u001b[1;32m    558\u001b[0m               \u001b[0minputs\u001b[0m\u001b[0;34m=\u001b[0m\u001b[0margs\u001b[0m\u001b[0;34m,\u001b[0m\u001b[0;34m\u001b[0m\u001b[0;34m\u001b[0m\u001b[0m\n\u001b[1;32m    559\u001b[0m               \u001b[0mattrs\u001b[0m\u001b[0;34m=\u001b[0m\u001b[0mattrs\u001b[0m\u001b[0;34m,\u001b[0m\u001b[0;34m\u001b[0m\u001b[0;34m\u001b[0m\u001b[0m\n\u001b[0;32m--> 560\u001b[0;31m               ctx=ctx)\n\u001b[0m\u001b[1;32m    561\u001b[0m         \u001b[0;32melse\u001b[0m\u001b[0;34m:\u001b[0m\u001b[0;34m\u001b[0m\u001b[0;34m\u001b[0m\u001b[0m\n\u001b[1;32m    562\u001b[0m           outputs = execute.execute_with_cancellation(\n",
      "\u001b[0;32m~/opt/anaconda3/lib/python3.7/site-packages/tensorflow/python/eager/execute.py\u001b[0m in \u001b[0;36mquick_execute\u001b[0;34m(op_name, num_outputs, inputs, attrs, ctx, name)\u001b[0m\n\u001b[1;32m     58\u001b[0m     \u001b[0mctx\u001b[0m\u001b[0;34m.\u001b[0m\u001b[0mensure_initialized\u001b[0m\u001b[0;34m(\u001b[0m\u001b[0;34m)\u001b[0m\u001b[0;34m\u001b[0m\u001b[0;34m\u001b[0m\u001b[0m\n\u001b[1;32m     59\u001b[0m     tensors = pywrap_tfe.TFE_Py_Execute(ctx._handle, device_name, op_name,\n\u001b[0;32m---> 60\u001b[0;31m                                         inputs, attrs, num_outputs)\n\u001b[0m\u001b[1;32m     61\u001b[0m   \u001b[0;32mexcept\u001b[0m \u001b[0mcore\u001b[0m\u001b[0;34m.\u001b[0m\u001b[0m_NotOkStatusException\u001b[0m \u001b[0;32mas\u001b[0m \u001b[0me\u001b[0m\u001b[0;34m:\u001b[0m\u001b[0;34m\u001b[0m\u001b[0;34m\u001b[0m\u001b[0m\n\u001b[1;32m     62\u001b[0m     \u001b[0;32mif\u001b[0m \u001b[0mname\u001b[0m \u001b[0;32mis\u001b[0m \u001b[0;32mnot\u001b[0m \u001b[0;32mNone\u001b[0m\u001b[0;34m:\u001b[0m\u001b[0;34m\u001b[0m\u001b[0;34m\u001b[0m\u001b[0m\n",
      "\u001b[0;31mKeyboardInterrupt\u001b[0m: "
     ]
    }
   ],
   "source": [
    "history = model_cnn.fit(train_img, train_gender,\n",
    "                    batch_size=64,\n",
    "                    epochs=20,\n",
    "                    validation_data=(test_img, test_gender))"
   ]
  }
 ]
}